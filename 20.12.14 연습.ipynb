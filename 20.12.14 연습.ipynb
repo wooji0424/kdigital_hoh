{
 "cells": [
  {
   "cell_type": "code",
   "execution_count": 1,
   "metadata": {},
   "outputs": [
    {
     "name": "stdout",
     "output_type": "stream",
     "text": [
      "이름을 입력해주세요: 호빵맨\n",
      "나이를 입력해주세요: 27\n",
      "연락처를 입력해주세요: 010-5555-8888\n"
     ]
    }
   ],
   "source": [
    "name = input(\"이름을 입력해주세요: \")\n",
    "age = input(\"나이를 입력해주세요: \")\n",
    "phone = input(\"연락처를 입력해주세요: \")"
   ]
  },
  {
   "cell_type": "code",
   "execution_count": 2,
   "metadata": {},
   "outputs": [],
   "source": [
    "score = dict(이름 = name, 나이 = age, 연락처 = phone)"
   ]
  },
  {
   "cell_type": "code",
   "execution_count": 4,
   "metadata": {},
   "outputs": [
    {
     "data": {
      "text/plain": [
       "{'이름': '호빵맨', '나이': '27', '연락처': '010-5555-8888'}"
      ]
     },
     "execution_count": 4,
     "metadata": {},
     "output_type": "execute_result"
    }
   ],
   "source": [
    "score"
   ]
  },
  {
   "cell_type": "code",
   "execution_count": 5,
   "metadata": {},
   "outputs": [
    {
     "name": "stdout",
     "output_type": "stream",
     "text": [
      "이름을 입력해주세요: 성춘향\n",
      "나이를 입력해주세요: 29\n",
      "연락처를 입력해주세요: 010-5577-6666\n"
     ]
    }
   ],
   "source": [
    "name1 = input(\"이름을 입력해주세요: \")\n",
    "age1 = input(\"나이를 입력해주세요: \")\n",
    "phone1 = input(\"연락처를 입력해주세요: \")"
   ]
  },
  {
   "cell_type": "code",
   "execution_count": 7,
   "metadata": {},
   "outputs": [],
   "source": [
    "score1 = dict(이름 = name1, 나이 = age1, 연락처=phone1)"
   ]
  },
  {
   "cell_type": "code",
   "execution_count": 8,
   "metadata": {},
   "outputs": [],
   "source": [
    "contacnt = []"
   ]
  },
  {
   "cell_type": "code",
   "execution_count": 9,
   "metadata": {},
   "outputs": [],
   "source": [
    "contacnt.append(dict(이름 = name1, 나이 = age1, 연락처=phone1))"
   ]
  },
  {
   "cell_type": "code",
   "execution_count": 11,
   "metadata": {},
   "outputs": [
    {
     "data": {
      "text/plain": [
       "({'이름': '호빵맨', '나이': '27', '연락처': '010-5555-8888'},\n",
       " {'이름': '성춘향', '나이': '29', '연락처': '010-5577-6666'})"
      ]
     },
     "execution_count": 11,
     "metadata": {},
     "output_type": "execute_result"
    }
   ],
   "source": [
    "score,score1"
   ]
  },
  {
   "cell_type": "code",
   "execution_count": 15,
   "metadata": {},
   "outputs": [
    {
     "ename": "SyntaxError",
     "evalue": "invalid syntax (<ipython-input-15-ce98f891a02f>, line 1)",
     "output_type": "error",
     "traceback": [
      "\u001b[1;36m  File \u001b[1;32m\"<ipython-input-15-ce98f891a02f>\"\u001b[1;36m, line \u001b[1;32m1\u001b[0m\n\u001b[1;33m    for i in range(1,10)\u001b[0m\n\u001b[1;37m                        ^\u001b[0m\n\u001b[1;31mSyntaxError\u001b[0m\u001b[1;31m:\u001b[0m invalid syntax\n"
     ]
    }
   ],
   "source": []
  },
  {
   "cell_type": "code",
   "execution_count": 23,
   "metadata": {},
   "outputs": [
    {
     "name": "stdout",
     "output_type": "stream",
     "text": [
      "첫번째 점수를 입력해주세요: 120\n",
      "두번째 점수를 입력해주세요: 90\n",
      "세번째 점수를 입력해주세요: 80\n"
     ]
    }
   ],
   "source": [
    "score1 = int(input(\"첫번째 점수를 입력해주세요: \"))\n",
    "score2 = int(input(\"두번째 점수를 입력해주세요: \"))\n",
    "score3 = int(input(\"세번째 점수를 입력해주세요: \"))"
   ]
  },
  {
   "cell_type": "code",
   "execution_count": 35,
   "metadata": {},
   "outputs": [
    {
     "ename": "IndentationError",
     "evalue": "expected an indented block (<ipython-input-35-0c5660ddc23a>, line 3)",
     "output_type": "error",
     "traceback": [
      "\u001b[1;36m  File \u001b[1;32m\"<ipython-input-35-0c5660ddc23a>\"\u001b[1;36m, line \u001b[1;32m3\u001b[0m\n\u001b[1;33m    if (score1 < 65 or score2 < 65 or score3 < 65):\u001b[0m\n\u001b[1;37m    ^\u001b[0m\n\u001b[1;31mIndentationError\u001b[0m\u001b[1;31m:\u001b[0m expected an indented block\n"
     ]
    }
   ],
   "source": [
    "if (0 < score1 < 100 and 0 < score2 < 100 and 0 < score3 < 100):\n",
    "    if (score1 > 65 and score2 > 65 and score3 > 65):\n",
    "        print(\"합격\")\n",
    "    if (score1 < 65 or score2 < 65 or score3 < 65):\n",
    "        print(\"불합격\")\n",
    "        \n",
    "else:\n",
    "    print(\"잘못된 점수를 입력되었습니다.\")\n",
    "    "
   ]
  },
  {
   "cell_type": "code",
   "execution_count": 34,
   "metadata": {},
   "outputs": [
    {
     "name": "stdout",
     "output_type": "stream",
     "text": [
      "첫번째 점수를 입력해주세요: 80\n",
      "두번째 점수를 입력해주세요: 90\n",
      "세번째 점수를 입력해주세요: 75\n"
     ]
    }
   ],
   "source": [
    "score1 = int(input(\"첫번째 점수를 입력해주세요: \"))\n",
    "score2 = int(input(\"두번째 점수를 입력해주세요: \"))\n",
    "score3 = int(input(\"세번째 점수를 입력해주세요: \"))"
   ]
  },
  {
   "cell_type": "code",
   "execution_count": 37,
   "metadata": {},
   "outputs": [
    {
     "name": "stdout",
     "output_type": "stream",
     "text": [
      "합격\n"
     ]
    }
   ],
   "source": [
    "if (0 < score1 < 100 and 0 < score2 < 100 and 0 < score3 < 100):\n",
    "    if (score1 > 65 and score2 > 65 and score3 > 65):\n",
    "        print(\"합격\")\n",
    "    if (score1 < 65 or score2 < 65 or score3 < 65):\n",
    "        print(\"불합격\")\n",
    "        \n",
    "else:\n",
    "    print(\"잘못된 점수를 입력되었습니다.\")\n",
    "    "
   ]
  },
  {
   "cell_type": "code",
   "execution_count": 45,
   "metadata": {},
   "outputs": [
    {
     "name": "stdout",
     "output_type": "stream",
     "text": [
      "[30, 60, 90, 200, -70, 500]\n"
     ]
    }
   ],
   "source": [
    "x = [3,6,9,20,-7,50]\n",
    "for i in range(len(x)):\n",
    "    x[i] *=10\n",
    "print(x)"
   ]
  },
  {
   "cell_type": "code",
   "execution_count": 51,
   "metadata": {},
   "outputs": [
    {
     "name": "stdout",
     "output_type": "stream",
     "text": [
      "{'math': 80, 'science': 90, 'english': 30}\n"
     ]
    }
   ],
   "source": [
    "y = {\"math\":70,\"science\":80,\"english\":20}\n",
    "for j in y:\n",
    "    y[j] = y[j] +10\n",
    "print(y)"
   ]
  },
  {
   "cell_type": "code",
   "execution_count": 59,
   "metadata": {},
   "outputs": [
    {
     "name": "stdout",
     "output_type": "stream",
     "text": [
      "몇단을 출력하시겠습니까? 3\n",
      "3 * 1 = 3\n",
      "3 * 2 = 6\n",
      "3 * 3 = 9\n",
      "3 * 4 = 12\n",
      "3 * 5 = 15\n",
      "3 * 6 = 18\n",
      "3 * 7 = 21\n",
      "3 * 8 = 24\n",
      "3 * 9 = 27\n"
     ]
    }
   ],
   "source": [
    "x = int(input(\"몇단을 출력하시겠습니까? \"))\n",
    "for i in range(1,10):\n",
    "    print(\"{0} * {1} = {2}\".format(x,i,x*i))"
   ]
  },
  {
   "cell_type": "code",
   "execution_count": null,
   "metadata": {},
   "outputs": [],
   "source": []
  }
 ],
 "metadata": {
  "kernelspec": {
   "display_name": "Python 3",
   "language": "python",
   "name": "python3"
  },
  "language_info": {
   "codemirror_mode": {
    "name": "ipython",
    "version": 3
   },
   "file_extension": ".py",
   "mimetype": "text/x-python",
   "name": "python",
   "nbconvert_exporter": "python",
   "pygments_lexer": "ipython3",
   "version": "3.8.5"
  }
 },
 "nbformat": 4,
 "nbformat_minor": 4
}
