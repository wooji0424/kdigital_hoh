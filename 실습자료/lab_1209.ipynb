{
 "cells": [
  {
   "cell_type": "code",
   "execution_count": 1,
   "metadata": {},
   "outputs": [
    {
     "name": "stdout",
     "output_type": "stream",
     "text": [
      "이름을 입력해주세요:홍길동\n",
      "나이를 입력해주세요:27\n",
      "연락처를 입력해주세요:010-3023-1223\n"
     ]
    }
   ],
   "source": [
    "name = input(\"이름을 입력해주세요:\")\n",
    "age = input(\"나이를 입력해주세요:\")\n",
    "phone = input(\"연락처를 입력해주세요:\")"
   ]
  },
  {
   "cell_type": "code",
   "execution_count": 5,
   "metadata": {},
   "outputs": [],
   "source": [
    "contact = dict(이름=name, 나이=age, 연락처=phone)"
   ]
  },
  {
   "cell_type": "code",
   "execution_count": 7,
   "metadata": {},
   "outputs": [],
   "source": [
    "contact2 = {'이름': name, '나이': age, '연락처':phone}"
   ]
  },
  {
   "cell_type": "code",
   "execution_count": 8,
   "metadata": {},
   "outputs": [
    {
     "data": {
      "text/plain": [
       "{'이름': '홍길동', '나이': '27', '연락처': '010-3023-1223'}"
      ]
     },
     "execution_count": 8,
     "metadata": {},
     "output_type": "execute_result"
    }
   ],
   "source": [
    "contact2"
   ]
  },
  {
   "cell_type": "code",
   "execution_count": 10,
   "metadata": {},
   "outputs": [
    {
     "name": "stdout",
     "output_type": "stream",
     "text": [
      "이름을 입력해주세요:홍길동\n",
      "나이를 입력해주세요:27\n",
      "연락처를 입력해주세요:010-3023-1223\n"
     ]
    }
   ],
   "source": [
    "name = input(\"이름을 입력해주세요:\")\n",
    "age = input(\"나이를 입력해주세요:\")\n",
    "phone = input(\"연락처를 입력해주세요:\")"
   ]
  },
  {
   "cell_type": "code",
   "execution_count": 11,
   "metadata": {},
   "outputs": [
    {
     "name": "stdout",
     "output_type": "stream",
     "text": [
      "이름을 입력해주세요:이몽룡\n",
      "나이를 입력해주세요:30\n",
      "연락처를 입력해주세요:010-3030-4434\n"
     ]
    }
   ],
   "source": [
    "name1 = input(\"이름을 입력해주세요:\")\n",
    "age1 = input(\"나이를 입력해주세요:\")\n",
    "phone1 = input(\"연락처를 입력해주세요:\")"
   ]
  },
  {
   "cell_type": "code",
   "execution_count": 12,
   "metadata": {},
   "outputs": [],
   "source": [
    "contacts = []"
   ]
  },
  {
   "cell_type": "code",
   "execution_count": 13,
   "metadata": {},
   "outputs": [],
   "source": [
    "contacts.append({'이름': name, '나이': age, '연락처':phone})"
   ]
  },
  {
   "cell_type": "code",
   "execution_count": 14,
   "metadata": {},
   "outputs": [
    {
     "data": {
      "text/plain": [
       "[{'이름': '홍길동', '나이': '27', '연락처': '010-3023-1223'}]"
      ]
     },
     "execution_count": 14,
     "metadata": {},
     "output_type": "execute_result"
    }
   ],
   "source": [
    "contacts"
   ]
  },
  {
   "cell_type": "code",
   "execution_count": 15,
   "metadata": {},
   "outputs": [],
   "source": [
    "contacts.append({'이름': name1, '나이': age1, '연락처':phone1})"
   ]
  },
  {
   "cell_type": "markdown",
   "metadata": {},
   "source": [
    "### contacts"
   ]
  },
  {
   "cell_type": "code",
   "execution_count": 17,
   "metadata": {},
   "outputs": [
    {
     "data": {
      "text/plain": [
       "'30'"
      ]
     },
     "execution_count": 17,
     "metadata": {},
     "output_type": "execute_result"
    }
   ],
   "source": [
    "contacts[1]['나이']"
   ]
  },
  {
   "cell_type": "code",
   "execution_count": 18,
   "metadata": {},
   "outputs": [],
   "source": [
    "a = {1, 2, 3, 4}"
   ]
  },
  {
   "cell_type": "code",
   "execution_count": 26,
   "metadata": {},
   "outputs": [
    {
     "ename": "KeyError",
     "evalue": "5",
     "output_type": "error",
     "traceback": [
      "\u001b[1;31m---------------------------------------------------------------------------\u001b[0m",
      "\u001b[1;31mKeyError\u001b[0m                                  Traceback (most recent call last)",
      "\u001b[1;32m<ipython-input-26-fa8c667230ef>\u001b[0m in \u001b[0;36m<module>\u001b[1;34m\u001b[0m\n\u001b[1;32m----> 1\u001b[1;33m \u001b[0ma\u001b[0m\u001b[1;33m.\u001b[0m\u001b[0mremove\u001b[0m\u001b[1;33m(\u001b[0m\u001b[1;36m5\u001b[0m\u001b[1;33m)\u001b[0m\u001b[1;33m\u001b[0m\u001b[1;33m\u001b[0m\u001b[0m\n\u001b[0m",
      "\u001b[1;31mKeyError\u001b[0m: 5"
     ]
    }
   ],
   "source": [
    "a.remove(5)"
   ]
  },
  {
   "cell_type": "code",
   "execution_count": 20,
   "metadata": {},
   "outputs": [
    {
     "data": {
      "text/plain": [
       "{2, 3, 4}"
      ]
     },
     "execution_count": 20,
     "metadata": {},
     "output_type": "execute_result"
    }
   ],
   "source": [
    "a"
   ]
  },
  {
   "cell_type": "code",
   "execution_count": 21,
   "metadata": {},
   "outputs": [],
   "source": [
    "a.discard(2)"
   ]
  },
  {
   "cell_type": "code",
   "execution_count": 22,
   "metadata": {},
   "outputs": [],
   "source": [
    "a = {\"1\", \"2\", \"3\", \"4\"}"
   ]
  },
  {
   "cell_type": "code",
   "execution_count": 25,
   "metadata": {},
   "outputs": [],
   "source": [
    "a.discard(\"5\")"
   ]
  },
  {
   "cell_type": "code",
   "execution_count": 24,
   "metadata": {},
   "outputs": [
    {
     "data": {
      "text/plain": [
       "{'1', '3', '4'}"
      ]
     },
     "execution_count": 24,
     "metadata": {},
     "output_type": "execute_result"
    }
   ],
   "source": [
    "a"
   ]
  },
  {
   "cell_type": "code",
   "execution_count": 27,
   "metadata": {},
   "outputs": [],
   "source": [
    "a = {1, 2, 3}\n",
    "b = {3, 4, 5}\n"
   ]
  },
  {
   "cell_type": "code",
   "execution_count": 30,
   "metadata": {},
   "outputs": [],
   "source": [
    "c = a | b"
   ]
  },
  {
   "cell_type": "code",
   "execution_count": 31,
   "metadata": {},
   "outputs": [
    {
     "data": {
      "text/plain": [
       "{1, 2, 3, 4, 5}"
      ]
     },
     "execution_count": 31,
     "metadata": {},
     "output_type": "execute_result"
    }
   ],
   "source": [
    "c"
   ]
  },
  {
   "cell_type": "code",
   "execution_count": 32,
   "metadata": {},
   "outputs": [],
   "source": [
    "d = a & b"
   ]
  },
  {
   "cell_type": "code",
   "execution_count": 33,
   "metadata": {},
   "outputs": [
    {
     "data": {
      "text/plain": [
       "{3}"
      ]
     },
     "execution_count": 33,
     "metadata": {},
     "output_type": "execute_result"
    }
   ],
   "source": [
    "d"
   ]
  },
  {
   "cell_type": "code",
   "execution_count": 34,
   "metadata": {},
   "outputs": [],
   "source": [
    "e = c - d"
   ]
  },
  {
   "cell_type": "code",
   "execution_count": 35,
   "metadata": {},
   "outputs": [
    {
     "data": {
      "text/plain": [
       "{1, 2, 4, 5}"
      ]
     },
     "execution_count": 35,
     "metadata": {},
     "output_type": "execute_result"
    }
   ],
   "source": [
    "e"
   ]
  },
  {
   "cell_type": "code",
   "execution_count": 36,
   "metadata": {},
   "outputs": [
    {
     "data": {
      "text/plain": [
       "{1, 2, 4, 5}"
      ]
     },
     "execution_count": 36,
     "metadata": {},
     "output_type": "execute_result"
    }
   ],
   "source": [
    "a ^ b"
   ]
  },
  {
   "cell_type": "code",
   "execution_count": 37,
   "metadata": {},
   "outputs": [
    {
     "data": {
      "text/plain": [
       "{1, 2, 3}"
      ]
     },
     "execution_count": 37,
     "metadata": {},
     "output_type": "execute_result"
    }
   ],
   "source": [
    "f = a\n",
    "f"
   ]
  },
  {
   "cell_type": "code",
   "execution_count": 38,
   "metadata": {},
   "outputs": [],
   "source": [
    "f.remove(1)"
   ]
  },
  {
   "cell_type": "code",
   "execution_count": 39,
   "metadata": {},
   "outputs": [
    {
     "data": {
      "text/plain": [
       "{2, 3}"
      ]
     },
     "execution_count": 39,
     "metadata": {},
     "output_type": "execute_result"
    }
   ],
   "source": [
    "a"
   ]
  },
  {
   "cell_type": "code",
   "execution_count": 43,
   "metadata": {},
   "outputs": [],
   "source": [
    "if 4 in a:\n",
    "   pass\n",
    "    \n",
    "    \n",
    "    "
   ]
  },
  {
   "cell_type": "code",
   "execution_count": 46,
   "metadata": {},
   "outputs": [],
   "source": [
    "x = 3\n",
    "if x >= 10:\n",
    "    if x <= 20:\n",
    "        print(\"x는 20보다 작습니다\")\n",
    "    if x <= 30:\n",
    "        print(\"x는 30보다 작습니다\")"
   ]
  },
  {
   "cell_type": "code",
   "execution_count": 57,
   "metadata": {},
   "outputs": [
    {
     "name": "stdout",
     "output_type": "stream",
     "text": [
      "첫번째 점수를 입력해주세요:80\n",
      "두번째 점수를 입력해주세요:90\n",
      "세번째 점수를 입력해주세요:75\n"
     ]
    }
   ],
   "source": [
    "score1 = int(input(\"첫번째 점수를 입력해주세요:\"))\n",
    "score2 = int(input(\"두번째 점수를 입력해주세요:\"))\n",
    "score3 = int(input(\"세번째 점수를 입력해주세요:\"))"
   ]
  },
  {
   "cell_type": "code",
   "execution_count": 58,
   "metadata": {},
   "outputs": [
    {
     "name": "stdout",
     "output_type": "stream",
     "text": [
      "합격\n"
     ]
    }
   ],
   "source": [
    "if (score1 < 0 or score1 > 100 \n",
    "    or score2 < 0 or score2 > 100 \n",
    "    or score3 < 0 or score3 > 100 ):\n",
    "    print(\"잘못된 점수가 입력되었습니다\")\n",
    "\n",
    "elif (score1 <= 65 or score2 <= 65 or score3 <= 65):\n",
    "    print(\"불합격\")\n",
    "    \n",
    "else:\n",
    "    print(\"합격\")\n",
    "\n",
    "    \n",
    "    "
   ]
  },
  {
   "cell_type": "code",
   "execution_count": 64,
   "metadata": {},
   "outputs": [],
   "source": [
    "fruit = ['사과', '오렌지']\n",
    "vegetable = ['당근', '호박']"
   ]
  },
  {
   "cell_type": "code",
   "execution_count": 72,
   "metadata": {},
   "outputs": [
    {
     "name": "stdout",
     "output_type": "stream",
     "text": [
      "등록할 카테고리를 선택해주세요 (과일, 채소) :과일\n"
     ]
    }
   ],
   "source": [
    "category = input(\"등록할 카테고리를 선택해주세요 (과일, 채소) :\")"
   ]
  },
  {
   "cell_type": "code",
   "execution_count": 74,
   "metadata": {},
   "outputs": [
    {
     "name": "stdout",
     "output_type": "stream",
     "text": [
      "등록할 과일를 입력해주세요: 바나나\n"
     ]
    }
   ],
   "source": [
    "item = input(\"등록할 {}를 입력해주세요: \".format(category))"
   ]
  },
  {
   "cell_type": "code",
   "execution_count": 75,
   "metadata": {},
   "outputs": [
    {
     "name": "stdout",
     "output_type": "stream",
     "text": [
      "['사과', '오렌지', '바나나']\n"
     ]
    }
   ],
   "source": [
    "if category in [\"과일\", \"채소\"]:\n",
    "    if category == \"과일\":\n",
    "        if item in fruit:\n",
    "            print(\"이미 등록된 {}입니다\".format(category))\n",
    "        else:\n",
    "            fruit.append(item)\n",
    "            print(fruit)\n",
    "    else:\n",
    "        if item in vegetable:\n",
    "            print(\"이미 등록된 {}입니다\".format(category))\n",
    "        else:\n",
    "            vegetable.append(item)\n",
    "            print(vegetable)\n",
    "    \n",
    "        \n",
    "else:\n",
    "    print(\"존재하지 않는 카테고리입니다.\")"
   ]
  },
  {
   "cell_type": "code",
   "execution_count": 88,
   "metadata": {},
   "outputs": [
    {
     "name": "stdout",
     "output_type": "stream",
     "text": [
      "key: name, value : tome\n",
      "key: math, value : 80\n",
      "key: english, value : 70\n"
     ]
    }
   ],
   "source": [
    "for k, v in {\"name\":\"tome\", \"math\":80, \"english\":70}.items():\n",
    "    print(\"key: {}, value : {}\".format(k, v))"
   ]
  },
  {
   "cell_type": "code",
   "execution_count": 89,
   "metadata": {},
   "outputs": [
    {
     "name": "stdout",
     "output_type": "stream",
     "text": [
      "3\n",
      "key: name, value : tome\n",
      "key: math, value : 80\n",
      "key: english, value : 70\n"
     ]
    }
   ],
   "source": [
    "my_dict = {\"name\":\"tome\", \"math\":80, \"english\":70}\n",
    "print(len(my_dict))\n",
    "for k in my_dict:\n",
    "    print(\"key: {}, value : {}\".format(k, my_dict[k]))"
   ]
  },
  {
   "cell_type": "code",
   "execution_count": 91,
   "metadata": {},
   "outputs": [
    {
     "name": "stdout",
     "output_type": "stream",
     "text": [
      "********** 0\n",
      "i :  10\n",
      "i :  11\n",
      "i :  12\n",
      "i :  13\n",
      "i :  14\n",
      "********** 1\n",
      "i :  10\n",
      "i :  11\n",
      "i :  12\n",
      "i :  13\n",
      "i :  14\n",
      "********** 2\n",
      "i :  10\n",
      "i :  11\n",
      "i :  12\n",
      "i :  13\n",
      "i :  14\n",
      "********** 3\n",
      "i :  10\n",
      "i :  11\n",
      "i :  12\n",
      "i :  13\n",
      "i :  14\n",
      "********** 4\n",
      "i :  10\n",
      "i :  11\n",
      "i :  12\n",
      "i :  13\n",
      "i :  14\n"
     ]
    }
   ],
   "source": [
    "for i in range(5):\n",
    "    print(\"*\"*10, i)\n",
    "    for i in range(10, 15):\n",
    "        print(\"i : \", i)"
   ]
  },
  {
   "cell_type": "code",
   "execution_count": 99,
   "metadata": {},
   "outputs": [
    {
     "name": "stdout",
     "output_type": "stream",
     "text": [
      "0, 사과\n",
      "1, 오렌지\n",
      "2, 바나나\n"
     ]
    }
   ],
   "source": [
    "for x, item in enumerate(fruit):\n",
    "    print(x,item, sep=\", \")"
   ]
  },
  {
   "cell_type": "code",
   "execution_count": 95,
   "metadata": {},
   "outputs": [
    {
     "name": "stdout",
     "output_type": "stream",
     "text": [
      "0 => 사과\n",
      "1 => 오렌지\n",
      "2 => 바나나\n"
     ]
    }
   ],
   "source": [
    "idx = 0\n",
    "for item in fruit:\n",
    "    print(f\"{idx} => {item}\")\n",
    "    idx += 1"
   ]
  },
  {
   "cell_type": "code",
   "execution_count": 100,
   "metadata": {},
   "outputs": [],
   "source": [
    "x = [3, 6, 9, 20, -7, 5]"
   ]
  },
  {
   "cell_type": "code",
   "execution_count": 101,
   "metadata": {},
   "outputs": [
    {
     "data": {
      "text/plain": [
       "[30, 60, 90, 200, -70, 50]"
      ]
     },
     "execution_count": 101,
     "metadata": {},
     "output_type": "execute_result"
    }
   ],
   "source": [
    "for idx in range(len(x)):\n",
    "    x[idx] *=  10 \n",
    "x"
   ]
  },
  {
   "cell_type": "code",
   "execution_count": 102,
   "metadata": {},
   "outputs": [],
   "source": [
    "y = {\"math\": 70, \"science\": 80, \"english\": 20} "
   ]
  },
  {
   "cell_type": "code",
   "execution_count": 103,
   "metadata": {},
   "outputs": [
    {
     "data": {
      "text/plain": [
       "{'math': 80, 'science': 90, 'english': 30}"
      ]
     },
     "execution_count": 103,
     "metadata": {},
     "output_type": "execute_result"
    }
   ],
   "source": [
    "for score in y:\n",
    "    y[score]  += 10\n",
    "y"
   ]
  },
  {
   "cell_type": "code",
   "execution_count": 104,
   "metadata": {},
   "outputs": [
    {
     "name": "stdout",
     "output_type": "stream",
     "text": [
      "몇단을 출력하시겠습니까?3\n"
     ]
    }
   ],
   "source": [
    "dan = int(input(\"몇단을 출력하시겠습니까?\"))"
   ]
  },
  {
   "cell_type": "code",
   "execution_count": 106,
   "metadata": {},
   "outputs": [
    {
     "name": "stdout",
     "output_type": "stream",
     "text": [
      "3 * 1 = 3\n",
      "3 * 2 = 6\n",
      "3 * 3 = 9\n",
      "3 * 4 = 12\n",
      "3 * 5 = 15\n",
      "3 * 6 = 18\n",
      "3 * 7 = 21\n",
      "3 * 8 = 24\n"
     ]
    }
   ],
   "source": [
    "for i in range(1, 9):\n",
    "    print(f\"{dan} * {i} = {dan*i}\")"
   ]
  },
  {
   "cell_type": "code",
   "execution_count": 107,
   "metadata": {},
   "outputs": [],
   "source": [
    "i = 0"
   ]
  },
  {
   "cell_type": "code",
   "execution_count": 108,
   "metadata": {},
   "outputs": [
    {
     "name": "stdout",
     "output_type": "stream",
     "text": [
      "5를 입력하면 반복이 중단 됩니다.4\n",
      "5를 입력하면 반복이 중단 됩니다.0\n",
      "5를 입력하면 반복이 중단 됩니다.5\n"
     ]
    }
   ],
   "source": [
    "while i!= 0:\n",
    "    i = int(input(\"5를 입력하면 반복이 중단 됩니다\"))"
   ]
  },
  {
   "cell_type": "code",
   "execution_count": 109,
   "metadata": {},
   "outputs": [],
   "source": [
    "score = -1"
   ]
  },
  {
   "cell_type": "code",
   "execution_count": 110,
   "metadata": {},
   "outputs": [
    {
     "name": "stdout",
     "output_type": "stream",
     "text": [
      "값을 입력해주세요30\n",
      "값을 입력해주세요20\n",
      "값을 입력해주세요50\n",
      "값을 입력해주세요40\n",
      "값을 입력해주세요30\n",
      "값을 입력해주세요0\n",
      "합계는? 170\n"
     ]
    }
   ],
   "source": [
    "score_sum = 0\n",
    "while score != 0:\n",
    "    score = int(input(\"값을 입력해주세요\"))\n",
    "    score_sum += score\n",
    "    \n",
    "print(f\"합계는? {score_sum}\")\n",
    "print(\"합계는? {0}\".format(score_sum))\n",
    "print(\"합계는? %d\" % score_sum)"
   ]
  },
  {
   "cell_type": "code",
   "execution_count": 116,
   "metadata": {},
   "outputs": [],
   "source": [
    "animals = ['dog', 'cat', 'monkey', 'tiger']"
   ]
  },
  {
   "cell_type": "code",
   "execution_count": 121,
   "metadata": {},
   "outputs": [
    {
     "name": "stdout",
     "output_type": "stream",
     "text": [
      "1 cat\n",
      "3 tiger\n"
     ]
    }
   ],
   "source": [
    "for index, animal in enumerate(animals):\n",
    "    if index % 2 == 1:\n",
    "        print(index, animal)"
   ]
  },
  {
   "cell_type": "code",
   "execution_count": null,
   "metadata": {},
   "outputs": [],
   "source": [
    "a = []"
   ]
  }
 ],
 "metadata": {
  "kernelspec": {
   "display_name": "Python 3",
   "language": "python",
   "name": "python3"
  },
  "language_info": {
   "codemirror_mode": {
    "name": "ipython",
    "version": 3
   },
   "file_extension": ".py",
   "mimetype": "text/x-python",
   "name": "python",
   "nbconvert_exporter": "python",
   "pygments_lexer": "ipython3",
   "version": "3.8.5"
  }
 },
 "nbformat": 4,
 "nbformat_minor": 4
}
