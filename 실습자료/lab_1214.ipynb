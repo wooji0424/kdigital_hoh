{
 "cells": [
  {
   "cell_type": "code",
   "execution_count": 5,
   "metadata": {},
   "outputs": [],
   "source": [
    "x = [3, 6, 9, 20, -7, 5]"
   ]
  },
  {
   "cell_type": "code",
   "execution_count": 2,
   "metadata": {},
   "outputs": [
    {
     "data": {
      "text/plain": [
       "[30, 60, 90, 200, -70, 50]"
      ]
     },
     "execution_count": 2,
     "metadata": {},
     "output_type": "execute_result"
    }
   ],
   "source": [
    "for i in range(len(x)):\n",
    "    x[i] = x[i] *10\n",
    "x"
   ]
  },
  {
   "cell_type": "code",
   "execution_count": 9,
   "metadata": {},
   "outputs": [
    {
     "name": "stdout",
     "output_type": "stream",
     "text": [
      "3\n",
      "6\n",
      "9\n",
      "20\n",
      "-7\n",
      "5\n"
     ]
    },
    {
     "data": {
      "text/plain": [
       "[3, 6, 9, 20, -7, 5]"
      ]
     },
     "execution_count": 9,
     "metadata": {},
     "output_type": "execute_result"
    }
   ],
   "source": [
    "for i in x:\n",
    "    print(i)\n",
    "    i = i * 10\n",
    "x"
   ]
  },
  {
   "cell_type": "code",
   "execution_count": 10,
   "metadata": {},
   "outputs": [],
   "source": [
    "y = [[3, 6], 9, 20, -7, 5]"
   ]
  },
  {
   "cell_type": "code",
   "execution_count": 12,
   "metadata": {},
   "outputs": [
    {
     "data": {
      "text/plain": [
       "[[3, 6], 9, 20, -7, 5]"
      ]
     },
     "execution_count": 12,
     "metadata": {},
     "output_type": "execute_result"
    }
   ],
   "source": [
    "for i, elem in enumerate(y):\n",
    "    if i == 0:\n",
    "        elem = 7\n",
    "y"
   ]
  },
  {
   "cell_type": "code",
   "execution_count": 19,
   "metadata": {},
   "outputs": [
    {
     "data": {
      "text/plain": [
       "[2,\n",
       " 4,\n",
       " 6,\n",
       " 8,\n",
       " 3,\n",
       " 6,\n",
       " 9,\n",
       " 12,\n",
       " 4,\n",
       " 8,\n",
       " 12,\n",
       " 16,\n",
       " 5,\n",
       " 10,\n",
       " 15,\n",
       " 20,\n",
       " 6,\n",
       " 12,\n",
       " 18,\n",
       " 24,\n",
       " 7,\n",
       " 14,\n",
       " 21,\n",
       " 28,\n",
       " 8,\n",
       " 16,\n",
       " 24,\n",
       " 32,\n",
       " 9,\n",
       " 18,\n",
       " 27,\n",
       " 36]"
      ]
     },
     "execution_count": 19,
     "metadata": {},
     "output_type": "execute_result"
    }
   ],
   "source": [
    "c = []\n",
    "for i in range(2, 10):\n",
    "    for j in range(1, 5):\n",
    "        c.append(i * j)\n",
    "c"
   ]
  },
  {
   "cell_type": "code",
   "execution_count": 18,
   "metadata": {},
   "outputs": [
    {
     "data": {
      "text/plain": [
       "[2,\n",
       " 4,\n",
       " 6,\n",
       " 8,\n",
       " 3,\n",
       " 6,\n",
       " 9,\n",
       " 12,\n",
       " 4,\n",
       " 8,\n",
       " 12,\n",
       " 16,\n",
       " 5,\n",
       " 10,\n",
       " 15,\n",
       " 20,\n",
       " 6,\n",
       " 12,\n",
       " 18,\n",
       " 24,\n",
       " 7,\n",
       " 14,\n",
       " 21,\n",
       " 28,\n",
       " 8,\n",
       " 16,\n",
       " 24,\n",
       " 32,\n",
       " 9,\n",
       " 18,\n",
       " 27,\n",
       " 36]"
      ]
     },
     "execution_count": 18,
     "metadata": {},
     "output_type": "execute_result"
    }
   ],
   "source": [
    "c = [ i*j for i in range(2, 10) for j in range(1, 5)]\n",
    "c"
   ]
  },
  {
   "cell_type": "code",
   "execution_count": 20,
   "metadata": {},
   "outputs": [],
   "source": [
    "list1 = [10,20,30,40,50]"
   ]
  },
  {
   "cell_type": "code",
   "execution_count": 26,
   "metadata": {},
   "outputs": [
    {
     "name": "stdout",
     "output_type": "stream",
     "text": [
      "50\n",
      "40\n",
      "30\n"
     ]
    }
   ],
   "source": [
    "for i in range(len(list1), 1, -1):\n",
    "    print(list1[i])"
   ]
  },
  {
   "cell_type": "code",
   "execution_count": 24,
   "metadata": {},
   "outputs": [
    {
     "data": {
      "text/plain": [
       "[]"
      ]
     },
     "execution_count": 24,
     "metadata": {},
     "output_type": "execute_result"
    }
   ],
   "source": [
    "list(range(-1, 0, -1))"
   ]
  },
  {
   "cell_type": "code",
   "execution_count": 40,
   "metadata": {},
   "outputs": [
    {
     "name": "stdout",
     "output_type": "stream",
     "text": [
      "120\n"
     ]
    }
   ],
   "source": [
    "def calc(operator, *nums):\n",
    "    sum = 0\n",
    "    for num in nums:\n",
    "        if operator ==\"+\":\n",
    "            sum += num\n",
    "        elif operator ==\"*\":\n",
    "            if sum == 0:\n",
    "                sum = 1\n",
    "            sum *= num\n",
    "    return sum\n",
    "\n",
    "sum = calc(\"*\",1,2,3,4,5)\n",
    "print(sum)\n"
   ]
  },
  {
   "cell_type": "code",
   "execution_count": 37,
   "metadata": {},
   "outputs": [
    {
     "name": "stdout",
     "output_type": "stream",
     "text": [
      "30\n",
      "-10\n",
      "200\n",
      "0 으로 나눌 수 없어요\n",
      "0\n"
     ]
    }
   ],
   "source": [
    "def calc(operator, num1, num2):\n",
    "    ret = 0\n",
    "    if operator == \"+\":\n",
    "        ret = num1 + num2\n",
    "    \n",
    "    elif operator == \"-\":\n",
    "        ret = num1 - num2\n",
    "        \n",
    "    elif operator == \"*\":\n",
    "        ret = num1 * num2\n",
    "        \n",
    "    elif operator == \"/\":\n",
    "        if num2 != 0:\n",
    "            ret = num1 / num2\n",
    "        else:\n",
    "            print(\"0 으로 나눌 수 없어요\")\n",
    "    return ret\n",
    "\n",
    "result = calc(\"+\", 10, 20)\n",
    "print(result)\n",
    "result = calc(\"-\", 10, 20)\n",
    "print(result)\n",
    "result = calc(\"*\", 10, 20)\n",
    "print(result)\n",
    "result = calc(\"/\", 10, 0)\n",
    "print(result)"
   ]
  },
  {
   "cell_type": "code",
   "execution_count": 42,
   "metadata": {},
   "outputs": [
    {
     "name": "stdout",
     "output_type": "stream",
     "text": [
      "15\n"
     ]
    }
   ],
   "source": [
    "def f_sum(n) :\n",
    "    if n == 0 : \n",
    "        return 0\n",
    "    \n",
    "    return n + f_sum(n-1)\n",
    "\n",
    "sum = f_sum(5)\n",
    "print(sum)"
   ]
  },
  {
   "cell_type": "code",
   "execution_count": null,
   "metadata": {},
   "outputs": [],
   "source": [
    "def f_number(n):\n",
    "    if n == 0:\n",
    "        return\n",
    "    \n",
    "    f_number(int(n/10))\n",
    "    print(n%10)\n",
    "\n",
    "f_number(1234)"
   ]
  },
  {
   "cell_type": "code",
   "execution_count": 45,
   "metadata": {},
   "outputs": [
    {
     "data": {
      "text/plain": [
       "4"
      ]
     },
     "execution_count": 45,
     "metadata": {},
     "output_type": "execute_result"
    }
   ],
   "source": [
    "1234%10"
   ]
  },
  {
   "cell_type": "code",
   "execution_count": 50,
   "metadata": {},
   "outputs": [
    {
     "data": {
      "text/plain": [
       "123"
      ]
     },
     "execution_count": 50,
     "metadata": {},
     "output_type": "execute_result"
    }
   ],
   "source": [
    "int(1234/10)"
   ]
  },
  {
   "cell_type": "code",
   "execution_count": 46,
   "metadata": {},
   "outputs": [
    {
     "data": {
      "text/plain": [
       "3"
      ]
     },
     "execution_count": 46,
     "metadata": {},
     "output_type": "execute_result"
    }
   ],
   "source": [
    "123%10"
   ]
  },
  {
   "cell_type": "code",
   "execution_count": 47,
   "metadata": {},
   "outputs": [
    {
     "data": {
      "text/plain": [
       "2"
      ]
     },
     "execution_count": 47,
     "metadata": {},
     "output_type": "execute_result"
    }
   ],
   "source": [
    "12%10"
   ]
  },
  {
   "cell_type": "code",
   "execution_count": 48,
   "metadata": {},
   "outputs": [
    {
     "data": {
      "text/plain": [
       "1"
      ]
     },
     "execution_count": 48,
     "metadata": {},
     "output_type": "execute_result"
    }
   ],
   "source": [
    "1%10"
   ]
  },
  {
   "cell_type": "code",
   "execution_count": 51,
   "metadata": {},
   "outputs": [
    {
     "data": {
      "text/plain": [
       "0"
      ]
     },
     "execution_count": 51,
     "metadata": {},
     "output_type": "execute_result"
    }
   ],
   "source": [
    "int(1/10)"
   ]
  },
  {
   "cell_type": "code",
   "execution_count": 52,
   "metadata": {},
   "outputs": [],
   "source": [
    "def plus_ten(x):\n",
    "    return x + 10"
   ]
  },
  {
   "cell_type": "code",
   "execution_count": 53,
   "metadata": {},
   "outputs": [
    {
     "name": "stdout",
     "output_type": "stream",
     "text": [
      "12\n"
     ]
    }
   ],
   "source": [
    "def plus(func):\n",
    "    print(func(2))\n",
    "\n",
    "plus(plus_ten)"
   ]
  },
  {
   "cell_type": "code",
   "execution_count": 56,
   "metadata": {},
   "outputs": [
    {
     "data": {
      "text/plain": [
       "12"
      ]
     },
     "execution_count": 56,
     "metadata": {},
     "output_type": "execute_result"
    }
   ],
   "source": [
    "\n",
    "plus_lambda = lambda x : x + 10\n",
    "plus_lambda(2)"
   ]
  },
  {
   "cell_type": "code",
   "execution_count": 61,
   "metadata": {},
   "outputs": [
    {
     "name": "stdout",
     "output_type": "stream",
     "text": [
      "[{'이름': '홍경수', '수학': 100, '과학': 90, '영어': 90}, {'이름': '강다영', '수학': 80, '과학': 90, '영어': 90}]\n",
      "메뉴를 선택해주세요 1 - 입력, 2 - 조회, 3 - 삭제, 0 - 종료 : 3\n",
      "[0] 이름 : 홍경수, 수학 : 100, 과학 : 90, 영어 : 90\n",
      "[1] 이름 : 강다영, 수학 : 80, 과학 : 90, 영어 : 90\n",
      "삭제할 번호를 입력해주세요 : 0\n",
      "삭제가 완료되었습니다.\n",
      "메뉴를 선택해주세요 1 - 입력, 2 - 조회, 3 - 삭제, 0 - 종료 : 2\n",
      "[0] 이름 : 강다영, 수학 : 80, 과학 : 90, 영어 : 90\n",
      "메뉴를 선택해주세요 1 - 입력, 2 - 조회, 3 - 삭제, 0 - 종료 : 0\n",
      "종료되었습니다\n"
     ]
    },
    {
     "data": {
      "text/plain": [
       "[{'이름': '강다영', '수학': 80, '과학': 90, '영어': 90}]"
      ]
     },
     "execution_count": 61,
     "metadata": {},
     "output_type": "execute_result"
    }
   ],
   "source": [
    "import pickle\n",
    "import os.path\n",
    "\n",
    "filename = \"scores.pkl\"\n",
    "if os.path.exists(\"scores.pkl\") :\n",
    "    with open(\"scores.pkl\",\"rb\") as file :\n",
    "        scores = pickle.load(file)\n",
    "else : \n",
    "    scores = []\n",
    "\n",
    "print(scores)\n",
    "\n",
    "\n",
    "while True:\n",
    "    menu = int(input(\"메뉴를 선택해주세요 1 - 입력, 2 - 조회, 3 - 삭제, 0 - 종료 : \"))\n",
    "    if menu == 1 :\n",
    "        name = input(\"이름 \")\n",
    "        math = int(input(\"수학 \"))\n",
    "        science = int(input(\"과학 \"))\n",
    "        english = int(input(\"영어 \"))\n",
    "        student = {\"이름\" : name, \"수학\": math, \"과학\" : science, \"영어\" : english}\n",
    "        scores.append(student)\n",
    "        \n",
    "    elif menu == 2 :\n",
    "        for i, user in enumerate(scores):\n",
    "            print(f'[{i}] 이름 : {user[\"이름\"]}, 수학 : {user[\"수학\"]}, 과학 : {user[\"과학\"]}, 영어 : {user[\"영어\"]}')\n",
    "    \n",
    "    elif menu == 3 :\n",
    "        for i, user in enumerate(scores):\n",
    "            print(f'[{i}] 이름 : {user[\"이름\"]}, 수학 : {user[\"수학\"]}, 과학 : {user[\"과학\"]}, 영어 : {user[\"영어\"]}')\n",
    "        \n",
    "        del_index = int(input(\"삭제할 번호를 입력해주세요 : \"))\n",
    "        scores.pop(del_index)\n",
    "        print(\"삭제가 완료되었습니다.\")\n",
    "    \n",
    "    elif menu == 0 :\n",
    "        with open(\"scores.pkl\", \"wb\") as file :\n",
    "            pickle.dump(scores, file)\n",
    "            print(\"종료되었습니다\")\n",
    "        break\n",
    "scores"
   ]
  },
  {
   "cell_type": "code",
   "execution_count": 78,
   "metadata": {},
   "outputs": [],
   "source": [
    "a = [1, 2, 3, 4, 5 ]"
   ]
  },
  {
   "cell_type": "code",
   "execution_count": 79,
   "metadata": {},
   "outputs": [],
   "source": [
    "a  = list(map(lambda x : x * 10 , a))"
   ]
  },
  {
   "cell_type": "code",
   "execution_count": 80,
   "metadata": {},
   "outputs": [
    {
     "data": {
      "text/plain": [
       "[10, 20, 30, 40, 50]"
      ]
     },
     "execution_count": 80,
     "metadata": {},
     "output_type": "execute_result"
    }
   ],
   "source": [
    "a"
   ]
  },
  {
   "cell_type": "code",
   "execution_count": 70,
   "metadata": {},
   "outputs": [
    {
     "data": {
      "text/plain": [
       "{'이름': '강다영', '수학': 80, '과학': 90, '영어': 90}"
      ]
     },
     "execution_count": 70,
     "metadata": {},
     "output_type": "execute_result"
    }
   ],
   "source": [
    "score = {'이름': '강다영', '수학': 80, '과학': 90, '영어': 90}\n",
    "score"
   ]
  },
  {
   "cell_type": "code",
   "execution_count": 73,
   "metadata": {},
   "outputs": [
    {
     "data": {
      "text/plain": [
       "['이름', '수학', '과학', '영어']"
      ]
     },
     "execution_count": 73,
     "metadata": {},
     "output_type": "execute_result"
    }
   ],
   "source": [
    "keys = list(map(lambda x : x, score))\n",
    "keys"
   ]
  },
  {
   "cell_type": "code",
   "execution_count": 75,
   "metadata": {},
   "outputs": [
    {
     "data": {
      "text/plain": [
       "['강다영', 80, 90, 90]"
      ]
     },
     "execution_count": 75,
     "metadata": {},
     "output_type": "execute_result"
    }
   ],
   "source": [
    "values = list(map(lambda x : score[x], score))\n",
    "values"
   ]
  },
  {
   "cell_type": "code",
   "execution_count": 76,
   "metadata": {},
   "outputs": [],
   "source": [
    "score['수학'] *= 5"
   ]
  },
  {
   "cell_type": "code",
   "execution_count": 77,
   "metadata": {},
   "outputs": [
    {
     "data": {
      "text/plain": [
       "{'이름': '홍경수', '수학': 80, '과학': 90, '영어': 90}"
      ]
     },
     "execution_count": 77,
     "metadata": {},
     "output_type": "execute_result"
    }
   ],
   "source": [
    "score"
   ]
  },
  {
   "cell_type": "code",
   "execution_count": 81,
   "metadata": {},
   "outputs": [],
   "source": [
    "a = [1, 2, 3, 4, 5, 6, 7, 8, 9, 10]"
   ]
  },
  {
   "cell_type": "code",
   "execution_count": 82,
   "metadata": {},
   "outputs": [],
   "source": [
    "def f(x):\n",
    "    if x % 2 == 0:\n",
    "        return 0\n",
    "    elif x % 3 == 0:\n",
    "        return 1\n",
    "    else:\n",
    "        return 2"
   ]
  },
  {
   "cell_type": "code",
   "execution_count": 83,
   "metadata": {},
   "outputs": [
    {
     "data": {
      "text/plain": [
       "[2, 0, 1, 0, 2, 0, 2, 0, 1, 0]"
      ]
     },
     "execution_count": 83,
     "metadata": {},
     "output_type": "execute_result"
    }
   ],
   "source": [
    "list(map(f, a))"
   ]
  },
  {
   "cell_type": "code",
   "execution_count": 84,
   "metadata": {},
   "outputs": [],
   "source": [
    "def f(x):\n",
    "    if x % 2 == 0:\n",
    "        return 0\n",
    "    else:\n",
    "        return x\n"
   ]
  },
  {
   "cell_type": "code",
   "execution_count": 87,
   "metadata": {},
   "outputs": [],
   "source": [
    "def g(func, num):\n",
    "    return func(num) # f(10)"
   ]
  },
  {
   "cell_type": "code",
   "execution_count": 86,
   "metadata": {},
   "outputs": [
    {
     "name": "stdout",
     "output_type": "stream",
     "text": [
      "0\n"
     ]
    }
   ],
   "source": [
    "print(g(f, 10))"
   ]
  },
  {
   "cell_type": "code",
   "execution_count": 90,
   "metadata": {},
   "outputs": [
    {
     "data": {
      "text/plain": [
       "[1, 2, 3, 4, 5, 0, 7, 8, 9, 10]"
      ]
     },
     "execution_count": 90,
     "metadata": {},
     "output_type": "execute_result"
    }
   ],
   "source": [
    "a = [1, 2, 3, 4, 5, 6, 7, 8, 9, 10]\n",
    "\n",
    "list(map(lambda x: 0 if x % 2 == 0 and x % 3 == 0 else x , a))\n",
    "# output [1, 0, 0, 0, 5, 0, 7, 0, 0, 0]\n"
   ]
  },
  {
   "cell_type": "code",
   "execution_count": 111,
   "metadata": {},
   "outputs": [],
   "source": [
    "names = \"\"\"강다영\n",
    "강동아\n",
    "권윤택\n",
    "김광희\n",
    "김기범\n",
    "김성희\n",
    "김수진\n",
    "김태익\n",
    "남윤호\n",
    "박수진\n",
    "박창서\n",
    "선은빈\n",
    "송은이\n",
    "우지원\n",
    "윤현수\n",
    "윤호준\n",
    "이송재\n",
    "이한비\n",
    "조계철\n",
    "최하은\n",
    "황호영\n",
    "조성혜\"\"\""
   ]
  },
  {
   "cell_type": "code",
   "execution_count": 112,
   "metadata": {},
   "outputs": [
    {
     "data": {
      "text/plain": [
       "['강다영',\n",
       " '강동아',\n",
       " '권윤택',\n",
       " '김광희',\n",
       " '김기범',\n",
       " '김성희',\n",
       " '김수진',\n",
       " '김태익',\n",
       " '남윤호',\n",
       " '박수진',\n",
       " '박창서',\n",
       " '선은빈',\n",
       " '송은이',\n",
       " '우지원',\n",
       " '윤현수',\n",
       " '윤호준',\n",
       " '이송재',\n",
       " '이한비',\n",
       " '조계철',\n",
       " '최하은',\n",
       " '황호영',\n",
       " '조성혜']"
      ]
     },
     "execution_count": 112,
     "metadata": {},
     "output_type": "execute_result"
    }
   ],
   "source": [
    "name_list = names.split(\"\\n\")\n",
    "name_list\n"
   ]
  },
  {
   "cell_type": "code",
   "execution_count": 108,
   "metadata": {},
   "outputs": [
    {
     "data": {
      "text/plain": [
       "22"
      ]
     },
     "execution_count": 108,
     "metadata": {},
     "output_type": "execute_result"
    }
   ],
   "source": [
    "len(name_list)"
   ]
  },
  {
   "cell_type": "code",
   "execution_count": 97,
   "metadata": {},
   "outputs": [],
   "source": [
    "pairs = \"\"\"선은빈\t김성희\t\n",
    "윤호준\t김수진\t\n",
    "박수진\t송은이\t\n",
    "김경빈\t김태익\t\n",
    "김광희\t우지원\t\n",
    "박창서\t박선유\t\n",
    "조계철\t안도우\t\n",
    "김기범\t황호영\t\n",
    "강다영\t강동아\t\n",
    "남윤호\t문지현\t\n",
    "윤현수\t이송재\t\n",
    "이한비\t최하은\t\n",
    "이한비\t권윤택\n",
    "최하은\t권윤택\n",
    "\"\"\""
   ]
  },
  {
   "cell_type": "code",
   "execution_count": 106,
   "metadata": {},
   "outputs": [
    {
     "data": {
      "text/plain": [
       "{'선은빈': '김성희',\n",
       " '김성희': '선은빈',\n",
       " '윤호준': '김수진',\n",
       " '김수진': '윤호준',\n",
       " '박수진': '송은이',\n",
       " '송은이': '박수진',\n",
       " '김경빈': '김태익',\n",
       " '김태익': '김경빈',\n",
       " '김광희': '우지원',\n",
       " '우지원': '김광희',\n",
       " '박창서': '박선유',\n",
       " '박선유': '박창서',\n",
       " '조계철': '안도우',\n",
       " '안도우': '조계철',\n",
       " '김기범': '황호영',\n",
       " '황호영': '김기범',\n",
       " '강다영': '강동아',\n",
       " '강동아': '강다영',\n",
       " '남윤호': '문지현',\n",
       " '문지현': '남윤호',\n",
       " '윤현수': '이송재',\n",
       " '이송재': '윤현수',\n",
       " '이한비': '권윤택',\n",
       " '최하은': '권윤택',\n",
       " '권윤택': '최하은'}"
      ]
     },
     "execution_count": 106,
     "metadata": {},
     "output_type": "execute_result"
    }
   ],
   "source": [
    "pair_list = pairs.split(\"\\n\")\n",
    "pair_dict = {}\n",
    "for e in pair_list:\n",
    "    names = e.split(\"\\t\")\n",
    "    if len(names) > 1:\n",
    "        pair_dict[names[0]] = names[1]\n",
    "        pair_dict[names[1]] = names[0]\n",
    "pair_dict"
   ]
  },
  {
   "cell_type": "code",
   "execution_count": 114,
   "metadata": {},
   "outputs": [
    {
     "name": "stdout",
     "output_type": "stream",
     "text": [
      "최하은 선은빈\n",
      "김수진 남윤호\n",
      "강다영 권윤택\n",
      "박수진 우지원\n",
      "이한비 황호영\n",
      "김성희 조성혜\n",
      "김광희 윤호준\n",
      "송은이 조계철\n",
      "김기범 윤현수\n",
      "김태익 이송재\n",
      "박창서 강동아\n"
     ]
    }
   ],
   "source": [
    "\n",
    "import random\n",
    "new_pair = {}\n",
    "\n",
    "while len(name_list) > 0:\n",
    "    index = random.randint(0, len(name_list) - 1)\n",
    "    name = name_list.pop(index)\n",
    "    index = random.randint(0, len(name_list) - 1)\n",
    "    while name != '조성혜' and pair_dict[name] == name_list[index]:\n",
    "        index = random.randint(0, len(name_list) - 1)\n",
    "    counter_part = name_list.pop(index)\n",
    "    new_pair[name] = counter_part\n",
    "\n",
    "\n",
    "for k in new_pair:\n",
    "    print(k, new_pair[k])"
   ]
  },
  {
   "cell_type": "code",
   "execution_count": 116,
   "metadata": {},
   "outputs": [
    {
     "data": {
      "text/plain": [
       "['1.jpg', '23.jpg', '223.jpg']"
      ]
     },
     "execution_count": 116,
     "metadata": {},
     "output_type": "execute_result"
    }
   ],
   "source": [
    "files = [\"memo.txt\", \"1.jpg\", \"32.png\", \"23.jpg\", \"223.jpg\"] \n",
    "list(filter( lambda x : x.find(\"jpg\") >= 0, files))"
   ]
  },
  {
   "cell_type": "code",
   "execution_count": 118,
   "metadata": {},
   "outputs": [
    {
     "data": {
      "text/plain": [
       "3"
      ]
     },
     "execution_count": 118,
     "metadata": {},
     "output_type": "execute_result"
    }
   ],
   "source": [
    "\"223.jpg\".find(\".jpg\")"
   ]
  },
  {
   "cell_type": "code",
   "execution_count": 119,
   "metadata": {},
   "outputs": [],
   "source": [
    "numbers = [12, 32, 55, 12, 32, 4, 86, 50]"
   ]
  },
  {
   "cell_type": "code",
   "execution_count": 121,
   "metadata": {},
   "outputs": [
    {
     "data": {
      "text/plain": [
       "['불합격', '불합격', '대기', '불합격', '불합격', '불합격', '합격', '대기']"
      ]
     },
     "execution_count": 121,
     "metadata": {},
     "output_type": "execute_result"
    }
   ],
   "source": [
    "list(map( lambda x : \"합격\" if x > 60 else \"대기\" if x >= 50 else \"불합격\", numbers))"
   ]
  },
  {
   "cell_type": "code",
   "execution_count": 124,
   "metadata": {},
   "outputs": [],
   "source": [
    "files = [\"memo.txt\", \"1.jpg\", \"32.png\", \"23.jpg\", \"223.jpg\"] \n"
   ]
  },
  {
   "cell_type": "code",
   "execution_count": 123,
   "metadata": {},
   "outputs": [
    {
     "data": {
      "text/plain": [
       "-1"
      ]
     },
     "execution_count": 123,
     "metadata": {},
     "output_type": "execute_result"
    }
   ],
   "source": [
    "\"50보다 작으면 불합격이 들어간 리스트를 만드세요\".find(\"라스트\")"
   ]
  },
  {
   "cell_type": "code",
   "execution_count": 125,
   "metadata": {},
   "outputs": [
    {
     "data": {
      "text/plain": [
       "['1.jpg', '23.jpg', '223.jpg']"
      ]
     },
     "execution_count": 125,
     "metadata": {},
     "output_type": "execute_result"
    }
   ],
   "source": [
    "list(filter(lambda x: x.find(\".jpg\") > -1, files ))"
   ]
  },
  {
   "cell_type": "code",
   "execution_count": null,
   "metadata": {},
   "outputs": [],
   "source": []
  }
 ],
 "metadata": {
  "kernelspec": {
   "display_name": "Python 3",
   "language": "python",
   "name": "python3"
  },
  "language_info": {
   "codemirror_mode": {
    "name": "ipython",
    "version": 3
   },
   "file_extension": ".py",
   "mimetype": "text/x-python",
   "name": "python",
   "nbconvert_exporter": "python",
   "pygments_lexer": "ipython3",
   "version": "3.8.5"
  }
 },
 "nbformat": 4,
 "nbformat_minor": 4
}
