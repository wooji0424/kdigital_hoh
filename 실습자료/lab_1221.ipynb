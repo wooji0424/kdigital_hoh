{
 "cells": [
  {
   "cell_type": "code",
   "execution_count": 1,
   "metadata": {},
   "outputs": [
    {
     "name": "stdout",
     "output_type": "stream",
     "text": [
      "Requirement already satisfied: requests in c:\\users\\690\\anaconda3\\envs\\study\\lib\\site-packages (2.25.1)\n",
      "Requirement already satisfied: certifi>=2017.4.17 in c:\\users\\690\\anaconda3\\envs\\study\\lib\\site-packages (from requests) (2020.12.5)\n",
      "Requirement already satisfied: idna<3,>=2.5 in c:\\users\\690\\anaconda3\\envs\\study\\lib\\site-packages (from requests) (2.10)\n",
      "Requirement already satisfied: chardet<5,>=3.0.2 in c:\\users\\690\\anaconda3\\envs\\study\\lib\\site-packages (from requests) (4.0.0)\n",
      "Requirement already satisfied: urllib3<1.27,>=1.21.1 in c:\\users\\690\\anaconda3\\envs\\study\\lib\\site-packages (from requests) (1.26.2)\n"
     ]
    }
   ],
   "source": [
    "!pip install requests"
   ]
  },
  {
   "cell_type": "code",
   "execution_count": 5,
   "metadata": {},
   "outputs": [
    {
     "name": "stdout",
     "output_type": "stream",
     "text": [
      "200\n",
      "<!DOCTYPE html>\n",
      "<html>\n",
      "<head>\n",
      "<title>크롤링 연습사이트 01</title>\n",
      "</head>\n",
      "<body>\n",
      "<h1>저의 첫 웹사이트 오신것을 환영합니다.</h1>\n",
      "<h1 title=\"welcome\">인사이트캠퍼스.</h1>\n",
      "<h2>이곳은 크롤링 연습을 위한 웹사이트입니다.</h2>\n",
      "<table border=\"1\">\n",
      "    <thead>\n",
      "      <tr>\n",
      "      \t<th class=\"tablehead\">이름</th>\n",
      "        <th class=\"tablehead\">나이</th>\n",
      "      </tr>\n",
      "    </thead>\n",
      "    <tbody>\n",
      "      <tr>\n",
      "          <td>이몽룡</td>\n",
      "          <td>34</td>\n",
      "      </tr>\n",
      "      <tr>\n",
      "          <td>홍길동</td>\n",
      "          <td>23</td>\n",
      "      </tr>\n",
      "     </tbody>\n",
      "</table>\n",
      "<p id=\"hello\">\n",
      "    이탈리아 요리의 시작은 기원전 4세기로 거슬러 올라갈 수 있다. 대항해시대를 거치면서 아메리카 대륙에서 감자·토마토·후추·옥수수 등이 유입되어 그 종류와 풍미가 다양해졌고 현대에 이르러서는 피자와 파스타 등 많은 이탈리아 요리가 널리 퍼지게 되었다.\n",
      "</p>\n",
      "<p id=\"cook\">\n",
      "    전통적인 요리법이나 양식은 상당한 차이가 있지만, 이탈리아 요리는 다른 국가의 요리 문화에서 다양한 영감을 줄 만큼 다양하고 혁신적인 것으로 평가되고 있다. 각 지방마다 고유의 특색이 있어 그 양식도 다양하지만 크게 북부와 남부로 나눌 수 있다. 다른 나라와 국경을 맞대고 있던 북부 지방은 산업화되어 경제적으로 풍족하고 농업이 발달해 쌀이 풍부해 유제품이 다양한 반면 경제적으로 침체되었던 남부 지방은 올리브와 토마토, 모차렐라 치즈가 유명하고 특별히 해산물을 활용한 요리가 많다. 식재료와 치즈 등의 차이는 파스타의 종류와 소스와 수프 등도 다름을 의미한다.\n",
      "</p>\n",
      "<a href=\"01.html\">1페이지 바로가기</a>\n",
      "<a href=\"02.html\">2페이지 바로가기</a>\n",
      "<a href=\"03.html\">3페이지 바로가기</a>\n",
      "<a href=\"04.html\">4페이지 바로가기</a>\n",
      "</body>\n",
      "</html>\n",
      "\n"
     ]
    }
   ],
   "source": [
    "import requests\n",
    "\n",
    "URL = 'https://scrapying-study.firebaseapp.com/01/'\n",
    "\n",
    "data = {'name': 'ronen'}\n",
    "response = requests.get(URL, data=data)\n",
    "\n",
    "print(response)\n",
    "print(response.text)\n"
   ]
  },
  {
   "cell_type": "code",
   "execution_count": 3,
   "metadata": {},
   "outputs": [
    {
     "name": "stdout",
     "output_type": "stream",
     "text": [
      "Requirement already satisfied: beautifulsoup4 in c:\\users\\690\\anaconda3\\envs\\study\\lib\\site-packages (4.9.3)\n",
      "Requirement already satisfied: soupsieve>1.2 in c:\\users\\690\\anaconda3\\envs\\study\\lib\\site-packages (from beautifulsoup4) (2.1)\n"
     ]
    }
   ],
   "source": [
    "!pip install beautifulsoup4"
   ]
  },
  {
   "cell_type": "code",
   "execution_count": 6,
   "metadata": {},
   "outputs": [
    {
     "name": "stdout",
     "output_type": "stream",
     "text": [
      "<title>크롤링 연습사이트 01</title>\n",
      "크롤링 연습사이트 01\n"
     ]
    }
   ],
   "source": [
    "import requests\n",
    "from bs4 import BeautifulSoup\n",
    "\n",
    "url = \"http://scrapying-study.firebaseapp.com/01\"\n",
    "response = requests.get(url)\n",
    "\n",
    "soup = BeautifulSoup(response.text, \"html.parser\")\n",
    "result = soup.find(\"title\")\n",
    "print(result)\n",
    "print(result.text)\n"
   ]
  },
  {
   "cell_type": "code",
   "execution_count": 14,
   "metadata": {},
   "outputs": [
    {
     "name": "stdout",
     "output_type": "stream",
     "text": [
      "\n",
      "\n",
      "73,000\n",
      "73,000\n",
      "\n",
      "\n"
     ]
    }
   ],
   "source": [
    "url ='https://finance.naver.com/item/main.nhn?code=005930'\n",
    "response = requests.get(url)\n",
    "\n",
    "soup = BeautifulSoup(response.text, \"html.parser\")\n",
    "result = soup.find(\"p\", \"no_today\")\n",
    "# print(result)\n",
    "print(result.text)"
   ]
  },
  {
   "cell_type": "code",
   "execution_count": 15,
   "metadata": {},
   "outputs": [
    {
     "name": "stdout",
     "output_type": "stream",
     "text": [
      "<p id=\"hello\">\n",
      "    이탈리아 요리의 시작은 기원전 4세기로 거슬러 올라갈 수 있다. 대항해시대를 거치면서 아메리카 대륙에서 감자·토마토·후추·옥수수 등이 유입되어 그 종류와 풍미가 다양해졌고 현대에 이르러서는 피자와 파스타 등 많은 이탈리아 요리가 널리 퍼지게 되었다.\n",
      "</p>\n",
      "[<p id=\"hello\">\n",
      "    이탈리아 요리의 시작은 기원전 4세기로 거슬러 올라갈 수 있다. 대항해시대를 거치면서 아메리카 대륙에서 감자·토마토·후추·옥수수 등이 유입되어 그 종류와 풍미가 다양해졌고 현대에 이르러서는 피자와 파스타 등 많은 이탈리아 요리가 널리 퍼지게 되었다.\n",
      "</p>, <p id=\"cook\">\n",
      "    전통적인 요리법이나 양식은 상당한 차이가 있지만, 이탈리아 요리는 다른 국가의 요리 문화에서 다양한 영감을 줄 만큼 다양하고 혁신적인 것으로 평가되고 있다. 각 지방마다 고유의 특색이 있어 그 양식도 다양하지만 크게 북부와 남부로 나눌 수 있다. 다른 나라와 국경을 맞대고 있던 북부 지방은 산업화되어 경제적으로 풍족하고 농업이 발달해 쌀이 풍부해 유제품이 다양한 반면 경제적으로 침체되었던 남부 지방은 올리브와 토마토, 모차렐라 치즈가 유명하고 특별히 해산물을 활용한 요리가 많다. 식재료와 치즈 등의 차이는 파스타의 종류와 소스와 수프 등도 다름을 의미한다.\n",
      "</p>]\n",
      "[<p id=\"hello\">\n",
      "    이탈리아 요리의 시작은 기원전 4세기로 거슬러 올라갈 수 있다. 대항해시대를 거치면서 아메리카 대륙에서 감자·토마토·후추·옥수수 등이 유입되어 그 종류와 풍미가 다양해졌고 현대에 이르러서는 피자와 파스타 등 많은 이탈리아 요리가 널리 퍼지게 되었다.\n",
      "</p>, <p id=\"cook\">\n",
      "    전통적인 요리법이나 양식은 상당한 차이가 있지만, 이탈리아 요리는 다른 국가의 요리 문화에서 다양한 영감을 줄 만큼 다양하고 혁신적인 것으로 평가되고 있다. 각 지방마다 고유의 특색이 있어 그 양식도 다양하지만 크게 북부와 남부로 나눌 수 있다. 다른 나라와 국경을 맞대고 있던 북부 지방은 산업화되어 경제적으로 풍족하고 농업이 발달해 쌀이 풍부해 유제품이 다양한 반면 경제적으로 침체되었던 남부 지방은 올리브와 토마토, 모차렐라 치즈가 유명하고 특별히 해산물을 활용한 요리가 많다. 식재료와 치즈 등의 차이는 파스타의 종류와 소스와 수프 등도 다름을 의미한다.\n",
      "</p>]\n",
      "<th class=\"tablehead\">이름</th>\n",
      "<th class=\"tablehead\">이름</th>\n",
      "<th class=\"tablehead\">이름</th>\n",
      "<h1 title=\"welcome\">인사이트캠퍼스.</h1>\n",
      "<p id=\"hello\">\n",
      "    이탈리아 요리의 시작은 기원전 4세기로 거슬러 올라갈 수 있다. 대항해시대를 거치면서 아메리카 대륙에서 감자·토마토·후추·옥수수 등이 유입되어 그 종류와 풍미가 다양해졌고 현대에 이르러서는 피자와 파스타 등 많은 이탈리아 요리가 널리 퍼지게 되었다.\n",
      "</p>\n"
     ]
    }
   ],
   "source": [
    "url = \"http://scrapying-study.firebaseapp.com/01\"\n",
    "response = requests.get(url)\n",
    "\n",
    "soup = BeautifulSoup(response.text, \"html.parser\")\n",
    "\n",
    "print(soup.find(\"p\"))\n",
    "print(soup.find_all(\"p\"))\n",
    "print(soup.find_all(\"p\", limit=2))\n",
    "\n",
    "print(soup.find(\"th\",\"tablehead\"))\n",
    "print(soup.find(\"th\",class_=\"tablehead\"))\n",
    "print(soup.find(\"th\",attrs = {\"class\":\"tablehead\"}))\n",
    "print(soup.find(\"h1\",attrs = {\"title\":\"welcome\"}))\n",
    "print(soup.find(id=\"hello\"))\n"
   ]
  },
  {
   "cell_type": "code",
   "execution_count": 17,
   "metadata": {},
   "outputs": [
    {
     "name": "stdout",
     "output_type": "stream",
     "text": [
      "1페이지 바로가기\n",
      "01.html\n",
      "<tbody>\n",
      "<tr>\n",
      "<td>이몽룡</td>\n",
      "<td>34</td>\n",
      "</tr>\n",
      "<tr>\n",
      "<td>홍길동</td>\n",
      "<td>23</td>\n",
      "</tr>\n",
      "</tbody>\n"
     ]
    }
   ],
   "source": [
    "URL = 'https://scrapying-study.firebaseapp.com/01/'\n",
    "response = requests.get(URL)\n",
    "soup = BeautifulSoup(response.text, \"html.parser\")\n",
    "results = soup.find(\"a\")\n",
    "print(results.text)\n",
    "print(results.attrs[\"href\"])\n",
    "\n",
    "result = soup.find(\"table\")\n",
    "result2 = result.find(\"tbody\")\n",
    "print(result2)"
   ]
  },
  {
   "cell_type": "code",
   "execution_count": null,
   "metadata": {},
   "outputs": [],
   "source": []
  }
 ],
 "metadata": {
  "kernelspec": {
   "display_name": "Python 3",
   "language": "python",
   "name": "python3"
  },
  "language_info": {
   "codemirror_mode": {
    "name": "ipython",
    "version": 3
   },
   "file_extension": ".py",
   "mimetype": "text/x-python",
   "name": "python",
   "nbconvert_exporter": "python",
   "pygments_lexer": "ipython3",
   "version": "3.8.5"
  }
 },
 "nbformat": 4,
 "nbformat_minor": 4
}
