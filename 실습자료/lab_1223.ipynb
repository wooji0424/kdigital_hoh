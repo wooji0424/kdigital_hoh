{
 "cells": [
  {
   "cell_type": "code",
   "execution_count": 1,
   "metadata": {},
   "outputs": [],
   "source": [
    "text = '''\n",
    "전국 언론 노동자들이 시민사회단체와 함께 네이버의 지역 차별을 규탄하고 개선을 촉구하는 무기한 릴레이 시위에 돌입했다.\n",
    "\n",
    "전국언론노조와 전국 민주언론시민연합(민언련)은 1일 오전 11시 30분 경기도 성남시의 네이버 본사(그린팩토리) 앞에서 1인 시위를 시작했다. 이날 시위에는 오정훈 전국언론노동조합위원장, 전대식 지역신문노동조합협의회 의장(부산일보 지부장), 김명래 경인일보지부장, 민진영 경기민주언론시민연합 사무처장 등이 참여했다.\n",
    "\n",
    "이들은 1인 시위를 통해 ‘네이버 뉴스 서비스 지역 언론 배제 개선’을 요구하고 ‘지역 공론장 형성을 위한 네이버의 공적 책임’을 촉구했다. 전국언론노조와 민언련은 매주 월요일마다 네이버 본사 앞 시위를 진행할 예정이다.\n",
    "\n",
    "네이버는 최근 뉴스 서비스에 인공지능 에어스(AiRS) 알고리즘을 적용하는 방식으로 뉴스 편집 기능을 개편했다. 이후 지역 언론사 뉴스의 노출이 현격하게 줄어들었다. 아울러 100여 개 모바일 콘텐츠 제휴 언론사 중 독자가 구독을 선택할 수 있는 ‘채널’ 제휴사 44곳을 선정했는데 이 과정에서 지역 언론을 철저하게 배제했다. 이에 반발해 전국언론노조뿐 아니라 한국지방신문협회, 대한민국지방신문협의회 등 지역 신문 단체도 공동 성명을 발표하며 개선을 요구하고 나섰다. 전국시도의회의장협의회는 최근 총회에서 ‘네이버 지역 언론 배제 반대 성명’을 채택하기도 했다. 하지만 이 같은 반발에도 네이버는 뚜렷한 해결책을 내지 않고 있다.\n",
    "\n",
    "오정훈 위원장은 1인 시위에서 “네이버는 해결책을 내놓기는커녕 뉴스제휴평가위원회에만 책임을 떠넘기고 있다”며 “지역 언론 배제 문제의 해결을 위한 대화 요구에 즉각 응답해 뉴스 유통사업자로서의 사회적 역할을 수행해야 한다”고 촉구했다.\n",
    "\n",
    "전대식 의장은 “2005년 당시 네이버는 모든 언론사에 뉴스 유통망을 제공하는 우군이었지만 15년 만에 갑질하고 횡포하는 기업으로 전락했다”며 “지역 언론 종사자들이 만든 콘텐츠가 네이버에서 사라진 현실을 놓고 대화하고 상생적으로 풀어야 한다”면서 협의 창구 개설을 요구했다.\n",
    "\n",
    "민언련은 국내 1위 포털 네이버가 지역 공론장을 만드는 사회적 책임을 외면하는 것은 현 정부의 지방분권 강화 정책에 위배되는 것이라고 지적했다.\n",
    "\n",
    "민진영 사무처장은 “네이버가 지역신문에 대한 보도를 배제하고 시민들과의 소통 창구를 차단하는 것은 현 정부 정책인 지방분권 강화, 민주주의 정착이라는 큰 의제를 거역하는 것”이라며 “이런 행태는 반드시 중단돼야 하고 다양한 소식들이 소비자와 시민에게 전달돼야 한다”고 강조했다.\n",
    "\n",
    "출처 : 제주新보(http://www.jejunews.com)\n",
    "'''"
   ]
  },
  {
   "cell_type": "code",
   "execution_count": 6,
   "metadata": {},
   "outputs": [
    {
     "data": {
      "text/plain": [
       "13"
      ]
     },
     "execution_count": 6,
     "metadata": {},
     "output_type": "execute_result"
    }
   ],
   "source": [
    "import re\n",
    "\n",
    "len(re.findall('네이버', text))"
   ]
  },
  {
   "cell_type": "code",
   "execution_count": 16,
   "metadata": {
    "scrolled": false
   },
   "outputs": [],
   "source": [
    "text = 'I like orange! I like orange!'"
   ]
  },
  {
   "cell_type": "code",
   "execution_count": 10,
   "metadata": {},
   "outputs": [
    {
     "data": {
      "text/plain": [
       "['I like']"
      ]
     },
     "execution_count": 10,
     "metadata": {},
     "output_type": "execute_result"
    }
   ],
   "source": [
    "re.findall(r'^I like', text)"
   ]
  },
  {
   "cell_type": "code",
   "execution_count": 17,
   "metadata": {},
   "outputs": [
    {
     "data": {
      "text/plain": [
       "['orange!']"
      ]
     },
     "execution_count": 17,
     "metadata": {},
     "output_type": "execute_result"
    }
   ],
   "source": [
    "re.findall(r'orange!$', text)"
   ]
  },
  {
   "cell_type": "code",
   "execution_count": 18,
   "metadata": {},
   "outputs": [],
   "source": [
    "text = \"I like orange! 200$ I like orange! 200$\""
   ]
  },
  {
   "cell_type": "code",
   "execution_count": 19,
   "metadata": {},
   "outputs": [
    {
     "data": {
      "text/plain": [
       "['$', '$']"
      ]
     },
     "execution_count": 19,
     "metadata": {},
     "output_type": "execute_result"
    }
   ],
   "source": [
    "re.findall('\\$', text)"
   ]
  },
  {
   "cell_type": "code",
   "execution_count": 20,
   "metadata": {},
   "outputs": [
    {
     "data": {
      "text/plain": [
       "['I',\n",
       " ' ',\n",
       " 'l',\n",
       " 'i',\n",
       " 'k',\n",
       " 'e',\n",
       " ' ',\n",
       " 'o',\n",
       " 'r',\n",
       " 'a',\n",
       " 'n',\n",
       " 'g',\n",
       " 'e',\n",
       " '!',\n",
       " ' ',\n",
       " '2',\n",
       " '0',\n",
       " '0',\n",
       " '$',\n",
       " ' ',\n",
       " 'I',\n",
       " ' ',\n",
       " 'l',\n",
       " 'i',\n",
       " 'k',\n",
       " 'e',\n",
       " ' ',\n",
       " 'o',\n",
       " 'r',\n",
       " 'a',\n",
       " 'n',\n",
       " 'g',\n",
       " 'e',\n",
       " '!',\n",
       " ' ',\n",
       " '2',\n",
       " '0',\n",
       " '0',\n",
       " '$']"
      ]
     },
     "execution_count": 20,
     "metadata": {},
     "output_type": "execute_result"
    }
   ],
   "source": [
    "re.findall(r'.', text)"
   ]
  },
  {
   "cell_type": "code",
   "execution_count": 22,
   "metadata": {},
   "outputs": [
    {
     "data": {
      "text/plain": [
       "['I li', 'ke o', 'rang', 'e! 2', '00$ ', 'I li', 'ke o', 'rang', 'e! 2']"
      ]
     },
     "execution_count": 22,
     "metadata": {},
     "output_type": "execute_result"
    }
   ],
   "source": [
    "re.findall(r'....', text)"
   ]
  },
  {
   "cell_type": "code",
   "execution_count": 23,
   "metadata": {},
   "outputs": [
    {
     "data": {
      "text/plain": [
       "['o', 'r', 'n', 'o', 'r', 'n']"
      ]
     },
     "execution_count": 23,
     "metadata": {},
     "output_type": "execute_result"
    }
   ],
   "source": [
    "re.findall(r'[orn]', text)"
   ]
  },
  {
   "cell_type": "code",
   "execution_count": 24,
   "metadata": {},
   "outputs": [
    {
     "data": {
      "text/plain": [
       "['ora', 'ora']"
      ]
     },
     "execution_count": 24,
     "metadata": {},
     "output_type": "execute_result"
    }
   ],
   "source": [
    "re.findall(r'[orn][orn].', text)"
   ]
  },
  {
   "cell_type": "code",
   "execution_count": 33,
   "metadata": {},
   "outputs": [],
   "source": [
    "text = \"I like Onange! 200$ I like ocange! 200$\""
   ]
  },
  {
   "cell_type": "code",
   "execution_count": 28,
   "metadata": {},
   "outputs": [
    {
     "data": {
      "text/plain": [
       "['ona']"
      ]
     },
     "execution_count": 28,
     "metadata": {},
     "output_type": "execute_result"
    }
   ],
   "source": [
    "re.findall(r'[orn][orn].', text)"
   ]
  },
  {
   "cell_type": "code",
   "execution_count": 29,
   "metadata": {},
   "outputs": [
    {
     "data": {
      "text/plain": [
       "['2', '0', '0', '2', '0', '0']"
      ]
     },
     "execution_count": 29,
     "metadata": {},
     "output_type": "execute_result"
    }
   ],
   "source": [
    "re.findall(r'[0-9]', text)"
   ]
  },
  {
   "cell_type": "code",
   "execution_count": 30,
   "metadata": {},
   "outputs": [
    {
     "data": {
      "text/plain": [
       "['2', '0', '0', '2', '0', '0']"
      ]
     },
     "execution_count": 30,
     "metadata": {},
     "output_type": "execute_result"
    }
   ],
   "source": [
    "re.findall(r'[0123456789]', text)"
   ]
  },
  {
   "cell_type": "code",
   "execution_count": 34,
   "metadata": {},
   "outputs": [
    {
     "data": {
      "text/plain": [
       "['l',\n",
       " 'i',\n",
       " 'k',\n",
       " 'e',\n",
       " 'n',\n",
       " 'a',\n",
       " 'n',\n",
       " 'g',\n",
       " 'e',\n",
       " 'l',\n",
       " 'i',\n",
       " 'k',\n",
       " 'e',\n",
       " 'o',\n",
       " 'c',\n",
       " 'a',\n",
       " 'n',\n",
       " 'g',\n",
       " 'e']"
      ]
     },
     "execution_count": 34,
     "metadata": {},
     "output_type": "execute_result"
    }
   ],
   "source": [
    "re.findall(r'[a-z]', text)"
   ]
  },
  {
   "cell_type": "code",
   "execution_count": 44,
   "metadata": {},
   "outputs": [],
   "source": [
    "text = \"I like orange! 200$ 오렌지! 200$\""
   ]
  },
  {
   "cell_type": "code",
   "execution_count": 37,
   "metadata": {},
   "outputs": [
    {
     "data": {
      "text/plain": [
       "['오', '렌', '지']"
      ]
     },
     "execution_count": 37,
     "metadata": {},
     "output_type": "execute_result"
    }
   ],
   "source": [
    "re.findall(r'[가-힣]', text)"
   ]
  },
  {
   "cell_type": "code",
   "execution_count": 45,
   "metadata": {},
   "outputs": [
    {
     "data": {
      "text/plain": [
       "[' ',\n",
       " ' ',\n",
       " '!',\n",
       " ' ',\n",
       " '2',\n",
       " '0',\n",
       " '0',\n",
       " '$',\n",
       " ' ',\n",
       " '오',\n",
       " '렌',\n",
       " '지',\n",
       " '!',\n",
       " ' ',\n",
       " '2',\n",
       " '0',\n",
       " '0',\n",
       " '$']"
      ]
     },
     "execution_count": 45,
     "metadata": {},
     "output_type": "execute_result"
    }
   ],
   "source": [
    "re.findall(r'[^A-Za-z]',text)"
   ]
  },
  {
   "cell_type": "code",
   "execution_count": 49,
   "metadata": {},
   "outputs": [
    {
     "data": {
      "text/plain": [
       "['like', 'orange']"
      ]
     },
     "execution_count": 49,
     "metadata": {},
     "output_type": "execute_result"
    }
   ],
   "source": [
    "re.findall(r'(orange|like)', text)"
   ]
  },
  {
   "cell_type": "code",
   "execution_count": 53,
   "metadata": {},
   "outputs": [],
   "source": [
    "text = \"I like orange! abc I like orange! ac ng\""
   ]
  },
  {
   "cell_type": "code",
   "execution_count": 51,
   "metadata": {},
   "outputs": [
    {
     "data": {
      "text/plain": [
       "['abc']"
      ]
     },
     "execution_count": 51,
     "metadata": {},
     "output_type": "execute_result"
    }
   ],
   "source": [
    "re.findall(r'a.c', text)"
   ]
  },
  {
   "cell_type": "code",
   "execution_count": 52,
   "metadata": {},
   "outputs": [
    {
     "data": {
      "text/plain": [
       "['abc', 'ac']"
      ]
     },
     "execution_count": 52,
     "metadata": {},
     "output_type": "execute_result"
    }
   ],
   "source": [
    "re.findall(r'a.?c', text)"
   ]
  },
  {
   "cell_type": "code",
   "execution_count": 55,
   "metadata": {},
   "outputs": [
    {
     "data": {
      "text/plain": [
       "['ang', 'ang', 'ng']"
      ]
     },
     "execution_count": 55,
     "metadata": {},
     "output_type": "execute_result"
    }
   ],
   "source": [
    "re.findall(r'a?ng', text)"
   ]
  },
  {
   "cell_type": "code",
   "execution_count": 56,
   "metadata": {},
   "outputs": [],
   "source": [
    "text = \"I like orange! abc I like orange! ac abbbc\""
   ]
  },
  {
   "cell_type": "code",
   "execution_count": 57,
   "metadata": {},
   "outputs": [
    {
     "data": {
      "text/plain": [
       "['abc', 'ac', 'abbbc']"
      ]
     },
     "execution_count": 57,
     "metadata": {},
     "output_type": "execute_result"
    }
   ],
   "source": [
    "re.findall(r'ab*c', text)"
   ]
  },
  {
   "cell_type": "code",
   "execution_count": 58,
   "metadata": {},
   "outputs": [
    {
     "data": {
      "text/plain": [
       "['abc', 'abbbc']"
      ]
     },
     "execution_count": 58,
     "metadata": {},
     "output_type": "execute_result"
    }
   ],
   "source": [
    "re.findall(r'ab+c', text)"
   ]
  },
  {
   "cell_type": "code",
   "execution_count": 59,
   "metadata": {},
   "outputs": [
    {
     "data": {
      "text/plain": [
       "['I', 'like', 'orange!', 'abc', 'I', 'like', 'orange!', 'ac', 'abbbc']"
      ]
     },
     "execution_count": 59,
     "metadata": {},
     "output_type": "execute_result"
    }
   ],
   "source": [
    "re.findall('[^ ]+', text)"
   ]
  },
  {
   "cell_type": "code",
   "execution_count": 60,
   "metadata": {},
   "outputs": [
    {
     "data": {
      "text/plain": [
       "['I', 'like', 'orange!', 'abc', 'I', 'like', 'orange!', 'ac', 'abbbc']"
      ]
     },
     "execution_count": 60,
     "metadata": {},
     "output_type": "execute_result"
    }
   ],
   "source": [
    "text.split()"
   ]
  },
  {
   "cell_type": "code",
   "execution_count": 61,
   "metadata": {},
   "outputs": [
    {
     "data": {
      "text/plain": [
       "['abc', 'ac', 'abbbc']"
      ]
     },
     "execution_count": 61,
     "metadata": {},
     "output_type": "execute_result"
    }
   ],
   "source": [
    "re.findall(r'a[bd]*c', text)"
   ]
  },
  {
   "cell_type": "code",
   "execution_count": 62,
   "metadata": {},
   "outputs": [
    {
     "data": {
      "text/plain": [
       "['I lik', 'e ora', 'nge! ', 'abc I', ' like', ' oran', 'ge! a', 'c abb']"
      ]
     },
     "execution_count": 62,
     "metadata": {},
     "output_type": "execute_result"
    }
   ],
   "source": [
    "re.findall(r'.{5}', text)"
   ]
  },
  {
   "cell_type": "code",
   "execution_count": 63,
   "metadata": {},
   "outputs": [],
   "source": [
    "text = \"abcc abc ab bab abccabcabd\""
   ]
  },
  {
   "cell_type": "code",
   "execution_count": 65,
   "metadata": {},
   "outputs": [
    {
     "data": {
      "text/plain": [
       "['abc', 'abc', 'bab', 'abc', 'cab', 'cab']"
      ]
     },
     "execution_count": 65,
     "metadata": {},
     "output_type": "execute_result"
    }
   ],
   "source": [
    "re.findall(r'[abc]{3}', text)"
   ]
  },
  {
   "cell_type": "code",
   "execution_count": 66,
   "metadata": {},
   "outputs": [],
   "source": [
    "text = \"I like orange! 200$ I like orange! 200$ \""
   ]
  },
  {
   "cell_type": "code",
   "execution_count": 67,
   "metadata": {},
   "outputs": [
    {
     "data": {
      "text/plain": [
       "['I',\n",
       " 'l',\n",
       " 'i',\n",
       " 'k',\n",
       " 'e',\n",
       " 'o',\n",
       " 'r',\n",
       " 'a',\n",
       " 'n',\n",
       " 'g',\n",
       " 'e',\n",
       " '2',\n",
       " '0',\n",
       " '0',\n",
       " 'I',\n",
       " 'l',\n",
       " 'i',\n",
       " 'k',\n",
       " 'e',\n",
       " 'o',\n",
       " 'r',\n",
       " 'a',\n",
       " 'n',\n",
       " 'g',\n",
       " 'e',\n",
       " '2',\n",
       " '0',\n",
       " '0']"
      ]
     },
     "execution_count": 67,
     "metadata": {},
     "output_type": "execute_result"
    }
   ],
   "source": [
    "re.findall(r'\\w', text)"
   ]
  },
  {
   "cell_type": "code",
   "execution_count": 68,
   "metadata": {},
   "outputs": [
    {
     "data": {
      "text/plain": [
       "['2', '0', '0', '2', '0', '0']"
      ]
     },
     "execution_count": 68,
     "metadata": {},
     "output_type": "execute_result"
    }
   ],
   "source": [
    "re.findall(r'\\d', text)"
   ]
  },
  {
   "cell_type": "code",
   "execution_count": 76,
   "metadata": {},
   "outputs": [],
   "source": [
    "numbers = \"\"\"\n",
    "010-2334-3234\n",
    "02-302-3033\n",
    "010-1321-4043\n",
    "02-01-32\n",
    "33-3303-3033\n",
    "016-444-3042\n",
    "\"\"\"\n"
   ]
  },
  {
   "cell_type": "code",
   "execution_count": 80,
   "metadata": {},
   "outputs": [
    {
     "data": {
      "text/plain": [
       "['010-2334-3234', '010-1321-4043', '016-444-3042']"
      ]
     },
     "execution_count": 80,
     "metadata": {},
     "output_type": "execute_result"
    }
   ],
   "source": [
    "results = re.findall(r\"\\d{3}-\\d{3,4}-\\d{4}\", numbers)\n",
    "results"
   ]
  },
  {
   "cell_type": "code",
   "execution_count": 89,
   "metadata": {},
   "outputs": [],
   "source": [
    "results = re.finditer(r\"\\d{3}-\\d{3,4}-\\d{4}\", numbers)\n",
    "results = list(results)"
   ]
  },
  {
   "cell_type": "code",
   "execution_count": 93,
   "metadata": {},
   "outputs": [
    {
     "name": "stdout",
     "output_type": "stream",
     "text": [
      "(1, 14)\n",
      "(27, 40)\n",
      "(63, 75)\n"
     ]
    }
   ],
   "source": [
    "for result in results:\n",
    "    print(result.span())"
   ]
  },
  {
   "cell_type": "code",
   "execution_count": 94,
   "metadata": {},
   "outputs": [],
   "source": [
    "text = \"\"\"\n",
    "[앵커]\n",
    "\n",
    "바로 좀 팩트체크를 해 보겠습니다. 제모를 하면 마약검사에서 빠져나갈 수 있다. 연예인 마약사건과 맞물려서 이런 글들이 온라인에서 확산됐습니다. 수사기법을 비웃는 듯한 내용입니다. 팩트체크팀이 국립과학수사연구원의 도움을 받아서 확인을 했습니다. 결론은 마약 성분은 체모 외에도 온몸을 흔적을 남긴다는 겁니다.\n",
    "오대영 기자 나와 있습니다. 구체적으로 어떤 글들이 퍼져 있습니까?\n",
    "\n",
    "[기자]\n",
    "\n",
    "전신 제모를 하면 문제가 없다. 염색, 탈색을 하면 된다. 눈썹은 검사해도 소용없다 등의 내용입니다.\n",
    "포털사이트에서 마약 검사라고 검색을 하면 모발 검사 안 걸리는 법이라는 연관 검색어까지 뜹니다.\n",
    "\"\"\""
   ]
  },
  {
   "cell_type": "code",
   "execution_count": 97,
   "metadata": {},
   "outputs": [
    {
     "name": "stdout",
     "output_type": "stream",
     "text": [
      "\n",
      "앵커\n",
      "\n",
      "바로 좀 팩트체크를 해 보겠습니다 제모를 하면 마약검사에서 빠져나갈 수 있다 연예인 마약사건과 맞물려서 이런 글들이 온라인에서 확산됐습니다 수사기법을 비웃는 듯한 내용입니다 팩트체크팀이 국립과학수사연구원의 도움을 받아서 확인을 했습니다 결론은 마약 성분은 체모 외에도 온몸을 흔적을 남긴다는 겁니다\n",
      "오대영 기자 나와 있습니다 구체적으로 어떤 글들이 퍼져 있습니까\n",
      "\n",
      "기자\n",
      "\n",
      "전신 제모를 하면 문제가 없다 염색 탈색을 하면 된다 눈썹은 검사해도 소용없다 등의 내용입니다\n",
      "포털사이트에서 마약 검사라고 검색을 하면 모발 검사 안 걸리는 법이라는 연관 검색어까지 뜹니다\n",
      "\n"
     ]
    }
   ],
   "source": [
    "print(re.sub(r'[\\[\\]?.,]', \"\", text))"
   ]
  },
  {
   "cell_type": "code",
   "execution_count": 98,
   "metadata": {},
   "outputs": [],
   "source": [
    "emails = \"\"\"\n",
    "jkilee@gmail.com\n",
    "kttredef@naver.com\n",
    "akdef!aa.com\n",
    "adekik@best.kr\n",
    "abkereff@aacde\n",
    "adefgree@korea.co.kr\n",
    "\"\"\""
   ]
  },
  {
   "cell_type": "code",
   "execution_count": 111,
   "metadata": {},
   "outputs": [
    {
     "name": "stdout",
     "output_type": "stream",
     "text": [
      "jkilee@gmail.com\n",
      "kttredef@naver.com\n",
      "adekik@best.kr\n",
      "adefgree@korea.co.kr\n"
     ]
    }
   ],
   "source": [
    "valid_email = []\n",
    "for email in emails.split(\"\\n\"):\n",
    "    matched = re.search('[a-zA-Z].*@[a-zA-Z]+\\.[a-zA-Z]+', email)\n",
    "    if matched:\n",
    "        print(matched.group())\n",
    "    \n",
    "    "
   ]
  },
  {
   "cell_type": "code",
   "execution_count": 124,
   "metadata": {},
   "outputs": [],
   "source": [
    "text =  '''안녕하세요 저는 <em>홍길동</em> 입니다. 나이는 24살 세계 최고의 <a href=\"aa.aa.com\">데이터 분석가</a>가 되고싶습니다.'''\n"
   ]
  },
  {
   "cell_type": "code",
   "execution_count": 113,
   "metadata": {},
   "outputs": [
    {
     "name": "stdout",
     "output_type": "stream",
     "text": [
      "\n",
      "안녕하세요 저는 홍길동 입니다 나이는 24살 세계 최고의  데이터 분석가가 되고싶습니다\n",
      " \n"
     ]
    }
   ],
   "source": [
    "print(re.sub(r'[\\<>=\".\"/A-Za-z]', \"\", text))\n"
   ]
  },
  {
   "cell_type": "code",
   "execution_count": 132,
   "metadata": {},
   "outputs": [
    {
     "data": {
      "text/plain": [
       "'안녕하세요 저는 홍길동 입니다. 나이는 24살 세계 최고의 데이터 분석가가 되고싶습니다.'"
      ]
     },
     "execution_count": 132,
     "metadata": {},
     "output_type": "execute_result"
    }
   ],
   "source": [
    "result=re.sub(\"<.+?>\",\"\", text)\n",
    "result"
   ]
  },
  {
   "cell_type": "code",
   "execution_count": 115,
   "metadata": {},
   "outputs": [],
   "source": [
    "s = \"{word}}\""
   ]
  },
  {
   "cell_type": "code",
   "execution_count": 129,
   "metadata": {},
   "outputs": [
    {
     "data": {
      "text/plain": [
       "<_sre.SRE_Match object; span=(0, 6), match='{word}'>"
      ]
     },
     "execution_count": 129,
     "metadata": {},
     "output_type": "execute_result"
    }
   ],
   "source": [
    "re.match(r\"\\{\\S+?\\}\", s)"
   ]
  },
  {
   "cell_type": "code",
   "execution_count": 125,
   "metadata": {},
   "outputs": [
    {
     "data": {
      "text/plain": [
       "'안녕하세요 저는 홍길동 입니다. 나이는 24살 세계 최고의 데이터 분석가가 되고싶습니다.'"
      ]
     },
     "execution_count": 125,
     "metadata": {},
     "output_type": "execute_result"
    }
   ],
   "source": [
    "result=re.sub(\"<[^>]+>\",\"\", text)\n",
    "result"
   ]
  },
  {
   "cell_type": "code",
   "execution_count": 133,
   "metadata": {},
   "outputs": [],
   "source": [
    "import requests\n",
    "from bs4 import BeautifulSoup"
   ]
  },
  {
   "cell_type": "code",
   "execution_count": 137,
   "metadata": {},
   "outputs": [
    {
     "data": {
      "text/plain": [
       "[['써니전자', '상한'],\n",
       " ['삼성전자', '하한'],\n",
       " ['안랩', '상한'],\n",
       " ['케이엠더블..', '상한'],\n",
       " ['피피아이', '상한'],\n",
       " ['KT&G', '하한'],\n",
       " ['삼성전자우', '상한'],\n",
       " ['대양금속', '하한'],\n",
       " ['SK하이닉스', '상한'],\n",
       " ['SK텔레콤', '하한']]"
      ]
     },
     "execution_count": 137,
     "metadata": {},
     "output_type": "execute_result"
    }
   ],
   "source": [
    "URL = \"https://scrapying-study.firebaseapp.com/03/\"\n",
    "response = requests.get(URL)\n",
    "soup = BeautifulSoup(response.text,\"html.parser\")\n",
    "result = []\n",
    "li_list = soup.select(\"#popularItemList > li\")\n",
    "for li in li_list:\n",
    "#     print(li.select_one('img').attrs['alt'][0])\n",
    "    result.append([li.select_one('a').text, li.attrs['class'][0].replace(\"up\", \"상한\").replace(\"dn\", \"하한\")])\n",
    "    \n",
    "result"
   ]
  },
  {
   "cell_type": "code",
   "execution_count": 142,
   "metadata": {},
   "outputs": [
    {
     "data": {
      "text/plain": [
       "[['다우산업', '상한'],\n",
       " ['나스닥', '상한'],\n",
       " ['홍콩H', '상한'],\n",
       " ['상해종합', '상한'],\n",
       " ['니케이225', '하한']]"
      ]
     },
     "execution_count": 142,
     "metadata": {},
     "output_type": "execute_result"
    }
   ],
   "source": [
    "response = requests.get(URL)\n",
    "soup = BeautifulSoup(response.text,\"html.parser\")\n",
    "result = []\n",
    "li_list = soup.select(\"ul.lst_major > li\")\n",
    "for li in li_list:\n",
    "    result.append([li.select_one('a').text, li.attrs['class'][0].replace(\"up\", \"상한\").replace(\"dn\", \"하한\")])\n",
    "    \n",
    "result"
   ]
  },
  {
   "cell_type": "code",
   "execution_count": 145,
   "metadata": {},
   "outputs": [
    {
     "name": "stdout",
     "output_type": "stream",
     "text": [
      "[['써니전자', '5,000'], ['안랩', '81,000'], ['케이엠더블..', '57,300'], ['피피아이', '12,600'], ['삼성전자우', '45,600'], ['SK하이닉스', '94,700']]\n",
      "[['다우산업', '28,647.43'], ['나스닥', '9,015.03'], ['홍콩H', '11,320.56'], ['상해종합', '3,085.20']]\n"
     ]
    }
   ],
   "source": [
    "result = []\n",
    "li_list = soup.select(\"#popularItemList > li\")\n",
    "for li in li_list:\n",
    "    if li.attrs['class'][0] == 'up':\n",
    "        result.append([li.select_one('a').text, li.select_one('span').text])\n",
    "    \n",
    "print(result)\n",
    "result = []\n",
    "li_list = soup.select(\"ul.lst_major > li\")\n",
    "for li in li_list:\n",
    "    if li.attrs['class'][0] == 'up':\n",
    "        result.append([li.select_one('a').text, li.select_one('span').text])\n",
    "    \n",
    "print(result)\n",
    "\n",
    "\n",
    "\n",
    "\n"
   ]
  },
  {
   "cell_type": "markdown",
   "metadata": {},
   "source": [
    "~~~\n",
    "[{'이름': 'H하우스장위',  '분양가': '16000',  '유형': '아파트',  '분양유형': '일반민간임대',  '세대수': '분양 134세대',  '평형': '45㎡~65㎡'},\n",
    " {'이름': '고덕리엔파크2단지 장기전세',  '분양가': '38400',  '유형': '아파트',  '분양유형': '장기전세주택',  '세대수': '분양 1세대',  '평형': '149㎡'},\n",
    " {'이름': '신정이펜하우스3단지 장기전세',  '분양가': '39040',  '유형': '아파트',  '분양유형': '장기전세주택',  '세대수': '분양 1세대',  '평형': '148㎡'},\n",
    " {'이름': '천왕이펜하우스2단지 장기전세',  '분양가': '38240',  '유형': '아파트',  '분양유형': '장기전세주택',  '세대수': '분양 1세대',  '평형': '142㎡'},\n",
    " {'이름': '송파파크데일2단지 장기전세',  '분양가': '45600',  '유형': '아파트',  '분양유형': '장기전세주택',  '세대수': '분양 1세대',  '평형': '150㎡'}]\n",
    "~~~"
   ]
  },
  {
   "cell_type": "code",
   "execution_count": 179,
   "metadata": {},
   "outputs": [
    {
     "data": {
      "text/plain": [
       "[{'이름': 'H하우스장위',\n",
       "  '분양가': '16000',\n",
       "  '유형': '아파트',\n",
       "  '분양유형': '일반민간임대',\n",
       "  '세대수': '분양 134세대',\n",
       "  '평형': '45㎡~65㎡'},\n",
       " {'이름': '고덕리엔파크2단지 장기전세',\n",
       "  '분양가': '38400',\n",
       "  '유형': '아파트',\n",
       "  '분양유형': '장기전세주택',\n",
       "  '세대수': '분양 1세대',\n",
       "  '평형': '149㎡'},\n",
       " {'이름': '신정이펜하우스3단지 장기전세',\n",
       "  '분양가': '39040',\n",
       "  '유형': '아파트',\n",
       "  '분양유형': '장기전세주택',\n",
       "  '세대수': '분양 1세대',\n",
       "  '평형': '148㎡'},\n",
       " {'이름': '천왕이펜하우스2단지 장기전세',\n",
       "  '분양가': '38240',\n",
       "  '유형': '아파트',\n",
       "  '분양유형': '장기전세주택',\n",
       "  '세대수': '분양 1세대',\n",
       "  '평형': '142㎡'},\n",
       " {'이름': '송파파크데일2단지 장기전세',\n",
       "  '분양가': '45600',\n",
       "  '유형': '아파트',\n",
       "  '분양유형': '장기전세주택',\n",
       "  '세대수': '분양 1세대',\n",
       "  '평형': '150㎡'}]"
      ]
     },
     "execution_count": 179,
     "metadata": {},
     "output_type": "execute_result"
    }
   ],
   "source": [
    "\n",
    "URL = \"https://scrapying-study.firebaseapp.com/03/\"\n",
    "response = requests.get(URL)\n",
    "soup = BeautifulSoup(response.text,\"html.parser\")\n",
    "result = []\n",
    "\n",
    "li_list = soup.select(\"ul._sale_list > li\")\n",
    "\n",
    "total = []\n",
    "\n",
    "for li in li_list:\n",
    "    result = {}\n",
    "    result['이름'] = li.select_one(\"a\").text\n",
    "    \n",
    "    dds = li.select_one(\"dl.detail_info\").select(\"dd\")\n",
    "    result['분양가'] = \"\".join(re.findall(r\"\\d\", dds[0].text))\n",
    "  \n",
    "    types = dds[1].text.split(\"|\")\n",
    "    result['유형'] = types[0]\n",
    "    result['분양유형'] = types[1]\n",
    "\n",
    "    sizes = dds[2].text.split(\"|\")\n",
    "    result['세대수'] = sizes[0]\n",
    "    result['평형'] = sizes[1]\n",
    "    \n",
    "    total.append(result)\n",
    "    \n",
    "\n",
    "total"
   ]
  },
  {
   "cell_type": "code",
   "execution_count": 184,
   "metadata": {},
   "outputs": [
    {
     "name": "stdout",
     "output_type": "stream",
     "text": [
      "1 조제\n",
      "2 원더 우먼 1984\n",
      "3 이웃사촌\n",
      "4 도굴\n",
      "5 언플랜드\n",
      "6 런\n",
      "7 러브 액츄얼리\n",
      "8 극장판 바이올렛 에버가든\n",
      "9 800\n",
      "10 호프\n",
      "11 리플레이\n",
      "12 테넷\n",
      "13 개 같은 것들\n",
      "14 퍼스트 러브\n",
      "15 콜\n",
      "16 삼진그룹 영어토익반\n",
      "17 미드나이트 스카이\n",
      "18 발레리안: 천 개 행성의 도시\n",
      "19 더 프롬\n",
      "20 잔칫날\n",
      "21 블랙 위도우\n",
      "22 스웨그\n",
      "23 덩케르크\n",
      "24 라이어트: 기계들의 역습\n",
      "25 러브레터\n",
      "26 나이팅게일\n",
      "27 파티마의 기적\n",
      "28 뱅가드\n",
      "29 인터스텔라\n",
      "30 조제, 호랑이 그리고 물고기들\n",
      "31 애비규환\n",
      "32 모텔리어\n",
      "33 세트플레이\n",
      "34 가나의 혼인잔치: 언약\n",
      "35 집착\n",
      "36 그날이 온다\n",
      "37 그린 북\n",
      "38 썸머 85\n",
      "39 내 어깨 위 고양이, 밥 2\n",
      "40 아카이브\n",
      "41 뮤직 앤 리얼리티\n",
      "42 국제수사\n",
      "43 누군가 어디에서 나를 기다리면 좋겠다\n",
      "44 소년시절의 너\n",
      "45 화양연화\n",
      "46 먼 훗날 우리\n",
      "47 007 노 타임 투 다이\n",
      "48 운디네\n",
      "49 그린랜드\n",
      "50 라라랜드\n"
     ]
    }
   ],
   "source": [
    "url = \"https://movie.naver.com/movie/sdb/rank/rmovie.nhn\"\n",
    "response = requests.get(url)\n",
    "soup = BeautifulSoup(response.text, \"html.parser\")\n",
    "result = soup.select('.list_ranking tr>td.title a')\n",
    "for i, v in enumerate(result):\n",
    "    print(i + 1, v.text)"
   ]
  },
  {
   "cell_type": "code",
   "execution_count": 186,
   "metadata": {},
   "outputs": [],
   "source": [
    "url = \"https://finance.naver.com/sise/sise_quant.nhn\"\n",
    "response = requests.get(url)\n",
    "soup = BeautifulSoup(response.text, \"html.parser\")\n",
    "result = soup.select('tbody')"
   ]
  },
  {
   "cell_type": "code",
   "execution_count": 206,
   "metadata": {
    "scrolled": true
   },
   "outputs": [
    {
     "name": "stdout",
     "output_type": "stream",
     "text": [
      "[]\n",
      "[]\n",
      "[<a class=\"tltle\" href=\"/item/main.nhn?code=252670\">KODEX 200선물인버스2X</a>]\n",
      "[<a class=\"tltle\" href=\"/item/main.nhn?code=251340\">KODEX 코스닥150선물인버스</a>]\n",
      "[<a class=\"tltle\" href=\"/item/main.nhn?code=004310\">현대약품</a>]\n",
      "[<a class=\"tltle\" href=\"/item/main.nhn?code=214330\">금호에이치티</a>]\n",
      "[<a class=\"tltle\" href=\"/item/main.nhn?code=122630\">KODEX 레버리지</a>]\n",
      "[]\n",
      "[]\n",
      "[]\n",
      "[<a class=\"tltle\" href=\"/item/main.nhn?code=233740\">KODEX 코스닥150 레버리지</a>]\n",
      "[<a class=\"tltle\" href=\"/item/main.nhn?code=034220\">LG디스플레이</a>]\n",
      "[<a class=\"tltle\" href=\"/item/main.nhn?code=007120\">미래아이앤지</a>]\n",
      "[<a class=\"tltle\" href=\"/item/main.nhn?code=114800\">KODEX 인버스</a>]\n",
      "[<a class=\"tltle\" href=\"/item/main.nhn?code=004410\">서울식품</a>]\n",
      "[]\n",
      "[]\n",
      "[]\n",
      "[<a class=\"tltle\" href=\"/item/main.nhn?code=001780\">알루코</a>]\n",
      "[<a class=\"tltle\" href=\"/item/main.nhn?code=003520\">영진약품</a>]\n",
      "[<a class=\"tltle\" href=\"/item/main.nhn?code=013700\">까뮤이앤씨</a>]\n",
      "[<a class=\"tltle\" href=\"/item/main.nhn?code=012200\">계양전기</a>]\n",
      "[<a class=\"tltle\" href=\"/item/main.nhn?code=093230\">이아이디</a>]\n",
      "[]\n",
      "[]\n",
      "[]\n",
      "[<a class=\"tltle\" href=\"/item/main.nhn?code=005930\">삼성전자</a>]\n",
      "[<a class=\"tltle\" href=\"/item/main.nhn?code=002710\">TCC스틸</a>]\n",
      "[<a class=\"tltle\" href=\"/item/main.nhn?code=092220\">KEC</a>]\n",
      "[<a class=\"tltle\" href=\"/item/main.nhn?code=001440\">대한전선</a>]\n",
      "[<a class=\"tltle\" href=\"/item/main.nhn?code=066570\">LG전자</a>]\n",
      "[]\n",
      "[]\n",
      "[]\n",
      "[<a class=\"tltle\" href=\"/item/main.nhn?code=017180\">명문제약</a>]\n",
      "[<a class=\"tltle\" href=\"/item/main.nhn?code=011930\">신성이엔지</a>]\n",
      "[<a class=\"tltle\" href=\"/item/main.nhn?code=229200\">KODEX 코스닥 150</a>]\n",
      "[<a class=\"tltle\" href=\"/item/main.nhn?code=002720\">국제약품</a>]\n",
      "[<a class=\"tltle\" href=\"/item/main.nhn?code=004270\">남성</a>]\n",
      "[]\n",
      "[]\n",
      "[]\n",
      "[<a class=\"tltle\" href=\"/item/main.nhn?code=010140\">삼성중공업</a>]\n",
      "[<a class=\"tltle\" href=\"/item/main.nhn?code=028670\">팬오션</a>]\n",
      "[<a class=\"tltle\" href=\"/item/main.nhn?code=092200\">디아이씨</a>]\n",
      "[<a class=\"tltle\" href=\"/item/main.nhn?code=530031\">삼성 레버리지 WTI원유 선물 ETN</a>]\n",
      "[<a class=\"tltle\" href=\"/item/main.nhn?code=365550\">ESR켄달스퀘어리츠</a>]\n",
      "[]\n",
      "[]\n",
      "[]\n",
      "[<a class=\"tltle\" href=\"/item/main.nhn?code=145210\">세화아이엠씨</a>]\n",
      "[<a class=\"tltle\" href=\"/item/main.nhn?code=126560\">현대퓨처넷</a>]\n",
      "[<a class=\"tltle\" href=\"/item/main.nhn?code=001470\">삼부토건</a>]\n",
      "[<a class=\"tltle\" href=\"/item/main.nhn?code=015540\">쎌마테라퓨틱스</a>]\n",
      "[<a class=\"tltle\" href=\"/item/main.nhn?code=069500\">KODEX 200</a>]\n",
      "[]\n",
      "[]\n",
      "[]\n",
      "[<a class=\"tltle\" href=\"/item/main.nhn?code=500019\">신한 레버리지 WTI원유 선물 ETN(H)</a>]\n",
      "[<a class=\"tltle\" href=\"/item/main.nhn?code=033270\">유나이티드제약</a>]\n",
      "[<a class=\"tltle\" href=\"/item/main.nhn?code=008700\">아남전자</a>]\n",
      "[<a class=\"tltle\" href=\"/item/main.nhn?code=015760\">한국전력</a>]\n",
      "[<a class=\"tltle\" href=\"/item/main.nhn?code=004770\">써니전자</a>]\n",
      "[]\n",
      "[]\n",
      "[]\n",
      "[<a class=\"tltle\" href=\"/item/main.nhn?code=009900\">명신산업</a>]\n",
      "[<a class=\"tltle\" href=\"/item/main.nhn?code=014160\">대영포장</a>]\n",
      "[<a class=\"tltle\" href=\"/item/main.nhn?code=003550\">LG</a>]\n",
      "[<a class=\"tltle\" href=\"/item/main.nhn?code=003090\">대웅</a>]\n",
      "[<a class=\"tltle\" href=\"/item/main.nhn?code=018880\">한온시스템</a>]\n",
      "[]\n",
      "[]\n",
      "[]\n",
      "[<a class=\"tltle\" href=\"/item/main.nhn?code=012280\">영화금속</a>]\n",
      "[<a class=\"tltle\" href=\"/item/main.nhn?code=032640\">LG유플러스</a>]\n",
      "[<a class=\"tltle\" href=\"/item/main.nhn?code=088350\">한화생명</a>]\n",
      "[<a class=\"tltle\" href=\"/item/main.nhn?code=006110\">삼아알미늄</a>]\n",
      "[<a class=\"tltle\" href=\"/item/main.nhn?code=077500\">유니퀘스트</a>]\n",
      "[]\n",
      "[]\n",
      "[]\n",
      "[<a class=\"tltle\" href=\"/item/main.nhn?code=005880\">대한해운</a>]\n",
      "[<a class=\"tltle\" href=\"/item/main.nhn?code=024900\">덕양산업</a>]\n",
      "[<a class=\"tltle\" href=\"/item/main.nhn?code=010660\">화천기계</a>]\n",
      "[<a class=\"tltle\" href=\"/item/main.nhn?code=252710\">TIGER 200선물인버스2X</a>]\n",
      "[<a class=\"tltle\" href=\"/item/main.nhn?code=204320\">만도</a>]\n",
      "[]\n",
      "[]\n",
      "[]\n",
      "[<a class=\"tltle\" href=\"/item/main.nhn?code=003000\">부광약품</a>]\n",
      "[<a class=\"tltle\" href=\"/item/main.nhn?code=001510\">SK증권</a>]\n",
      "[<a class=\"tltle\" href=\"/item/main.nhn?code=011200\">HMM</a>]\n",
      "[<a class=\"tltle\" href=\"/item/main.nhn?code=093370\">후성</a>]\n",
      "[<a class=\"tltle\" href=\"/item/main.nhn?code=003060\">에이프로젠제약</a>]\n",
      "[]\n",
      "[]\n",
      "[]\n",
      "[<a class=\"tltle\" href=\"/item/main.nhn?code=011280\">태림포장</a>]\n",
      "[<a class=\"tltle\" href=\"/item/main.nhn?code=020560\">아시아나항공</a>]\n",
      "[<a class=\"tltle\" href=\"/item/main.nhn?code=001120\">LG상사</a>]\n",
      "[<a class=\"tltle\" href=\"/item/main.nhn?code=002870\">신풍제지</a>]\n",
      "[<a class=\"tltle\" href=\"/item/main.nhn?code=018470\">조일알미늄</a>]\n",
      "[]\n",
      "[]\n",
      "[]\n",
      "[<a class=\"tltle\" href=\"/item/main.nhn?code=005110\">한창</a>]\n",
      "[<a class=\"tltle\" href=\"/item/main.nhn?code=011070\">LG이노텍</a>]\n",
      "[<a class=\"tltle\" href=\"/item/main.nhn?code=000990\">DB하이텍</a>]\n",
      "[<a class=\"tltle\" href=\"/item/main.nhn?code=001360\">삼성제약</a>]\n",
      "[<a class=\"tltle\" href=\"/item/main.nhn?code=000660\">SK하이닉스</a>]\n",
      "[]\n",
      "[]\n",
      "[]\n",
      "[<a class=\"tltle\" href=\"/item/main.nhn?code=000040\">KR모터스</a>]\n",
      "[<a class=\"tltle\" href=\"/item/main.nhn?code=530036\">삼성 인버스 2X WTI원유 선물 ETN</a>]\n",
      "[<a class=\"tltle\" href=\"/item/main.nhn?code=011000\">진원생명과학</a>]\n",
      "[<a class=\"tltle\" href=\"/item/main.nhn?code=066575\">LG전자우</a>]\n",
      "[<a class=\"tltle\" href=\"/item/main.nhn?code=005690\">파미셀</a>]\n",
      "[]\n",
      "[]\n",
      "[]\n",
      "[<a class=\"tltle\" href=\"/item/main.nhn?code=007460\">에이프로젠 KIC</a>]\n",
      "[<a class=\"tltle\" href=\"/item/main.nhn?code=019170\">신풍제약</a>]\n",
      "[<a class=\"tltle\" href=\"/item/main.nhn?code=002630\">오리엔트바이오</a>]\n",
      "[<a class=\"tltle\" href=\"/item/main.nhn?code=034020\">두산중공업</a>]\n",
      "[<a class=\"tltle\" href=\"/item/main.nhn?code=000890\">보해양조</a>]\n",
      "[]\n",
      "[]\n",
      "[]\n",
      "[<a class=\"tltle\" href=\"/item/main.nhn?code=047040\">대우건설</a>]\n",
      "[<a class=\"tltle\" href=\"/item/main.nhn?code=011090\">에넥스</a>]\n",
      "[<a class=\"tltle\" href=\"/item/main.nhn?code=033180\">필룩스</a>]\n",
      "[<a class=\"tltle\" href=\"/item/main.nhn?code=000020\">동화약품</a>]\n",
      "[<a class=\"tltle\" href=\"/item/main.nhn?code=010050\">우리종금</a>]\n",
      "[]\n",
      "[]\n",
      "[]\n",
      "[<a class=\"tltle\" href=\"/item/main.nhn?code=005935\">삼성전자우</a>]\n",
      "[<a class=\"tltle\" href=\"/item/main.nhn?code=031820\">콤텍시스템</a>]\n",
      "[<a class=\"tltle\" href=\"/item/main.nhn?code=139260\">TIGER 200 IT</a>]\n",
      "[<a class=\"tltle\" href=\"/item/main.nhn?code=009830\">한화솔루션</a>]\n",
      "[<a class=\"tltle\" href=\"/item/main.nhn?code=305720\">KODEX 2차전지산업</a>]\n",
      "[]\n",
      "[]\n",
      "[]\n",
      "[<a class=\"tltle\" href=\"/item/main.nhn?code=009460\">한창제지</a>]\n",
      "[<a class=\"tltle\" href=\"/item/main.nhn?code=267770\">TIGER 200선물레버리지</a>]\n",
      "[<a class=\"tltle\" href=\"/item/main.nhn?code=042670\">두산인프라코어</a>]\n",
      "[<a class=\"tltle\" href=\"/item/main.nhn?code=004490\">세방전지</a>]\n",
      "[<a class=\"tltle\" href=\"/item/main.nhn?code=009290\">광동제약</a>]\n",
      "[]\n",
      "[]\n",
      "[]\n",
      "[<a class=\"tltle\" href=\"/item/main.nhn?code=002760\">보락</a>]\n",
      "[<a class=\"tltle\" href=\"/item/main.nhn?code=025750\">한솔홈데코</a>]\n",
      "[<a class=\"tltle\" href=\"/item/main.nhn?code=015590\">큐로</a>]\n",
      "[<a class=\"tltle\" href=\"/item/main.nhn?code=008350\">남선알미늄</a>]\n",
      "[<a class=\"tltle\" href=\"/item/main.nhn?code=102280\">쌍방울</a>]\n",
      "[]\n",
      "[]\n",
      "[]\n"
     ]
    }
   ],
   "source": [
    "import requests\n",
    "from bs4 import BeautifulSoup\n",
    "url = 'https://finance.naver.com/sise/sise_quant.nhn'\n",
    "response = requests.get(url)\n",
    "result=[]\n",
    "soup = BeautifulSoup(response.text, \"html.parser\")\n",
    "li_list= soup.select(\".type_2 >tr\")\n",
    "for li in li_list:\n",
    "    result.append(li.select(\"td\").text)\n",
    "result"
   ]
  },
  {
   "cell_type": "code",
   "execution_count": null,
   "metadata": {},
   "outputs": [],
   "source": []
  }
 ],
 "metadata": {
  "kernelspec": {
   "display_name": "Python 3",
   "language": "python",
   "name": "python3"
  },
  "language_info": {
   "codemirror_mode": {
    "name": "ipython",
    "version": 3
   },
   "file_extension": ".py",
   "mimetype": "text/x-python",
   "name": "python",
   "nbconvert_exporter": "python",
   "pygments_lexer": "ipython3",
   "version": "3.8.5"
  }
 },
 "nbformat": 4,
 "nbformat_minor": 4
}
