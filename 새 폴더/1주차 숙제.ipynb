{
 "cells": [
  {
   "cell_type": "code",
   "execution_count": 18,
   "metadata": {},
   "outputs": [
    {
     "name": "stdout",
     "output_type": "stream",
     "text": [
      "15\n"
     ]
    }
   ],
   "source": [
    "def calc(operator, *nums):\n",
    "    sum_1 = 0\n",
    "    for num in nums:\n",
    "        if operator == \"+\":\n",
    "            sum_1 += num\n",
    "    return sum_1\n",
    "sum_1 = calc(\"+\", 1,2,3,4,5)\n",
    "print(sum_1)"
   ]
  },
  {
   "cell_type": "code",
   "execution_count": 21,
   "metadata": {},
   "outputs": [
    {
     "name": "stdout",
     "output_type": "stream",
     "text": [
      "120\n"
     ]
    }
   ],
   "source": [
    "def calc(operator, *nums):\n",
    "    sum_2 = 1\n",
    "    for num in nums:\n",
    "        if operator == \"*\":\n",
    "            sum_2 *= num\n",
    "    return sum_2\n",
    "sum_2 = calc(\"*\", 1,2,3,4,5)\n",
    "print(sum_2)"
   ]
  },
  {
   "cell_type": "code",
   "execution_count": 35,
   "metadata": {},
   "outputs": [
    {
     "name": "stdout",
     "output_type": "stream",
     "text": [
      "30\n",
      "200\n",
      "-10\n",
      "0으로 나눌 수 없습니다.\n",
      "0\n"
     ]
    }
   ],
   "source": [
    "def calc(operator, num1,num2):\n",
    "    result = 0\n",
    "    if operator == \"+\":\n",
    "        result = num1+num2\n",
    "    \n",
    "    elif operator == \"*\":\n",
    "        result = num1*num2\n",
    "        \n",
    "    elif operator == \"-\":\n",
    "        result = num1-num2\n",
    "        \n",
    "    elif operator == \"/\":\n",
    "        if num1 !=0:\n",
    "            result = num1/num2\n",
    "        \n",
    "        else:\n",
    "            print(\"0으로 나눌 수 없습니다.\")\n",
    "    return result\n",
    "\n",
    "result = calc(\"+\",10,20)\n",
    "print(result)\n",
    "result = calc(\"*\",10,20)\n",
    "print(result)\n",
    "result = calc(\"-\",10,20)\n",
    "print(result)\n",
    "result = calc(\"/\",0,20)\n",
    "print(result)\n"
   ]
  },
  {
   "cell_type": "code",
   "execution_count": null,
   "metadata": {},
   "outputs": [],
   "source": []
  }
 ],
 "metadata": {
  "kernelspec": {
   "display_name": "Python 3",
   "language": "python",
   "name": "python3"
  },
  "language_info": {
   "codemirror_mode": {
    "name": "ipython",
    "version": 3
   },
   "file_extension": ".py",
   "mimetype": "text/x-python",
   "name": "python",
   "nbconvert_exporter": "python",
   "pygments_lexer": "ipython3",
   "version": "3.8.5"
  }
 },
 "nbformat": 4,
 "nbformat_minor": 4
}
