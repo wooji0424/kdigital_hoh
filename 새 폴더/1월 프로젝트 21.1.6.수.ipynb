{
 "cells": [
  {
   "cell_type": "code",
   "execution_count": 1,
   "metadata": {},
   "outputs": [
    {
     "name": "stdout",
     "output_type": "stream",
     "text": [
      "Collecting numpy\n",
      "  Downloading numpy-1.19.5-cp36-cp36m-win_amd64.whl (13.2 MB)\n",
      "Installing collected packages: numpy\n",
      "Successfully installed numpy-1.19.5\n"
     ]
    }
   ],
   "source": [
    "!pip install numpy"
   ]
  },
  {
   "cell_type": "code",
   "execution_count": 2,
   "metadata": {},
   "outputs": [
    {
     "name": "stdout",
     "output_type": "stream",
     "text": [
      "Collecting pandas\n",
      "  Downloading pandas-1.1.5-cp36-cp36m-win_amd64.whl (8.7 MB)\n",
      "Requirement already satisfied: numpy>=1.15.4 in c:\\users\\691\\.conda\\envs\\study\\lib\\site-packages (from pandas) (1.19.5)\n",
      "Requirement already satisfied: python-dateutil>=2.7.3 in c:\\users\\691\\.conda\\envs\\study\\lib\\site-packages (from pandas) (2.8.1)\n",
      "Requirement already satisfied: six>=1.5 in c:\\users\\691\\.conda\\envs\\study\\lib\\site-packages (from python-dateutil>=2.7.3->pandas) (1.15.0)\n",
      "Collecting pytz>=2017.2\n",
      "  Downloading pytz-2020.5-py2.py3-none-any.whl (510 kB)\n",
      "Installing collected packages: pytz, pandas\n",
      "Successfully installed pandas-1.1.5 pytz-2020.5\n"
     ]
    }
   ],
   "source": [
    "!pip install pandas"
   ]
  },
  {
   "cell_type": "code",
   "execution_count": 3,
   "metadata": {},
   "outputs": [
    {
     "name": "stdout",
     "output_type": "stream",
     "text": [
      "Collecting matplotlib\n",
      "  Downloading matplotlib-3.3.3-cp36-cp36m-win_amd64.whl (8.5 MB)\n",
      "Requirement already satisfied: numpy>=1.15 in c:\\users\\691\\.conda\\envs\\study\\lib\\site-packages (from matplotlib) (1.19.5)\n",
      "Requirement already satisfied: pyparsing!=2.0.4,!=2.1.2,!=2.1.6,>=2.0.3 in c:\\users\\691\\.conda\\envs\\study\\lib\\site-packages (from matplotlib) (2.4.7)\n",
      "Requirement already satisfied: python-dateutil>=2.1 in c:\\users\\691\\.conda\\envs\\study\\lib\\site-packages (from matplotlib) (2.8.1)\n",
      "Collecting cycler>=0.10\n",
      "  Downloading cycler-0.10.0-py2.py3-none-any.whl (6.5 kB)\n",
      "Requirement already satisfied: six in c:\\users\\691\\.conda\\envs\\study\\lib\\site-packages (from cycler>=0.10->matplotlib) (1.15.0)\n",
      "Collecting kiwisolver>=1.0.1\n",
      "  Downloading kiwisolver-1.3.1-cp36-cp36m-win_amd64.whl (51 kB)\n",
      "Collecting pillow>=6.2.0\n",
      "  Downloading Pillow-8.1.0-cp36-cp36m-win_amd64.whl (2.1 MB)\n",
      "Installing collected packages: pillow, kiwisolver, cycler, matplotlib\n",
      "Successfully installed cycler-0.10.0 kiwisolver-1.3.1 matplotlib-3.3.3 pillow-8.1.0\n"
     ]
    }
   ],
   "source": [
    "!pip install matplotlib"
   ]
  },
  {
   "cell_type": "code",
   "execution_count": 4,
   "metadata": {},
   "outputs": [
    {
     "name": "stdout",
     "output_type": "stream",
     "text": [
      "Collecting beautifulsoup4\n",
      "  Downloading beautifulsoup4-4.9.3-py3-none-any.whl (115 kB)\n",
      "Collecting soupsieve>1.2\n",
      "  Downloading soupsieve-2.1-py3-none-any.whl (32 kB)\n",
      "Installing collected packages: soupsieve, beautifulsoup4\n",
      "Successfully installed beautifulsoup4-4.9.3 soupsieve-2.1\n"
     ]
    }
   ],
   "source": [
    "!pip install beautifulsoup4"
   ]
  },
  {
   "cell_type": "code",
   "execution_count": 5,
   "metadata": {
    "scrolled": true
   },
   "outputs": [
    {
     "name": "stdout",
     "output_type": "stream",
     "text": [
      "Collecting wget\n",
      "  Downloading wget-3.2.zip (10 kB)\n",
      "Building wheels for collected packages: wget\n",
      "  Building wheel for wget (setup.py): started\n",
      "  Building wheel for wget (setup.py): finished with status 'done'\n",
      "  Created wheel for wget: filename=wget-3.2-py3-none-any.whl size=9680 sha256=26431e1776fbe1c9ee8ad4486ae00b3c16372607629b9de40cf2141bd00bc4f7\n",
      "  Stored in directory: c:\\users\\691\\appdata\\local\\pip\\cache\\wheels\\90\\1d\\93\\c863ee832230df5cfc25ca497b3e88e0ee3ea9e44adc46ac62\n",
      "Successfully built wget\n",
      "Installing collected packages: wget\n",
      "Successfully installed wget-3.2\n"
     ]
    }
   ],
   "source": [
    "!pip install wget"
   ]
  },
  {
   "cell_type": "code",
   "execution_count": 10,
   "metadata": {
    "scrolled": false
   },
   "outputs": [
    {
     "name": "stdout",
     "output_type": "stream",
     "text": [
      "Collecting requests\n",
      "  Downloading requests-2.25.1-py2.py3-none-any.whl (61 kB)\n",
      "Requirement already satisfied: certifi>=2017.4.17 in c:\\users\\691\\.conda\\envs\\study\\lib\\site-packages (from requests) (2020.12.5)\n",
      "Collecting chardet<5,>=3.0.2\n",
      "  Downloading chardet-4.0.0-py2.py3-none-any.whl (178 kB)\n",
      "Collecting idna<3,>=2.5\n",
      "  Downloading idna-2.10-py2.py3-none-any.whl (58 kB)\n",
      "Collecting urllib3<1.27,>=1.21.1\n",
      "  Downloading urllib3-1.26.2-py2.py3-none-any.whl (136 kB)\n",
      "Installing collected packages: urllib3, idna, chardet, requests\n",
      "Successfully installed chardet-4.0.0 idna-2.10 requests-2.25.1 urllib3-1.26.2\n"
     ]
    }
   ],
   "source": [
    "!pip install requests"
   ]
  },
  {
   "cell_type": "code",
   "execution_count": 13,
   "metadata": {
    "scrolled": false
   },
   "outputs": [
    {
     "name": "stdout",
     "output_type": "stream",
     "text": [
      "C:\\Users\\691\\kdigital\\채권분석리포트\n"
     ]
    }
   ],
   "source": [
    "import os\n",
    "os.chdir(\"C:/Users/691/kdigital/채권분석리포트\")\n",
    "print(os.getcwd())"
   ]
  },
  {
   "cell_type": "markdown",
   "metadata": {},
   "source": [
    "### 웹크롤링으로 pdf파일 가져오기"
   ]
  },
  {
   "cell_type": "code",
   "execution_count": 15,
   "metadata": {},
   "outputs": [
    {
     "name": "stdout",
     "output_type": "stream",
     "text": [
      "100% [..........................................................................] 2055333 / 2055333"
     ]
    }
   ],
   "source": [
    "from bs4 import BeautifulSoup\n",
    "import pandas as pd\n",
    "import requests\n",
    "import wget\n",
    "def con(urls):\n",
    "    headers = {\"authority\": \"finance.naver.com\"\n",
    ",\"method\": \"GET\"\n",
    ",\"path\": \"/research/debenture_list.nhn?keyword=&brokerCode=&searchType=writeDate&writeFromDate=2005-01-01&writeToDate=2021-01-04&x=29&y=27\"\n",
    ",\"scheme\": \"https\",\n",
    "\"accept\": \"text/html,application/xhtml+xml,application/xml;q=0.9,image/webp,image/apng,*/*;q=0.8,application/signed-exchange;v=b3;q=0.9\",\n",
    "\"accept-encoding\": \"gzip, deflate, br\",\n",
    "\"accept-language\": \"ko,en;q=0.9,en-US;q=0.8\",\n",
    "\"cookie\": \"NRTK=ag#all_gr#1_ma#-2_si#0_en#0_sp#0; NNB=V5Q3OA3RX7JF6; nx_ssl=2; naver_stock_codeList=005930%7C252670%7C; page_uid=U/7UZwp0Jy0sslZflkZssssssWs-475281; summary_item_type=recent; recent_board_read=4475; JSESSIONID=91E4EE43EDE52CD2D77C43E56FDC0252\",\n",
    "\"referer\": \"https://finance.naver.com/research/debenture_list.nhn?keyword=&brokerCode=&searchType=writeDate&writeFromDate=2005-01-01&writeToDate=2021-01-04&x=23&y=26\",\n",
    "\"sec-fetch-dest\": \"document\",\n",
    "\"sec-fetch-mode\": \"navigate\",\n",
    "\"sec-fetch-site\": \"same-origin\",\n",
    "\"sec-fetch-user\": \"?1\",\n",
    "\"upgrade-insecure-requests\": \"1\",\n",
    "\"user-agent\": \"Mozilla/5.0 (Windows NT 10.0; Win64; x64) AppleWebKit/537.36 (KHTML, like Gecko) Chrome/87.0.4280.88 Safari/537.36 Edg/87.0.664.66\"}\n",
    "    response = requests.get(urls,headers=headers)\n",
    "    soup = BeautifulSoup(response.text, \"html.parser\")\n",
    "    links = soup.find_all('td',{'class':'file'})\n",
    "    for link in links:\n",
    "        news_urlbefore =link.find('a').get('href')\n",
    "        wget.download(news_urlbefore)\n",
    "#         print(news_urlbefore)\n",
    "for i in range(1,131):\n",
    "    urls='https://finance.naver.com/research/debenture_list.nhn?keyword=&brokerCode=&searchType=writeDate&writeFromDate=2005-01-01&writeToDate=2021-01-04&x=23&y=26&page='+str(i)\n",
    "    con(urls)\n",
    "    "
   ]
  },
  {
   "cell_type": "code",
   "execution_count": 16,
   "metadata": {
    "scrolled": true
   },
   "outputs": [],
   "source": [
    "import os\n",
    "\n",
    "file_path = \"C:/Users/691/kdigital/채권분석리포트\"\n",
    "file_names = os.listdir(file_path)\n",
    "file_names\n",
    "\n",
    "i = 3873\n",
    "for name in file_names:\n",
    "    src = os.path.join(file_path, name)\n",
    "    dst = str(i)+\".pdf\"\n",
    "    dst = os.path.join(file_path, dst)\n",
    "    os.rename(src, dst)\n",
    "    i-=1\n",
    "    "
   ]
  },
  {
   "cell_type": "markdown",
   "metadata": {},
   "source": [
    "### 제목,날짜.pdf"
   ]
  },
  {
   "cell_type": "code",
   "execution_count": 8,
   "metadata": {},
   "outputs": [
    {
     "name": "stdout",
     "output_type": "stream",
     "text": [
      "원점회귀(原點回歸)\n",
      "\n",
      "포트폴리오 다변화로 가는 여정\n",
      "\n",
      "2021년 전망 업데이트\n",
      "\n",
      "일드 픽업 이제는 장기물이 답이다\n",
      "\n",
      "10년 발행 감소, 초장기 공급부담 완화\n",
      "\n",
      "연말이 뜨거운 이유\n",
      "\n",
      "여전채, 강한 수요 강한 발행\n",
      "\n",
      "금리 레벨이 부담스럽다면 TIPS를 대안으로\n",
      "\n",
      "뜨거운 겨울\n",
      "\n",
      "통화정책에 대한 믿음이 변할까\n",
      "\n",
      "12월 일드 픽업은 여전채로\n",
      "\n",
      "ETF 혹은 개별국가 선택 통한 전략 재편\n",
      "\n",
      "연말효과가 없으면 연초효과도 제한적일 것\n",
      "\n",
      "3 10년 스프레드, 언제 정점을 기록할까\n",
      "\n",
      "잇따른 국영기업의 채무불이행, 중국 크레딧 리스크 ..\n",
      "\n",
      "반복되는 리스크와 학습효과\n",
      "\n",
      "격하게 진행되는 크레딧 일드 픽업\n",
      "\n",
      "올해와 내년 경제성장률 상향\n",
      "\n",
      "예년과 다른 연말\n",
      "\n",
      "미국 금리, 눌러도 눌리지 않는다\n",
      "\n",
      "11월의 크레딧 초강세, 놀랍지만 이상하지 않다\n",
      "\n",
      "물가연동국채, 천천히 뚜벅뚜벅\n",
      "\n",
      "BS군과 IS양이 만나 CF를 낳다\n",
      "\n",
      "브라질 지방선거 결과 코멘트\n",
      "\n",
      "또 다시 갈림길에 서다\n",
      "\n",
      "백신개발이 통화정책 정상화에 미칠 영향\n",
      "\n",
      "지금은 방어가 최선의 전략이다\n",
      "\n",
      "MBS 공급감소와 발행스프레드 강보합 전망\n",
      "\n",
      "3 개의 허들 (Hurdle)\n",
      "\n",
      "당분간 미국채 박스권. 채권전략 키워드는 일드 픽업\n",
      "\n",
      "[<a href=\"debenture_read.nhn?nid=4475&amp;page=1&amp;searchType=writeDate&amp;writeFromDate=2005-01-01&amp;writeToDate=2021-01-04\">원점회귀(原點回歸)</a>, <a href=\"https://ssl.pstatic.net/imgstock/upload/research/debenture/1609287430905.pdf\" target=\"_blank\"><img align=\"absmiddle\" alt=\"pdf\" src=\"https://ssl.pstatic.net/imgstock/images5/down.gif\"/></a>, <a href=\"debenture_read.nhn?nid=4474&amp;page=1&amp;searchType=writeDate&amp;writeFromDate=2005-01-01&amp;writeToDate=2021-01-04\">포트폴리오 다변화로 가는 여정</a>, <a href=\"https://ssl.pstatic.net/imgstock/upload/research/debenture/1608683256891.pdf\" target=\"_blank\"><img align=\"absmiddle\" alt=\"pdf\" src=\"https://ssl.pstatic.net/imgstock/images5/down.gif\"/></a>, <a href=\"debenture_read.nhn?nid=4473&amp;page=1&amp;searchType=writeDate&amp;writeFromDate=2005-01-01&amp;writeToDate=2021-01-04\">2021년 전망 업데이트</a>, <a href=\"https://ssl.pstatic.net/imgstock/upload/research/debenture/1608682463605.pdf\" target=\"_blank\"><img align=\"absmiddle\" alt=\"pdf\" src=\"https://ssl.pstatic.net/imgstock/images5/down.gif\"/></a>, <a href=\"debenture_read.nhn?nid=4472&amp;page=1&amp;searchType=writeDate&amp;writeFromDate=2005-01-01&amp;writeToDate=2021-01-04\">일드 픽업 이제는 장기물이 답이다</a>, <a href=\"https://ssl.pstatic.net/imgstock/upload/research/debenture/1608250720892.pdf\" target=\"_blank\"><img align=\"absmiddle\" alt=\"pdf\" src=\"https://ssl.pstatic.net/imgstock/images5/down.gif\"/></a>, <a href=\"debenture_read.nhn?nid=4471&amp;page=1&amp;searchType=writeDate&amp;writeFromDate=2005-01-01&amp;writeToDate=2021-01-04\">10년 발행 감소, 초장기 공급부담 완화</a>, <a href=\"https://ssl.pstatic.net/imgstock/upload/research/debenture/1608250019740.pdf\" target=\"_blank\"><img align=\"absmiddle\" alt=\"pdf\" src=\"https://ssl.pstatic.net/imgstock/images5/down.gif\"/></a>, <a href=\"debenture_read.nhn?nid=4470&amp;page=1&amp;searchType=writeDate&amp;writeFromDate=2005-01-01&amp;writeToDate=2021-01-04\">연말이 뜨거운 이유</a>, <a href=\"https://ssl.pstatic.net/imgstock/upload/research/debenture/1608078550815.pdf\" target=\"_blank\"><img align=\"absmiddle\" alt=\"pdf\" src=\"https://ssl.pstatic.net/imgstock/images5/down.gif\"/></a>, <a href=\"debenture_read.nhn?nid=4469&amp;page=1&amp;searchType=writeDate&amp;writeFromDate=2005-01-01&amp;writeToDate=2021-01-04\">여전채, 강한 수요 강한 발행</a>, <a href=\"https://ssl.pstatic.net/imgstock/upload/research/debenture/1607646962600.pdf\" target=\"_blank\"><img align=\"absmiddle\" alt=\"pdf\" src=\"https://ssl.pstatic.net/imgstock/images5/down.gif\"/></a>, <a href=\"debenture_read.nhn?nid=4468&amp;page=1&amp;searchType=writeDate&amp;writeFromDate=2005-01-01&amp;writeToDate=2021-01-04\">금리 레벨이 부담스럽다면 TIPS를 대안으로</a>, <a href=\"https://ssl.pstatic.net/imgstock/upload/research/debenture/1607558673496.pdf\" target=\"_blank\"><img align=\"absmiddle\" alt=\"pdf\" src=\"https://ssl.pstatic.net/imgstock/images5/down.gif\"/></a>, <a href=\"debenture_read.nhn?nid=4467&amp;page=1&amp;searchType=writeDate&amp;writeFromDate=2005-01-01&amp;writeToDate=2021-01-04\">뜨거운 겨울</a>, <a href=\"https://ssl.pstatic.net/imgstock/upload/research/debenture/1607472978258.pdf\" target=\"_blank\"><img align=\"absmiddle\" alt=\"pdf\" src=\"https://ssl.pstatic.net/imgstock/images5/down.gif\"/></a>, <a href=\"debenture_read.nhn?nid=4466&amp;page=1&amp;searchType=writeDate&amp;writeFromDate=2005-01-01&amp;writeToDate=2021-01-04\">통화정책에 대한 믿음이 변할까</a>, <a href=\"https://ssl.pstatic.net/imgstock/upload/research/debenture/1607299925739.pdf\" target=\"_blank\"><img align=\"absmiddle\" alt=\"pdf\" src=\"https://ssl.pstatic.net/imgstock/images5/down.gif\"/></a>, <a href=\"debenture_read.nhn?nid=4465&amp;page=1&amp;searchType=writeDate&amp;writeFromDate=2005-01-01&amp;writeToDate=2021-01-04\">12월 일드 픽업은 여전채로</a>, <a href=\"https://ssl.pstatic.net/imgstock/upload/research/debenture/1607041124503.pdf\" target=\"_blank\"><img align=\"absmiddle\" alt=\"pdf\" src=\"https://ssl.pstatic.net/imgstock/images5/down.gif\"/></a>, <a href=\"debenture_read.nhn?nid=4464&amp;page=1&amp;searchType=writeDate&amp;writeFromDate=2005-01-01&amp;writeToDate=2021-01-04\">ETF 혹은 개별국가 선택 통한 전략 재편</a>, <a href=\"https://ssl.pstatic.net/imgstock/upload/research/debenture/1606953797719.pdf\" target=\"_blank\"><img align=\"absmiddle\" alt=\"pdf\" src=\"https://ssl.pstatic.net/imgstock/images5/down.gif\"/></a>, <a href=\"debenture_read.nhn?nid=4463&amp;page=1&amp;searchType=writeDate&amp;writeFromDate=2005-01-01&amp;writeToDate=2021-01-04\">연말효과가 없으면 연초효과도 제한적일 것</a>, <a href=\"https://ssl.pstatic.net/imgstock/upload/research/debenture/1606867307259.pdf\" target=\"_blank\"><img align=\"absmiddle\" alt=\"pdf\" src=\"https://ssl.pstatic.net/imgstock/images5/down.gif\"/></a>, <a href=\"debenture_read.nhn?nid=4462&amp;page=1&amp;searchType=writeDate&amp;writeFromDate=2005-01-01&amp;writeToDate=2021-01-04\">3 10년 스프레드, 언제 정점을 기록할까</a>, <a href=\"https://ssl.pstatic.net/imgstock/upload/research/debenture/1606867273949.pdf\" target=\"_blank\"><img align=\"absmiddle\" alt=\"pdf\" src=\"https://ssl.pstatic.net/imgstock/images5/down.gif\"/></a>, <a href=\"debenture_read.nhn?nid=4461&amp;page=1&amp;searchType=writeDate&amp;writeFromDate=2005-01-01&amp;writeToDate=2021-01-04\">잇따른 국영기업의 채무불이행, 중국 크레딧 리스크 ..</a>, <a href=\"https://ssl.pstatic.net/imgstock/upload/research/debenture/1606695774874.pdf\" target=\"_blank\"><img align=\"absmiddle\" alt=\"pdf\" src=\"https://ssl.pstatic.net/imgstock/images5/down.gif\"/></a>, <a href=\"debenture_read.nhn?nid=4460&amp;page=1&amp;searchType=writeDate&amp;writeFromDate=2005-01-01&amp;writeToDate=2021-01-04\">반복되는 리스크와 학습효과</a>, <a href=\"https://ssl.pstatic.net/imgstock/upload/research/debenture/1606695646513.pdf\" target=\"_blank\"><img align=\"absmiddle\" alt=\"pdf\" src=\"https://ssl.pstatic.net/imgstock/images5/down.gif\"/></a>, <a href=\"debenture_read.nhn?nid=4459&amp;page=1&amp;searchType=writeDate&amp;writeFromDate=2005-01-01&amp;writeToDate=2021-01-04\">격하게 진행되는 크레딧 일드 픽업</a>, <a href=\"https://ssl.pstatic.net/imgstock/upload/research/debenture/1606436868430.pdf\" target=\"_blank\"><img align=\"absmiddle\" alt=\"pdf\" src=\"https://ssl.pstatic.net/imgstock/images5/down.gif\"/></a>, <a href=\"debenture_read.nhn?nid=4458&amp;page=1&amp;searchType=writeDate&amp;writeFromDate=2005-01-01&amp;writeToDate=2021-01-04\">올해와 내년 경제성장률 상향</a>, <a href=\"https://ssl.pstatic.net/imgstock/upload/research/debenture/1606436145276.pdf\" target=\"_blank\"><img align=\"absmiddle\" alt=\"pdf\" src=\"https://ssl.pstatic.net/imgstock/images5/down.gif\"/></a>, <a href=\"debenture_read.nhn?nid=4457&amp;page=1&amp;searchType=writeDate&amp;writeFromDate=2005-01-01&amp;writeToDate=2021-01-04\">예년과 다른 연말</a>, <a href=\"https://ssl.pstatic.net/imgstock/upload/research/debenture/1606263559471.pdf\" target=\"_blank\"><img align=\"absmiddle\" alt=\"pdf\" src=\"https://ssl.pstatic.net/imgstock/images5/down.gif\"/></a>, <a href=\"debenture_read.nhn?nid=4456&amp;page=1&amp;searchType=writeDate&amp;writeFromDate=2005-01-01&amp;writeToDate=2021-01-04\">미국 금리, 눌러도 눌리지 않는다</a>, <a href=\"https://ssl.pstatic.net/imgstock/upload/research/debenture/1606263529143.pdf\" target=\"_blank\"><img align=\"absmiddle\" alt=\"pdf\" src=\"https://ssl.pstatic.net/imgstock/images5/down.gif\"/></a>, <a href=\"debenture_read.nhn?nid=4455&amp;page=1&amp;searchType=writeDate&amp;writeFromDate=2005-01-01&amp;writeToDate=2021-01-04\">11월의 크레딧 초강세, 놀랍지만 이상하지 않다</a>, <a href=\"https://ssl.pstatic.net/imgstock/upload/research/debenture/1605832081882.pdf\" target=\"_blank\"><img align=\"absmiddle\" alt=\"pdf\" src=\"https://ssl.pstatic.net/imgstock/images5/down.gif\"/></a>, <a href=\"debenture_read.nhn?nid=4454&amp;page=1&amp;searchType=writeDate&amp;writeFromDate=2005-01-01&amp;writeToDate=2021-01-04\">물가연동국채, 천천히 뚜벅뚜벅</a>, <a href=\"https://ssl.pstatic.net/imgstock/upload/research/debenture/1605745187602.pdf\" target=\"_blank\"><img align=\"absmiddle\" alt=\"pdf\" src=\"https://ssl.pstatic.net/imgstock/images5/down.gif\"/></a>, <a href=\"debenture_read.nhn?nid=4453&amp;page=1&amp;searchType=writeDate&amp;writeFromDate=2005-01-01&amp;writeToDate=2021-01-04\">BS군과 IS양이 만나 CF를 낳다</a>, <a href=\"https://ssl.pstatic.net/imgstock/upload/research/debenture/1605659073167.pdf\" target=\"_blank\"><img align=\"absmiddle\" alt=\"pdf\" src=\"https://ssl.pstatic.net/imgstock/images5/down.gif\"/></a>, <a href=\"debenture_read.nhn?nid=4452&amp;page=1&amp;searchType=writeDate&amp;writeFromDate=2005-01-01&amp;writeToDate=2021-01-04\">브라질 지방선거 결과 코멘트</a>, <a href=\"https://ssl.pstatic.net/imgstock/upload/research/debenture/1605658912401.pdf\" target=\"_blank\"><img align=\"absmiddle\" alt=\"pdf\" src=\"https://ssl.pstatic.net/imgstock/images5/down.gif\"/></a>, <a href=\"debenture_read.nhn?nid=4450&amp;page=1&amp;searchType=writeDate&amp;writeFromDate=2005-01-01&amp;writeToDate=2021-01-04\">또 다시 갈림길에 서다</a>, <a href=\"https://ssl.pstatic.net/imgstock/upload/research/debenture/1605571686731.pdf\" target=\"_blank\"><img align=\"absmiddle\" alt=\"pdf\" src=\"https://ssl.pstatic.net/imgstock/images5/down.gif\"/></a>, <a href=\"debenture_read.nhn?nid=4449&amp;page=1&amp;searchType=writeDate&amp;writeFromDate=2005-01-01&amp;writeToDate=2021-01-04\">백신개발이 통화정책 정상화에 미칠 영향</a>, <a href=\"https://ssl.pstatic.net/imgstock/upload/research/debenture/1605139305908.pdf\" target=\"_blank\"><img align=\"absmiddle\" alt=\"pdf\" src=\"https://ssl.pstatic.net/imgstock/images5/down.gif\"/></a>, <a href=\"debenture_read.nhn?nid=4448&amp;page=1&amp;searchType=writeDate&amp;writeFromDate=2005-01-01&amp;writeToDate=2021-01-04\">지금은 방어가 최선의 전략이다</a>, <a href=\"https://ssl.pstatic.net/imgstock/upload/research/debenture/1605054099382.pdf\" target=\"_blank\"><img align=\"absmiddle\" alt=\"pdf\" src=\"https://ssl.pstatic.net/imgstock/images5/down.gif\"/></a>, <a href=\"debenture_read.nhn?nid=4447&amp;page=1&amp;searchType=writeDate&amp;writeFromDate=2005-01-01&amp;writeToDate=2021-01-04\">MBS 공급감소와 발행스프레드 강보합 전망</a>, <a href=\"https://ssl.pstatic.net/imgstock/upload/research/debenture/1604968489686.pdf\" target=\"_blank\"><img align=\"absmiddle\" alt=\"pdf\" src=\"https://ssl.pstatic.net/imgstock/images5/down.gif\"/></a>, <a href=\"debenture_read.nhn?nid=4446&amp;page=1&amp;searchType=writeDate&amp;writeFromDate=2005-01-01&amp;writeToDate=2021-01-04\">3 개의 허들 (Hurdle)</a>, <a href=\"https://ssl.pstatic.net/imgstock/upload/research/debenture/1604881628350.pdf\" target=\"_blank\"><img align=\"absmiddle\" alt=\"pdf\" src=\"https://ssl.pstatic.net/imgstock/images5/down.gif\"/></a>, <a href=\"debenture_read.nhn?nid=4445&amp;page=1&amp;searchType=writeDate&amp;writeFromDate=2005-01-01&amp;writeToDate=2021-01-04\">당분간 미국채 박스권. 채권전략 키워드는 일드 픽업</a>, <a href=\"https://ssl.pstatic.net/imgstock/upload/research/debenture/1604624336426.pdf\" target=\"_blank\"><img align=\"absmiddle\" alt=\"pdf\" src=\"https://ssl.pstatic.net/imgstock/images5/down.gif\"/></a>]\n"
     ]
    },
    {
     "ename": "AttributeError",
     "evalue": "'NoneType' object has no attribute 'text'",
     "output_type": "error",
     "traceback": [
      "\u001b[1;31m---------------------------------------------------------------------------\u001b[0m",
      "\u001b[1;31mAttributeError\u001b[0m                            Traceback (most recent call last)",
      "\u001b[1;32m<ipython-input-8-e8e9af5690b2>\u001b[0m in \u001b[0;36m<module>\u001b[1;34m\u001b[0m\n\u001b[0;32m     31\u001b[0m \u001b[1;32mfor\u001b[0m \u001b[0mi\u001b[0m \u001b[1;32min\u001b[0m \u001b[0mrange\u001b[0m\u001b[1;33m(\u001b[0m\u001b[1;36m1\u001b[0m\u001b[1;33m,\u001b[0m\u001b[1;36m2\u001b[0m\u001b[1;33m)\u001b[0m\u001b[1;33m:\u001b[0m\u001b[1;33m\u001b[0m\u001b[1;33m\u001b[0m\u001b[0m\n\u001b[0;32m     32\u001b[0m     \u001b[0murls\u001b[0m\u001b[1;33m=\u001b[0m\u001b[1;34m'https://finance.naver.com/research/debenture_list.nhn?keyword=&brokerCode=&searchType=writeDate&writeFromDate=2005-01-01&writeToDate=2021-01-04&x=23&y=26&page='\u001b[0m\u001b[1;33m+\u001b[0m\u001b[0mstr\u001b[0m\u001b[1;33m(\u001b[0m\u001b[0mi\u001b[0m\u001b[1;33m)\u001b[0m\u001b[1;33m\u001b[0m\u001b[1;33m\u001b[0m\u001b[0m\n\u001b[1;32m---> 33\u001b[1;33m     \u001b[0mcon\u001b[0m\u001b[1;33m(\u001b[0m\u001b[0murls\u001b[0m\u001b[1;33m)\u001b[0m\u001b[1;33m.\u001b[0m\u001b[0mtext\u001b[0m\u001b[1;33m\u001b[0m\u001b[1;33m\u001b[0m\u001b[0m\n\u001b[0m\u001b[0;32m     34\u001b[0m \u001b[1;33m\u001b[0m\u001b[0m\n\u001b[0;32m     35\u001b[0m \u001b[1;31m#     break\u001b[0m\u001b[1;33m\u001b[0m\u001b[1;33m\u001b[0m\u001b[1;33m\u001b[0m\u001b[0m\n",
      "\u001b[1;31mAttributeError\u001b[0m: 'NoneType' object has no attribute 'text'"
     ]
    }
   ],
   "source": [
    "from bs4 import BeautifulSoup\n",
    "import pandas as pd\n",
    "import requests\n",
    "import wget\n",
    "import os\n",
    "def con(urls):\n",
    "    headers = {\"authority\": \"finance.naver.com\"\n",
    ",\"method\": \"GET\"\n",
    ",\"path\": \"/research/debenture_list.nhn?keyword=&brokerCode=&searchType=writeDate&writeFromDate=2005-01-01&writeToDate=2021-01-04&x=29&y=27\"\n",
    ",\"scheme\": \"https\",\n",
    "\"accept\": \"text/html,application/xhtml+xml,application/xml;q=0.9,image/webp,image/apng,*/*;q=0.8,application/signed-exchange;v=b3;q=0.9\",\n",
    "\"accept-encoding\": \"gzip, deflate, br\",\n",
    "\"accept-language\": \"ko,en;q=0.9,en-US;q=0.8\",\n",
    "\"cookie\": \"NRTK=ag#all_gr#1_ma#-2_si#0_en#0_sp#0; NNB=V5Q3OA3RX7JF6; nx_ssl=2; naver_stock_codeList=005930%7C252670%7C; page_uid=U/7UZwp0Jy0sslZflkZssssssWs-475281; summary_item_type=recent; recent_board_read=4475; JSESSIONID=91E4EE43EDE52CD2D77C43E56FDC0252\",\n",
    "\"referer\": \"https://finance.naver.com/research/debenture_list.nhn?keyword=&brokerCode=&searchType=writeDate&writeFromDate=2005-01-01&writeToDate=2021-01-04&x=23&y=26\",\n",
    "\"sec-fetch-dest\": \"document\",\n",
    "\"sec-fetch-mode\": \"navigate\",\n",
    "\"sec-fetch-site\": \"same-origin\",\n",
    "\"sec-fetch-user\": \"?1\",\n",
    "\"upgrade-insecure-requests\": \"1\",\n",
    "\"user-agent\": \"Mozilla/5.0 (Windows NT 10.0; Win64; x64) AppleWebKit/537.36 (KHTML, like Gecko) Chrome/87.0.4280.88 Safari/537.36 Edg/87.0.664.66\"}\n",
    "    response = requests.get(urls,headers=headers)\n",
    "    soup = BeautifulSoup(response.text, \"html.parser\")\n",
    "    names = soup.select(\"table[class='type_1'] a[href]\")\n",
    "    \n",
    "    for name in names:\n",
    "        print(name.text)\n",
    "#     ('table[class=\"type_2\"] a[href*=\"item\"]')\n",
    "    print(names)\n",
    "    #     names = soup.find_all(\"td\", {\"style\":\"padding-left:10px\"})\n",
    "for i in range(1,2):\n",
    "    urls='https://finance.naver.com/research/debenture_list.nhn?keyword=&brokerCode=&searchType=writeDate&writeFromDate=2005-01-01&writeToDate=2021-01-04&x=23&y=26&page='+str(i)\n",
    "    con(urls).text\n",
    "    \n",
    "#     break\n",
    "# for name in names:\n",
    "#     new_name = names.find()\n",
    "\n",
    "# for name in names:\n",
    "#     new_name = names.find(\"a\").get(\"href\")\n",
    "#     print(new_names)\n",
    "#       for link in links:\n",
    "#         news_urlbefore =link.find('a').get('href')\n",
    "#         wget.download(news_urlbefore)"
   ]
  },
  {
   "cell_type": "code",
   "execution_count": 68,
   "metadata": {},
   "outputs": [
    {
     "ename": "SelectorSyntaxError",
     "evalue": "Malformed attribute selector at position 36\n  line 1:\ndiv.box_type_m>table.type_1>tbody>tr[2]>td[1]>a\n                                    ^",
     "output_type": "error",
     "traceback": [
      "\u001b[1;31m---------------------------------------------------------------------------\u001b[0m",
      "\u001b[1;31mSelectorSyntaxError\u001b[0m                       Traceback (most recent call last)",
      "\u001b[1;32m<ipython-input-68-ccc636d58632>\u001b[0m in \u001b[0;36m<module>\u001b[1;34m\u001b[0m\n\u001b[0;32m      4\u001b[0m \u001b[0mresponse\u001b[0m \u001b[1;33m=\u001b[0m \u001b[0mrequests\u001b[0m\u001b[1;33m.\u001b[0m\u001b[0mget\u001b[0m\u001b[1;33m(\u001b[0m\u001b[0murls\u001b[0m\u001b[1;33m,\u001b[0m\u001b[0mheaders\u001b[0m\u001b[1;33m=\u001b[0m\u001b[1;36m0\u001b[0m\u001b[1;33m)\u001b[0m\u001b[1;33m\u001b[0m\u001b[1;33m\u001b[0m\u001b[0m\n\u001b[0;32m      5\u001b[0m \u001b[0msoup\u001b[0m \u001b[1;33m=\u001b[0m \u001b[0mBeautifulSoup\u001b[0m\u001b[1;33m(\u001b[0m\u001b[0mresponse\u001b[0m\u001b[1;33m.\u001b[0m\u001b[0mtext\u001b[0m\u001b[1;33m,\u001b[0m \u001b[1;34m\"html.parser\"\u001b[0m\u001b[1;33m)\u001b[0m\u001b[1;33m\u001b[0m\u001b[1;33m\u001b[0m\u001b[0m\n\u001b[1;32m----> 6\u001b[1;33m \u001b[0mnames\u001b[0m \u001b[1;33m=\u001b[0m \u001b[0msoup\u001b[0m\u001b[1;33m.\u001b[0m\u001b[0mselect\u001b[0m\u001b[1;33m(\u001b[0m\u001b[1;34m\"div.box_type_m>table.type_1>tbody>tr[2]>td[1]>a\"\u001b[0m\u001b[1;33m)\u001b[0m\u001b[1;33m\u001b[0m\u001b[1;33m\u001b[0m\u001b[0m\n\u001b[0m",
      "\u001b[1;32mc:\\users\\691\\.conda\\envs\\study\\lib\\site-packages\\bs4\\element.py\u001b[0m in \u001b[0;36mselect\u001b[1;34m(self, selector, namespaces, limit, **kwargs)\u001b[0m\n\u001b[0;32m   1867\u001b[0m             )\n\u001b[0;32m   1868\u001b[0m \u001b[1;33m\u001b[0m\u001b[0m\n\u001b[1;32m-> 1869\u001b[1;33m         \u001b[0mresults\u001b[0m \u001b[1;33m=\u001b[0m \u001b[0msoupsieve\u001b[0m\u001b[1;33m.\u001b[0m\u001b[0mselect\u001b[0m\u001b[1;33m(\u001b[0m\u001b[0mselector\u001b[0m\u001b[1;33m,\u001b[0m \u001b[0mself\u001b[0m\u001b[1;33m,\u001b[0m \u001b[0mnamespaces\u001b[0m\u001b[1;33m,\u001b[0m \u001b[0mlimit\u001b[0m\u001b[1;33m,\u001b[0m \u001b[1;33m**\u001b[0m\u001b[0mkwargs\u001b[0m\u001b[1;33m)\u001b[0m\u001b[1;33m\u001b[0m\u001b[1;33m\u001b[0m\u001b[0m\n\u001b[0m\u001b[0;32m   1870\u001b[0m \u001b[1;33m\u001b[0m\u001b[0m\n\u001b[0;32m   1871\u001b[0m         \u001b[1;31m# We do this because it's more consistent and because\u001b[0m\u001b[1;33m\u001b[0m\u001b[1;33m\u001b[0m\u001b[1;33m\u001b[0m\u001b[0m\n",
      "\u001b[1;32mc:\\users\\691\\.conda\\envs\\study\\lib\\site-packages\\soupsieve\\__init__.py\u001b[0m in \u001b[0;36mselect\u001b[1;34m(select, tag, namespaces, limit, flags, **kwargs)\u001b[0m\n\u001b[0;32m     96\u001b[0m     \u001b[1;34m\"\"\"Select the specified tags.\"\"\"\u001b[0m\u001b[1;33m\u001b[0m\u001b[1;33m\u001b[0m\u001b[0m\n\u001b[0;32m     97\u001b[0m \u001b[1;33m\u001b[0m\u001b[0m\n\u001b[1;32m---> 98\u001b[1;33m     \u001b[1;32mreturn\u001b[0m \u001b[0mcompile\u001b[0m\u001b[1;33m(\u001b[0m\u001b[0mselect\u001b[0m\u001b[1;33m,\u001b[0m \u001b[0mnamespaces\u001b[0m\u001b[1;33m,\u001b[0m \u001b[0mflags\u001b[0m\u001b[1;33m,\u001b[0m \u001b[1;33m**\u001b[0m\u001b[0mkwargs\u001b[0m\u001b[1;33m)\u001b[0m\u001b[1;33m.\u001b[0m\u001b[0mselect\u001b[0m\u001b[1;33m(\u001b[0m\u001b[0mtag\u001b[0m\u001b[1;33m,\u001b[0m \u001b[0mlimit\u001b[0m\u001b[1;33m)\u001b[0m\u001b[1;33m\u001b[0m\u001b[1;33m\u001b[0m\u001b[0m\n\u001b[0m\u001b[0;32m     99\u001b[0m \u001b[1;33m\u001b[0m\u001b[0m\n\u001b[0;32m    100\u001b[0m \u001b[1;33m\u001b[0m\u001b[0m\n",
      "\u001b[1;32mc:\\users\\691\\.conda\\envs\\study\\lib\\site-packages\\soupsieve\\__init__.py\u001b[0m in \u001b[0;36mcompile\u001b[1;34m(pattern, namespaces, flags, **kwargs)\u001b[0m\n\u001b[0;32m     60\u001b[0m         \u001b[1;32mreturn\u001b[0m \u001b[0mpattern\u001b[0m\u001b[1;33m\u001b[0m\u001b[1;33m\u001b[0m\u001b[0m\n\u001b[0;32m     61\u001b[0m \u001b[1;33m\u001b[0m\u001b[0m\n\u001b[1;32m---> 62\u001b[1;33m     \u001b[1;32mreturn\u001b[0m \u001b[0mcp\u001b[0m\u001b[1;33m.\u001b[0m\u001b[0m_cached_css_compile\u001b[0m\u001b[1;33m(\u001b[0m\u001b[0mpattern\u001b[0m\u001b[1;33m,\u001b[0m \u001b[0mnamespaces\u001b[0m\u001b[1;33m,\u001b[0m \u001b[0mcustom\u001b[0m\u001b[1;33m,\u001b[0m \u001b[0mflags\u001b[0m\u001b[1;33m)\u001b[0m\u001b[1;33m\u001b[0m\u001b[1;33m\u001b[0m\u001b[0m\n\u001b[0m\u001b[0;32m     63\u001b[0m \u001b[1;33m\u001b[0m\u001b[0m\n\u001b[0;32m     64\u001b[0m \u001b[1;33m\u001b[0m\u001b[0m\n",
      "\u001b[1;32mc:\\users\\691\\.conda\\envs\\study\\lib\\site-packages\\soupsieve\\css_parser.py\u001b[0m in \u001b[0;36m_cached_css_compile\u001b[1;34m(pattern, namespaces, custom, flags)\u001b[0m\n\u001b[0;32m    209\u001b[0m     return cm.SoupSieve(\n\u001b[0;32m    210\u001b[0m         \u001b[0mpattern\u001b[0m\u001b[1;33m,\u001b[0m\u001b[1;33m\u001b[0m\u001b[1;33m\u001b[0m\u001b[0m\n\u001b[1;32m--> 211\u001b[1;33m         \u001b[0mCSSParser\u001b[0m\u001b[1;33m(\u001b[0m\u001b[0mpattern\u001b[0m\u001b[1;33m,\u001b[0m \u001b[0mcustom\u001b[0m\u001b[1;33m=\u001b[0m\u001b[0mcustom_selectors\u001b[0m\u001b[1;33m,\u001b[0m \u001b[0mflags\u001b[0m\u001b[1;33m=\u001b[0m\u001b[0mflags\u001b[0m\u001b[1;33m)\u001b[0m\u001b[1;33m.\u001b[0m\u001b[0mprocess_selectors\u001b[0m\u001b[1;33m(\u001b[0m\u001b[1;33m)\u001b[0m\u001b[1;33m,\u001b[0m\u001b[1;33m\u001b[0m\u001b[1;33m\u001b[0m\u001b[0m\n\u001b[0m\u001b[0;32m    212\u001b[0m         \u001b[0mnamespaces\u001b[0m\u001b[1;33m,\u001b[0m\u001b[1;33m\u001b[0m\u001b[1;33m\u001b[0m\u001b[0m\n\u001b[0;32m    213\u001b[0m         \u001b[0mcustom\u001b[0m\u001b[1;33m,\u001b[0m\u001b[1;33m\u001b[0m\u001b[1;33m\u001b[0m\u001b[0m\n",
      "\u001b[1;32mc:\\users\\691\\.conda\\envs\\study\\lib\\site-packages\\soupsieve\\css_parser.py\u001b[0m in \u001b[0;36mprocess_selectors\u001b[1;34m(self, index, flags)\u001b[0m\n\u001b[0;32m   1056\u001b[0m         \u001b[1;34m\"\"\"Process selectors.\"\"\"\u001b[0m\u001b[1;33m\u001b[0m\u001b[1;33m\u001b[0m\u001b[0m\n\u001b[0;32m   1057\u001b[0m \u001b[1;33m\u001b[0m\u001b[0m\n\u001b[1;32m-> 1058\u001b[1;33m         \u001b[1;32mreturn\u001b[0m \u001b[0mself\u001b[0m\u001b[1;33m.\u001b[0m\u001b[0mparse_selectors\u001b[0m\u001b[1;33m(\u001b[0m\u001b[0mself\u001b[0m\u001b[1;33m.\u001b[0m\u001b[0mselector_iter\u001b[0m\u001b[1;33m(\u001b[0m\u001b[0mself\u001b[0m\u001b[1;33m.\u001b[0m\u001b[0mpattern\u001b[0m\u001b[1;33m)\u001b[0m\u001b[1;33m,\u001b[0m \u001b[0mindex\u001b[0m\u001b[1;33m,\u001b[0m \u001b[0mflags\u001b[0m\u001b[1;33m)\u001b[0m\u001b[1;33m\u001b[0m\u001b[1;33m\u001b[0m\u001b[0m\n\u001b[0m\u001b[0;32m   1059\u001b[0m \u001b[1;33m\u001b[0m\u001b[0m\n\u001b[0;32m   1060\u001b[0m \u001b[1;33m\u001b[0m\u001b[0m\n",
      "\u001b[1;32mc:\\users\\691\\.conda\\envs\\study\\lib\\site-packages\\soupsieve\\css_parser.py\u001b[0m in \u001b[0;36mparse_selectors\u001b[1;34m(self, iselector, index, flags)\u001b[0m\n\u001b[0;32m    907\u001b[0m         \u001b[1;32mtry\u001b[0m\u001b[1;33m:\u001b[0m\u001b[1;33m\u001b[0m\u001b[1;33m\u001b[0m\u001b[0m\n\u001b[0;32m    908\u001b[0m             \u001b[1;32mwhile\u001b[0m \u001b[1;32mTrue\u001b[0m\u001b[1;33m:\u001b[0m\u001b[1;33m\u001b[0m\u001b[1;33m\u001b[0m\u001b[0m\n\u001b[1;32m--> 909\u001b[1;33m                 \u001b[0mkey\u001b[0m\u001b[1;33m,\u001b[0m \u001b[0mm\u001b[0m \u001b[1;33m=\u001b[0m \u001b[0mnext\u001b[0m\u001b[1;33m(\u001b[0m\u001b[0miselector\u001b[0m\u001b[1;33m)\u001b[0m\u001b[1;33m\u001b[0m\u001b[1;33m\u001b[0m\u001b[0m\n\u001b[0m\u001b[0;32m    910\u001b[0m \u001b[1;33m\u001b[0m\u001b[0m\n\u001b[0;32m    911\u001b[0m                 \u001b[1;31m# Handle parts\u001b[0m\u001b[1;33m\u001b[0m\u001b[1;33m\u001b[0m\u001b[1;33m\u001b[0m\u001b[0m\n",
      "\u001b[1;32mc:\\users\\691\\.conda\\envs\\study\\lib\\site-packages\\soupsieve\\css_parser.py\u001b[0m in \u001b[0;36mselector_iter\u001b[1;34m(self, pattern)\u001b[0m\n\u001b[0;32m   1049\u001b[0m                 \u001b[1;32melse\u001b[0m\u001b[1;33m:\u001b[0m\u001b[1;33m\u001b[0m\u001b[1;33m\u001b[0m\u001b[0m\n\u001b[0;32m   1050\u001b[0m                     \u001b[0mmsg\u001b[0m \u001b[1;33m=\u001b[0m \u001b[1;34m\"Invalid character {!r} position {}\"\u001b[0m\u001b[1;33m.\u001b[0m\u001b[0mformat\u001b[0m\u001b[1;33m(\u001b[0m\u001b[0mc\u001b[0m\u001b[1;33m,\u001b[0m \u001b[0mindex\u001b[0m\u001b[1;33m)\u001b[0m\u001b[1;33m\u001b[0m\u001b[1;33m\u001b[0m\u001b[0m\n\u001b[1;32m-> 1051\u001b[1;33m                 \u001b[1;32mraise\u001b[0m \u001b[0mSelectorSyntaxError\u001b[0m\u001b[1;33m(\u001b[0m\u001b[0mmsg\u001b[0m\u001b[1;33m,\u001b[0m \u001b[0mself\u001b[0m\u001b[1;33m.\u001b[0m\u001b[0mpattern\u001b[0m\u001b[1;33m,\u001b[0m \u001b[0mindex\u001b[0m\u001b[1;33m)\u001b[0m\u001b[1;33m\u001b[0m\u001b[1;33m\u001b[0m\u001b[0m\n\u001b[0m\u001b[0;32m   1052\u001b[0m         \u001b[1;32mif\u001b[0m \u001b[0mself\u001b[0m\u001b[1;33m.\u001b[0m\u001b[0mdebug\u001b[0m\u001b[1;33m:\u001b[0m  \u001b[1;31m# pragma: no cover\u001b[0m\u001b[1;33m\u001b[0m\u001b[1;33m\u001b[0m\u001b[0m\n\u001b[0;32m   1053\u001b[0m             \u001b[0mprint\u001b[0m\u001b[1;33m(\u001b[0m\u001b[1;34m'## END PARSING'\u001b[0m\u001b[1;33m)\u001b[0m\u001b[1;33m\u001b[0m\u001b[1;33m\u001b[0m\u001b[0m\n",
      "\u001b[1;31mSelectorSyntaxError\u001b[0m: Malformed attribute selector at position 36\n  line 1:\ndiv.box_type_m>table.type_1>tbody>tr[2]>td[1]>a\n                                    ^"
     ]
    }
   ],
   "source": [
    "import requests\n",
    "from bs4 import BeautifulSoup\n",
    "import re\n",
    "response = requests.get(urls,headers=0)\n",
    "soup = BeautifulSoup(response.text, \"html.parser\")\n",
    "names = soup.select(\"div.box_type_m>table.type_1>tbody>tr[2]>td[1]>a\")"
   ]
  },
  {
   "cell_type": "code",
   "execution_count": 100,
   "metadata": {},
   "outputs": [
    {
     "name": "stdout",
     "output_type": "stream",
     "text": [
      "Collecting PyMuPDF\n",
      "  Downloading PyMuPDF-1.18.5-cp36-cp36m-win_amd64.whl (5.3 MB)\n",
      "Installing collected packages: PyMuPDF\n",
      "Successfully installed PyMuPDF-1.18.5\n"
     ]
    }
   ],
   "source": [
    "!pip install PyMuPDF"
   ]
  },
  {
   "cell_type": "code",
   "execution_count": 101,
   "metadata": {},
   "outputs": [],
   "source": [
    "import fitz"
   ]
  },
  {
   "cell_type": "code",
   "execution_count": 102,
   "metadata": {},
   "outputs": [
    {
     "name": "stdout",
     "output_type": "stream",
     "text": [
      "Collecting tika\n",
      "  Downloading tika-1.24.tar.gz (28 kB)\n",
      "Requirement already satisfied: setuptools in c:\\users\\691\\.conda\\envs\\study\\lib\\site-packages (from tika) (51.0.0.post20201207)\n",
      "Requirement already satisfied: requests in c:\\users\\691\\.conda\\envs\\study\\lib\\site-packages (from tika) (2.25.1)\n",
      "Requirement already satisfied: certifi>=2017.4.17 in c:\\users\\691\\.conda\\envs\\study\\lib\\site-packages (from requests->tika) (2020.12.5)\n",
      "Requirement already satisfied: idna<3,>=2.5 in c:\\users\\691\\.conda\\envs\\study\\lib\\site-packages (from requests->tika) (2.10)\n",
      "Requirement already satisfied: chardet<5,>=3.0.2 in c:\\users\\691\\.conda\\envs\\study\\lib\\site-packages (from requests->tika) (4.0.0)\n",
      "Requirement already satisfied: urllib3<1.27,>=1.21.1 in c:\\users\\691\\.conda\\envs\\study\\lib\\site-packages (from requests->tika) (1.26.2)\n",
      "Building wheels for collected packages: tika\n",
      "  Building wheel for tika (setup.py): started\n",
      "  Building wheel for tika (setup.py): finished with status 'done'\n",
      "  Created wheel for tika: filename=tika-1.24-py3-none-any.whl size=32884 sha256=5aff2c9a24cddff715c8c09e385958dcaa8c397fe7a81de62272e07ffabb3eae\n",
      "  Stored in directory: c:\\users\\691\\appdata\\local\\pip\\cache\\wheels\\69\\87\\43\\94e20227488089d3444bef415b094ec04b33b4f82e334cc8bd\n",
      "Successfully built tika\n",
      "Installing collected packages: tika\n",
      "Successfully installed tika-1.24\n"
     ]
    }
   ],
   "source": [
    "!pip install tika"
   ]
  },
  {
   "cell_type": "code",
   "execution_count": 103,
   "metadata": {},
   "outputs": [],
   "source": [
    "import tika"
   ]
  },
  {
   "cell_type": "code",
   "execution_count": 1,
   "metadata": {},
   "outputs": [
    {
     "name": "stdout",
     "output_type": "stream",
     "text": [
      "MeCab\tSL,*,*,*,*,*,*,*\n",
      "이\tJKS,*,F,이,*,*,*,*\n",
      "잘\tMAG,*,T,잘,*,*,*,*\n",
      "설치\tNNG,행위,F,설치,*,*,*,*\n",
      "되\tXSV,*,F,되,*,*,*,*\n",
      "었\tEP,*,T,었,*,*,*,*\n",
      "는지\tEC,*,F,는지,*,*,*,*\n",
      "확인\tNNG,행위,T,확인,*,*,*,*\n",
      "중\tNNB,*,T,중,*,*,*,*\n",
      "입니다\tVCP+EF,*,F,입니다,Inflect,VCP,EF,이/VCP/*+ᄇ니다/EF/*\n",
      ".\tSF,*,*,*,*,*,*,*\n",
      "EOS\n",
      "\n"
     ]
    }
   ],
   "source": [
    "import MeCab\n",
    "m = MeCab.Tagger()\n",
    "out = m.parse(\"MeCab이 잘 설치 되었는지 확인중입니다.\")\n",
    "print(out)"
   ]
  },
  {
   "cell_type": "code",
   "execution_count": 1,
   "metadata": {},
   "outputs": [
    {
     "name": "stdout",
     "output_type": "stream",
     "text": [
      "['영등포구청역', '에', '있', '는', '맛집', '좀', '알려', '주', '세요', '.']\n"
     ]
    }
   ],
   "source": [
    "from konlpy.tag import Mecab\n",
    "mecab = Mecab()\n",
    "print(mecab.morphs(u'영등포구청역에 있는 맛집 좀 알려주세요.'))"
   ]
  },
  {
   "cell_type": "code",
   "execution_count": null,
   "metadata": {},
   "outputs": [],
   "source": []
  }
 ],
 "metadata": {
  "kernelspec": {
   "display_name": "Python 3",
   "language": "python",
   "name": "python3"
  },
  "language_info": {
   "codemirror_mode": {
    "name": "ipython",
    "version": 3
   },
   "file_extension": ".py",
   "mimetype": "text/x-python",
   "name": "python",
   "nbconvert_exporter": "python",
   "pygments_lexer": "ipython3",
   "version": "3.6.12"
  }
 },
 "nbformat": 4,
 "nbformat_minor": 4
}
