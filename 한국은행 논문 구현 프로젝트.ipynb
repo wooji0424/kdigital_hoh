{
 "cells": [
  {
   "cell_type": "markdown",
   "metadata": {},
   "source": [
    "### 채권분석리포트 pdf파일 다운 및 cvs파일 변환"
   ]
  },
  {
   "cell_type": "code",
   "execution_count": null,
   "metadata": {},
   "outputs": [],
   "source": [
    "from bs4 import BeautifulSoup\n",
    "import pandas as pd\n",
    "import requests\n",
    "import wget    # 웹 페이지에서 파일 다운\n",
    "import os\n",
    "import fitz\n",
    "import re\n",
    "name_list=[]\n",
    "dates_list=[]\n",
    "text_list=[]\n",
    "def con(urls):\n",
    "    headers = {\"authority\": \"finance.naver.com\"\n",
    ",\"method\": \"GET\"\n",
    ",\"path\": \"/research/debenture_list.nhn?keyword=&brokerCode=&searchType=writeDate&writeFromDate=2005-01-01&writeToDate=2021-01-04&x=29&y=27\"\n",
    ",\"scheme\": \"https\",\n",
    "\"accept\": \"text/html,application/xhtml+xml,application/xml;q=0.9,image/webp,image/apng,*/*;q=0.8,application/signed-exchange;v=b3;q=0.9\",\n",
    "\"accept-encoding\": \"gzip, deflate, br\",\n",
    "\"accept-language\": \"ko,en;q=0.9,en-US;q=0.8\",\n",
    "\"cookie\": \"NRTK=ag#all_gr#1_ma#-2_si#0_en#0_sp#0; NNB=V5Q3OA3RX7JF6; nx_ssl=2; naver_stock_codeList=005930%7C252670%7C; page_uid=U/7UZwp0Jy0sslZflkZssssssWs-475281; summary_item_type=recent; recent_board_read=4475; JSESSIONID=91E4EE43EDE52CD2D77C43E56FDC0252\",\n",
    "\"referer\": \"https://finance.naver.com/research/debenture_list.nhn?keyword=&brokerCode=&searchType=writeDate&writeFromDate=2005-01-01&writeToDate=2021-01-04&x=23&y=26\",\n",
    "\"sec-fetch-dest\": \"document\",\n",
    "\"sec-fetch-mode\": \"navigate\",\n",
    "\"sec-fetch-site\": \"same-origin\",\n",
    "\"sec-fetch-user\": \"?1\",\n",
    "\"upgrade-insecure-requests\": \"1\",\n",
    "\"user-agent\": \"Mozilla/5.0 (Windows NT 10.0; Win64; x64) AppleWebKit/537.36 (KHTML, like Gecko) Chrome/87.0.4280.88 Safari/537.36 Edg/87.0.664.66\"}\n",
    "    response = requests.get(urls,headers=headers)\n",
    "    soup = BeautifulSoup(response.text, \"html.parser\")\n",
    "    names = soup.select(\"table[class='type_1'] a[href]\")\n",
    "    dates = soup.find_all('td' ,{'class':'date'})\n",
    "    for i in range(0,int(len(names)/2)):\n",
    "        name_list.append(names[2*i].text) #공백을 제거하기 위해 [2*i]\n",
    "        dates_list.append(dates[2*i].text) #[i]만 입력시 공백으로 인해 날짜와 빈칸이 2번 나온다\n",
    "\n",
    "for i in range(1,3874):#3874\n",
    "    filename='C:/Users/691/kdigital/채권분석리포트/{}.pdf'.format(i)\n",
    "    doc=fitz.open(filename)\n",
    "    page_count=doc.pageCount\n",
    "    page=0\n",
    "    a=\"\"\n",
    "    while (page<page_count):\n",
    "        p=doc.loadPage(page)\n",
    "        #print(p.getText())\n",
    "        a=a+p.getText().strip('\\n').strip('\\r').strip().replace('\\n',\"\") # 줄바꿈, 앞뒤공백 등 제거\n",
    "        page+=1\n",
    "    text_list.append(a)\n",
    "        \n",
    "for i in range(1,131):\n",
    "    urls='https://finance.naver.com/research/debenture_list.nhn?keyword=&brokerCode=&searchType=writeDate&writeFromDate=2005-01-01&writeToDate=2021-01-04&x=23&y=26&page='+str(i)\n",
    "    con(urls)\n",
    "# print(len(dates_list))\n",
    "# print(len(name_list))\n",
    "# print(len(text_list))\n",
    "bonds_data2 = {\"date\":dates_list,\"title\":name_list,\"content\":text_list}\n",
    "bonds_data2 = pd.DataFrame(bonds_data2)\n",
    "bonds_data2.to_csv('bonds_data2_save.csv', encoding='utf-8')\n"
   ]
  }
 ],
 "metadata": {
  "kernelspec": {
   "display_name": "study",
   "language": "python",
   "name": "study"
  },
  "language_info": {
   "codemirror_mode": {
    "name": "ipython",
    "version": 3
   },
   "file_extension": ".py",
   "mimetype": "text/x-python",
   "name": "python",
   "nbconvert_exporter": "python",
   "pygments_lexer": "ipython3",
   "version": "3.6.12"
  }
 },
 "nbformat": 4,
 "nbformat_minor": 4
}
