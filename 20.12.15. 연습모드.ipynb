{
 "cells": [
  {
   "cell_type": "code",
   "execution_count": 1,
   "metadata": {},
   "outputs": [
    {
     "name": "stdout",
     "output_type": "stream",
     "text": [
      "school\n"
     ]
    }
   ],
   "source": [
    "def func1():\n",
    "    def func2():\n",
    "        print(\"school\")\n",
    "    func2()\n",
    "\n",
    "func1()"
   ]
  },
  {
   "cell_type": "code",
   "execution_count": 46,
   "metadata": {},
   "outputs": [],
   "source": [
    "class Dog:\n",
    "    def __init__(self,name,color):\n",
    "        self.hungry = 0\n",
    "        self.name = name\n",
    "        self.color = color\n",
    "    \n",
    "    def eat(self):\n",
    "        self.hungry -= 10\n",
    "        print(\"밥먹음\", self.hungry)\n",
    "    \n",
    "    def walk(self):\n",
    "        self.hungry +=10\n",
    "        print(\"산책\",self.hungry)\n",
    "        \n",
    "    def showme(self):\n",
    "        print(\"{}:{}\".format(self.name, self.color))"
   ]
  },
  {
   "cell_type": "code",
   "execution_count": 48,
   "metadata": {},
   "outputs": [
    {
     "name": "stdout",
     "output_type": "stream",
     "text": [
      "밥먹음 -10\n",
      "산책 0\n"
     ]
    }
   ],
   "source": [
    "choco = Dog(\"choco\", \"black\")\n",
    "choco.eat()\n",
    "choco.walk()"
   ]
  },
  {
   "cell_type": "code",
   "execution_count": 61,
   "metadata": {},
   "outputs": [],
   "source": [
    "class Dog:\n",
    "    dog_count = 0\n",
    "    \n",
    "    def __init__(self, name, color):\n",
    "        self.name = name\n",
    "        self.color = color\n",
    "        Dog.dog_count+= 1\n",
    "        \n",
    "    def dogCount(self):\n",
    "        print(\"총 강아지는:\",Dog.dog_count)"
   ]
  },
  {
   "cell_type": "code",
   "execution_count": 62,
   "metadata": {},
   "outputs": [],
   "source": [
    "hipo = Dog(\"hipo\",\"white\")\n",
    "happy = Dog(\"happy\",\"black\")"
   ]
  },
  {
   "cell_type": "code",
   "execution_count": 63,
   "metadata": {},
   "outputs": [
    {
     "name": "stdout",
     "output_type": "stream",
     "text": [
      "총 강아지는: 2\n"
     ]
    }
   ],
   "source": [
    "hipo.dogCount()"
   ]
  },
  {
   "cell_type": "code",
   "execution_count": 83,
   "metadata": {},
   "outputs": [],
   "source": [
    "class Car:\n",
    "    car_count = 0\n",
    "    \n",
    "    def __init__(self, name, cc, p_year):\n",
    "        self.__name = name\n",
    "        self.__cc = cc\n",
    "        self.__p_year = p_year\n",
    "        Car.car_count +=1\n",
    "    \n",
    "    def carname(self):\n",
    "        print(\"차이름:\",self.__name)\n",
    "        \n",
    "    def carchange(self,name):\n",
    "        self.__name = name\n",
    "        \n",
    "    def cc_1(self):\n",
    "        if self.__cc > 2000:\n",
    "            print(\"대형\")\n",
    "            \n",
    "        elif self.__cc > 1000:\n",
    "            print(\"중형\")\n",
    "        \n",
    "        else:\n",
    "            print(\"소형\")\n",
    "        \n",
    "    def carCount(self):\n",
    "        print(\"총 댓수:\",Car.car_count)"
   ]
  },
  {
   "cell_type": "code",
   "execution_count": 84,
   "metadata": {},
   "outputs": [],
   "source": [
    "hipo = Car(\"hipo\",1300,1999)"
   ]
  },
  {
   "cell_type": "code",
   "execution_count": 85,
   "metadata": {},
   "outputs": [
    {
     "name": "stdout",
     "output_type": "stream",
     "text": [
      "차이름: hipo\n"
     ]
    }
   ],
   "source": [
    "hipo.carname()"
   ]
  },
  {
   "cell_type": "code",
   "execution_count": 86,
   "metadata": {},
   "outputs": [
    {
     "name": "stdout",
     "output_type": "stream",
     "text": [
      "차이름: happy\n"
     ]
    }
   ],
   "source": [
    "hipo.carchange(\"happy\")\n",
    "hipo.carname()"
   ]
  },
  {
   "cell_type": "code",
   "execution_count": 88,
   "metadata": {},
   "outputs": [
    {
     "name": "stdout",
     "output_type": "stream",
     "text": [
      "총 댓수: 1\n"
     ]
    }
   ],
   "source": [
    "hipo.carCount()\n",
    "happy = Car(\"happy\",1300,1999)"
   ]
  },
  {
   "cell_type": "code",
   "execution_count": 89,
   "metadata": {},
   "outputs": [
    {
     "name": "stdout",
     "output_type": "stream",
     "text": [
      "총 댓수: 2\n"
     ]
    }
   ],
   "source": [
    "hipo.carCount()"
   ]
  },
  {
   "cell_type": "code",
   "execution_count": 94,
   "metadata": {},
   "outputs": [],
   "source": [
    "def gugudan(num):\n",
    "    for i in range(1,10):\n",
    "        print(\"{} * {} = {}\".format(gugudan, i , gugudan * i))"
   ]
  },
  {
   "cell_type": "code",
   "execution_count": 95,
   "metadata": {},
   "outputs": [
    {
     "ename": "TypeError",
     "evalue": "unsupported operand type(s) for *: 'function' and 'int'",
     "output_type": "error",
     "traceback": [
      "\u001b[1;31m---------------------------------------------------------------------------\u001b[0m",
      "\u001b[1;31mTypeError\u001b[0m                                 Traceback (most recent call last)",
      "\u001b[1;32m<ipython-input-95-afdf1958c311>\u001b[0m in \u001b[0;36m<module>\u001b[1;34m\u001b[0m\n\u001b[1;32m----> 1\u001b[1;33m \u001b[0mgugudan\u001b[0m\u001b[1;33m(\u001b[0m\u001b[1;36m3\u001b[0m\u001b[1;33m)\u001b[0m\u001b[1;33m\u001b[0m\u001b[1;33m\u001b[0m\u001b[0m\n\u001b[0m",
      "\u001b[1;32m<ipython-input-94-ec5d57d08f1c>\u001b[0m in \u001b[0;36mgugudan\u001b[1;34m(num)\u001b[0m\n\u001b[0;32m      1\u001b[0m \u001b[1;32mdef\u001b[0m \u001b[0mgugudan\u001b[0m\u001b[1;33m(\u001b[0m\u001b[0mnum\u001b[0m\u001b[1;33m)\u001b[0m\u001b[1;33m:\u001b[0m\u001b[1;33m\u001b[0m\u001b[1;33m\u001b[0m\u001b[0m\n\u001b[0;32m      2\u001b[0m     \u001b[1;32mfor\u001b[0m \u001b[0mi\u001b[0m \u001b[1;32min\u001b[0m \u001b[0mrange\u001b[0m\u001b[1;33m(\u001b[0m\u001b[1;36m1\u001b[0m\u001b[1;33m,\u001b[0m\u001b[1;36m10\u001b[0m\u001b[1;33m)\u001b[0m\u001b[1;33m:\u001b[0m\u001b[1;33m\u001b[0m\u001b[1;33m\u001b[0m\u001b[0m\n\u001b[1;32m----> 3\u001b[1;33m         \u001b[0mprint\u001b[0m\u001b[1;33m(\u001b[0m\u001b[1;34m\"{} * {} = {}\"\u001b[0m\u001b[1;33m.\u001b[0m\u001b[0mformat\u001b[0m\u001b[1;33m(\u001b[0m\u001b[0mgugudan\u001b[0m\u001b[1;33m,\u001b[0m \u001b[0mi\u001b[0m \u001b[1;33m,\u001b[0m \u001b[0mgugudan\u001b[0m \u001b[1;33m*\u001b[0m \u001b[0mi\u001b[0m\u001b[1;33m)\u001b[0m\u001b[1;33m)\u001b[0m\u001b[1;33m\u001b[0m\u001b[1;33m\u001b[0m\u001b[0m\n\u001b[0m",
      "\u001b[1;31mTypeError\u001b[0m: unsupported operand type(s) for *: 'function' and 'int'"
     ]
    }
   ],
   "source": [
    "gugudan(3)"
   ]
  },
  {
   "cell_type": "code",
   "execution_count": 99,
   "metadata": {},
   "outputs": [],
   "source": [
    "import random"
   ]
  },
  {
   "cell_type": "code",
   "execution_count": 100,
   "metadata": {},
   "outputs": [
    {
     "data": {
      "text/plain": [
       "2"
      ]
     },
     "execution_count": 100,
     "metadata": {},
     "output_type": "execute_result"
    }
   ],
   "source": [
    "random.randint(1,3)"
   ]
  },
  {
   "cell_type": "code",
   "execution_count": null,
   "metadata": {},
   "outputs": [],
   "source": [
    "game_dict(1=\"가위\")"
   ]
  }
 ],
 "metadata": {
  "kernelspec": {
   "display_name": "Python 3",
   "language": "python",
   "name": "python3"
  },
  "language_info": {
   "codemirror_mode": {
    "name": "ipython",
    "version": 3
   },
   "file_extension": ".py",
   "mimetype": "text/x-python",
   "name": "python",
   "nbconvert_exporter": "python",
   "pygments_lexer": "ipython3",
   "version": "3.8.5"
  }
 },
 "nbformat": 4,
 "nbformat_minor": 4
}
