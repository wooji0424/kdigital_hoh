{
 "cells": [
  {
   "cell_type": "code",
   "execution_count": 1,
   "metadata": {},
   "outputs": [
    {
     "data": {
      "text/plain": [
       "9"
      ]
     },
     "execution_count": 1,
     "metadata": {},
     "output_type": "execute_result"
    }
   ],
   "source": [
    "file = open(\"test.txt\",\"w\", encoding=\"utf-8\")\n",
    "file.write(\"test 입니다.\")\n"
   ]
  },
  {
   "cell_type": "code",
   "execution_count": 2,
   "metadata": {},
   "outputs": [
    {
     "name": "stdout",
     "output_type": "stream",
     "text": [
      "\n"
     ]
    }
   ],
   "source": [
    "file2 = open(\"test.txt\", encoding=\"utf-8\")\n",
    "text = file2.read()\n",
    "file2.close()\n",
    "print(text)"
   ]
  },
  {
   "cell_type": "code",
   "execution_count": 3,
   "metadata": {},
   "outputs": [],
   "source": [
    "file.close()"
   ]
  },
  {
   "cell_type": "code",
   "execution_count": 4,
   "metadata": {},
   "outputs": [],
   "source": [
    "with open(\"test.txt\",\"w\", encoding=\"utf-8\") as f:\n",
    "    f.write(\"close 꼭 해주세요.\")"
   ]
  },
  {
   "cell_type": "code",
   "execution_count": 5,
   "metadata": {},
   "outputs": [
    {
     "ename": "KeyboardInterrupt",
     "evalue": "Interrupted by user",
     "output_type": "error",
     "traceback": [
      "\u001b[1;31m---------------------------------------------------------------------------\u001b[0m",
      "\u001b[1;31mKeyboardInterrupt\u001b[0m                         Traceback (most recent call last)",
      "\u001b[1;32m<ipython-input-5-230ec045bd96>\u001b[0m in \u001b[0;36m<module>\u001b[1;34m\u001b[0m\n\u001b[1;32m----> 1\u001b[1;33m \u001b[0mmenu\u001b[0m \u001b[1;33m=\u001b[0m \u001b[0minput\u001b[0m\u001b[1;33m(\u001b[0m\u001b[1;34m\"메뉴를 선택해주세요(1 - 입력, 2 - 조회, 3 - 삭제, 0 - 종료):\"\u001b[0m\u001b[1;33m)\u001b[0m\u001b[1;33m\u001b[0m\u001b[1;33m\u001b[0m\u001b[0m\n\u001b[0m\u001b[0;32m      2\u001b[0m \u001b[0mname\u001b[0m \u001b[1;33m=\u001b[0m \u001b[0minput\u001b[0m\u001b[1;33m(\u001b[0m\u001b[1;34m\"이름: \"\u001b[0m\u001b[1;33m)\u001b[0m\u001b[1;33m\u001b[0m\u001b[1;33m\u001b[0m\u001b[0m\n\u001b[0;32m      3\u001b[0m \u001b[0mmath\u001b[0m \u001b[1;33m=\u001b[0m \u001b[0minput\u001b[0m\u001b[1;33m(\u001b[0m\u001b[1;34m\"수학: \"\u001b[0m\u001b[1;33m)\u001b[0m\u001b[1;33m\u001b[0m\u001b[1;33m\u001b[0m\u001b[0m\n\u001b[0;32m      4\u001b[0m \u001b[0mscience\u001b[0m \u001b[1;33m=\u001b[0m \u001b[0minput\u001b[0m\u001b[1;33m(\u001b[0m\u001b[1;34m\"과학: \"\u001b[0m\u001b[1;33m)\u001b[0m\u001b[1;33m\u001b[0m\u001b[1;33m\u001b[0m\u001b[0m\n\u001b[0;32m      5\u001b[0m \u001b[0menglish\u001b[0m \u001b[1;33m=\u001b[0m \u001b[0minput\u001b[0m\u001b[1;33m(\u001b[0m\u001b[1;34m\"영어: \"\u001b[0m\u001b[1;33m)\u001b[0m\u001b[1;33m\u001b[0m\u001b[1;33m\u001b[0m\u001b[0m\n",
      "\u001b[1;32m~\\anaconda3\\lib\\site-packages\\ipykernel\\kernelbase.py\u001b[0m in \u001b[0;36mraw_input\u001b[1;34m(self, prompt)\u001b[0m\n\u001b[0;32m    858\u001b[0m                 \u001b[1;34m\"raw_input was called, but this frontend does not support input requests.\"\u001b[0m\u001b[1;33m\u001b[0m\u001b[1;33m\u001b[0m\u001b[0m\n\u001b[0;32m    859\u001b[0m             )\n\u001b[1;32m--> 860\u001b[1;33m         return self._input_request(str(prompt),\n\u001b[0m\u001b[0;32m    861\u001b[0m             \u001b[0mself\u001b[0m\u001b[1;33m.\u001b[0m\u001b[0m_parent_ident\u001b[0m\u001b[1;33m,\u001b[0m\u001b[1;33m\u001b[0m\u001b[1;33m\u001b[0m\u001b[0m\n\u001b[0;32m    862\u001b[0m             \u001b[0mself\u001b[0m\u001b[1;33m.\u001b[0m\u001b[0m_parent_header\u001b[0m\u001b[1;33m,\u001b[0m\u001b[1;33m\u001b[0m\u001b[1;33m\u001b[0m\u001b[0m\n",
      "\u001b[1;32m~\\anaconda3\\lib\\site-packages\\ipykernel\\kernelbase.py\u001b[0m in \u001b[0;36m_input_request\u001b[1;34m(self, prompt, ident, parent, password)\u001b[0m\n\u001b[0;32m    902\u001b[0m             \u001b[1;32mexcept\u001b[0m \u001b[0mKeyboardInterrupt\u001b[0m\u001b[1;33m:\u001b[0m\u001b[1;33m\u001b[0m\u001b[1;33m\u001b[0m\u001b[0m\n\u001b[0;32m    903\u001b[0m                 \u001b[1;31m# re-raise KeyboardInterrupt, to truncate traceback\u001b[0m\u001b[1;33m\u001b[0m\u001b[1;33m\u001b[0m\u001b[1;33m\u001b[0m\u001b[0m\n\u001b[1;32m--> 904\u001b[1;33m                 \u001b[1;32mraise\u001b[0m \u001b[0mKeyboardInterrupt\u001b[0m\u001b[1;33m(\u001b[0m\u001b[1;34m\"Interrupted by user\"\u001b[0m\u001b[1;33m)\u001b[0m \u001b[1;32mfrom\u001b[0m \u001b[1;32mNone\u001b[0m\u001b[1;33m\u001b[0m\u001b[1;33m\u001b[0m\u001b[0m\n\u001b[0m\u001b[0;32m    905\u001b[0m             \u001b[1;32mexcept\u001b[0m \u001b[0mException\u001b[0m \u001b[1;32mas\u001b[0m \u001b[0me\u001b[0m\u001b[1;33m:\u001b[0m\u001b[1;33m\u001b[0m\u001b[1;33m\u001b[0m\u001b[0m\n\u001b[0;32m    906\u001b[0m                 \u001b[0mself\u001b[0m\u001b[1;33m.\u001b[0m\u001b[0mlog\u001b[0m\u001b[1;33m.\u001b[0m\u001b[0mwarning\u001b[0m\u001b[1;33m(\u001b[0m\u001b[1;34m\"Invalid Message:\"\u001b[0m\u001b[1;33m,\u001b[0m \u001b[0mexc_info\u001b[0m\u001b[1;33m=\u001b[0m\u001b[1;32mTrue\u001b[0m\u001b[1;33m)\u001b[0m\u001b[1;33m\u001b[0m\u001b[1;33m\u001b[0m\u001b[0m\n",
      "\u001b[1;31mKeyboardInterrupt\u001b[0m: Interrupted by user"
     ]
    }
   ],
   "source": [
    "menu = input(\"메뉴를 선택해주세요(1 - 입력, 2 - 조회, 3 - 삭제, 0 - 종료):\")\n",
    "name = input(\"이름: \")\n",
    "math = input(\"수학: \")\n",
    "science = input(\"과학: \")\n",
    "english = input(\"영어: \")\n"
   ]
  },
  {
   "cell_type": "code",
   "execution_count": null,
   "metadata": {},
   "outputs": [],
   "source": [
    "menu = {\"메뉴를 선택해주세요(1 - 입력, 2 - 조회, 3 - 삭제, 0 - 종료):\"}\n",
    "name = {\"이름:\"}\n",
    "math = {\"수학:\"}\n",
    "science = {\"과학:\"}\n",
    "english = {\"영어:\"}\n",
    "\n",
    "while menu in [1, 2, 3, 0]:\n",
    "    menu = int(input(\"메뉴를 선택해주세요(1 - 입력, 2 - 조회, 3 - 삭제, 0 - 종료):\"))\n",
    "    name = (input(\"이름: \"))\n",
    "    math = int((input(\"수학: \")))\n",
    "    science = int((input(\"과학: \")))\n",
    "    english = int((input(\"영어: \")))\n",
    "    "
   ]
  },
  {
   "cell_type": "code",
   "execution_count": 36,
   "metadata": {},
   "outputs": [
    {
     "name": "stdout",
     "output_type": "stream",
     "text": [
      "메뉴를 선택해주세요(1 - 입력, 2 - 조회, 3 - 삭제, 0 - 종료):1\n",
      "이름 :호빵맨\n",
      "수학 :70\n",
      "과학 : 80\n",
      "영어 : 90\n",
      "메뉴를 선택해주세요(1 - 입력, 2 - 조회, 3 - 삭제, 0 - 종료):0\n",
      "종료되었습니다.\n"
     ]
    },
    {
     "data": {
      "text/plain": [
       "[[{'이름': '호빵맨', '수학': 70, '과학': 80, '영어': 90}]]"
      ]
     },
     "execution_count": 36,
     "metadata": {},
     "output_type": "execute_result"
    }
   ],
   "source": [
    "import pickle\n",
    "\n",
    "scores = []\n",
    "while True:\n",
    "    menu = input(\"메뉴를 선택해주세요(1 - 입력, 2 - 조회, 3 - 삭제, 0 - 종료):\")\n",
    "    if menu == \"1\":\n",
    "        #입력\n",
    "        name = input(\"이름 :\")\n",
    "        math = int(input(\"수학 :\"))\n",
    "        science = int(input(\"과학 : \"))\n",
    "        english = int(input(\"영어 : \"))\n",
    "        \n",
    "        student = [{\"이름\":name,\"수학\":math, \"과학\":science, \"영어\":english}]\n",
    "        scores.append(student)\n",
    "    elif menu == \"2\":\n",
    "        #[0] 이름 : 이민호, 수학 : 40, 과학 : 50, 영어 : 30\n",
    "        #[1] 이름 : 이진범, 수학 : 30, 과학 : 40, 영어 : 50\n",
    "        for i, user in enumerate(scores):\n",
    "            print(f\"[{i}] 이름: {user['이름']}, 수학: {user['수학']}, 과학: {user['과학']}, 영어:{user['영어']}\")\n",
    "    \n",
    "    \n",
    "    elif menu == \"3\":\n",
    "        #삭제\n",
    "        for i, user in enumerate(scores):\n",
    "            print(f\"[{i}] 이름: {user['이름']}, 수학: {user['수학']}, 과학: {user['과학']}, 영어:{user['영어']}\")\n",
    "            \n",
    "        del_index = int(input(\"삭제할 번호를 입력주세요 :\"))\n",
    "        scores.pop(del_index)\n",
    "        print(\"삭제가 완료되었습니다.\")\n",
    "            \n",
    "            \n",
    "            \n",
    "            \n",
    "    elif menu == \"0\":\n",
    "        #종료\n",
    "        #파일저징\n",
    "        with open(\"scores.pkl\", \"wb\") as f:\n",
    "            pickle.dump(scores, f)\n",
    "        print(\"종료되었습니다.\")\n",
    "        break\n",
    "scores"
   ]
  },
  {
   "cell_type": "code",
   "execution_count": 37,
   "metadata": {},
   "outputs": [
    {
     "name": "stdout",
     "output_type": "stream",
     "text": [
      "[[{'이름': '호빵맨', '수학': 70, '과학': 80, '영어': 90}]]\n"
     ]
    }
   ],
   "source": [
    "with open(\"scores.pkl\",\"rb\") as f:\n",
    "    scores = pickle.load(f)\n",
    "    print(scores)"
   ]
  },
  {
   "cell_type": "code",
   "execution_count": 54,
   "metadata": {},
   "outputs": [],
   "source": [
    "def get_inputdata():\n",
    "    name = input(\"이름 :\")\n",
    "    math = int(input(\"수학 :\"))\n",
    "    science = int(input(\"과학 : \"))\n",
    "    english = int(input(\"영어 : \"))\n",
    "    \n",
    "    return name,math,science,english"
   ]
  },
  {
   "cell_type": "code",
   "execution_count": 55,
   "metadata": {},
   "outputs": [],
   "source": [
    "def display_all(scores):\n",
    "    for i, user in enumerate(scores):\n",
    "         print(f\"[{i}] 이름: {user['이름']}, 수학: {user['수학']}, 과학: {user['과학']}, 영어:{user['영어']}\")      "
   ]
  },
  {
   "cell_type": "code",
   "execution_count": 58,
   "metadata": {},
   "outputs": [
    {
     "name": "stdout",
     "output_type": "stream",
     "text": [
      "메뉴를 선택해주세요(1 - 입력, 2 - 조회, 3 - 삭제, 0 - 종료):2\n",
      "메뉴를 선택해주세요(1 - 입력, 2 - 조회, 3 - 삭제, 0 - 종료):0\n",
      "종료되었습니다.\n"
     ]
    },
    {
     "data": {
      "text/plain": [
       "[]"
      ]
     },
     "execution_count": 58,
     "metadata": {},
     "output_type": "execute_result"
    }
   ],
   "source": [
    "import pickle\n",
    "\n",
    "with open(\"scores.pkl\",\"rb\") as f:\n",
    "    scores = pickle.load(f)\n",
    "\n",
    "scores = []\n",
    "while True:\n",
    "    menu = input(\"메뉴를 선택해주세요(1 - 입력, 2 - 조회, 3 - 삭제, 0 - 종료):\")\n",
    "    if menu == \"1\":\n",
    "        #입력\n",
    "        name,math,science,english = get_inputdata()\n",
    "        scores.append({\"이름\":name,\"수학\":math, \"과학\":science, \"영어\":english})\n",
    "    \n",
    "    elif menu == \"2\":\n",
    "        #[0] 이름 : 이민호, 수학 : 40, 과학 : 50, 영어 : 30\n",
    "        #[1] 이름 : 이진범, 수학 : 30, 과학 : 40, 영어 : 50\n",
    "        display_all(scores)\n",
    "    \n",
    "    \n",
    "    elif menu == \"3\":\n",
    "        #삭제\n",
    "        display_all(scores)\n",
    "            \n",
    "        del_index = int(input(\"삭제할 번호를 입력주세요 :\"))\n",
    "        scores = scores.pop(del_index)\n",
    "        print(\"삭제가 완료되었습니다.\")\n",
    "            \n",
    "            \n",
    "        \n",
    "            \n",
    "    elif menu == \"0\":\n",
    "        #종료\n",
    "        #파일저징\n",
    "        with open(\"scores.pkl\", \"wb\") as f:\n",
    "            pickle.dump(scores, f)\n",
    "        print(\"종료되었습니다.\")\n",
    "        break\n",
    "    \n",
    "\n",
    "scores"
   ]
  },
  {
   "cell_type": "code",
   "execution_count": null,
   "metadata": {},
   "outputs": [],
   "source": []
  }
 ],
 "metadata": {
  "kernelspec": {
   "display_name": "Python 3",
   "language": "python",
   "name": "python3"
  },
  "language_info": {
   "codemirror_mode": {
    "name": "ipython",
    "version": 3
   },
   "file_extension": ".py",
   "mimetype": "text/x-python",
   "name": "python",
   "nbconvert_exporter": "python",
   "pygments_lexer": "ipython3",
   "version": "3.8.5"
  }
 },
 "nbformat": 4,
 "nbformat_minor": 4
}
