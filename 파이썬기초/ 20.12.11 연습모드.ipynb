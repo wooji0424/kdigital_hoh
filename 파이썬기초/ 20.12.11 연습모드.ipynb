{
 "cells": [
  {
   "cell_type": "code",
   "execution_count": 1,
   "metadata": {},
   "outputs": [],
   "source": [
    "word = [\"school\", \"game\", \"piano\", \"science\", \"hotel\", \"mountain\"]"
   ]
  },
  {
   "cell_type": "code",
   "execution_count": 3,
   "metadata": {},
   "outputs": [
    {
     "name": "stdout",
     "output_type": "stream",
     "text": [
      "['school', 'science', 'mountain']\n"
     ]
    }
   ],
   "source": [
    "new_word = [i for i in word if len(i) > 5]\n",
    "print(new_word)"
   ]
  },
  {
   "cell_type": "code",
   "execution_count": 5,
   "metadata": {},
   "outputs": [
    {
     "name": "stdout",
     "output_type": "stream",
     "text": [
      "[6, 4, 5, 7, 5, 8]\n"
     ]
    }
   ],
   "source": [
    "new_word1 = [len(i) for i in word]\n",
    "print(new_word1)"
   ]
  },
  {
   "cell_type": "code",
   "execution_count": 9,
   "metadata": {},
   "outputs": [
    {
     "name": "stdout",
     "output_type": "stream",
     "text": [
      "1 * 1 = 1\n",
      "1 * 2 = 2\n",
      "1 * 3 = 3\n",
      "1 * 4 = 4\n",
      "1 * 5 = 5\n",
      "1 * 6 = 6\n",
      "1 * 7 = 7\n",
      "1 * 8 = 8\n",
      "1 * 9 = 9\n",
      "2 * 1 = 2\n",
      "2 * 2 = 4\n",
      "2 * 3 = 6\n",
      "2 * 4 = 8\n",
      "2 * 5 = 10\n",
      "2 * 6 = 12\n",
      "2 * 7 = 14\n",
      "2 * 8 = 16\n",
      "2 * 9 = 18\n",
      "3 * 1 = 3\n",
      "3 * 2 = 6\n",
      "3 * 3 = 9\n",
      "3 * 4 = 12\n",
      "3 * 5 = 15\n",
      "3 * 6 = 18\n",
      "3 * 7 = 21\n",
      "3 * 8 = 24\n",
      "3 * 9 = 27\n",
      "4 * 1 = 4\n",
      "4 * 2 = 8\n",
      "4 * 3 = 12\n",
      "4 * 4 = 16\n",
      "4 * 5 = 20\n",
      "4 * 6 = 24\n",
      "4 * 7 = 28\n",
      "4 * 8 = 32\n",
      "4 * 9 = 36\n",
      "5 * 1 = 5\n",
      "5 * 2 = 10\n",
      "5 * 3 = 15\n",
      "5 * 4 = 20\n",
      "5 * 5 = 25\n",
      "5 * 6 = 30\n",
      "5 * 7 = 35\n",
      "5 * 8 = 40\n",
      "5 * 9 = 45\n",
      "6 * 1 = 6\n",
      "6 * 2 = 12\n",
      "6 * 3 = 18\n",
      "6 * 4 = 24\n",
      "6 * 5 = 30\n",
      "6 * 6 = 36\n",
      "6 * 7 = 42\n",
      "6 * 8 = 48\n",
      "6 * 9 = 54\n",
      "7 * 1 = 7\n",
      "7 * 2 = 14\n",
      "7 * 3 = 21\n",
      "7 * 4 = 28\n",
      "7 * 5 = 35\n",
      "7 * 6 = 42\n",
      "7 * 7 = 49\n",
      "7 * 8 = 56\n",
      "7 * 9 = 63\n",
      "8 * 1 = 8\n",
      "8 * 2 = 16\n",
      "8 * 3 = 24\n",
      "8 * 4 = 32\n",
      "8 * 5 = 40\n",
      "8 * 6 = 48\n",
      "8 * 7 = 56\n",
      "8 * 8 = 64\n",
      "8 * 9 = 72\n",
      "9 * 1 = 9\n",
      "9 * 2 = 18\n",
      "9 * 3 = 27\n",
      "9 * 4 = 36\n",
      "9 * 5 = 45\n",
      "9 * 6 = 54\n",
      "9 * 7 = 63\n",
      "9 * 8 = 72\n",
      "9 * 9 = 81\n"
     ]
    }
   ],
   "source": [
    "for i in range(1,10):\n",
    "    for j in range(1,10):\n",
    "        print(\"{} * {} = {}\".format(i,j,i*j))"
   ]
  },
  {
   "cell_type": "code",
   "execution_count": 16,
   "metadata": {},
   "outputs": [
    {
     "name": "stdout",
     "output_type": "stream",
     "text": [
      "1\n",
      "2\n",
      "3의 배수\n",
      "4\n",
      "5의 배수\n",
      "3의 배수\n",
      "7\n",
      "8\n",
      "3의 배수\n",
      "5의 배수\n",
      "11\n",
      "3의 배수\n",
      "13\n",
      "14\n",
      "3과 5의 공배수\n",
      "16\n",
      "17\n",
      "3의 배수\n",
      "19\n",
      "5의 배수\n",
      "3의 배수\n",
      "22\n",
      "23\n",
      "3의 배수\n",
      "5의 배수\n",
      "26\n",
      "3의 배수\n",
      "28\n",
      "29\n",
      "3과 5의 공배수\n",
      "31\n",
      "32\n",
      "3의 배수\n",
      "34\n",
      "5의 배수\n",
      "3의 배수\n",
      "37\n",
      "38\n",
      "3의 배수\n",
      "5의 배수\n",
      "41\n",
      "3의 배수\n",
      "43\n",
      "44\n",
      "3과 5의 공배수\n",
      "46\n",
      "47\n",
      "3의 배수\n",
      "49\n",
      "5의 배수\n",
      "3의 배수\n",
      "52\n",
      "53\n",
      "3의 배수\n",
      "5의 배수\n",
      "56\n",
      "3의 배수\n",
      "58\n",
      "59\n",
      "3과 5의 공배수\n",
      "61\n",
      "62\n",
      "3의 배수\n",
      "64\n",
      "5의 배수\n",
      "3의 배수\n",
      "67\n",
      "68\n",
      "3의 배수\n",
      "5의 배수\n",
      "71\n",
      "3의 배수\n",
      "73\n",
      "74\n",
      "3과 5의 공배수\n",
      "76\n",
      "77\n",
      "3의 배수\n",
      "79\n",
      "5의 배수\n",
      "3의 배수\n",
      "82\n",
      "83\n",
      "3의 배수\n",
      "5의 배수\n",
      "86\n",
      "3의 배수\n",
      "88\n",
      "89\n",
      "3과 5의 공배수\n",
      "91\n",
      "92\n",
      "3의 배수\n",
      "94\n",
      "5의 배수\n",
      "3의 배수\n",
      "97\n",
      "98\n",
      "3의 배수\n",
      "5의 배수\n"
     ]
    }
   ],
   "source": [
    "for i in range(1,101):\n",
    "    if i % 3 == 0 and i % 5 == 0:\n",
    "        print(\"3과 5의 공배수\")\n",
    "    elif i % 3 == 0:\n",
    "        print(\"3의 배수\")\n",
    "    elif i % 5 == 0:\n",
    "        print(\"5의 배수\")\n",
    "    else:\n",
    "        print(i)"
   ]
  },
  {
   "cell_type": "code",
   "execution_count": 26,
   "metadata": {},
   "outputs": [
    {
     "name": "stdout",
     "output_type": "stream",
     "text": [
      "점수를 입력해주세요: 1\n",
      "점수를 입력해주세요: 2\n",
      "점수를 입력해주세요: 3\n",
      "점수를 입력해주세요: 0\n",
      "총합은 0\n"
     ]
    }
   ],
   "source": [
    "a = 1\n",
    "a_sum = 0\n",
    "while a != 0:\n",
    "    a = int(input(\"점수를 입력해주세요: \"))\n",
    "    a_sum += a\n",
    "print(\"총합은 {}\".format(a,a_sum))"
   ]
  },
  {
   "cell_type": "code",
   "execution_count": 27,
   "metadata": {},
   "outputs": [
    {
     "name": "stdout",
     "output_type": "stream",
     "text": [
      "점수를 입력해주세요: 1\n",
      "점수를 입력해주세요: 2\n",
      "점수를 입력해주세요: 0\n",
      "총합은 0\n"
     ]
    }
   ],
   "source": [
    "a = 1\n",
    "while a != 0:\n",
    "    a = int(input(\"점수를 입력해주세요: \"))\n",
    "    a_sum += a\n",
    "print(\"총합은 {}\".format(a,a_sum))"
   ]
  },
  {
   "cell_type": "code",
   "execution_count": 28,
   "metadata": {},
   "outputs": [
    {
     "name": "stdout",
     "output_type": "stream",
     "text": [
      "점수를 입력해주세요: 1\n",
      "총합은 1\n",
      "점수를 입력해주세요: 2\n",
      "총합은 2\n",
      "점수를 입력해주세요: 0\n",
      "총합은 0\n"
     ]
    }
   ],
   "source": [
    "a = 1\n",
    "a_sum = 0\n",
    "while a != 0:\n",
    "    a = int(input(\"점수를 입력해주세요: \"))\n",
    "    a_sum += a\n",
    "    print(\"총합은 {}\".format(a,a_sum))"
   ]
  },
  {
   "cell_type": "code",
   "execution_count": 29,
   "metadata": {},
   "outputs": [
    {
     "name": "stdout",
     "output_type": "stream",
     "text": [
      "점수를 입력해주세요: 1\n",
      "총합은 1\n",
      "점수를 입력해주세요: 2\n",
      "총합은 2\n",
      "점수를 입력해주세요: 3\n",
      "총합은 3\n",
      "점수를 입력해주세요: 0\n",
      "총합은 0\n"
     ]
    }
   ],
   "source": [
    "a = 1\n",
    "while a != 0:\n",
    "    a = int(input(\"점수를 입력해주세요: \"))\n",
    "    a_sum += a\n",
    "    print(\"총합은 {}\".format(a,a_sum))"
   ]
  },
  {
   "cell_type": "code",
   "execution_count": 30,
   "metadata": {},
   "outputs": [
    {
     "name": "stdout",
     "output_type": "stream",
     "text": [
      "점수를 입력해주세요: 1\n",
      "점수를 입력해주세요: 2\n",
      "점수를 입력해주세요: 30\n",
      "점수를 입력해주세요: 0\n",
      "총합은 33\n"
     ]
    }
   ],
   "source": [
    "a = 1\n",
    "a_sum = 0\n",
    "while a != 0:\n",
    "    a = int(input(\"점수를 입력해주세요: \"))\n",
    "    a_sum += a\n",
    "print(\"총합은 {}\".format(a_sum))"
   ]
  },
  {
   "cell_type": "code",
   "execution_count": 47,
   "metadata": {},
   "outputs": [
    {
     "name": "stdout",
     "output_type": "stream",
     "text": [
      "30\n",
      "60\n",
      "90\n",
      "200\n",
      "-70\n",
      "50\n"
     ]
    }
   ],
   "source": [
    "x = [3,6,9,20,-7,5]\n",
    "for i in range(6):\n",
    "    x[i] *= 10\n",
    "    print(x[i])"
   ]
  },
  {
   "cell_type": "code",
   "execution_count": 51,
   "metadata": {},
   "outputs": [
    {
     "name": "stdout",
     "output_type": "stream",
     "text": [
      "{'math': 80, 'science': 90, 'english': 30}\n"
     ]
    }
   ],
   "source": [
    "y = {\"math\":70, \"science\":80, \"english\":20}\n",
    "for i in y:\n",
    "    y[i] = y[i] + 10\n",
    "print(y)"
   ]
  },
  {
   "cell_type": "code",
   "execution_count": 67,
   "metadata": {},
   "outputs": [
    {
     "name": "stdout",
     "output_type": "stream",
     "text": [
      "몇단을 출력하시겠습니까?: 2\n",
      "3 * 1 = 3\n",
      "3 * 2 = 6\n",
      "3 * 3 = 9\n",
      "3 * 4 = 12\n",
      "3 * 5 = 15\n",
      "3 * 6 = 18\n",
      "3 * 7 = 21\n",
      "3 * 8 = 24\n",
      "3 * 9 = 27\n"
     ]
    }
   ],
   "source": [
    "gugu = input(\"몇단을 출력하시겠습니까?: \")\n",
    "for i in range(3,4):\n",
    "    for j in range(1,10):\n",
    "        print(\"{} * {} = {}\".format(i,j,i*j))"
   ]
  },
  {
   "cell_type": "code",
   "execution_count": 65,
   "metadata": {},
   "outputs": [
    {
     "name": "stdout",
     "output_type": "stream",
     "text": [
      "몇단을 출력하시겠습니까?:3\n",
      "3 * 1 = 3 \n",
      "3 * 2 = 6 \n",
      "3 * 3 = 9 \n",
      "3 * 4 = 12 \n",
      "3 * 5 = 15 \n",
      "3 * 6 = 18 \n",
      "3 * 7 = 21 \n",
      "3 * 8 = 24 \n",
      "3 * 9 = 27 \n"
     ]
    }
   ],
   "source": [
    "gugu1 = int(input(\"몇단을 출력하시겠습니까?:\"))\n",
    "for i in range(1,10):\n",
    "    print(\"{} * {} = {} \".format(gugu1,i,gugu1 * i))"
   ]
  },
  {
   "cell_type": "code",
   "execution_count": 66,
   "metadata": {
    "scrolled": true
   },
   "outputs": [
    {
     "name": "stdout",
     "output_type": "stream",
     "text": [
      "몇단을 출력하시겠습니까?:3\n",
      "3 * 1 = 3 \n",
      "3 * 2 = 33 \n",
      "3 * 3 = 333 \n",
      "3 * 4 = 3333 \n",
      "3 * 5 = 33333 \n",
      "3 * 6 = 333333 \n",
      "3 * 7 = 3333333 \n",
      "3 * 8 = 33333333 \n",
      "3 * 9 = 333333333 \n"
     ]
    }
   ],
   "source": [
    "gugu1 = input(\"몇단을 출력하시겠습니까?:\")\n",
    "for i in range(1,10):\n",
    "    print(\"{} * {} = {} \".format(gugu1,i,gugu1 * i))"
   ]
  },
  {
   "cell_type": "code",
   "execution_count": 80,
   "metadata": {},
   "outputs": [
    {
     "name": "stdout",
     "output_type": "stream",
     "text": [
      "['school', 'game', 'piano', 'science', 'hotel', 'mountain']\n"
     ]
    }
   ],
   "source": [
    "words = [\"school\", \"game\", \"piano\", \"science\", \"hotel\", \"mountain\"]\n",
    "for i in range(len(word)>5):\n",
    "    print(words)"
   ]
  },
  {
   "cell_type": "code",
   "execution_count": 91,
   "metadata": {},
   "outputs": [
    {
     "name": "stdout",
     "output_type": "stream",
     "text": [
      "[['school', 'game', 'piano', 'science', 'hotel', 'mountain'], ['school', 'game', 'piano', 'science', 'hotel', 'mountain'], ['school', 'game', 'piano', 'science', 'hotel', 'mountain'], ['school', 'game', 'piano', 'science', 'hotel', 'mountain'], ['school', 'game', 'piano', 'science', 'hotel', 'mountain'], ['school', 'game', 'piano', 'science', 'hotel', 'mountain']]\n"
     ]
    }
   ],
   "source": [
    "words_1 = [\"school\", \"game\", \"piano\", \"science\", \"hotel\", \"mountain\"]\n",
    "new_word = []\n",
    "for i in words_1:\n",
    "    if (len(words_1)) > 5:\n",
    "        new_word.append(words_1)\n",
    "\n",
    "print(new_word)"
   ]
  },
  {
   "cell_type": "code",
   "execution_count": 100,
   "metadata": {},
   "outputs": [],
   "source": [
    "a = [\"school\", \"game\", \"piano\", \"science\", \"hotel\", \"mountain\"]"
   ]
  },
  {
   "cell_type": "code",
   "execution_count": 104,
   "metadata": {},
   "outputs": [
    {
     "name": "stdout",
     "output_type": "stream",
     "text": [
      "['school', 'science', 'mountain']\n"
     ]
    }
   ],
   "source": [
    "new_a = []\n",
    "for i in a:\n",
    "    if (len(i)) > 5:\n",
    "        new_a.append(i)\n",
    "        \n",
    "print(new_a)"
   ]
  },
  {
   "cell_type": "code",
   "execution_count": 118,
   "metadata": {},
   "outputs": [
    {
     "name": "stdout",
     "output_type": "stream",
     "text": [
      "숫자를 입력하세요:20\n",
      "0\n",
      "1\n",
      "2\n",
      "3\n",
      "4\n",
      "5\n",
      "6\n",
      "7\n",
      "8\n",
      "9\n",
      "10\n",
      "11\n",
      "12\n",
      "13\n",
      "14\n",
      "15\n",
      "16\n",
      "17\n",
      "18\n",
      "19\n",
      "20\n"
     ]
    }
   ],
   "source": [
    "user = int(input(\"숫자를 입력하세요:\"))\n",
    "cnt = 0\n",
    "while True:\n",
    "    if cnt > user:\n",
    "        break\n",
    "    print(cnt)\n",
    "    cnt += 1"
   ]
  },
  {
   "cell_type": "code",
   "execution_count": 119,
   "metadata": {},
   "outputs": [
    {
     "name": "stdout",
     "output_type": "stream",
     "text": [
      "숫자를 입력해주세요:20\n",
      "0\n",
      "2\n",
      "4\n",
      "6\n",
      "8\n",
      "10\n",
      "12\n",
      "14\n",
      "16\n",
      "18\n",
      "20\n"
     ]
    }
   ],
   "source": [
    "user = int(input(\"숫자를 입력해주세요:\"))\n",
    "for i in range(user+1):\n",
    "    if i % 2 == 1:\n",
    "        continue\n",
    "    print(i)"
   ]
  },
  {
   "cell_type": "code",
   "execution_count": 120,
   "metadata": {},
   "outputs": [
    {
     "data": {
      "text/plain": [
       "2"
      ]
     },
     "execution_count": 120,
     "metadata": {},
     "output_type": "execute_result"
    }
   ],
   "source": [
    "import random\n",
    "random.randint(1,3)"
   ]
  },
  {
   "cell_type": "code",
   "execution_count": 183,
   "metadata": {},
   "outputs": [
    {
     "name": "stdout",
     "output_type": "stream",
     "text": [
      "가위(1),바위(2),보(3)를 입력해주세요:1\n",
      "유저:가위, 컴퓨터:바위\n",
      "가위(1),바위(2),보(3)를 입력해주세요:2\n",
      "유저:바위, 컴퓨터:가위\n",
      "가위(1),바위(2),보(3)를 입력해주세요:3\n",
      "유저:보, 컴퓨터:가위\n",
      "가위(1),바위(2),보(3)를 입력해주세요:4\n",
      "게임종료 전체3,승리1\n"
     ]
    }
   ],
   "source": [
    "game_dict = {1:\"가위\",2:\"바위\",3:\"보\"}\n",
    "user = 1\n",
    "computer = -1\n",
    "total = 0\n",
    "win = 0\n",
    "while user == 1 or user == 2 or user == 3:\n",
    "    user = int(input(\"가위(1),바위(2),보(3)를 입력해주세요:\"))\n",
    "    computer = random.randint(1,3)\n",
    "    if user not in [1,2,3]:\n",
    "        break\n",
    "    total += 1\n",
    "    print(\"유저:{}, 컴퓨터:{}\".format(game_dict[user],game_dict[computer]))\n",
    "    \n",
    "    if (user == 1 and computer == 3) or (user == 2 and computer == 1) or (user == 3 and computer == 2):\n",
    "        win += 1\n",
    "        \n",
    "print(\"게임종료 전체{},승리{}\".format(total,win))"
   ]
  },
  {
   "cell_type": "code",
   "execution_count": null,
   "metadata": {},
   "outputs": [],
   "source": []
  }
 ],
 "metadata": {
  "kernelspec": {
   "display_name": "Python 3",
   "language": "python",
   "name": "python3"
  },
  "language_info": {
   "codemirror_mode": {
    "name": "ipython",
    "version": 3
   },
   "file_extension": ".py",
   "mimetype": "text/x-python",
   "name": "python",
   "nbconvert_exporter": "python",
   "pygments_lexer": "ipython3",
   "version": "3.8.5"
  }
 },
 "nbformat": 4,
 "nbformat_minor": 4
}
