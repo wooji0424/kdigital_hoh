{
 "cells": [
  {
   "cell_type": "markdown",
   "metadata": {},
   "source": [
    "## LinearRegression temp"
   ]
  },
  {
   "cell_type": "code",
   "execution_count": null,
   "metadata": {},
   "outputs": [],
   "source": [
    "from sklearn.model_selection import train_test_split\n",
    "from sklearn.linear_model import LinearRegression\n",
    "from sklearn.metrics import mean_squared_error\n",
    "\n",
    "#데이터 불러오기 제외된 코드\n",
    "X = wine.drop([\"type\",\"quality\"], axis = 1)\n",
    "y = wine.quality\n",
    "\n",
    "X_train, X_test, y_train, y_test = train_test_split(X,y,random_state = 1)\n",
    "\n",
    "model = LinearRegression(fit_intercept = True, n_jobs=None, normalize = True)\n",
    "model.fit(X_train, y_train)#모델 훈련 코드\n",
    "print(\"coef = \", model.coef_) #기울기 / 없어도 상관없다.\n",
    "print(\"-\"*30) #보기 편하게 넣음\n",
    "print(\"intercept = \", model.intercept_) # 절편\n",
    "\n",
    "y_pred = model.predict(X_test)\n",
    "\n",
    "np.round(np.sqrt(mean_squared_error(y_test, y_pred)),2)"
   ]
  },
  {
   "cell_type": "markdown",
   "metadata": {},
   "source": [
    "# 규제가 있는 선형모델"
   ]
  },
  {
   "cell_type": "markdown",
   "metadata": {},
   "source": [
    "## 1. 릿지"
   ]
  },
  {
   "cell_type": "code",
   "execution_count": null,
   "metadata": {},
   "outputs": [],
   "source": [
    "from sklearn.linear_model import Ridge\n",
    "\n",
    "model_name = \"ridge\"\n",
    "alpha = 0.05\n",
    "fig = plt.figure(figsize=(6,3))\n",
    "ax = fig.add_subplot(111)\n",
    "ridge = Ridge(alpha=alpha)\n",
    "ridge.fit(X_train, y_train)\n",
    "y_pred = ridge.predict(X_test)\n",
    "rmse = np.round(np.sqrt(mean_squared_error(y_test, y_pred)),3)\n",
    "coef = pd.Series(data=ridge.coef_, index=X_train.columns).sort_values()\n",
    "ax.bar(coef.index, coef.values)\n",
    "ax.set_xticklabels(coef.index, rotation = 90)\n",
    "ax.set_title(\"{}: alpha = {}, rmse = {}\".format(model_name, alpha, rmse))"
   ]
  },
  {
   "cell_type": "markdown",
   "metadata": {},
   "source": [
    "## 2. 라소"
   ]
  },
  {
   "cell_type": "code",
   "execution_count": null,
   "metadata": {},
   "outputs": [],
   "source": [
    "from sklearn.linear_model import Lasso\n",
    "\n",
    "model_name = \"lasso\"\n",
    "alpha = 0.05\n",
    "fig = plt.figure(figsize=(6,3))\n",
    "ax = fig.add_subplot(111)\n",
    "lasso = Lasso(alpha=alpha)\n",
    "lasso.fit(X_train, y_train)\n",
    "y_pred = lasso.predict(X_test)\n",
    "rmse = np.round(np.sqrt(mean_squared_error(y_test, y_pred)),3)\n",
    "coef = pd.Series(data=lasso.coef_, index=X_train.columns).sort_values()\n",
    "ax.bar(coef.index, coef.values)\n",
    "ax.set_xticklabels(coef.index, rotation = 90)\n",
    "ax.set_title(\"{}: alpha = {}, rmse = {}\".format(model_name, alpha, rmse))"
   ]
  },
  {
   "cell_type": "markdown",
   "metadata": {},
   "source": [
    "## K-최근접 이웃"
   ]
  },
  {
   "cell_type": "code",
   "execution_count": null,
   "metadata": {},
   "outputs": [],
   "source": [
    "import pandas as pd\n",
    "import numpy as np\n",
    "from sklearn.model_selection import train_test_split\n",
    "from sklearn.preprocessing import StandardScaler\n",
    "from sklearn.preprocessing import StandardScaler\n",
    "from sklearn.neighbors import KNeighborsClassifier\n",
    "from sklearn.metrics import accuracy_score, confusion_matrix, roc_auc_score, roc_curve\n",
    "from sklearn.model_selection import GridSearchCV\n",
    "\n",
    "#데이터 읽어오기\n",
    "breast_cancer = pd.read_csv(\"breast-cancer-wisconsin.data\", header =None)\n",
    "\n",
    "#컬럼명 변경\n",
    "breast_cancer.columns = [\"id_number\", \"cluster_thickness\",\n",
    "                         \"unif_cell_size\", \"unif_cell_shape\",\n",
    "                         \"marg_adhesion\", \"single_epith_cell_size\",\n",
    "                         \"bare_nuclei\", \"bland_chromatin\",\n",
    "                         \"normal_nucleoli\", \"mitoses\", \"class\"]\n",
    "\n",
    "# ?을 NA로 바꾼 후 NA를 최빈값으로 만들기\n",
    "breast_cancer[\"bare_nuclei\"]= breast_cancer[\"bare_nuclei\"].replace(\"?\",np.NAN)\n",
    "breast_cancer[\"bare_nuclei\"] = breast_cancer[\"bare_nuclei\"]= breast_cancer[\"bare_nuclei\"].\\\n",
    "                                                             fillna(breast_cancer[\"bare_nuclei\"].value_counts().index[0])\n",
    "\n",
    "#class 0,1로 변환\n",
    "breast_cancer[\"cancer_ind\"] = 0\n",
    "breast_cancer.loc[breast_cancer[\"class\"]==4, \"cancer_ind\"] = 1\n",
    "\n",
    "# X,y 만들기\n",
    "X = breast_cancer.drop([\"id_number\",\"class\",\"cancer_ind\"], axis=1)\n",
    "y = breast_cancer.cancer_ind\n",
    "\n",
    "#훈련데이터, 테스터데이터 나누기\n",
    "X_train, X_test, y_train, y_test = train_test_split(X,y, test_size=0.3, random_state=42)\n",
    "\n",
    "#데이터 표준화 작업 객체생성\n",
    "scaler = StandardScaler()\n",
    "\n",
    "X_train_scaled = scaler.fit_transform(X_train) #훈련데이터,테스트 테이터를 표준화\n",
    "X_test_scaled = scaler.transform(X_test)\n",
    "\n",
    "print(\"-\"*20)\n",
    "print(\"accuracy =\",accuracy_score(y_test, y_pred))\n",
    "print(\"roc_auc = \",roc_auc_score(y_test, y_pred))\n",
    "\n",
    "knn = KNeighborsClassifier(n_neighbors=3) # 기존데이터를 선택하여 거리를 \n",
    "                                          # 비교한 후 분류\n",
    "knn.fit(X_train_scaled, y_train)\n",
    "\n",
    "y_pred = knn.predict(X_test_scaled)\n",
    "accuracy_score(y_test, y_pred)\n",
    "roc_auc_score(y_test, y_pred)\n",
    "\n",
    "# 그리드 서치를 통해 하이퍼파라미터의 최적값 찾기\n",
    "grid_search = GridSearchCV(knn, {\"n_neighbors\": [1,2,3,4,5]},\\\n",
    "                          n_jobs=-1, cv = 7, scoring = \"roc_auc\")\n",
    "grid_search.fit(X_train_scaled, y_train)\n",
    "\n",
    "knn_best = grid_search.best_estimator_\n",
    "y_pred = knn_best.predict(X_test_scaled)\n",
    "accuracy_score(y_test, y_pred)\n",
    "roc_auc_score(y_test, y_pred)\n",
    "\n",
    "print(\"-\"*20)\n",
    "print(\"accuracy2 =\",accuracy_score(y_test, y_pred))\n",
    "print(\"roc_auc2 = \",roc_auc_score(y_test, y_pred))"
   ]
  }
 ],
 "metadata": {
  "kernelspec": {
   "display_name": "study",
   "language": "python",
   "name": "study"
  },
  "language_info": {
   "codemirror_mode": {
    "name": "ipython",
    "version": 3
   },
   "file_extension": ".py",
   "mimetype": "text/x-python",
   "name": "python",
   "nbconvert_exporter": "python",
   "pygments_lexer": "ipython3",
   "version": "3.6.12"
  }
 },
 "nbformat": 4,
 "nbformat_minor": 4
}
