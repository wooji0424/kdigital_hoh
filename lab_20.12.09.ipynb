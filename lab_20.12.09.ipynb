{
 "cells": [
  {
   "cell_type": "code",
   "execution_count": 51,
   "metadata": {},
   "outputs": [
    {
     "name": "stdout",
     "output_type": "stream",
     "text": [
      "이름을 입력해주세요: 홍길동\n",
      "나이를 입력해주세요: 27\n",
      "연락처를 입력해주세요: 010-5464-4511\n"
     ]
    }
   ],
   "source": [
    "name = input(\"이름을 입력해주세요: \")\n",
    "age = input(\"나이를 입력해주세요: \")\n",
    "phone = input(\"연락처를 입력해주세요: \")"
   ]
  },
  {
   "cell_type": "code",
   "execution_count": 52,
   "metadata": {},
   "outputs": [
    {
     "data": {
      "text/plain": [
       "'홍길동'"
      ]
     },
     "execution_count": 52,
     "metadata": {},
     "output_type": "execute_result"
    }
   ],
   "source": [
    "name"
   ]
  },
  {
   "cell_type": "code",
   "execution_count": 53,
   "metadata": {},
   "outputs": [],
   "source": [
    "contact = dict(이름=name, 나이=age, 연락처=phone)"
   ]
  },
  {
   "cell_type": "code",
   "execution_count": 54,
   "metadata": {},
   "outputs": [],
   "source": [
    "contact2 = {\"이름\": name, \"나이\": age, \"연락처\":phone}"
   ]
  },
  {
   "cell_type": "code",
   "execution_count": 55,
   "metadata": {},
   "outputs": [
    {
     "data": {
      "text/plain": [
       "{'이름': '홍길동', '나이': '27', '연락처': '010-5464-4511'}"
      ]
     },
     "execution_count": 55,
     "metadata": {},
     "output_type": "execute_result"
    }
   ],
   "source": [
    "contact2"
   ]
  },
  {
   "cell_type": "code",
   "execution_count": 56,
   "metadata": {},
   "outputs": [
    {
     "name": "stdout",
     "output_type": "stream",
     "text": [
      "이름을 입력해주세요: 홍길동\n",
      "나이를 입력해주세요: 27\n",
      "연락처를 입력해주세요: 010-4564-4445\n"
     ]
    }
   ],
   "source": [
    "name = input(\"이름을 입력해주세요: \")\n",
    "age = input(\"나이를 입력해주세요: \")\n",
    "phone = input(\"연락처를 입력해주세요: \")"
   ]
  },
  {
   "cell_type": "code",
   "execution_count": 57,
   "metadata": {},
   "outputs": [
    {
     "name": "stdout",
     "output_type": "stream",
     "text": [
      "이름을 입력해주세요: 성춘향\n",
      "나이를 입력해주세요: 29\n",
      "연락처를 입력해주세요: 010-7778-9999\n"
     ]
    }
   ],
   "source": [
    "name1 = input(\"이름을 입력해주세요: \")\n",
    "age2 = input(\"나이를 입력해주세요: \")\n",
    "phone3 = input(\"연락처를 입력해주세요: \")"
   ]
  },
  {
   "cell_type": "code",
   "execution_count": 58,
   "metadata": {},
   "outputs": [],
   "source": [
    "contacts =[]"
   ]
  },
  {
   "cell_type": "code",
   "execution_count": 59,
   "metadata": {},
   "outputs": [
    {
     "ename": "SyntaxError",
     "evalue": "invalid syntax (<ipython-input-59-fd8e065225fe>, line 1)",
     "output_type": "error",
     "traceback": [
      "\u001b[1;36m  File \u001b[1;32m\"<ipython-input-59-fd8e065225fe>\"\u001b[1;36m, line \u001b[1;32m1\u001b[0m\n\u001b[1;33m    contacts.append({\"이름\"=name, \"나이\"=age, \"연락처\"=phone})\u001b[0m\n\u001b[1;37m                         ^\u001b[0m\n\u001b[1;31mSyntaxError\u001b[0m\u001b[1;31m:\u001b[0m invalid syntax\n"
     ]
    }
   ],
   "source": [
    "contacts.append({\"이름\"=name, \"나이\"=age, \"연락처\"=phone})"
   ]
  },
  {
   "cell_type": "code",
   "execution_count": 60,
   "metadata": {},
   "outputs": [
    {
     "name": "stdout",
     "output_type": "stream",
     "text": [
      "이름을 입력해주세요: 홍길동\n",
      "나이를 입력해주세요: 27\n",
      "연락처를 입력해주세요: 010-4564-4445\n"
     ]
    }
   ],
   "source": [
    "name = input(\"이름을 입력해주세요: \")\n",
    "age = input(\"나이를 입력해주세요: \")\n",
    "phone = input(\"연락처를 입력해주세요: \")"
   ]
  },
  {
   "cell_type": "code",
   "execution_count": 62,
   "metadata": {},
   "outputs": [],
   "source": [
    "score = dict(이름 = name, 나이 = age, 연락처 = phone)"
   ]
  },
  {
   "cell_type": "code",
   "execution_count": 63,
   "metadata": {},
   "outputs": [
    {
     "data": {
      "text/plain": [
       "{'이름': '홍길동', '나이': '27', '연락처': '010-4564-4445'}"
      ]
     },
     "execution_count": 63,
     "metadata": {},
     "output_type": "execute_result"
    }
   ],
   "source": [
    "score"
   ]
  },
  {
   "cell_type": "code",
   "execution_count": 64,
   "metadata": {},
   "outputs": [
    {
     "name": "stdout",
     "output_type": "stream",
     "text": [
      "이름을 입력해주세요: 성춘향\n",
      "나이를 입력해주세요: 29\n",
      "연락처를 입력해주세요: 010-7778-9999\n"
     ]
    }
   ],
   "source": [
    "name1 = input(\"이름을 입력해주세요: \")\n",
    "age2 = input(\"나이를 입력해주세요: \")\n",
    "phone3 = input(\"연락처를 입력해주세요: \")"
   ]
  },
  {
   "cell_type": "code",
   "execution_count": 65,
   "metadata": {},
   "outputs": [],
   "source": [
    "score1 = dict(이름 = name1, 나이 = age2, 연락처=phone3)"
   ]
  },
  {
   "cell_type": "code",
   "execution_count": 66,
   "metadata": {},
   "outputs": [],
   "source": [
    "contacts = []"
   ]
  },
  {
   "cell_type": "code",
   "execution_count": 67,
   "metadata": {},
   "outputs": [],
   "source": [
    "contacts.append (dict(이름 = name1, 나이 = age2, 연락처=phone3))"
   ]
  },
  {
   "cell_type": "code",
   "execution_count": 68,
   "metadata": {},
   "outputs": [
    {
     "data": {
      "text/plain": [
       "({'이름': '홍길동', '나이': '27', '연락처': '010-4564-4445'},\n",
       " {'이름': '성춘향', '나이': '29', '연락처': '010-7778-9999'})"
      ]
     },
     "execution_count": 68,
     "metadata": {},
     "output_type": "execute_result"
    }
   ],
   "source": [
    "score,score1"
   ]
  },
  {
   "cell_type": "code",
   "execution_count": null,
   "metadata": {},
   "outputs": [],
   "source": [
    "print(int(score), int(score1))"
   ]
  },
  {
   "cell_type": "code",
   "execution_count": null,
   "metadata": {},
   "outputs": [],
   "source": [
    "x = input(\"첫번째 점수를 입력해주세요: \")\n",
    "y = input(\"두번째 점수를 입력해주세요: \")\n",
    "z = input(\"세번째 점수를 입력해주세요: \")"
   ]
  },
  {
   "cell_type": "code",
   "execution_count": null,
   "metadata": {},
   "outputs": [],
   "source": [
    "if x,y,z >=65:\n",
    "    print(\"합격\")\n",
    "    if x,y,z > 0 and x,y,z <100:\n",
    "        print(\"잘못된 점수가 입력되었습니다.\")"
   ]
  },
  {
   "cell_type": "code",
   "execution_count": null,
   "metadata": {},
   "outputs": [],
   "source": [
    "a = int(input(\"첫번째 점수를 입력주세요: \"))\n",
    "b = int(input(\"두번째 점수를 입력주세요: \"))\n",
    "c = int(input(\"셋번째 점수를 입력주세요: \"))"
   ]
  },
  {
   "cell_type": "code",
   "execution_count": null,
   "metadata": {},
   "outputs": [],
   "source": [
    "if ((0 <= a <= 100) and (0 <= b <= 100) and (0 <= c <= 100)):\n",
    "    if (a > 65 and b > 65 and c >65):\n",
    "        print(\"합격\")\n",
    "else:\n",
    "    print(\"잘못된 점수가 입력되었습니다.\")"
   ]
  },
  {
   "cell_type": "code",
   "execution_count": null,
   "metadata": {},
   "outputs": [],
   "source": [
    "d = int(input(\"첫번째 점수를 입력주세요: \"))\n",
    "e = int(input(\"두번째 점수를 입력주세요: \"))\n",
    "f = int(input(\"셋번째 점수를 입력주세요: \"))"
   ]
  },
  {
   "cell_type": "code",
   "execution_count": null,
   "metadata": {},
   "outputs": [],
   "source": [
    "if ((0 <= d <= 100) and (0 <= e <= 100) and (0 <= f <= 100)):\n",
    "    if (d > 65 and e > 65 and f >65):\n",
    "        print(\"합격\")\n",
    "else:\n",
    "    print(\"잘못된 점수가 입력되었습니다.\")"
   ]
  },
  {
   "cell_type": "code",
   "execution_count": null,
   "metadata": {},
   "outputs": [],
   "source": [
    "x = int(input(\"첫번째 점수를 입력주세요: \"))\n",
    "y = int(input(\"두번째 점수를 입력주세요: \"))\n",
    "z = int(input(\"셋번째 점수를 입력주세요: \"))"
   ]
  },
  {
   "cell_type": "code",
   "execution_count": null,
   "metadata": {},
   "outputs": [],
   "source": [
    "if ((0 <= x <= 100) and (0 <= y <= 100) and (0 <= z <= 100)):\n",
    "    if (x > 65 and y > 65 and z >65):\n",
    "        print(\"합격\")\n",
    "    if (x < 65 or y < 65 or z <65):\n",
    "        print(\"불합격\")\n",
    "else:\n",
    "    print(\"잘못된 점수가 입력되었습니다.\")"
   ]
  },
  {
   "cell_type": "code",
   "execution_count": 1,
   "metadata": {},
   "outputs": [],
   "source": [
    "fruit = [\"사과\", \"오렌지\"]\n",
    "vegetable = [\"당근\", \"호박\"]"
   ]
  },
  {
   "cell_type": "code",
   "execution_count": 2,
   "metadata": {},
   "outputs": [
    {
     "name": "stdout",
     "output_type": "stream",
     "text": [
      "등록할 카테고리를 선택해주세요 (과일,채소):과일\n"
     ]
    }
   ],
   "source": [
    "category = input(\"등록할 카테고리를 선택해주세요 (과일,채소):\")"
   ]
  },
  {
   "cell_type": "code",
   "execution_count": 3,
   "metadata": {},
   "outputs": [
    {
     "name": "stdout",
     "output_type": "stream",
     "text": [
      "등록할 과일를 입력해주세요.채소\n"
     ]
    }
   ],
   "source": [
    "item = input(\"등록할 {}를 입력해주세요.\".format(category))"
   ]
  },
  {
   "cell_type": "code",
   "execution_count": 4,
   "metadata": {},
   "outputs": [
    {
     "name": "stdout",
     "output_type": "stream",
     "text": [
      "['사과', '오렌지', '채소']\n"
     ]
    }
   ],
   "source": [
    "if category in [\"과일\", \"채소\"]:\n",
    "    if category == \"과일\":\n",
    "        if item in fruit:\n",
    "            print(\"이미 동록된 {} 입니다.\".format(category))\n",
    "        else:\n",
    "            fruit.append(item)\n",
    "            print(fruit)\n",
    "    else:\n",
    "        if item in vegetable:\n",
    "            print(\"이미 동록된 {} 입니다.\".format(category))\n",
    "        else:\n",
    "            vegetable.append(item)\n",
    "            print(vegetable)\n",
    "            \n",
    "else:\n",
    "    print(\"존재하지 않는 카테고리입니다.\")"
   ]
  },
  {
   "cell_type": "code",
   "execution_count": null,
   "metadata": {},
   "outputs": [],
   "source": [
    "for i in {\"name\": \"tom\", \"math\":80, \"english\":70}:\n",
    "    print(i, end=\" \")"
   ]
  },
  {
   "cell_type": "code",
   "execution_count": null,
   "metadata": {},
   "outputs": [],
   "source": [
    "for k, v in {\"name\": \"tom\", \"math\":80, \"english\":70}.items():\n",
    "    print(\"key: {}, value: {}\".format(k, v))"
   ]
  },
  {
   "cell_type": "code",
   "execution_count": null,
   "metadata": {},
   "outputs": [],
   "source": [
    "for i in range(5):\n",
    "    print(\"*\"*10, i)\n",
    "    for j in range(5):\n",
    "        print(\"j : \",j)"
   ]
  },
  {
   "cell_type": "code",
   "execution_count": null,
   "metadata": {},
   "outputs": [],
   "source": [
    "for i in range(5):\n",
    "    print(\"*\"*10, i)\n",
    "    for i in range(10, 15):\n",
    "        print(\"i : \",i)"
   ]
  },
  {
   "cell_type": "code",
   "execution_count": null,
   "metadata": {},
   "outputs": [],
   "source": [
    "for idx, item in enumerate(fruit):\n",
    "    print(\"{} : {}\".format(ind,item))"
   ]
  },
  {
   "cell_type": "code",
   "execution_count": 14,
   "metadata": {},
   "outputs": [],
   "source": [
    "x = [3,6,9,20,-7,5]"
   ]
  },
  {
   "cell_type": "code",
   "execution_count": 18,
   "metadata": {},
   "outputs": [
    {
     "data": {
      "text/plain": [
       "[30, 60, 90, 200, -70, 50]"
      ]
     },
     "execution_count": 18,
     "metadata": {},
     "output_type": "execute_result"
    }
   ],
   "source": [
    "for idx in range(len(x)):\n",
    "    x[idx] *= 10\n",
    "x "
   ]
  },
  {
   "cell_type": "code",
   "execution_count": 19,
   "metadata": {},
   "outputs": [],
   "source": [
    "y = {\"math\": 70, \"science\":80 , \"english\":20 }"
   ]
  },
  {
   "cell_type": "code",
   "execution_count": 20,
   "metadata": {},
   "outputs": [
    {
     "data": {
      "text/plain": [
       "{'math': 80, 'science': 90, 'english': 30}"
      ]
     },
     "execution_count": 20,
     "metadata": {},
     "output_type": "execute_result"
    }
   ],
   "source": [
    "for score in y:\n",
    "    y[score]= y[score] + 10\n",
    "y"
   ]
  },
  {
   "cell_type": "code",
   "execution_count": 21,
   "metadata": {},
   "outputs": [
    {
     "name": "stdout",
     "output_type": "stream",
     "text": [
      "몇 단을 출력하시겠습니까?: 3\n"
     ]
    }
   ],
   "source": [
    "dan = int(input(\"몇 단을 출력하시겠습니까?: \"))"
   ]
  },
  {
   "cell_type": "code",
   "execution_count": 22,
   "metadata": {
    "scrolled": true
   },
   "outputs": [
    {
     "name": "stdout",
     "output_type": "stream",
     "text": [
      "3*1=3\n",
      "3*2=6\n",
      "3*3=9\n",
      "3*4=12\n",
      "3*5=15\n",
      "3*6=18\n",
      "3*7=21\n",
      "3*8=24\n"
     ]
    }
   ],
   "source": [
    "for i in range(1,9):\n",
    "    print(\"{}*{}={}\".format(dan,i,dan*i))"
   ]
  },
  {
   "cell_type": "code",
   "execution_count": 28,
   "metadata": {},
   "outputs": [
    {
     "name": "stdout",
     "output_type": "stream",
     "text": [
      "3*1=3\n",
      "3*2=6\n",
      "3*3=9\n",
      "3*4=12\n",
      "3*5=15\n",
      "3*6=18\n",
      "3*7=21\n",
      "3*8=24\n"
     ]
    }
   ],
   "source": [
    "for i in range(1,9):\n",
    "    print(f\"{dan}*{i}={dan*i}\")"
   ]
  },
  {
   "cell_type": "code",
   "execution_count": 35,
   "metadata": {},
   "outputs": [],
   "source": [
    "i = 0"
   ]
  },
  {
   "cell_type": "code",
   "execution_count": 36,
   "metadata": {},
   "outputs": [
    {
     "name": "stdout",
     "output_type": "stream",
     "text": [
      "5를 입력하면 반복이 중단 됩니다.1\n",
      "5를 입력하면 반복이 중단 됩니다.50\n",
      "5를 입력하면 반복이 중단 됩니다.5\n"
     ]
    }
   ],
   "source": [
    "while i!=5:\n",
    "    i = int(input(\"5를 입력하면 반복이 중단 됩니다.\"))"
   ]
  },
  {
   "cell_type": "code",
   "execution_count": 50,
   "metadata": {},
   "outputs": [
    {
     "ename": "SyntaxError",
     "evalue": "invalid syntax (<ipython-input-50-2fa668ef93ff>, line 4)",
     "output_type": "error",
     "traceback": [
      "\u001b[1;36m  File \u001b[1;32m\"<ipython-input-50-2fa668ef93ff>\"\u001b[1;36m, line \u001b[1;32m4\u001b[0m\n\u001b[1;33m    if i == 0, i+=i\u001b[0m\n\u001b[1;37m             ^\u001b[0m\n\u001b[1;31mSyntaxError\u001b[0m\u001b[1;31m:\u001b[0m invalid syntax\n"
     ]
    }
   ],
   "source": [
    "i = 30\n",
    "while i !=0:\n",
    "    i = int(input(\"갑을 입력해주세요: \"))\n",
    "    if i == 0, i+=i"
   ]
  },
  {
   "cell_type": "code",
   "execution_count": null,
   "metadata": {},
   "outputs": [],
   "source": []
  }
 ],
 "metadata": {
  "kernelspec": {
   "display_name": "Python 3",
   "language": "python",
   "name": "python3"
  },
  "language_info": {
   "codemirror_mode": {
    "name": "ipython",
    "version": 3
   },
   "file_extension": ".py",
   "mimetype": "text/x-python",
   "name": "python",
   "nbconvert_exporter": "python",
   "pygments_lexer": "ipython3",
   "version": "3.8.5"
  }
 },
 "nbformat": 4,
 "nbformat_minor": 4
}
