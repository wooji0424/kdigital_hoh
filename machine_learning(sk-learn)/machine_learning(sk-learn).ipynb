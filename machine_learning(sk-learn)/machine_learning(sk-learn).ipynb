{
 "cells": [
  {
   "cell_type": "markdown",
   "metadata": {},
   "source": [
    "# sklearn 모델 프로세싱\n",
    "Features : 데이터의 변수를 특징이라고합니다. 예측 변수라고도합니다.\n",
    "입력 또는 속성.\n",
    "\n",
    " Feature matrix : 하나 이상의 기능이있는 경우 기능 모음입니다.\n",
    "\n",
    " Feature Names : 기능의 모든 이름의 목록입니다.\n",
    "\n",
    "\n",
    "Response : 기본적으로 기능 변수에 따라 달라지는 출력 변수입니다. 대상, 레이블 또는 출력이라고도합니다.\n",
    "\n",
    " Response Vector : 응답 열을 나타내는 데 사용됩니다. 일반적으로 응답 열은 하나만 있습니다.\n",
    "\n",
    " Target Names : 응답 벡터가 취할 수있는 값을 나타냅니다.\n",
    "\n",
    "Scikit-learn에는 분류를위한 홍채 및 숫자와 회귀를위한 보스턴 주택 가격과 같은 예제 데이터 세트가 거의 없습니다.\n",
    "다음은 홍채 데이터 세트를로드하는 예입니다."
   ]
  },
  {
   "cell_type": "markdown",
   "metadata": {},
   "source": [
    "# Dataset Loading"
   ]
  },
  {
   "cell_type": "code",
   "execution_count": 13,
   "metadata": {},
   "outputs": [
    {
     "name": "stdout",
     "output_type": "stream",
     "text": [
      "Feature names: ['sepal length (cm)', 'sepal width (cm)', 'petal length (cm)', 'petal width (cm)']\n"
     ]
    }
   ],
   "source": [
    "from sklearn.datasets import load_iris\n",
    "iris = load_iris()\n",
    "X = iris.data\n",
    "y = iris.target\n",
    "feature_names = iris.feature_names\n",
    "target_names = iris.target_names\n",
    "print(\"Feature names:\", feature_names) "
   ]
  },
  {
   "cell_type": "code",
   "execution_count": 14,
   "metadata": {},
   "outputs": [
    {
     "name": "stdout",
     "output_type": "stream",
     "text": [
      "Target names: ['setosa' 'versicolor' 'virginica']\n",
      "\n",
      "First 10 rows of X:\n",
      " [[5.1 3.5 1.4 0.2]\n",
      " [4.9 3.  1.4 0.2]\n",
      " [4.7 3.2 1.3 0.2]\n",
      " [4.6 3.1 1.5 0.2]\n",
      " [5.  3.6 1.4 0.2]\n",
      " [5.4 3.9 1.7 0.4]\n",
      " [4.6 3.4 1.4 0.3]\n",
      " [5.  3.4 1.5 0.2]\n",
      " [4.4 2.9 1.4 0.2]\n",
      " [4.9 3.1 1.5 0.1]]\n"
     ]
    }
   ],
   "source": [
    "print(\"Target names:\", target_names)\n",
    "print(\"\\nFirst 10 rows of X:\\n\", X[:10])"
   ]
  },
  {
   "cell_type": "code",
   "execution_count": 15,
   "metadata": {},
   "outputs": [
    {
     "data": {
      "text/plain": [
       "{'data': array([[5.1, 3.5, 1.4, 0.2],\n",
       "        [4.9, 3. , 1.4, 0.2],\n",
       "        [4.7, 3.2, 1.3, 0.2],\n",
       "        [4.6, 3.1, 1.5, 0.2],\n",
       "        [5. , 3.6, 1.4, 0.2],\n",
       "        [5.4, 3.9, 1.7, 0.4],\n",
       "        [4.6, 3.4, 1.4, 0.3],\n",
       "        [5. , 3.4, 1.5, 0.2],\n",
       "        [4.4, 2.9, 1.4, 0.2],\n",
       "        [4.9, 3.1, 1.5, 0.1],\n",
       "        [5.4, 3.7, 1.5, 0.2],\n",
       "        [4.8, 3.4, 1.6, 0.2],\n",
       "        [4.8, 3. , 1.4, 0.1],\n",
       "        [4.3, 3. , 1.1, 0.1],\n",
       "        [5.8, 4. , 1.2, 0.2],\n",
       "        [5.7, 4.4, 1.5, 0.4],\n",
       "        [5.4, 3.9, 1.3, 0.4],\n",
       "        [5.1, 3.5, 1.4, 0.3],\n",
       "        [5.7, 3.8, 1.7, 0.3],\n",
       "        [5.1, 3.8, 1.5, 0.3],\n",
       "        [5.4, 3.4, 1.7, 0.2],\n",
       "        [5.1, 3.7, 1.5, 0.4],\n",
       "        [4.6, 3.6, 1. , 0.2],\n",
       "        [5.1, 3.3, 1.7, 0.5],\n",
       "        [4.8, 3.4, 1.9, 0.2],\n",
       "        [5. , 3. , 1.6, 0.2],\n",
       "        [5. , 3.4, 1.6, 0.4],\n",
       "        [5.2, 3.5, 1.5, 0.2],\n",
       "        [5.2, 3.4, 1.4, 0.2],\n",
       "        [4.7, 3.2, 1.6, 0.2],\n",
       "        [4.8, 3.1, 1.6, 0.2],\n",
       "        [5.4, 3.4, 1.5, 0.4],\n",
       "        [5.2, 4.1, 1.5, 0.1],\n",
       "        [5.5, 4.2, 1.4, 0.2],\n",
       "        [4.9, 3.1, 1.5, 0.2],\n",
       "        [5. , 3.2, 1.2, 0.2],\n",
       "        [5.5, 3.5, 1.3, 0.2],\n",
       "        [4.9, 3.6, 1.4, 0.1],\n",
       "        [4.4, 3. , 1.3, 0.2],\n",
       "        [5.1, 3.4, 1.5, 0.2],\n",
       "        [5. , 3.5, 1.3, 0.3],\n",
       "        [4.5, 2.3, 1.3, 0.3],\n",
       "        [4.4, 3.2, 1.3, 0.2],\n",
       "        [5. , 3.5, 1.6, 0.6],\n",
       "        [5.1, 3.8, 1.9, 0.4],\n",
       "        [4.8, 3. , 1.4, 0.3],\n",
       "        [5.1, 3.8, 1.6, 0.2],\n",
       "        [4.6, 3.2, 1.4, 0.2],\n",
       "        [5.3, 3.7, 1.5, 0.2],\n",
       "        [5. , 3.3, 1.4, 0.2],\n",
       "        [7. , 3.2, 4.7, 1.4],\n",
       "        [6.4, 3.2, 4.5, 1.5],\n",
       "        [6.9, 3.1, 4.9, 1.5],\n",
       "        [5.5, 2.3, 4. , 1.3],\n",
       "        [6.5, 2.8, 4.6, 1.5],\n",
       "        [5.7, 2.8, 4.5, 1.3],\n",
       "        [6.3, 3.3, 4.7, 1.6],\n",
       "        [4.9, 2.4, 3.3, 1. ],\n",
       "        [6.6, 2.9, 4.6, 1.3],\n",
       "        [5.2, 2.7, 3.9, 1.4],\n",
       "        [5. , 2. , 3.5, 1. ],\n",
       "        [5.9, 3. , 4.2, 1.5],\n",
       "        [6. , 2.2, 4. , 1. ],\n",
       "        [6.1, 2.9, 4.7, 1.4],\n",
       "        [5.6, 2.9, 3.6, 1.3],\n",
       "        [6.7, 3.1, 4.4, 1.4],\n",
       "        [5.6, 3. , 4.5, 1.5],\n",
       "        [5.8, 2.7, 4.1, 1. ],\n",
       "        [6.2, 2.2, 4.5, 1.5],\n",
       "        [5.6, 2.5, 3.9, 1.1],\n",
       "        [5.9, 3.2, 4.8, 1.8],\n",
       "        [6.1, 2.8, 4. , 1.3],\n",
       "        [6.3, 2.5, 4.9, 1.5],\n",
       "        [6.1, 2.8, 4.7, 1.2],\n",
       "        [6.4, 2.9, 4.3, 1.3],\n",
       "        [6.6, 3. , 4.4, 1.4],\n",
       "        [6.8, 2.8, 4.8, 1.4],\n",
       "        [6.7, 3. , 5. , 1.7],\n",
       "        [6. , 2.9, 4.5, 1.5],\n",
       "        [5.7, 2.6, 3.5, 1. ],\n",
       "        [5.5, 2.4, 3.8, 1.1],\n",
       "        [5.5, 2.4, 3.7, 1. ],\n",
       "        [5.8, 2.7, 3.9, 1.2],\n",
       "        [6. , 2.7, 5.1, 1.6],\n",
       "        [5.4, 3. , 4.5, 1.5],\n",
       "        [6. , 3.4, 4.5, 1.6],\n",
       "        [6.7, 3.1, 4.7, 1.5],\n",
       "        [6.3, 2.3, 4.4, 1.3],\n",
       "        [5.6, 3. , 4.1, 1.3],\n",
       "        [5.5, 2.5, 4. , 1.3],\n",
       "        [5.5, 2.6, 4.4, 1.2],\n",
       "        [6.1, 3. , 4.6, 1.4],\n",
       "        [5.8, 2.6, 4. , 1.2],\n",
       "        [5. , 2.3, 3.3, 1. ],\n",
       "        [5.6, 2.7, 4.2, 1.3],\n",
       "        [5.7, 3. , 4.2, 1.2],\n",
       "        [5.7, 2.9, 4.2, 1.3],\n",
       "        [6.2, 2.9, 4.3, 1.3],\n",
       "        [5.1, 2.5, 3. , 1.1],\n",
       "        [5.7, 2.8, 4.1, 1.3],\n",
       "        [6.3, 3.3, 6. , 2.5],\n",
       "        [5.8, 2.7, 5.1, 1.9],\n",
       "        [7.1, 3. , 5.9, 2.1],\n",
       "        [6.3, 2.9, 5.6, 1.8],\n",
       "        [6.5, 3. , 5.8, 2.2],\n",
       "        [7.6, 3. , 6.6, 2.1],\n",
       "        [4.9, 2.5, 4.5, 1.7],\n",
       "        [7.3, 2.9, 6.3, 1.8],\n",
       "        [6.7, 2.5, 5.8, 1.8],\n",
       "        [7.2, 3.6, 6.1, 2.5],\n",
       "        [6.5, 3.2, 5.1, 2. ],\n",
       "        [6.4, 2.7, 5.3, 1.9],\n",
       "        [6.8, 3. , 5.5, 2.1],\n",
       "        [5.7, 2.5, 5. , 2. ],\n",
       "        [5.8, 2.8, 5.1, 2.4],\n",
       "        [6.4, 3.2, 5.3, 2.3],\n",
       "        [6.5, 3. , 5.5, 1.8],\n",
       "        [7.7, 3.8, 6.7, 2.2],\n",
       "        [7.7, 2.6, 6.9, 2.3],\n",
       "        [6. , 2.2, 5. , 1.5],\n",
       "        [6.9, 3.2, 5.7, 2.3],\n",
       "        [5.6, 2.8, 4.9, 2. ],\n",
       "        [7.7, 2.8, 6.7, 2. ],\n",
       "        [6.3, 2.7, 4.9, 1.8],\n",
       "        [6.7, 3.3, 5.7, 2.1],\n",
       "        [7.2, 3.2, 6. , 1.8],\n",
       "        [6.2, 2.8, 4.8, 1.8],\n",
       "        [6.1, 3. , 4.9, 1.8],\n",
       "        [6.4, 2.8, 5.6, 2.1],\n",
       "        [7.2, 3. , 5.8, 1.6],\n",
       "        [7.4, 2.8, 6.1, 1.9],\n",
       "        [7.9, 3.8, 6.4, 2. ],\n",
       "        [6.4, 2.8, 5.6, 2.2],\n",
       "        [6.3, 2.8, 5.1, 1.5],\n",
       "        [6.1, 2.6, 5.6, 1.4],\n",
       "        [7.7, 3. , 6.1, 2.3],\n",
       "        [6.3, 3.4, 5.6, 2.4],\n",
       "        [6.4, 3.1, 5.5, 1.8],\n",
       "        [6. , 3. , 4.8, 1.8],\n",
       "        [6.9, 3.1, 5.4, 2.1],\n",
       "        [6.7, 3.1, 5.6, 2.4],\n",
       "        [6.9, 3.1, 5.1, 2.3],\n",
       "        [5.8, 2.7, 5.1, 1.9],\n",
       "        [6.8, 3.2, 5.9, 2.3],\n",
       "        [6.7, 3.3, 5.7, 2.5],\n",
       "        [6.7, 3. , 5.2, 2.3],\n",
       "        [6.3, 2.5, 5. , 1.9],\n",
       "        [6.5, 3. , 5.2, 2. ],\n",
       "        [6.2, 3.4, 5.4, 2.3],\n",
       "        [5.9, 3. , 5.1, 1.8]]),\n",
       " 'target': array([0, 0, 0, 0, 0, 0, 0, 0, 0, 0, 0, 0, 0, 0, 0, 0, 0, 0, 0, 0, 0, 0,\n",
       "        0, 0, 0, 0, 0, 0, 0, 0, 0, 0, 0, 0, 0, 0, 0, 0, 0, 0, 0, 0, 0, 0,\n",
       "        0, 0, 0, 0, 0, 0, 1, 1, 1, 1, 1, 1, 1, 1, 1, 1, 1, 1, 1, 1, 1, 1,\n",
       "        1, 1, 1, 1, 1, 1, 1, 1, 1, 1, 1, 1, 1, 1, 1, 1, 1, 1, 1, 1, 1, 1,\n",
       "        1, 1, 1, 1, 1, 1, 1, 1, 1, 1, 1, 1, 2, 2, 2, 2, 2, 2, 2, 2, 2, 2,\n",
       "        2, 2, 2, 2, 2, 2, 2, 2, 2, 2, 2, 2, 2, 2, 2, 2, 2, 2, 2, 2, 2, 2,\n",
       "        2, 2, 2, 2, 2, 2, 2, 2, 2, 2, 2, 2, 2, 2, 2, 2, 2, 2]),\n",
       " 'frame': None,\n",
       " 'target_names': array(['setosa', 'versicolor', 'virginica'], dtype='<U10'),\n",
       " 'DESCR': '.. _iris_dataset:\\n\\nIris plants dataset\\n--------------------\\n\\n**Data Set Characteristics:**\\n\\n    :Number of Instances: 150 (50 in each of three classes)\\n    :Number of Attributes: 4 numeric, predictive attributes and the class\\n    :Attribute Information:\\n        - sepal length in cm\\n        - sepal width in cm\\n        - petal length in cm\\n        - petal width in cm\\n        - class:\\n                - Iris-Setosa\\n                - Iris-Versicolour\\n                - Iris-Virginica\\n                \\n    :Summary Statistics:\\n\\n    ============== ==== ==== ======= ===== ====================\\n                    Min  Max   Mean    SD   Class Correlation\\n    ============== ==== ==== ======= ===== ====================\\n    sepal length:   4.3  7.9   5.84   0.83    0.7826\\n    sepal width:    2.0  4.4   3.05   0.43   -0.4194\\n    petal length:   1.0  6.9   3.76   1.76    0.9490  (high!)\\n    petal width:    0.1  2.5   1.20   0.76    0.9565  (high!)\\n    ============== ==== ==== ======= ===== ====================\\n\\n    :Missing Attribute Values: None\\n    :Class Distribution: 33.3% for each of 3 classes.\\n    :Creator: R.A. Fisher\\n    :Donor: Michael Marshall (MARSHALL%PLU@io.arc.nasa.gov)\\n    :Date: July, 1988\\n\\nThe famous Iris database, first used by Sir R.A. Fisher. The dataset is taken\\nfrom Fisher\\'s paper. Note that it\\'s the same as in R, but not as in the UCI\\nMachine Learning Repository, which has two wrong data points.\\n\\nThis is perhaps the best known database to be found in the\\npattern recognition literature.  Fisher\\'s paper is a classic in the field and\\nis referenced frequently to this day.  (See Duda & Hart, for example.)  The\\ndata set contains 3 classes of 50 instances each, where each class refers to a\\ntype of iris plant.  One class is linearly separable from the other 2; the\\nlatter are NOT linearly separable from each other.\\n\\n.. topic:: References\\n\\n   - Fisher, R.A. \"The use of multiple measurements in taxonomic problems\"\\n     Annual Eugenics, 7, Part II, 179-188 (1936); also in \"Contributions to\\n     Mathematical Statistics\" (John Wiley, NY, 1950).\\n   - Duda, R.O., & Hart, P.E. (1973) Pattern Classification and Scene Analysis.\\n     (Q327.D83) John Wiley & Sons.  ISBN 0-471-22361-1.  See page 218.\\n   - Dasarathy, B.V. (1980) \"Nosing Around the Neighborhood: A New System\\n     Structure and Classification Rule for Recognition in Partially Exposed\\n     Environments\".  IEEE Transactions on Pattern Analysis and Machine\\n     Intelligence, Vol. PAMI-2, No. 1, 67-71.\\n   - Gates, G.W. (1972) \"The Reduced Nearest Neighbor Rule\".  IEEE Transactions\\n     on Information Theory, May 1972, 431-433.\\n   - See also: 1988 MLC Proceedings, 54-64.  Cheeseman et al\"s AUTOCLASS II\\n     conceptual clustering system finds 3 classes in the data.\\n   - Many, many more ...',\n",
       " 'feature_names': ['sepal length (cm)',\n",
       "  'sepal width (cm)',\n",
       "  'petal length (cm)',\n",
       "  'petal width (cm)'],\n",
       " 'filename': 'c:\\\\users\\\\james\\\\appdata\\\\local\\\\programs\\\\python\\\\python37\\\\lib\\\\site-packages\\\\sklearn\\\\datasets\\\\data\\\\iris.csv'}"
      ]
     },
     "execution_count": 15,
     "metadata": {},
     "output_type": "execute_result"
    }
   ],
   "source": [
    "iris"
   ]
  },
  {
   "cell_type": "markdown",
   "metadata": {},
   "source": [
    "모델의 정확성을 확인하기 위해 데이터 세트를 두 부분으로 분할 할 수 있습니다.\n",
    "세트 및 테스트 세트. 학습 세트를 사용하여 모델을 학습시키고 테스트 세트를 사용하여 모델을 테스트합니다. 그 후 모델이 얼마나 잘했는지 평가할 수 있습니다.\n",
    "다음 예에서는 데이터를 70:30 비율로 분할합니다. 즉, 70 % 데이터가 학습 데이터로 사용되고 30 %가 테스트 데이터로 사용됩니다. 데이터 셋은 위의 예에서와 같이 홍채 데이터 셋입니다."
   ]
  },
  {
   "cell_type": "markdown",
   "metadata": {},
   "source": [
    "# Splitting the dataset"
   ]
  },
  {
   "cell_type": "code",
   "execution_count": 16,
   "metadata": {},
   "outputs": [
    {
     "name": "stdout",
     "output_type": "stream",
     "text": [
      "(105, 4)\n",
      "(45, 4)\n",
      "(105,)\n",
      "(45,)\n"
     ]
    }
   ],
   "source": [
    "from sklearn.model_selection import train_test_split\n",
    "X_train, X_test, y_train, y_test = train_test_split(X, y, test_size=0.3,\n",
    "random_state=1)\n",
    "print(X_train.shape)\n",
    "print(X_test.shape)\n",
    "print(y_train.shape)\n",
    "print(y_test.shape)"
   ]
  },
  {
   "cell_type": "markdown",
   "metadata": {},
   "source": [
    "위의 예에서 볼 수 있듯이 scikit-learn의 train_test_split () 함수를 사용하여\n",
    "데이터 세트. 이 함수에는 다음 인수가 있습니다.\n",
    " X, y : 여기서 X는 특성 행렬이고 y는 분할해야하는 응답 벡터입니다.\n",
    " test_size : 주어진 총 데이터에 대한 테스트 데이터의 비율을 나타냅니다.\n",
    "위의 예에서와 같이 X의 150 행에 대해 test_data = 0.3을 설정합니다. 150 * 0.3 = 45 행의 테스트 데이터를 생성합니다.\n",
    " random_size : 분할이 항상 동일하다는 것을 보장하는 데 사용됩니다.\n",
    "이는 재현 가능한 결과를 원하는 상황에서 유용합니다."
   ]
  },
  {
   "cell_type": "markdown",
   "metadata": {},
   "source": [
    "# Train the Model"
   ]
  },
  {
   "cell_type": "markdown",
   "metadata": {},
   "source": [
    "모델 훈련\n",
    "다음으로 데이터 세트를 사용하여 예측 모델을 훈련 할 수 있습니다. 논의한 바와 같이 scikit-learn에는 일관된 인터페이스를 가진 광범위한 기계 학습 (ML) 알고리즘이 있습니다.\n",
    "피팅, 정확도 예측, 리콜 등\n",
    "아래 예에서는 KNN (K 개의 최근 접 이웃) 분류기를 사용할 것입니다."
   ]
  },
  {
   "cell_type": "code",
   "execution_count": 21,
   "metadata": {},
   "outputs": [
    {
     "name": "stdout",
     "output_type": "stream",
     "text": [
      "Accuracy: 0.9777777777777777\n",
      "Predictions: ['versicolor', 'virginica']\n"
     ]
    }
   ],
   "source": [
    "from sklearn.neighbors import KNeighborsClassifier\n",
    "from sklearn import metrics\n",
    "classifier_knn = KNeighborsClassifier(n_neighbors=3)\n",
    "classifier_knn.fit(X_train, y_train)\n",
    "y_pred = classifier_knn.predict(X_test)\n",
    "# 실제 응답 값 (y_test)과 예측 응답 값 (y_pred)을 비교하여 정확도 찾기\n",
    "print(\"Accuracy:\", metrics.accuracy_score(y_test, y_pred))\n",
    "# 샘플 데이터를 제공하면 모델이 해당 데이터에서 예측을 수행합니다.\n",
    "sample = [[5, 5, 3, 2], [2, 4, 3, 5]]\n",
    "preds = classifier_knn.predict(sample)\n",
    "pred_species = [iris.target_names[p] for p in preds] \n",
    "print(\"Predictions:\",pred_species)"
   ]
  },
  {
   "cell_type": "markdown",
   "metadata": {},
   "source": [
    "# Model Persistence(모델 지속성)"
   ]
  },
  {
   "cell_type": "markdown",
   "metadata": {},
   "source": [
    "모델을 학습 한 후에는 나중에 다시 사용할 필요가 없도록 모델을 유지하는 것이 바람직합니다. joblib 패키지의 덤프 및로드 기능을 사용하여 수행 할 수 있습니다.\n",
    "향후 사용을 위해 위의 학습 된 모델 (classifier_knn)을 저장하는 아래 예제를 고려하십시오."
   ]
  },
  {
   "cell_type": "code",
   "execution_count": 25,
   "metadata": {},
   "outputs": [
    {
     "data": {
      "text/plain": [
       "['iris_classifier_knn.joblib']"
      ]
     },
     "execution_count": 25,
     "metadata": {},
     "output_type": "execute_result"
    }
   ],
   "source": [
    "from joblib import dump, load\n",
    "\n",
    "dump(classifier_knn, 'iris_classifier_knn.joblib')"
   ]
  },
  {
   "cell_type": "markdown",
   "metadata": {},
   "source": [
    "위의 코드는 모델을 iris_classifier_knn.joblib라는 파일에 저장합니다. 이제 다음 코드를 사용하여 파일에서 개체를 다시로드 할 수 있습니다."
   ]
  },
  {
   "cell_type": "code",
   "execution_count": 26,
   "metadata": {},
   "outputs": [
    {
     "data": {
      "text/plain": [
       "KNeighborsClassifier(n_neighbors=3)"
      ]
     },
     "execution_count": 26,
     "metadata": {},
     "output_type": "execute_result"
    }
   ],
   "source": [
    "load('iris_classifier_knn.joblib')"
   ]
  },
  {
   "cell_type": "markdown",
   "metadata": {},
   "source": [
    "우리는 많은 데이터를 다루고 있고 그 데이터는 원시 형태이기 때문에 해당 데이터를 기계 학습 알고리즘에 입력하기 전에 의미있는 데이터로 변환해야합니다. 이 프로세스를 데이터 전처리라고합니다. Scikit-learn에는이를 위해 사전 처리라는 패키지가 있습니다. 전처리 패키지에는 다음과 같은 기술이 있습니다."
   ]
  },
  {
   "cell_type": "markdown",
   "metadata": {},
   "source": [
    "# Binarisation(이진화)"
   ]
  },
  {
   "cell_type": "markdown",
   "metadata": {},
   "source": [
    "이 전처리 기술은 숫자 값을 부울 값으로 변환해야 할 때 사용됩니다."
   ]
  },
  {
   "cell_type": "markdown",
   "metadata": {},
   "source": [
    "# example"
   ]
  },
  {
   "cell_type": "code",
   "execution_count": 31,
   "metadata": {},
   "outputs": [
    {
     "name": "stdout",
     "output_type": "stream",
     "text": [
      "\n",
      "Binarized data:\n",
      " [[1. 0. 1.]\n",
      " [0. 1. 1.]\n",
      " [0. 0. 1.]\n",
      " [1. 1. 0.]]\n"
     ]
    }
   ],
   "source": [
    "import numpy as np\n",
    "from sklearn import preprocessing\n",
    "input_data = np.array([[2.1, -1.9, 5.5],\n",
    "                      [-1.5, 2.4, 3.5], \n",
    "                      [0.5, -7.9, 5.6], \n",
    "                      [5.9, 2.3, -5.8]])\n",
    "data_binarized = preprocessing.Binarizer(threshold=0.5).transform(input_data)\n",
    "print(\"\\nBinarized data:\\n\", data_binarized)\n"
   ]
  },
  {
   "cell_type": "markdown",
   "metadata": {},
   "source": [
    "# Mean Removal"
   ]
  },
  {
   "cell_type": "markdown",
   "metadata": {},
   "source": [
    "이 기술은 모든 특성이 0에 집중되도록 특성 벡터에서 평균을 제거하는 데 사용됩니다."
   ]
  },
  {
   "cell_type": "markdown",
   "metadata": {},
   "source": [
    "# example"
   ]
  },
  {
   "cell_type": "code",
   "execution_count": 34,
   "metadata": {},
   "outputs": [
    {
     "name": "stdout",
     "output_type": "stream",
     "text": [
      "Mean = [ 1.75  -1.275  2.2  ]\n",
      "Stddeviation =  [2.71431391 4.20022321 4.69414529]\n",
      "Mean_removed = [1.11022302e-16 0.00000000e+00 0.00000000e+00]\n",
      "Stddeviation_removed = [1. 1. 1.]\n"
     ]
    }
   ],
   "source": [
    "import numpy as np\n",
    "from sklearn import preprocessing\n",
    "input_data = np.array([[2.1, -1.9, 5.5],\n",
    "                      [-1.5, 2.4, 3.5], \n",
    "                      [0.5, -7.9, 5.6], \n",
    "                      [5.9, 2.3, -5.8]])\n",
    "# 입력 데이터의 평균과 표준 편차 표시\n",
    "print(\"Mean =\", input_data.mean(axis=0))\n",
    "print(\"Stddeviation = \", input_data.std(axis=0))\n",
    "\n",
    "# 입력 데이터의 평균과 표준 편차 제거\n",
    "data_scaled = preprocessing.scale(input_data)\n",
    "print(\"Mean_removed =\", data_scaled.mean(axis=0))\n",
    "print(\"Stddeviation_removed =\", data_scaled.std(axis=0))"
   ]
  },
  {
   "cell_type": "markdown",
   "metadata": {},
   "source": [
    "# Scaling"
   ]
  },
  {
   "cell_type": "markdown",
   "metadata": {},
   "source": [
    "이 전처리 기술을 사용하여 특징 벡터를 확장합니다. 특성이 종합적으로 크거나 작 으면 안되므로 특성 벡터의 크기 조정이 중요합니다."
   ]
  },
  {
   "cell_type": "code",
   "execution_count": 35,
   "metadata": {},
   "outputs": [
    {
     "name": "stdout",
     "output_type": "stream",
     "text": [
      "\n",
      "Min max scaled data:\n",
      " [[0.48648649 0.58252427 0.99122807]\n",
      " [0.         1.         0.81578947]\n",
      " [0.27027027 0.         1.        ]\n",
      " [1.         0.99029126 0.        ]]\n"
     ]
    }
   ],
   "source": [
    "import numpy as np\n",
    "from sklearn import preprocessing\n",
    "input_data = np.array([[2.1, -1.9, 5.5],\n",
    "                      [-1.5, 2.4, 3.5], \n",
    "                      [0.5, -7.9, 5.6], \n",
    "                      [5.9, 2.3, -5.8]])\n",
    "\n",
    "data_scaler_minmax = preprocessing.MinMaxScaler(feature_range=(0,1))\n",
    "data_scaled_minmax = data_scaler_minmax.fit_transform(input_data)\n",
    "print (\"\\nMin max scaled data:\\n\", data_scaled_minmax)"
   ]
  },
  {
   "cell_type": "markdown",
   "metadata": {},
   "source": [
    "# Normalisation"
   ]
  },
  {
   "cell_type": "markdown",
   "metadata": {},
   "source": [
    "특징 벡터를 수정하기 위해이 전처리 기술을 사용합니다. 특징 벡터를 공통 스케일로 측정하려면 특징 벡터의 정규화가 필요합니다.\n",
    "다음과 같은 두 가지 유형의 정규화가 있습니다."
   ]
  },
  {
   "cell_type": "markdown",
   "metadata": {},
   "source": [
    "# L1 Normalisation"
   ]
  },
  {
   "cell_type": "markdown",
   "metadata": {},
   "source": [
    "최소 절대 편차라고도합니다. 절대 값의 합이 항상 각 행에서 최대 1로 유지되도록 값을 수정합니다. 다음 예제는 입력 데이터에 대한 L1 정규화 구현을 보여줍니다."
   ]
  },
  {
   "cell_type": "code",
   "execution_count": 37,
   "metadata": {},
   "outputs": [
    {
     "name": "stdout",
     "output_type": "stream",
     "text": [
      "\n",
      "L1 normalized data:\n",
      " [[ 0.22105263 -0.2         0.57894737]\n",
      " [-0.2027027   0.32432432  0.47297297]\n",
      " [ 0.03571429 -0.56428571  0.4       ]\n",
      " [ 0.42142857  0.16428571 -0.41428571]]\n"
     ]
    }
   ],
   "source": [
    "import numpy as np\n",
    "from sklearn import preprocessing\n",
    "input_data = np.array([[2.1, -1.9, 5.5],\n",
    "                      [-1.5, 2.4, 3.5], \n",
    "                      [0.5, -7.9, 5.6], \n",
    "                      [5.9, 2.3, -5.8]])\n",
    "data_normalized_l1 = preprocessing.normalize(input_data, norm='l1')\n",
    "print(\"\\nL1 normalized data:\\n\", data_normalized_l1)\n"
   ]
  },
  {
   "cell_type": "markdown",
   "metadata": {},
   "source": [
    "# L2 Normalisation"
   ]
  },
  {
   "cell_type": "markdown",
   "metadata": {},
   "source": [
    "최소 제곱이라고도합니다. 제곱의 합이 각 행에서 항상 1까지 유지되도록 값을 수정합니다. 다음 예제는 입력 데이터에 대한 L2 정규화 구현을 보여줍니다."
   ]
  },
  {
   "cell_type": "code",
   "execution_count": 38,
   "metadata": {},
   "outputs": [
    {
     "name": "stdout",
     "output_type": "stream",
     "text": [
      "\n",
      "L1 normalized data:\n",
      " [[ 0.33946114 -0.30713151  0.88906489]\n",
      " [-0.33325106  0.53320169  0.7775858 ]\n",
      " [ 0.05156558 -0.81473612  0.57753446]\n",
      " [ 0.68706914  0.26784051 -0.6754239 ]]\n"
     ]
    }
   ],
   "source": [
    "import numpy as np\n",
    "from sklearn import preprocessing\n",
    "input_data = np.array([[2.1, -1.9, 5.5],\n",
    "                      [-1.5, 2.4, 3.5], \n",
    "                      [0.5, -7.9, 5.6], \n",
    "                      [5.9, 2.3, -5.8]])\n",
    "data_normalized_l2 = preprocessing.normalize(input_data, norm='l2')\n",
    "print(\"\\nL1 normalized data:\\n\", data_normalized_l2)"
   ]
  },
  {
   "cell_type": "markdown",
   "metadata": {},
   "source": [
    "# Data Representation (데이터 표현)"
   ]
  },
  {
   "cell_type": "markdown",
   "metadata": {},
   "source": [
    "기계 학습이 데이터에서 모델을 생성하려고한다는 것을 알고 있습니다. 이를 위해 컴퓨터는 먼저 데이터를 이해해야합니다. 다음으로 컴퓨터가 이해하기 위해 데이터를 표현하는 다양한 방법에 대해 논의 할 것입니다."
   ]
  },
  {
   "cell_type": "markdown",
   "metadata": {},
   "source": [
    "# Data as table"
   ]
  },
  {
   "cell_type": "markdown",
   "metadata": {},
   "source": [
    "Scikit-learn에서 데이터를 표현하는 가장 좋은 방법은 테이블 형식입니다. 테이블은 행이 데이터 세트의 개별 요소를 나타내고 열이 해당 개별 요소와 관련된 수량을 나타내는 2D 데이터 그리드를 나타냅니다."
   ]
  },
  {
   "cell_type": "code",
   "execution_count": 41,
   "metadata": {},
   "outputs": [
    {
     "name": "stdout",
     "output_type": "stream",
     "text": [
      "Collecting seaborn"
     ]
    },
    {
     "name": "stderr",
     "output_type": "stream",
     "text": [
      "You are using pip version 19.0.3, however version 20.2.2 is available.\n",
      "You should consider upgrading via the 'python -m pip install --upgrade pip' command.\n"
     ]
    },
    {
     "name": "stdout",
     "output_type": "stream",
     "text": [
      "\n",
      "  Downloading https://files.pythonhosted.org/packages/c7/e6/54aaaafd0b87f51dfba92ba73da94151aa3bc179e5fe88fc5dfb3038e860/seaborn-0.10.1-py3-none-any.whl (215kB)\n",
      "Requirement already satisfied: matplotlib>=2.1.2 in c:\\users\\james\\appdata\\local\\programs\\python\\python37\\lib\\site-packages (from seaborn) (3.2.1)\n",
      "Requirement already satisfied: numpy>=1.13.3 in c:\\users\\james\\appdata\\local\\programs\\python\\python37\\lib\\site-packages (from seaborn) (1.18.2)\n",
      "Requirement already satisfied: pandas>=0.22.0 in c:\\users\\james\\appdata\\local\\programs\\python\\python37\\lib\\site-packages (from seaborn) (1.0.4)\n",
      "Requirement already satisfied: scipy>=1.0.1 in c:\\users\\james\\appdata\\local\\programs\\python\\python37\\lib\\site-packages (from seaborn) (1.4.1)\n",
      "Requirement already satisfied: cycler>=0.10 in c:\\users\\james\\appdata\\local\\programs\\python\\python37\\lib\\site-packages (from matplotlib>=2.1.2->seaborn) (0.10.0)\n",
      "Requirement already satisfied: kiwisolver>=1.0.1 in c:\\users\\james\\appdata\\local\\programs\\python\\python37\\lib\\site-packages (from matplotlib>=2.1.2->seaborn) (1.1.0)\n",
      "Requirement already satisfied: python-dateutil>=2.1 in c:\\users\\james\\appdata\\local\\programs\\python\\python37\\lib\\site-packages (from matplotlib>=2.1.2->seaborn) (2.8.1)\n",
      "Requirement already satisfied: pyparsing!=2.0.4,!=2.1.2,!=2.1.6,>=2.0.1 in c:\\users\\james\\appdata\\local\\programs\\python\\python37\\lib\\site-packages (from matplotlib>=2.1.2->seaborn) (2.4.6)\n",
      "Requirement already satisfied: pytz>=2017.2 in c:\\users\\james\\appdata\\local\\programs\\python\\python37\\lib\\site-packages (from pandas>=0.22.0->seaborn) (2020.1)\n",
      "Requirement already satisfied: six in c:\\users\\james\\appdata\\local\\programs\\python\\python37\\lib\\site-packages (from cycler>=0.10->matplotlib>=2.1.2->seaborn) (1.12.0)\n",
      "Requirement already satisfied: setuptools in c:\\users\\james\\appdata\\local\\programs\\python\\python37\\lib\\site-packages (from kiwisolver>=1.0.1->matplotlib>=2.1.2->seaborn) (40.8.0)\n",
      "Installing collected packages: seaborn\n",
      "Successfully installed seaborn-0.10.1\n"
     ]
    }
   ],
   "source": [
    "!pip install seaborn"
   ]
  },
  {
   "cell_type": "code",
   "execution_count": 42,
   "metadata": {},
   "outputs": [
    {
     "data": {
      "text/html": [
       "<div>\n",
       "<style scoped>\n",
       "    .dataframe tbody tr th:only-of-type {\n",
       "        vertical-align: middle;\n",
       "    }\n",
       "\n",
       "    .dataframe tbody tr th {\n",
       "        vertical-align: top;\n",
       "    }\n",
       "\n",
       "    .dataframe thead th {\n",
       "        text-align: right;\n",
       "    }\n",
       "</style>\n",
       "<table border=\"1\" class=\"dataframe\">\n",
       "  <thead>\n",
       "    <tr style=\"text-align: right;\">\n",
       "      <th></th>\n",
       "      <th>sepal_length</th>\n",
       "      <th>sepal_width</th>\n",
       "      <th>petal_length</th>\n",
       "      <th>petal_width</th>\n",
       "      <th>species</th>\n",
       "    </tr>\n",
       "  </thead>\n",
       "  <tbody>\n",
       "    <tr>\n",
       "      <th>0</th>\n",
       "      <td>5.1</td>\n",
       "      <td>3.5</td>\n",
       "      <td>1.4</td>\n",
       "      <td>0.2</td>\n",
       "      <td>setosa</td>\n",
       "    </tr>\n",
       "    <tr>\n",
       "      <th>1</th>\n",
       "      <td>4.9</td>\n",
       "      <td>3.0</td>\n",
       "      <td>1.4</td>\n",
       "      <td>0.2</td>\n",
       "      <td>setosa</td>\n",
       "    </tr>\n",
       "    <tr>\n",
       "      <th>2</th>\n",
       "      <td>4.7</td>\n",
       "      <td>3.2</td>\n",
       "      <td>1.3</td>\n",
       "      <td>0.2</td>\n",
       "      <td>setosa</td>\n",
       "    </tr>\n",
       "    <tr>\n",
       "      <th>3</th>\n",
       "      <td>4.6</td>\n",
       "      <td>3.1</td>\n",
       "      <td>1.5</td>\n",
       "      <td>0.2</td>\n",
       "      <td>setosa</td>\n",
       "    </tr>\n",
       "    <tr>\n",
       "      <th>4</th>\n",
       "      <td>5.0</td>\n",
       "      <td>3.6</td>\n",
       "      <td>1.4</td>\n",
       "      <td>0.2</td>\n",
       "      <td>setosa</td>\n",
       "    </tr>\n",
       "  </tbody>\n",
       "</table>\n",
       "</div>"
      ],
      "text/plain": [
       "   sepal_length  sepal_width  petal_length  petal_width species\n",
       "0           5.1          3.5           1.4          0.2  setosa\n",
       "1           4.9          3.0           1.4          0.2  setosa\n",
       "2           4.7          3.2           1.3          0.2  setosa\n",
       "3           4.6          3.1           1.5          0.2  setosa\n",
       "4           5.0          3.6           1.4          0.2  setosa"
      ]
     },
     "execution_count": 42,
     "metadata": {},
     "output_type": "execute_result"
    }
   ],
   "source": [
    "import seaborn as sns\n",
    "iris = sns.load_dataset('iris')\n",
    "iris.head()"
   ]
  },
  {
   "cell_type": "markdown",
   "metadata": {},
   "source": [
    "위의 출력에서 데이터의 각 행은 관찰 된 단일 꽃을 나타내고 행 수는 데이터 세트의 총 꽃 수를 나타냅니다.\n",
    "일반적으로 행렬의 행을 샘플이라고합니다.\n",
    "반면에 데이터의 각 열은 각 샘플을 설명하는 정량적 정보를 나타냅니다. 일반적으로 행렬의 열을 특성이라고합니다."
   ]
  },
  {
   "cell_type": "markdown",
   "metadata": {},
   "source": [
    "# Data as Feature Matrix"
   ]
  },
  {
   "cell_type": "markdown",
   "metadata": {},
   "source": [
    "특징 행렬은 정보를 2 차원 행렬로 생각할 수있는 테이블 레이아웃으로 정의 할 수 있습니다. X라는 변수에 저장되며 [n_samples, n_features] 모양을 가진 2 차원으로 가정됩니다. 대부분 NumPy 배열 또는 Pandas DataFrame에 포함됩니다. 앞서 말했듯이 샘플은 항상 데이터 세트에서 설명하는 개별 개체를 나타내고 기능은 각 샘플을 정량적으로 설명하는 별개의 관찰을 나타냅니다."
   ]
  },
  {
   "cell_type": "markdown",
   "metadata": {},
   "source": [
    "# Data as Target array"
   ]
  },
  {
   "cell_type": "markdown",
   "metadata": {},
   "source": [
    "X로 표시되는 기능 매트릭스와 함께 대상 배열도 있습니다. 레이블이라고도합니다.\n",
    "y로 표시됩니다. 레이블 또는 대상 배열은 일반적으로 길이가 n_samples 인 1 차원입니다. 일반적으로 NumPy 배열 또는 Pandas 시리즈에 포함됩니다. 대상 배열에는 값, 연속 숫자 값 및 불연속 값이 모두있을 수 있습니다.\n",
    "타겟 어레이는 특성 열과 어떻게 다릅니 까?\n",
    "대상 배열이 일반적으로 데이터에서 예측하려는 양이라는 점을 한 점으로 구분할 수 있습니다. 즉, 통계적 측면에서 종속 변수입니다."
   ]
  },
  {
   "cell_type": "code",
   "execution_count": 43,
   "metadata": {},
   "outputs": [
    {
     "data": {
      "image/png": "[encoded data removed]",
      "text/plain": [
       "<Figure size 950.85x864 with 20 Axes>"
      ]
     },
     "metadata": {},
     "output_type": "display_data"
    }
   ],
   "source": [
    "import seaborn as sns\n",
    "iris = sns.load_dataset('iris')\n",
    "%matplotlib inline\n",
    "import seaborn as sns; sns.set()\n",
    "sns.pairplot(iris, hue='species', height=3);"
   ]
  },
  {
   "cell_type": "code",
   "execution_count": 45,
   "metadata": {},
   "outputs": [
    {
     "data": {
      "text/plain": [
       "(150, 4)"
      ]
     },
     "execution_count": 45,
     "metadata": {},
     "output_type": "execute_result"
    }
   ],
   "source": [
    "X_iris = iris.drop('species', axis=1)\n",
    "X_iris.shape"
   ]
  },
  {
   "cell_type": "code",
   "execution_count": 46,
   "metadata": {},
   "outputs": [
    {
     "data": {
      "text/plain": [
       "(150,)"
      ]
     },
     "execution_count": 46,
     "metadata": {},
     "output_type": "execute_result"
    }
   ],
   "source": [
    "y_iris = iris['species']\n",
    "y_iris.shape"
   ]
  },
  {
   "cell_type": "markdown",
   "metadata": {},
   "source": [
    "# Estimator API "
   ]
  },
  {
   "cell_type": "markdown",
   "metadata": {},
   "source": [
    "Estimator API 란 무엇입니까?\n",
    "Scikit-learn에서 구현 한 주요 API 중 하나입니다. 일관된 인터페이스를 제공합니다.\n",
    "광범위한 ML 애플리케이션을 위해 ScikitLearn의 모든 기계 학습 알고리즘이 Estimator API를 통해 구현되는 이유입니다. 데이터에서 학습하는 객체 (데이터 피팅)는 추정자입니다. 분류와 같은 모든 알고리즘과 함께 사용할 수 있습니다.\n",
    "회귀, 클러스터링 또는 변환기를 사용하여 원시 데이터에서 유용한 기능을 추출합니다.\n",
    "데이터 피팅을 위해 모든 추정기 객체는 다음과 같이 표시된 데이터 세트를 사용하는 fit 메서드를 노출합니다."
   ]
  },
  {
   "cell_type": "raw",
   "metadata": {},
   "source": [
    "estimator.fit(data)"
   ]
  },
  {
   "cell_type": "markdown",
   "metadata": {},
   "source": [
    "다음으로 추정 자의 모든 매개 변수는 해당 속성에 의해 인스턴스화 될 때 다음과 같이 설정 될 수 있습니다."
   ]
  },
  {
   "cell_type": "markdown",
   "metadata": {},
   "source": [
    "estimator = Estimator (param1=1, param2=2)\n",
    "estimator.param1"
   ]
  },
  {
   "cell_type": "markdown",
   "metadata": {},
   "source": [
    "데이터에 추정기가 장착되면 해당 데이터에서 매개 변수가 추정됩니다.\n",
    "이제 추정 된 모든 매개 변수는 다음과 같이 밑줄로 끝나는 추정기 객체의 속성이됩니다."
   ]
  },
  {
   "cell_type": "markdown",
   "metadata": {},
   "source": [
    "estimator.estimated_param_"
   ]
  },
  {
   "cell_type": "markdown",
   "metadata": {},
   "source": [
    "# Use of Estimator API"
   ]
  },
  {
   "cell_type": "raw",
   "metadata": {},
   "source": [
    "모델 추정 및 디코딩\n",
    "Estimator 객체는 모델의 추정 및 디코딩에 사용됩니다. 또한 모델은 다음과 같은 결정론적 함수로 추정됩니다.\n",
    " 개체 생성에서 제공되는 매개 변수.\n",
    " 추정기의 random_state 매개 변수가 none으로 설정된 경우 전역 임의 상태(numpy.random).\n",
    " fit, fit_transform 또는 fit_predict에 대한 가장 최근 호출에 전달 된 모든 데이터.\n",
    " partial_fit에 대한 일련의 호출에서 전달 된 모든 데이터"
   ]
  },
  {
   "cell_type": "markdown",
   "metadata": {},
   "source": [
    "직사각형이 아닌 데이터 표현을 직사각형 데이터로 매핑\n",
    "직사각형이 아닌 데이터 표현을 직사각형 데이터로 매핑합니다. 간단히 말해서, 각 샘플이 고정 길이의 배열 형 객체로 표현되지 않는 입력을 받아 각 샘플에 대해 배열 형 특징 객체를 생성합니다."
   ]
  },
  {
   "cell_type": "raw",
   "metadata": {},
   "source": [
    "핵심 샘플과 외부 샘플의 구별\n",
    "다음 방법을 사용하여 핵심 샘플과 외부 샘플 간의 차이를 모델링합니다.\n",
    " fit\n",
    " fit_predict if transductive\n",
    " predict if inductive"
   ]
  },
  {
   "cell_type": "markdown",
   "metadata": {},
   "source": [
    "# Guiding Principles"
   ]
  },
  {
   "cell_type": "raw",
   "metadata": {},
   "source": [
    "Scikit-Learn API를 설계하는 동안 다음 지침 원칙을 염두에 두십시오.\n",
    "Consistency(일관성)\n",
    "이 원칙은 모든 개체가 제한된 메서드 집합에서 가져온 공통 인터페이스를 공유해야 함을 나타냅니다. 문서도 일관성이 있어야합니다.\n",
    "Limited object hierarchy(제한된 개체 계층)\n",
    "이 기본 원칙은 다음과 같습니다.\n",
    " 알고리즘은 Python 클래스로 표현되어야합니다.\n",
    " 데이터 세트는 NumPy 배열, Pandas와 같은 표준 형식으로 표현되어야합니다.\n",
    "DataFrames, SciPy 희소 행렬.\n",
    " 매개 변수 이름은 표준 Python 문자열을 사용해야합니다."
   ]
  },
  {
   "cell_type": "raw",
   "metadata": {},
   "source": [
    "Composition(구성)\n",
    "우리가 알고 있듯이 ML 알고리즘은 많은 기본\n",
    "알고리즘. Scikit-learn은 필요할 때마다 이러한 기본 알고리즘을 사용합니다.\n",
    "Sensible defaults (합리적인 기본값)\n",
    "이 원칙에 따라 Scikit-learn 라이브러리는 ML 모델에 사용자 지정 매개 변수가 필요할 때마다 적절한 기본값을 정의합니다.\n",
    "Inspection(검사)\n",
    "이 안내 원칙에 따라 지정된 모든 매개 변수 값이 음모 속성으로 노출됩니다."
   ]
  },
  {
   "cell_type": "markdown",
   "metadata": {},
   "source": [
    "# Steps in using Estimator API"
   ]
  },
  {
   "cell_type": "raw",
   "metadata": {},
   "source": [
    "1 단계 : 모델 클래스 선택\n",
    "이 첫 번째 단계에서는 모델 클래스를 선택해야합니다. Scikit-learn에서 적절한 Estimator 클래스를 가져 와서 수행 할 수 있습니다.\n",
    "2 단계 : 모델 하이퍼 파라미터 매개 변수 선택\n",
    "이 단계에서는 클래스 모델 하이퍼 파라미터를 선택해야합니다. 원하는 값으로 클래스를 인스턴스화하여 수행 할 수 있습니다.\n",
    "3 단계 : 데이터 정렬\n",
    "다음으로 데이터를 특성 행렬 (X)과 대상 벡터 (y)로 정렬해야합니다.\n",
    "4 단계 : 모델 피팅\n",
    "이제 모델을 데이터에 맞아야합니다. 모델 인스턴스의 fit () 메서드를 호출하면됩니다.\n",
    "5 단계 : 모델 적용\n",
    "모델을 피팅 한 후 새 데이터에 적용 할 수 있습니다. 지도 학습의 경우 predict () 메서드를 사용하여 알 수없는 데이터의 레이블을 예측합니다. 비지도 학습의 경우에는 predict () 또는 transform ()을 사용하여 데이터의 속성을 추론하십시오."
   ]
  },
  {
   "cell_type": "markdown",
   "metadata": {},
   "source": [
    "# Supervised Learning "
   ]
  },
  {
   "cell_type": "code",
   "execution_count": 58,
   "metadata": {},
   "outputs": [
    {
     "data": {
      "text/plain": [
       "(150, 4)"
      ]
     },
     "execution_count": 58,
     "metadata": {},
     "output_type": "execute_result"
    }
   ],
   "source": [
    "import seaborn as sns\n",
    "iris = sns.load_dataset('iris')\n",
    "X_iris = iris.drop('species', axis = 1)\n",
    "X_iris.shape"
   ]
  },
  {
   "cell_type": "code",
   "execution_count": 59,
   "metadata": {},
   "outputs": [
    {
     "data": {
      "text/plain": [
       "(150,)"
      ]
     },
     "execution_count": 59,
     "metadata": {},
     "output_type": "execute_result"
    }
   ],
   "source": [
    "y_iris = iris['species']\n",
    "y_iris.shape"
   ]
  },
  {
   "cell_type": "code",
   "execution_count": 60,
   "metadata": {},
   "outputs": [
    {
     "data": {
      "image/png": "[encoded data removed]",
      "text/plain": [
       "<Figure size 432x288 with 1 Axes>"
      ]
     },
     "metadata": {
      "needs_background": "light"
     },
     "output_type": "display_data"
    }
   ],
   "source": [
    "%matplotlib inline\n",
    "import matplotlib.pyplot as plt\n",
    "import numpy as np\n",
    "rng = np.random.RandomState(35)\n",
    "x = 10*rng.rand(40)\n",
    "y = 2*x-1+rng.randn(40)\n",
    "plt.scatter(x,y);"
   ]
  },
  {
   "cell_type": "markdown",
   "metadata": {},
   "source": [
    "# Choose a class of model"
   ]
  },
  {
   "cell_type": "code",
   "execution_count": 61,
   "metadata": {},
   "outputs": [],
   "source": [
    "from sklearn.linear_model import LinearRegression"
   ]
  },
  {
   "cell_type": "markdown",
   "metadata": {},
   "source": [
    "# 모델 하이퍼 파라미터 선택"
   ]
  },
  {
   "cell_type": "markdown",
   "metadata": {},
   "source": [
    "모델 클래스를 선택한 후에는 종종 하이퍼 파라미터로 표시되는 몇 가지 중요한 선택 또는 모델 이전에 설정해야하는 매개 변수를 선택해야합니다.\n",
    "데이터에 적합합니다. 여기에서이 선형 회귀 예제의 경우 다음과 같이 fit_intercept 하이퍼 파라미터를 사용하여 절편을 피팅하려고합니다."
   ]
  },
  {
   "cell_type": "code",
   "execution_count": 62,
   "metadata": {},
   "outputs": [
    {
     "data": {
      "text/plain": [
       "LinearRegression()"
      ]
     },
     "execution_count": 62,
     "metadata": {},
     "output_type": "execute_result"
    }
   ],
   "source": [
    "model = LinearRegression(fit_intercept=True)\n",
    "model"
   ]
  },
  {
   "cell_type": "markdown",
   "metadata": {},
   "source": [
    "# 데이터 정렬"
   ]
  },
  {
   "cell_type": "raw",
   "metadata": {},
   "source": [
    "데이터 정렬\n",
    "이제 목표 변수 y가 올바른 형태, 즉 1-D의 길이 n_samples 배열이라는 것을 알고 있습니다. 그러나 특성 행렬 X를 크기 [n_samples, n_features]의 행렬로 만들기 위해 모양을 변경해야합니다. 다음과 같이 수행 할 수 있습니다."
   ]
  },
  {
   "cell_type": "code",
   "execution_count": 64,
   "metadata": {},
   "outputs": [
    {
     "data": {
      "text/plain": [
       "(40, 1)"
      ]
     },
     "execution_count": 64,
     "metadata": {},
     "output_type": "execute_result"
    }
   ],
   "source": [
    "X = x[:, np.newaxis]\n",
    "X.shape"
   ]
  },
  {
   "cell_type": "raw",
   "metadata": {},
   "source": [
    "Model fitting\n",
    "일단 데이터를 정렬하면 모델을 맞출 때입니다. 즉, 모델을 데이터에 적용 할 때입니다. 다음과 같이 fit () 메서드를 사용하여 수행 할 수 있습니다."
   ]
  },
  {
   "cell_type": "code",
   "execution_count": 65,
   "metadata": {},
   "outputs": [
    {
     "data": {
      "text/plain": [
       "LinearRegression()"
      ]
     },
     "execution_count": 65,
     "metadata": {},
     "output_type": "execute_result"
    }
   ],
   "source": [
    "model.fit(X, y)"
   ]
  },
  {
   "cell_type": "markdown",
   "metadata": {},
   "source": [
    "Scikit-learn에서 fit () 프로세스에는 후행 밑줄이 있습니다.\n",
    "이 예에서 아래 매개 변수는 데이터의 단순 선형 적합 기울기를 보여줍니다."
   ]
  },
  {
   "cell_type": "code",
   "execution_count": 66,
   "metadata": {},
   "outputs": [
    {
     "data": {
      "text/plain": [
       "array([1.99839352])"
      ]
     },
     "execution_count": 66,
     "metadata": {},
     "output_type": "execute_result"
    }
   ],
   "source": [
    "model.coef_ "
   ]
  },
  {
   "cell_type": "markdown",
   "metadata": {},
   "source": [
    "아래 매개 변수는 데이터에 대한 단순 선형 피팅의 절편을 나타냅니다."
   ]
  },
  {
   "cell_type": "code",
   "execution_count": 68,
   "metadata": {},
   "outputs": [
    {
     "data": {
      "text/plain": [
       "-0.989545945777504"
      ]
     },
     "execution_count": 68,
     "metadata": {},
     "output_type": "execute_result"
    }
   ],
   "source": [
    "model.intercept_"
   ]
  },
  {
   "cell_type": "raw",
   "metadata": {},
   "source": [
    "새 데이터에 모델 적용\n",
    "모델을 학습 한 후 새 데이터에 적용 할 수 있습니다. 지도 머신 러닝의 주요 임무는 학습 세트의 일부가 아닌 새로운 데이터를 기반으로 모델을 평가하는 것입니다. 다음과 같이 predict () 메서드를 사용하여 수행 할 수 있습니다."
   ]
  },
  {
   "cell_type": "code",
   "execution_count": 69,
   "metadata": {},
   "outputs": [
    {
     "data": {
      "image/png": "[encoded data removed]",
      "text/plain": [
       "<Figure size 432x288 with 1 Axes>"
      ]
     },
     "metadata": {
      "needs_background": "light"
     },
     "output_type": "display_data"
    }
   ],
   "source": [
    "xfit = np.linspace(-1, 11)\n",
    "Xfit = xfit[:, np.newaxis]\n",
    "yfit = model.predict(Xfit)\n",
    "plt.scatter(x, y)\n",
    "plt.plot(xfit, yfit);"
   ]
  },
  {
   "cell_type": "markdown",
   "metadata": {},
   "source": [
    "# 완전한 실행 가능한 예"
   ]
  },
  {
   "cell_type": "code",
   "execution_count": 70,
   "metadata": {},
   "outputs": [
    {
     "data": {
      "image/png": "[encoded data removed]",
      "text/plain": [
       "<Figure size 432x288 with 1 Axes>"
      ]
     },
     "metadata": {
      "needs_background": "light"
     },
     "output_type": "display_data"
    }
   ],
   "source": [
    "%matplotlib inline\n",
    "import matplotlib.pyplot as plt\n",
    "import numpy as np\n",
    "import seaborn as sns\n",
    "iris = sns.load_dataset('iris')\n",
    "X_iris = iris.drop('species', axis = 1)\n",
    "X_iris.shape\n",
    "y_iris = iris['species']\n",
    "y_iris.shape\n",
    "rng = np.random.RandomState(35)\n",
    "x = 10*rng.rand(40)\n",
    "y = 2*x-1+rng.randn(40)\n",
    "plt.scatter(x,y);\n",
    "from sklearn.linear_model import LinearRegression\n",
    "model = LinearRegression(fit_intercept=True)\n",
    "model\n",
    "X = x[:, np.newaxis]\n",
    "X.shape\n",
    "model.fit(X, y)\n",
    "model.coef_\n",
    "model.intercept_\n",
    "xfit = np.linspace(-1, 11)\n",
    "Xfit = xfit[:, np.newaxis]\n",
    "yfit = model.predict(Xfit)\n",
    "plt.scatter(x, y)\n",
    "plt.plot(xfit, yfit);"
   ]
  },
  {
   "cell_type": "markdown",
   "metadata": {},
   "source": [
    "# Unsupervised Learning Example"
   ]
  },
  {
   "cell_type": "markdown",
   "metadata": {},
   "source": [
    "여기서는이 프로세스의 예로서 Iris 데이터 세트의 차원을 줄이는 일반적인 경우를 사용하여보다 쉽게 시각화 할 수 있습니다. 이 예에서는 빠른 선형 차원 감소 기술인 주성분 분석 (PCA)을 사용합니다.\n",
    "위의 예와 같이 홍채 데이터 세트에서 임의의 데이터를로드하고 플로팅 할 수 있습니다.\n",
    "그 후 다음 단계를 따를 수 있습니다."
   ]
  },
  {
   "cell_type": "markdown",
   "metadata": {},
   "source": [
    "# 모델선택"
   ]
  },
  {
   "cell_type": "code",
   "execution_count": 71,
   "metadata": {},
   "outputs": [],
   "source": [
    "from sklearn.decomposition import PCA"
   ]
  },
  {
   "cell_type": "markdown",
   "metadata": {},
   "source": [
    "# 모델 hyperparameters"
   ]
  },
  {
   "cell_type": "code",
   "execution_count": 73,
   "metadata": {},
   "outputs": [
    {
     "data": {
      "text/plain": [
       "PCA(n_components=2)"
      ]
     },
     "execution_count": 73,
     "metadata": {},
     "output_type": "execute_result"
    }
   ],
   "source": [
    "model = PCA(n_components=2)\n",
    "model"
   ]
  },
  {
   "cell_type": "markdown",
   "metadata": {},
   "source": [
    "# 모델 fitting"
   ]
  },
  {
   "cell_type": "code",
   "execution_count": 75,
   "metadata": {},
   "outputs": [
    {
     "data": {
      "text/plain": [
       "PCA(n_components=2)"
      ]
     },
     "execution_count": 75,
     "metadata": {},
     "output_type": "execute_result"
    }
   ],
   "source": [
    "model.fit(X_iris)"
   ]
  },
  {
   "cell_type": "markdown",
   "metadata": {},
   "source": [
    "# 데이터를 2 차원으로 변환"
   ]
  },
  {
   "cell_type": "code",
   "execution_count": 76,
   "metadata": {},
   "outputs": [],
   "source": [
    "X_2D = model.transform(X_iris)"
   ]
  },
  {
   "cell_type": "code",
   "execution_count": 78,
   "metadata": {},
   "outputs": [
    {
     "data": {
      "image/png": "[encoded data removed]",
      "text/plain": [
       "<Figure size 446.85x360 with 1 Axes>"
      ]
     },
     "metadata": {
      "needs_background": "light"
     },
     "output_type": "display_data"
    }
   ],
   "source": [
    "iris['PCA1'] = X_2D[:, 0]\n",
    "iris['PCA2'] = X_2D[:, 1]\n",
    "sns.lmplot(\"PCA1\", \"PCA2\", hue='species', data=iris, fit_reg=False);"
   ]
  },
  {
   "cell_type": "markdown",
   "metadata": {},
   "source": [
    "# 완전한 실행 가능한 예"
   ]
  },
  {
   "cell_type": "code",
   "execution_count": 79,
   "metadata": {},
   "outputs": [
    {
     "data": {
      "image/png": "[encoded data removed]",
      "text/plain": [
       "<Figure size 432x288 with 1 Axes>"
      ]
     },
     "metadata": {
      "needs_background": "light"
     },
     "output_type": "display_data"
    },
    {
     "data": {
      "image/png": "[encoded data removed]",
      "text/plain": [
       "<Figure size 446.85x360 with 1 Axes>"
      ]
     },
     "metadata": {
      "needs_background": "light"
     },
     "output_type": "display_data"
    }
   ],
   "source": [
    "%matplotlib inline\n",
    "import matplotlib.pyplot as plt\n",
    "import numpy as np\n",
    "import seaborn as sns\n",
    "iris = sns.load_dataset('iris')\n",
    "X_iris = iris.drop('species', axis = 1)\n",
    "X_iris.shape\n",
    "y_iris = iris['species']\n",
    "y_iris.shape\n",
    "rng = np.random.RandomState(35)\n",
    "x = 10*rng.rand(40)\n",
    "y = 2*x-1+rng.randn(40)\n",
    "plt.scatter(x,y);\n",
    "from sklearn.decomposition import PCA\n",
    "model = PCA(n_components=2)\n",
    "model\n",
    "model.fit(X_iris)\n",
    "X_2D = model.transform(X_iris)\n",
    "iris['PCA1'] = X_2D[:, 0]\n",
    "iris['PCA2'] = X_2D[:, 1]\n",
    "sns.lmplot(\"PCA1\", \"PCA2\", hue='species', data=iris, fit_reg=False);"
   ]
  },
  {
   "cell_type": "markdown",
   "metadata": {},
   "source": [
    "## Conventions"
   ]
  },
  {
   "cell_type": "raw",
   "metadata": {},
   "source": [
    "Scikit-learn의 객체는 다음 세 가지 보완 인터페이스로 구성된 균일 한 기본 API를 공유합니다.\n",
    " Estimator 인터페이스 : 모델을 구축하고 맞추기위한 것입니다.\n",
    " 예측 자 인터페이스 : 예측을위한 것입니다.\n",
    " Transformer 인터페이스 : 데이터 변환을위한 것입니다.\n",
    "API는 간단한 규칙을 채택하고 디자인 선택은 프레임 워크 코드의 확산을 방지하는 방식으로 안내되었습니다."
   ]
  },
  {
   "cell_type": "markdown",
   "metadata": {},
   "source": [
    "# Purpose of Conventions"
   ]
  },
  {
   "cell_type": "raw",
   "metadata": {},
   "source": [
    "규칙의 목적은 API가 다음과 같은 광범위한 원칙을 준수하는지 확인하는 것입니다.\n",
    "일관성 : 기본이든 합성이든 모든 개체는 제한된 메서드 집합으로 더 구성된 일관된 인터페이스를 공유해야합니다.\n",
    "검사 : 학습 알고리즘에 의해 결정된 생성자 매개 변수 및 매개 변수 값은 공개 속성으로 저장 및 노출되어야합니다.\n",
    "클래스 비확산 : 데이터 세트는 NumPy 배열 또는 Scipy 희소 행렬로 표시되어야하는 반면 하이퍼 매개 변수 이름과 값은 프레임 워크 코드의 확산을 방지하기 위해 표준 Python 문자열로 표시되어야합니다.\n",
    "구성 : 데이터에 대한 변환의 시퀀스 또는 조합으로 표현할 수 있는지 또는 다른 알고리즘에서 매개 변수화 된 메타 알고리즘으로 자연스럽게 보이는 알고리즘은 기존 빌딩 블록에서 구현되고 구성되어야합니다.\n",
    "적절한 기본값 : scikit-learn에서 작업에 사용자 정의 매개 변수가 필요할 때마다 적절한 기본값이 정의됩니다. 이 기본값은 작업이 현명한 방식으로 수행되도록해야합니다 (예 : 현재 작업에 대한 기본 솔루션 제공)."
   ]
  },
  {
   "cell_type": "markdown",
   "metadata": {},
   "source": [
    "# 다양한 컨벤션"
   ]
  },
  {
   "cell_type": "raw",
   "metadata": {},
   "source": [
    "Sklearn에서 사용 가능한 규칙은 다음과 같습니다.\n",
    "유형 캐스팅\n",
    "입력이 float64로 캐스트되어야 함을 나타냅니다. 데이터의 차원을 줄이기 위해 사용 된 sklearn.random_projection 모듈은 다음 예제에서이를 설명합니다."
   ]
  },
  {
   "cell_type": "code",
   "execution_count": 86,
   "metadata": {},
   "outputs": [
    {
     "data": {
      "text/plain": [
       "dtype('float32')"
      ]
     },
     "execution_count": 86,
     "metadata": {},
     "output_type": "execute_result"
    }
   ],
   "source": [
    "import numpy as np\n",
    "from sklearn import random_projection\n",
    "range = np.random.RandomState(0)\n",
    "X = range.rand(10,2000)\n",
    "X = np.array(X, dtype = 'float32')\n",
    "X.dtype"
   ]
  },
  {
   "cell_type": "code",
   "execution_count": 87,
   "metadata": {},
   "outputs": [
    {
     "data": {
      "text/plain": [
       "dtype('float64')"
      ]
     },
     "execution_count": 87,
     "metadata": {},
     "output_type": "execute_result"
    }
   ],
   "source": [
    "transformer_data = random_projection.GaussianRandomProjection()\n",
    "X_new = transformer_data.fit_transform(X)\n",
    "X_new.dtype"
   ]
  },
  {
   "cell_type": "markdown",
   "metadata": {},
   "source": [
    "위의 예에서 X가 fit_transform (X)에 의해 float64로 캐스팅 된 float32임을 알 수 있습니다."
   ]
  },
  {
   "cell_type": "raw",
   "metadata": {},
   "source": [
    "매개 변수 재조정 및 업데이트\n",
    "추정기의 하이퍼 파라미터는 set_params () 메서드를 통해 생성 된 후에 업데이트하고 다시 맞출 수 있습니다. 이를 이해하기 위해 다음 예를 살펴 보겠습니다."
   ]
  },
  {
   "cell_type": "code",
   "execution_count": 88,
   "metadata": {},
   "outputs": [
    {
     "data": {
      "text/plain": [
       "array([0, 0, 0, 0, 0])"
      ]
     },
     "execution_count": 88,
     "metadata": {},
     "output_type": "execute_result"
    }
   ],
   "source": [
    "import numpy as np\n",
    "from sklearn.datasets import load_iris\n",
    "from sklearn.svm import SVC\n",
    "X, y = load_iris(return_X_y=True)\n",
    "clf = SVC()\n",
    "clf.set_params(kernel='linear').fit(X, y)\n",
    "clf.predict(X[:5])"
   ]
  },
  {
   "cell_type": "markdown",
   "metadata": {},
   "source": [
    "추정기가 구성되면 위의 코드는 SVC.set_params ()를 통해 기본 커널 rbf를 선형으로 변경합니다.\n",
    "이제 다음 코드는 커널을 다시 rbf로 변경하여 추정기를 다시 맞추고 두 번째 예측을 수행합니다."
   ]
  },
  {
   "cell_type": "code",
   "execution_count": 90,
   "metadata": {},
   "outputs": [
    {
     "data": {
      "text/plain": [
       "array([0, 0, 0, 0, 0])"
      ]
     },
     "execution_count": 90,
     "metadata": {},
     "output_type": "execute_result"
    }
   ],
   "source": [
    "clf.set_params(kernel='rbf', gamma='scale').fit(X, y)\n",
    "clf.predict(X[:5])"
   ]
  },
  {
   "cell_type": "markdown",
   "metadata": {},
   "source": [
    "# Complete code"
   ]
  },
  {
   "cell_type": "code",
   "execution_count": 92,
   "metadata": {},
   "outputs": [
    {
     "data": {
      "text/plain": [
       "array([0, 0, 0, 0, 0])"
      ]
     },
     "execution_count": 92,
     "metadata": {},
     "output_type": "execute_result"
    }
   ],
   "source": [
    "import numpy as np\n",
    "from sklearn.datasets import load_iris\n",
    "from sklearn.svm import SVC\n",
    "X, y = load_iris(return_X_y=True)\n",
    "clf = SVC()\n",
    "clf.set_params(kernel='linear').fit(X, y)\n",
    "clf.predict(X[:5])\n",
    "clf.set_params(kernel='rbf', gamma='scale').fit(X, y)\n",
    "clf.predict(X[:5])"
   ]
  },
  {
   "cell_type": "markdown",
   "metadata": {},
   "source": [
    "다중 클래스 및 다중 레이블 피팅\n",
    "다중 클래스 피팅의 경우 학습 및 예측 작업은 모두 적합한 대상 데이터의 형식에 따라 다릅니다. 사용되는 모듈은 sklearn.multiclass입니다. 다중 클래스 분류 기가 1d 배열에 맞는 아래 예제를 확인하십시오."
   ]
  },
  {
   "cell_type": "code",
   "execution_count": 93,
   "metadata": {},
   "outputs": [
    {
     "data": {
      "text/plain": [
       "array([0, 1, 1, 1, 2])"
      ]
     },
     "execution_count": 93,
     "metadata": {},
     "output_type": "execute_result"
    }
   ],
   "source": [
    "from sklearn.svm import SVC\n",
    "from sklearn.multiclass import OneVsRestClassifier\n",
    "from sklearn.preprocessing import LabelBinarizer\n",
    "X = [[1, 2], [3, 4], [4, 5], [5, 2], [1, 1]]\n",
    "y = [0, 0, 1, 1, 2]\n",
    "classif = OneVsRestClassifier(estimator=SVC(gamma='scale',random_state=0))\n",
    "classif.fit(X, y).predict(X)"
   ]
  },
  {
   "cell_type": "markdown",
   "metadata": {},
   "source": [
    "위의 예에서 분류자는 다중 클래스 레이블의 1 차원 배열에 적합하므로 predict () 메서드는 해당 다중 클래스 예측을 제공합니다. 그러나 다른 한편으로 다음과 같이 2 차원 배열의 이진 레이블 표시기에 맞출 수도 있습니다."
   ]
  },
  {
   "cell_type": "code",
   "execution_count": 94,
   "metadata": {},
   "outputs": [
    {
     "data": {
      "text/plain": [
       "array([[0, 0, 0],\n",
       "       [0, 0, 0],\n",
       "       [0, 1, 0],\n",
       "       [0, 1, 0],\n",
       "       [0, 0, 0]])"
      ]
     },
     "execution_count": 94,
     "metadata": {},
     "output_type": "execute_result"
    }
   ],
   "source": [
    "from sklearn.svm import SVC\n",
    "from sklearn.multiclass import OneVsRestClassifier\n",
    "from sklearn.preprocessing import LabelBinarizer\n",
    "X = [[1, 2], [3, 4], [4, 5], [5, 2], [1, 1]]\n",
    "y = LabelBinarizer().fit_transform(y)\n",
    "classif.fit(X, y).predict(X)"
   ]
  },
  {
   "cell_type": "markdown",
   "metadata": {},
   "source": [
    "마찬가지로 다중 레이블 맞춤의 경우 다음과 같이 인스턴스에 여러 레이블을 할당 할 수 있습니다."
   ]
  },
  {
   "cell_type": "code",
   "execution_count": 95,
   "metadata": {},
   "outputs": [
    {
     "data": {
      "text/plain": [
       "array([[1, 0, 1, 0, 0],\n",
       "       [1, 0, 1, 0, 0],\n",
       "       [1, 0, 1, 1, 0],\n",
       "       [1, 0, 1, 1, 0],\n",
       "       [1, 0, 1, 0, 0]])"
      ]
     },
     "execution_count": 95,
     "metadata": {},
     "output_type": "execute_result"
    }
   ],
   "source": [
    "from sklearn.preprocessing import MultiLabelBinarizer\n",
    "y = [[0, 1], [0, 2], [1, 3], [0, 2, 3], [2, 4]]\n",
    "y = MultiLabelBinarizer().fit_transform(y)\n",
    "classif.fit(X, y).predict(X)"
   ]
  },
  {
   "cell_type": "markdown",
   "metadata": {},
   "source": [
    "위의 예에서 sklearn.MultiLabelBinarizer는 2 차원 다중 레이블 배열을 이진화하는 데 사용됩니다. 이것이 predict () 함수가 각 인스턴스에 대해 여러 레이블이있는 출력으로 2d 배열을 제공하는 이유입니다."
   ]
  },
  {
   "cell_type": "markdown",
   "metadata": {},
   "source": [
    "# Q&A"
   ]
  },
  {
   "cell_type": "raw",
   "metadata": {},
   "source": [
    "Python에서 두 개의’fit_transform’메서드는 무엇을합니까?\n",
    "LabelEncoder() 클래스에서’fit_transform ()’메서드를 호출하면 범주 문자열을 정수로 변환합니다. 예를 들어 프랑스, 스페인, 독일을 0, 1 및 2로 변환합니다. 그런 다음 OneHotEncoder() 클래스에서 'fit_transform ()'메서드를 호출하면 이진 값이 0과 1 인 각 레이블에 대해 별도의 열을 만듭니다. 이러한 개별 열은 더미 변수입니다"
   ]
  },
  {
   "cell_type": "raw",
   "metadata": {},
   "source": [
    "실제로 더미 변수에 Feature Scaling을 적용해야합니까?\n",
    "예, 모델 예측의 정확도를 최적화하려는 경우.\n",
    "아니요, 모델에서 최대한 많은 해석을 유지하려는 경우.\n",
    "표준화 및 정규화는 언제 사용해야합니까?\n",
    "일반적으로 데이터가 정규 분포되면 정규화 (정규화)하고, 데이터가 정규 분포되지 않으면 스케일 (표준화)해야합니다. 의심 스러우면 표준화를해야합니다. 그러나 일반적으로 수행되는 작업은 두 가지 확장 방법을 테스트하는 것입니다."
   ]
  },
  {
   "cell_type": "markdown",
   "metadata": {},
   "source": [
    "# Linear Modeling "
   ]
  },
  {
   "cell_type": "markdown",
   "metadata": {},
   "source": [
    "# Linear Regression "
   ]
  },
  {
   "cell_type": "markdown",
   "metadata": {},
   "source": [
    "최고의 통계 모델 중 하나입니다.\n",
    "주어진 독립 변수 세트 (X)와 종속 변수 (Y) 간의 관계를 연구합니다."
   ]
  },
  {
   "cell_type": "markdown",
   "metadata": {},
   "source": [
    "# Q&A"
   ]
  },
  {
   "cell_type": "raw",
   "metadata": {},
   "source": [
    "단순 선형 회귀 방정식에서 계수 b0 및 b1은 정확히 무엇입니까?\n",
    "’Salary = b0 + b1 Experience’\n",
    "b0은 경험없이받는 급여이고 b1은 연간 급여 인상입니다.\n",
    "왜 우리는 절대 차이가 아닌 제곱 차이를 취합니까?\n",
    "차이를 제곱하면 회귀선을 쉽게 도출 할 수 있기 때문입니다. 실제로 그 선을 찾으려면 손실 오류 함수의 1 차 도함수를 계산해야하며 제곱 값보다 절대 값의 도함수를 계산하는 것이 훨씬 더 어렵습니다."
   ]
  },
  {
   "cell_type": "raw",
   "metadata": {},
   "source": [
    "Simple Linear Regression 모델에 Feature Scaling을 적용하지 않은 이유는 무엇입니까?\n",
    "이는 y가 독립 변수의 선형 조합이기 때문에 계수가 모든 것을 동일한 척도에 배치하도록 척도를 조정할 수 있기 때문입니다. 예를 들어 두 개의 독립 변수 x1과 x2가 있고 y가 0과 1 사이의 값을 취하면 x1은 1과 10 사이의 값을 취하고 x2는 10과 100 사이의 값을 취하면 b1에 0.1을 곱하고 b2에 0.01을 곱할 수 있습니다. y는 b1x1 및 b2x2가 모두 같은 척도에 있습니다 "
   ]
  },
  {
   "cell_type": "markdown",
   "metadata": {},
   "source": [
    "’regressor.fit (X_train, y_train)’은 정확히 무엇을합니까?\n",
    "적합 방법은 X_train 및 y_train의 값을 취한 다음 Intuition 강의에서 볼 수 있듯이 단순 선형 회귀 방정식 (y = b0 + b1x)의 계수 b0 및 b1을 계산합니다. 이것이 바로이 피팅 방법의 전체 목적입니다."
   ]
  },
  {
   "cell_type": "raw",
   "metadata": {},
   "source": [
    "더 자세한 사항에서 다중 선형 회귀 가정은 무엇입니까?\n",
    "선형성 : 종속 변수와 독립 변수 사이에는 선형 관계가 있어야합니다.\n",
    "산점도는 선형 또는 곡선 관계가 있는지 여부를 표시 할 수 있습니다.\n",
    "동질성 :이 가정은 오류 항의 분산이 독립 변수 값에서 유사하다는 것을 나타냅니다. 표준화 잔차 대 예측 값의 그림은 점이 모든 독립 변수 값에 균등하게 분포되어 있는지 여부를 보여줍니다.\n",
    "다변량 정규성 : 다중 선형이 그레스에서는 잔차 (종속 변수 y의 관측 값과 예측값 ^ y 간의 차이가 정규 분포를 따른다고 가정합니다.\n",
    "오류의 독립성 : 다중 선형 회귀는 잔차 (종속 변수 y의 관측 값과 예측값 ^ y 간의 차이가 독립적 인 것으로 가정합니다.\n",
    "다중 공선 성 부족 : 다중 선형 회귀는 독립 변수가 서로 높은 상관 관계가 없다고 가정합니다. 이 가정은 VIF (Variance Inflation Factor) 값을 사용하여 테스트됩니다."
   ]
  },
  {
   "cell_type": "markdown",
   "metadata": {},
   "source": [
    "계수 b0은 더미 변수 트랩과 어떤 관련이 있습니까?\n",
    "D2 = 1 - D1이므로 D1과 D2를 모두 포함하면 다음을 얻을 수 있습니다."
   ]
  },
  {
   "cell_type": "code",
   "execution_count": 117,
   "metadata": {},
   "outputs": [],
   "source": [
    "from IPython.display import Image"
   ]
  },
  {
   "cell_type": "code",
   "execution_count": 236,
   "metadata": {},
   "outputs": [
    {
     "data": {
      "image/jpeg": "[encoded data removed]",
      "text/plain": [
       "<IPython.core.display.Image object>"
      ]
     },
     "execution_count": 236,
     "metadata": {},
     "output_type": "execute_result"
    }
   ],
   "source": [
    "Image(\"0012.jpg\")"
   ]
  },
  {
   "cell_type": "markdown",
   "metadata": {},
   "source": [
    "따라서 중복 더미 변수 D2의 정보는 상수 b0으로 들어갑니다."
   ]
  },
  {
   "cell_type": "raw",
   "metadata": {},
   "source": [
    "일련의 관찰 (테스트 세트)의 결과를 예측했습니다. 단일 관찰에 대해 동일한 작업을 수행하는 방법은 무엇입니까?\n",
    "이 관찰에 다음과 같은 특징이 있다고 가정 해 봅시다 : 특징 값 1, 특징 값 2, ... 및 특징 값 m (m 독립 변수). 그러면 예측 된 결과를 얻는 코드는 다음과 같습니다."
   ]
  },
  {
   "cell_type": "markdown",
   "metadata": {},
   "source": [
    "y_pred = regressor.predict(np.array([[Feature Value 1, ..., Feature Value m]]))"
   ]
  },
  {
   "cell_type": "markdown",
   "metadata": {},
   "source": [
    "# Logistic Regression "
   ]
  },
  {
   "cell_type": "markdown",
   "metadata": {},
   "source": [
    "로지스틱 회귀는 이름에도 불구하고\n",
    "회귀 알고리즘보다는 분류 알고리즘. 주어진 독립 변수 세트를 기반으로 이산 값 (0 또는 1, 예 / 아니오, 참 / 거짓)을 추정하는 데 사용됩니다."
   ]
  },
  {
   "cell_type": "markdown",
   "metadata": {},
   "source": [
    "# Ridge Regression"
   ]
  },
  {
   "cell_type": "markdown",
   "metadata": {},
   "source": [
    "Ridge 회귀 또는 Tikhonov 정규화는 L2 정규화를 수행하는 정규화 기술입니다.\n",
    "계수 크기의 제곱에 해당하는 패널티 (수축량)를 추가하여 손실 함수를 수정합니다."
   ]
  },
  {
   "cell_type": "markdown",
   "metadata": {},
   "source": [
    "# Bayesian Ridge Regression"
   ]
  },
  {
   "cell_type": "markdown",
   "metadata": {},
   "source": [
    "베이지안 회귀는 포인트 추정이 아닌 확률 분포를 사용하여 선형 회귀를 공식화함으로써 불충분 한 데이터 또는 불충분하게 분산 된 데이터를 자연 메커니즘으로 유지합니다."
   ]
  },
  {
   "cell_type": "markdown",
   "metadata": {},
   "source": [
    "# LASSO "
   ]
  },
  {
   "cell_type": "markdown",
   "metadata": {},
   "source": [
    "LASSO는 L1 정규화를 수행하는 정규화 기술입니다. 계수의 절대 값의 합에 해당하는 패널티 (수축량)를 추가하여 손실 함수를 수정합니다."
   ]
  },
  {
   "cell_type": "markdown",
   "metadata": {},
   "source": [
    "# Multi-task LASSO "
   ]
  },
  {
   "cell_type": "markdown",
   "metadata": {},
   "source": [
    "여러 회귀 문제를 맞출 수 있습니다.\n",
    "작업이라고도하는 모든 회귀 문제에 대해 선택한 기능을 공동으로 적용합니다. Sklearn은 다중 회귀 문제에 대한 희소 계수를 공동으로 추정하는 정규화를 위해 혼합 L1, L2- 노름으로 훈련 된 MultiTaskLasso라는 선형 모델을 제공합니다."
   ]
  },
  {
   "cell_type": "markdown",
   "metadata": {},
   "source": [
    "# Elastic-Net "
   ]
  },
  {
   "cell_type": "markdown",
   "metadata": {},
   "source": [
    "Elastic-Net은 Lasso 및 Ridge 회귀 방법의 L1 및 L2와 같은 두 패널티를 선형 적으로 결합하는 정규화 된 회귀 방법입니다. 상호 관련된 기능이 여러 개있을 때 유용합니다."
   ]
  },
  {
   "cell_type": "markdown",
   "metadata": {},
   "source": [
    "# Multi-task Elastic-Net"
   ]
  },
  {
   "cell_type": "markdown",
   "metadata": {},
   "source": [
    "작업이라고도하는 모든 회귀 문제에 대해 선택한 기능을 동일하게 적용하여 여러 회귀 문제에 맞출 수있는 Elastic-Net 모델입니다."
   ]
  },
  {
   "cell_type": "markdown",
   "metadata": {},
   "source": [
    "# Linear Regression"
   ]
  },
  {
   "cell_type": "markdown",
   "metadata": {},
   "source": [
    "종속 자 간의 관계를 연구하는 최고의 통계 모델 중 하나입니다.\n",
    "주어진 독립 변수 세트 (X)가있는 변수 (Y). 최고의 라인을 맞추는 도움으로 관계를 설정할 수 있습니다."
   ]
  },
  {
   "cell_type": "markdown",
   "metadata": {},
   "source": [
    "sklearn.linear_model.LinearRegression은 선형 회귀를 구현하는 데 사용되는 모듈입니다."
   ]
  },
  {
   "cell_type": "markdown",
   "metadata": {},
   "source": [
    "# Parameters"
   ]
  },
  {
   "cell_type": "markdown",
   "metadata": {},
   "source": [
    "다음 표는 선형 회귀 모듈에서 사용하는 매개 변수로 구성됩니다."
   ]
  },
  {
   "cell_type": "markdown",
   "metadata": {},
   "source": [
    "fit_intercept: Boolean, optional, default, True"
   ]
  },
  {
   "cell_type": "markdown",
   "metadata": {},
   "source": [
    "모델의 절편을 계산하는 데 사용됩니다. false로 설정하면 계산에 인터셉트가 사용되지 않습니다."
   ]
  },
  {
   "cell_type": "markdown",
   "metadata": {},
   "source": [
    "normalize: Boolean, optional, default False"
   ]
  },
  {
   "cell_type": "markdown",
   "metadata": {},
   "source": [
    "이 매개 변수를 True로 설정하면 회귀 자 X가 회귀 전에 정규화됩니다. 평균을 빼고 L2 표준으로 나누어 정규화를 수행합니다. fit_intercept = False이면이 매개 변수가 무시됩니다."
   ]
  },
  {
   "cell_type": "markdown",
   "metadata": {},
   "source": [
    "copy_X: Boolean, optional, default True "
   ]
  },
  {
   "cell_type": "markdown",
   "metadata": {},
   "source": [
    "기본적으로 X가 복사됨을 의미하는 것은 true입니다. 그러나 false로 설정하면 X를 덮어 쓸 수 있습니다."
   ]
  },
  {
   "cell_type": "markdown",
   "metadata": {},
   "source": [
    "n_jobs: int or None, optional(default=None)"
   ]
  },
  {
   "cell_type": "markdown",
   "metadata": {},
   "source": [
    "optional (default = None) 계산에 사용할 작업 수를 나타냅니다."
   ]
  },
  {
   "cell_type": "markdown",
   "metadata": {},
   "source": [
    "# Attributes"
   ]
  },
  {
   "cell_type": "markdown",
   "metadata": {},
   "source": [
    "다음 표는 선형 회귀 모듈에서 사용하는 속성으로 구성됩니다."
   ]
  },
  {
   "cell_type": "markdown",
   "metadata": {},
   "source": [
    "coef_: array, shape(n_features,) or (n_targets, n_features)"
   ]
  },
  {
   "cell_type": "markdown",
   "metadata": {},
   "source": [
    "선형 회귀 문제에 대한 계수를 추정하는 데 사용됩니다. 적합하는 동안 여러 대상이 전달되면 2D 모양 배열 (n_targets, n_features)이됩니다. 전의. (y 2D). 반면에 맞는 동안 하나의 대상 만 전달되면 길이 (n_features)의 1D 배열이됩니다."
   ]
  },
  {
   "cell_type": "markdown",
   "metadata": {},
   "source": [
    "Intercept_: array "
   ]
  },
  {
   "cell_type": "markdown",
   "metadata": {},
   "source": [
    "이것은이 선형 모델에서 독립적 인 용어입니다."
   ]
  },
  {
   "cell_type": "markdown",
   "metadata": {},
   "source": [
    "# 구현 예\n",
    "먼저 필요한 패키지를 가져옵니다."
   ]
  },
  {
   "cell_type": "code",
   "execution_count": 98,
   "metadata": {},
   "outputs": [],
   "source": [
    "import numpy as np\n",
    "from sklearn.linear_model import LinearRegression"
   ]
  },
  {
   "cell_type": "markdown",
   "metadata": {},
   "source": [
    "이제 독립 변수 X에 대한 값을 제공하십시오."
   ]
  },
  {
   "cell_type": "code",
   "execution_count": 99,
   "metadata": {},
   "outputs": [],
   "source": [
    "X = np.array([[1,1],[1,2],[2,2],[2,3]])"
   ]
  },
  {
   "cell_type": "markdown",
   "metadata": {},
   "source": [
    "다음으로 종속 변수 y의 값은 다음과 같이 계산할 수 있습니다."
   ]
  },
  {
   "cell_type": "code",
   "execution_count": 100,
   "metadata": {},
   "outputs": [],
   "source": [
    "y = np.dot(X, np.array([1,2])) + 3"
   ]
  },
  {
   "cell_type": "markdown",
   "metadata": {},
   "source": [
    "이제 다음과 같이 선형 회귀 객체를 만듭니다."
   ]
  },
  {
   "cell_type": "code",
   "execution_count": 101,
   "metadata": {},
   "outputs": [],
   "source": [
    "regr = LinearRegression(fit_intercept=True, normalize = True, copy_X=True,\n",
    "n_jobs=2).fit(X,y)"
   ]
  },
  {
   "cell_type": "markdown",
   "metadata": {},
   "source": [
    "이 선형 모델을 사용하여 다음과 같이 예측하려면 predict () 메서드를 사용하십시오."
   ]
  },
  {
   "cell_type": "code",
   "execution_count": 103,
   "metadata": {},
   "outputs": [
    {
     "data": {
      "text/plain": [
       "array([16.])"
      ]
     },
     "execution_count": 103,
     "metadata": {},
     "output_type": "execute_result"
    }
   ],
   "source": [
    "regr.predict(np.array([[3,5]]))"
   ]
  },
  {
   "cell_type": "markdown",
   "metadata": {},
   "source": [
    "예측 결정 계수를 얻으려면 다음과 같이 Score () 메서드를 사용할 수 있습니다."
   ]
  },
  {
   "cell_type": "code",
   "execution_count": 105,
   "metadata": {},
   "outputs": [
    {
     "data": {
      "text/plain": [
       "1.0"
      ]
     },
     "execution_count": 105,
     "metadata": {},
     "output_type": "execute_result"
    }
   ],
   "source": [
    "regr.score(X,y)"
   ]
  },
  {
   "cell_type": "markdown",
   "metadata": {},
   "source": [
    "다음과 같이 'coef'라는 속성을 사용하여 계수를 추정 할 수 있습니다."
   ]
  },
  {
   "cell_type": "code",
   "execution_count": 106,
   "metadata": {},
   "outputs": [
    {
     "data": {
      "text/plain": [
       "array([1., 2.])"
      ]
     },
     "execution_count": 106,
     "metadata": {},
     "output_type": "execute_result"
    }
   ],
   "source": [
    "regr.coef_"
   ]
  },
  {
   "cell_type": "markdown",
   "metadata": {},
   "source": [
    "다음과 같이 'intercept'라는 속성을 사용하여 모든 X = 0 일 때 Y의 예상 평균값 인 절편을 계산할 수 있습니다."
   ]
  },
  {
   "cell_type": "code",
   "execution_count": 107,
   "metadata": {},
   "outputs": [
    {
     "data": {
      "text/plain": [
       "3.0000000000000018"
      ]
     },
     "execution_count": 107,
     "metadata": {},
     "output_type": "execute_result"
    }
   ],
   "source": [
    "regr.intercept_"
   ]
  },
  {
   "cell_type": "markdown",
   "metadata": {},
   "source": [
    "# Complete code "
   ]
  },
  {
   "cell_type": "code",
   "execution_count": 109,
   "metadata": {},
   "outputs": [
    {
     "data": {
      "text/plain": [
       "3.0000000000000018"
      ]
     },
     "execution_count": 109,
     "metadata": {},
     "output_type": "execute_result"
    }
   ],
   "source": [
    "import numpy as np\n",
    "from sklearn.linear_model import LinearRegression\n",
    "X = np.array([[1,1],[1,2],[2,2],[2,3]])\n",
    "y = np.dot(X, np.array([1,2])) + 3\n",
    "regr = LinearRegression(fit_intercept=True, normalize = True, copy_X=True,\n",
    "n_jobs=2).fit(X,y)\n",
    "regr.predict(np.array([[3,5]]))\n",
    "regr.score(X,y)\n",
    "regr.coef_\n",
    "regr.intercept_"
   ]
  },
  {
   "cell_type": "markdown",
   "metadata": {},
   "source": [
    "# Logistic Regression"
   ]
  },
  {
   "cell_type": "markdown",
   "metadata": {},
   "source": [
    "로지스틱 회귀는 이름에도 불구하고 회귀 알고리즘이 아닌 분류 알고리즘입니다.\n",
    "주어진 독립 변수 세트를 기반으로 이산을 추정하는 데 사용됩니다.\n",
    "값 (0 또는 1, 예 / 아니요, 참 / 거짓). logit 또는 MaxEnt Classifier라고도합니다.\n",
    "기본적으로 물류 함수를 사용하여 이벤트 발생 확률을 추정하여 범주 형 종속 변수와 하나 이상의 독립 변수 간의 관계를 측정합니다.\n",
    "sklearn.linear_model.LogisticRegression은 로지스틱 회귀를 구현하는 데 사용되는 모듈입니다."
   ]
  },
  {
   "cell_type": "code",
   "execution_count": 115,
   "metadata": {},
   "outputs": [
    {
     "data": {
      "text/plain": [
       "0.96"
      ]
     },
     "execution_count": 115,
     "metadata": {},
     "output_type": "execute_result"
    }
   ],
   "source": [
    "from sklearn import datasets\n",
    "from sklearn import linear_model\n",
    "from sklearn.datasets import load_iris\n",
    "X, y = load_iris(return_X_y=True)\n",
    "LRG = linear_model.LogisticRegression(random_state=0,solver='liblinear',multi_class='auto').fit(X, y)\n",
    "LRG.score(X, y)"
   ]
  },
  {
   "cell_type": "markdown",
   "metadata": {},
   "source": [
    "출력은 위의 로지스틱 회귀 모델이 96 %의 정확도를 제공했음을 보여줍니다."
   ]
  },
  {
   "cell_type": "markdown",
   "metadata": {},
   "source": [
    "# Ridge Regression"
   ]
  },
  {
   "cell_type": "markdown",
   "metadata": {},
   "source": [
    "Ridge 회귀 또는 Tikhonov 정규화는 L2 정규화를 수행하는 정규화 기술입니다. 계수 크기의 제곱에 해당하는 패널티 (수축량)를 추가하여 손실 함수를 수정합니다."
   ]
  },
  {
   "cell_type": "code",
   "execution_count": 118,
   "metadata": {},
   "outputs": [
    {
     "data": {
      "image/jpeg": "[encoded data removed]",
      "text/plain": [
       "<IPython.core.display.Image object>"
      ]
     },
     "execution_count": 118,
     "metadata": {},
     "output_type": "execute_result"
    }
   ],
   "source": [
    "Image(\"0011.jpg\")"
   ]
  },
  {
   "cell_type": "markdown",
   "metadata": {},
   "source": [
    "sklearn.linear_model.Ridge는 손실 함수가 선형 최소 제곱 함수이고 정규화가 L2 인 회귀 모델을 해결하는 데 사용되는 모듈입니다."
   ]
  },
  {
   "cell_type": "markdown",
   "metadata": {},
   "source": [
    "다음 Python 스크립트는 Ridge Regression을 구현하는 간단한 예제를 제공합니다. 15 개의 샘플과 10 개의 기능을 사용하고 있습니다. 우리의 경우 알파 값은 0.5입니다. 이 모델에 적합하고 각각 점수를 계산하는 데 사용되는 fit () 및 score ()라는 두 가지 메서드가 있습니다."
   ]
  },
  {
   "cell_type": "code",
   "execution_count": 122,
   "metadata": {},
   "outputs": [],
   "source": [
    "from sklearn.linear_model import Ridge\n",
    "import numpy as np\n",
    "n_samples, n_features = 15, 10\n",
    "rng = np.random.RandomState(0)\n",
    "y = rng.randn(n_samples)"
   ]
  },
  {
   "cell_type": "code",
   "execution_count": 123,
   "metadata": {},
   "outputs": [
    {
     "data": {
      "text/plain": [
       "0.7629498741931634"
      ]
     },
     "execution_count": 123,
     "metadata": {},
     "output_type": "execute_result"
    }
   ],
   "source": [
    "X = rng.randn(n_samples, n_features)\n",
    "rdg = Ridge(alpha=0.5)\n",
    "rdg.fit(X, y)\n",
    "rdg.score(X,y)"
   ]
  },
  {
   "cell_type": "markdown",
   "metadata": {},
   "source": [
    "결과는 위의 Ridge Regression 모델이 약 76 %의 점수를 제공했음을 보여줍니다. 정확도를 높이기 위해 샘플 및 기능의 수를 늘릴 수 있습니다.\n",
    "위의 예에서는 다음 python 스크립트를 사용하여 가중치 벡터를 얻을 수 있습니다."
   ]
  },
  {
   "cell_type": "code",
   "execution_count": 125,
   "metadata": {},
   "outputs": [
    {
     "data": {
      "text/plain": [
       "array([ 0.32720254, -0.34503436, -0.2913278 ,  0.2693125 , -0.22832508,\n",
       "       -0.8635094 , -0.17079403, -0.36288055, -0.17241081, -0.43136046])"
      ]
     },
     "execution_count": 125,
     "metadata": {},
     "output_type": "execute_result"
    }
   ],
   "source": [
    "rdg.coef_"
   ]
  },
  {
   "cell_type": "code",
   "execution_count": 127,
   "metadata": {},
   "outputs": [
    {
     "data": {
      "text/plain": [
       "0.5274865723969377"
      ]
     },
     "execution_count": 127,
     "metadata": {},
     "output_type": "execute_result"
    }
   ],
   "source": [
    "rdg.intercept_"
   ]
  },
  {
   "cell_type": "markdown",
   "metadata": {},
   "source": [
    "# Bayesian Ridge Regression"
   ]
  },
  {
   "cell_type": "markdown",
   "metadata": {},
   "source": [
    "베이지안 회귀는 포인트 추정이 아닌 확률 분포를 사용하여 선형 회귀를 공식화함으로써 불충분 한 데이터 또는 불충분하게 분산 된 데이터를 자연 메커니즘으로 유지합니다. 출력 또는 반응 'y'는 단일 값으로 추정되는 것이 아니라 확률 분포에서 추출 된 것으로 간주됩니다.\n",
    "수학적으로 완전 확률 모델을 얻기 위해 응답 y는 다음과 같이 𝑋𝑤 주위에 분포 된 가우스라고 가정합니다."
   ]
  },
  {
   "cell_type": "code",
   "execution_count": 128,
   "metadata": {},
   "outputs": [
    {
     "data": {
      "image/jpeg": "[encoded data removed]",
      "text/plain": [
       "<IPython.core.display.Image object>"
      ]
     },
     "execution_count": 128,
     "metadata": {},
     "output_type": "execute_result"
    }
   ],
   "source": [
    "Image(\"0001.jpg\")"
   ]
  },
  {
   "cell_type": "markdown",
   "metadata": {},
   "source": [
    "베이지안 회귀의 가장 유용한 유형 중 하나는 회귀 문제의 확률 모델을 추정하는 베이지안 릿지 회귀입니다. 여기서 계수 𝑤에 대한 사전은 다음과 같이 구형 가우스에 의해 제공됩니다."
   ]
  },
  {
   "cell_type": "code",
   "execution_count": 129,
   "metadata": {},
   "outputs": [
    {
     "data": {
      "image/jpeg": "[encoded data removed]",
      "text/plain": [
       "<IPython.core.display.Image object>"
      ]
     },
     "execution_count": 129,
     "metadata": {},
     "output_type": "execute_result"
    }
   ],
   "source": [
    "Image(\"0002.jpg\")"
   ]
  },
  {
   "cell_type": "markdown",
   "metadata": {},
   "source": [
    "이 결과 모델을 Bayesian Ridge Regression이라고하며 scikit-learn에서 sklearn.linear_model.BeyesianRidge 모듈은 Bayesian Ridge 회귀에 사용됩니다."
   ]
  },
  {
   "cell_type": "code",
   "execution_count": 130,
   "metadata": {},
   "outputs": [
    {
     "data": {
      "text/plain": [
       "BayesianRidge()"
      ]
     },
     "execution_count": 130,
     "metadata": {},
     "output_type": "execute_result"
    }
   ],
   "source": [
    "from sklearn import linear_model\n",
    "X = [[0, 0], [1, 1], [2, 2], [3, 3]]\n",
    "Y = [0, 1, 2, 3]\n",
    "BayReg = linear_model.BayesianRidge()\n",
    "BayReg.fit(X, Y)"
   ]
  },
  {
   "cell_type": "markdown",
   "metadata": {},
   "source": [
    "위의 출력에서 계산에 사용 된 모델의 매개 변수를 확인할 수 있습니다.\n",
    "이제 적합하면 모델은 다음과 같이 새 값을 예측할 수 있습니다."
   ]
  },
  {
   "cell_type": "code",
   "execution_count": 132,
   "metadata": {},
   "outputs": [
    {
     "data": {
      "text/plain": [
       "array([1.00000007])"
      ]
     },
     "execution_count": 132,
     "metadata": {},
     "output_type": "execute_result"
    }
   ],
   "source": [
    "BayReg.predict([[1,1]])"
   ]
  },
  {
   "cell_type": "markdown",
   "metadata": {},
   "source": [
    "마찬가지로 다음과 같이 모델의 계수 w에 액세스 할 수 있습니다."
   ]
  },
  {
   "cell_type": "code",
   "execution_count": 134,
   "metadata": {},
   "outputs": [
    {
     "data": {
      "text/plain": [
       "array([0.49999993, 0.49999993])"
      ]
     },
     "execution_count": 134,
     "metadata": {},
     "output_type": "execute_result"
    }
   ],
   "source": [
    "BayReg.coef_"
   ]
  },
  {
   "cell_type": "markdown",
   "metadata": {},
   "source": [
    "# LASSO (Least Absolute Shrinkage and Selection Operator)"
   ]
  },
  {
   "cell_type": "markdown",
   "metadata": {},
   "source": [
    "LASSO는 L1 정규화를 수행하는 정규화 기술입니다. 계수의 절대 값의 합에 해당하는 패널티 (수축량)를 추가하여 손실 함수를 수정합니다."
   ]
  },
  {
   "cell_type": "code",
   "execution_count": 136,
   "metadata": {},
   "outputs": [
    {
     "data": {
      "image/jpeg": "[encoded data removed]",
      "text/plain": [
       "<IPython.core.display.Image object>"
      ]
     },
     "execution_count": 136,
     "metadata": {},
     "output_type": "execute_result"
    }
   ],
   "source": [
    "Image(\"0003.jpg\")"
   ]
  },
  {
   "cell_type": "markdown",
   "metadata": {},
   "source": [
    "sklearn.linear_model. Lasso는 희소 계수를 추정하는 데 사용되는 정규화 항이 추가 된 선형 모델입니다."
   ]
  },
  {
   "cell_type": "code",
   "execution_count": 138,
   "metadata": {},
   "outputs": [
    {
     "data": {
      "text/plain": [
       "Lasso(alpha=0.5)"
      ]
     },
     "execution_count": 138,
     "metadata": {},
     "output_type": "execute_result"
    }
   ],
   "source": [
    "from sklearn import linear_model\n",
    "Lreg = linear_model.Lasso(alpha=0.5)\n",
    "Lreg.fit([[0,0], [1, 1], [2, 2]], [0, 1, 2])"
   ]
  },
  {
   "cell_type": "markdown",
   "metadata": {},
   "source": [
    "이제 적합하면 모델은 다음과 같이 새 값을 예측할 수 있습니다."
   ]
  },
  {
   "cell_type": "code",
   "execution_count": 140,
   "metadata": {},
   "outputs": [
    {
     "data": {
      "text/plain": [
       "array([0.75])"
      ]
     },
     "execution_count": 140,
     "metadata": {},
     "output_type": "execute_result"
    }
   ],
   "source": [
    "Lreg.predict([[0,1]])"
   ]
  },
  {
   "cell_type": "markdown",
   "metadata": {},
   "source": [
    "위의 예에서는 다음 python 스크립트를 사용하여 가중치 벡터를 얻을 수 있습니다."
   ]
  },
  {
   "cell_type": "code",
   "execution_count": 142,
   "metadata": {},
   "outputs": [
    {
     "data": {
      "text/plain": [
       "array([0.25, 0.  ])"
      ]
     },
     "execution_count": 142,
     "metadata": {},
     "output_type": "execute_result"
    }
   ],
   "source": [
    "Lreg.coef_"
   ]
  },
  {
   "cell_type": "markdown",
   "metadata": {},
   "source": [
    "마찬가지로 다음 파이썬 스크립트의 도움으로 intercept의 값을 얻을 수 있습니다."
   ]
  },
  {
   "cell_type": "code",
   "execution_count": 144,
   "metadata": {},
   "outputs": [
    {
     "data": {
      "text/plain": [
       "0.75"
      ]
     },
     "execution_count": 144,
     "metadata": {},
     "output_type": "execute_result"
    }
   ],
   "source": [
    "Lreg.intercept_"
   ]
  },
  {
   "cell_type": "markdown",
   "metadata": {},
   "source": [
    "다음 파이썬 스크립트를 사용하여 지정된 허용 오차를 얻기 위해 총 반복 횟수를 얻을 수 있습니다."
   ]
  },
  {
   "cell_type": "code",
   "execution_count": 145,
   "metadata": {},
   "outputs": [
    {
     "data": {
      "text/plain": [
       "2"
      ]
     },
     "execution_count": 145,
     "metadata": {},
     "output_type": "execute_result"
    }
   ],
   "source": [
    "Lreg.n_iter_"
   ]
  },
  {
   "cell_type": "markdown",
   "metadata": {},
   "source": [
    "모델에서 원하는 출력을 얻기 위해 매개 변수 값을 변경할 수 있습니다."
   ]
  },
  {
   "cell_type": "markdown",
   "metadata": {},
   "source": [
    "# Multi-task LASSO"
   ]
  },
  {
   "cell_type": "markdown",
   "metadata": {},
   "source": [
    "작업이라고도하는 모든 회귀 문제에 대해 선택한 기능을 동일하게 적용하도록 여러 회귀 문제에 맞출 수 있습니다.\n",
    "Sklearn은 다중 회귀 문제에 대한 희소 계수를 공동으로 추정하는 정규화를 위해 혼합 L1, L2- 노름으로 훈련 된 MultiTaskLasso라는 선형 모델을 제공합니다. 이 응답에서 y는 모양의 2D 배열 (n_samples, n_tasks)입니다. MultiTaskLasso의 매개 변수와 속성은 Lasso와 비슷합니다.\n",
    "유일한 차이점은 alpha 매개 변수입니다. Lasso에서 alpha 매개 변수는 L1 표준을 곱하는 상수이고 Multi-task Lasso에서는 L1 / L2 항을 곱하는 상수입니다.\n",
    "그리고 Lasso와는 반대로 MultiTaskLasso에는 사전 계산 속성이 없습니다."
   ]
  },
  {
   "cell_type": "code",
   "execution_count": 146,
   "metadata": {},
   "outputs": [
    {
     "data": {
      "text/plain": [
       "MultiTaskLasso(alpha=0.5)"
      ]
     },
     "execution_count": 146,
     "metadata": {},
     "output_type": "execute_result"
    }
   ],
   "source": [
    "from sklearn import linear_model\n",
    "MTLReg = linear_model.MultiTaskLasso(alpha=0.5)\n",
    "MTLReg.fit([[0,0], [1, 1], [2, 2]], [[0, 0],[1,1],[2,2]])"
   ]
  },
  {
   "cell_type": "markdown",
   "metadata": {},
   "source": [
    "이제 적합하면 모델은 다음과 같이 새 값을 예측할 수 있습니다."
   ]
  },
  {
   "cell_type": "code",
   "execution_count": 148,
   "metadata": {},
   "outputs": [
    {
     "data": {
      "text/plain": [
       "array([[0.53033009, 0.53033009]])"
      ]
     },
     "execution_count": 148,
     "metadata": {},
     "output_type": "execute_result"
    }
   ],
   "source": [
    "MTLReg.predict([[0,1]]) "
   ]
  },
  {
   "cell_type": "markdown",
   "metadata": {},
   "source": [
    "위의 예에서는 다음 python 스크립트를 사용하여 가중치 벡터를 얻을 수 있습니다."
   ]
  },
  {
   "cell_type": "code",
   "execution_count": 151,
   "metadata": {},
   "outputs": [
    {
     "data": {
      "text/plain": [
       "array([[4.69669914e-01, 1.76635402e-16],\n",
       "       [4.69669914e-01, 1.76635402e-16]])"
      ]
     },
     "execution_count": 151,
     "metadata": {},
     "output_type": "execute_result"
    }
   ],
   "source": [
    "MTLReg.coef_"
   ]
  },
  {
   "cell_type": "markdown",
   "metadata": {},
   "source": [
    "마찬가지로 다음 파이썬 스크립트의 도움으로 intercept의 값을 얻을 수 있습니다."
   ]
  },
  {
   "cell_type": "code",
   "execution_count": 153,
   "metadata": {},
   "outputs": [
    {
     "data": {
      "text/plain": [
       "array([0.53033009, 0.53033009])"
      ]
     },
     "execution_count": 153,
     "metadata": {},
     "output_type": "execute_result"
    }
   ],
   "source": [
    "MTLReg.intercept_"
   ]
  },
  {
   "cell_type": "markdown",
   "metadata": {},
   "source": [
    "다음 파이썬 스크립트를 사용하여 지정된 허용 오차를 얻기 위해 총 반복 횟수를 얻을 수 있습니다."
   ]
  },
  {
   "cell_type": "code",
   "execution_count": 154,
   "metadata": {},
   "outputs": [
    {
     "data": {
      "text/plain": [
       "2"
      ]
     },
     "execution_count": 154,
     "metadata": {},
     "output_type": "execute_result"
    }
   ],
   "source": [
    "MTLReg.n_iter_"
   ]
  },
  {
   "cell_type": "markdown",
   "metadata": {},
   "source": [
    "# Elastic-Net"
   ]
  },
  {
   "cell_type": "markdown",
   "metadata": {},
   "source": [
    "Elastic-Net은 Lasso 및 Ridge 회귀 방법의 L1 및 L2와 같은 두 패널티를 선형 적으로 결합하는 정규화 된 회귀 방법입니다. 상호 관련된 기능이 여러 개있을 때 유용합니다. Lass와 Elastic-Net의 차이점은 Lasso가 이러한 기능 중 하나를 무작위로 선택하는 반면 elastic-net은 두 가지를 동시에 선택할 가능성이 있다는 사실에 있습니다.\n",
    "Sklearn은 L1, L2-norm 모두로 훈련 된 ElasticNet이라는 선형 모델을 제공합니다.\n",
    "계수의 정규화를 위해. 이러한 조합의 장점은\n",
    "리지 정규화 방법의 정규화 속성을 유지하면서 Lasso 정규화 방법과 같이 가중치가 0이 아닌 희소 모델을 학습합니다.\n",
    "다음은 최소화 할 목적 함수입니다."
   ]
  },
  {
   "cell_type": "code",
   "execution_count": 155,
   "metadata": {},
   "outputs": [
    {
     "data": {
      "image/jpeg": "[encoded data removed]",
      "text/plain": [
       "<IPython.core.display.Image object>"
      ]
     },
     "execution_count": 155,
     "metadata": {},
     "output_type": "execute_result"
    }
   ],
   "source": [
    "Image(\"0004.jpg\")"
   ]
  },
  {
   "cell_type": "code",
   "execution_count": 156,
   "metadata": {},
   "outputs": [
    {
     "data": {
      "text/plain": [
       "ElasticNet(alpha=0.5, random_state=0)"
      ]
     },
     "execution_count": 156,
     "metadata": {},
     "output_type": "execute_result"
    }
   ],
   "source": [
    "from sklearn import linear_model\n",
    "ENreg = linear_model.ElasticNet(alpha=0.5,random_state=0)\n",
    "ENreg.fit([[0,0], [1, 1], [2, 2]], [0, 1, 2])"
   ]
  },
  {
   "cell_type": "markdown",
   "metadata": {},
   "source": [
    "이제 적합하면 모델은 다음과 같이 새 값을 예측할 수 있습니다."
   ]
  },
  {
   "cell_type": "code",
   "execution_count": 163,
   "metadata": {},
   "outputs": [
    {
     "data": {
      "text/plain": [
       "array([0.73681643])"
      ]
     },
     "execution_count": 163,
     "metadata": {},
     "output_type": "execute_result"
    }
   ],
   "source": [
    "ENreg.predict([[0,1]])"
   ]
  },
  {
   "cell_type": "markdown",
   "metadata": {},
   "source": [
    "위의 예에서는 다음 python 스크립트를 사용하여 가중치 벡터를 얻을 수 있습니다."
   ]
  },
  {
   "cell_type": "code",
   "execution_count": 165,
   "metadata": {},
   "outputs": [
    {
     "data": {
      "text/plain": [
       "array([0.26318357, 0.26313923])"
      ]
     },
     "execution_count": 165,
     "metadata": {},
     "output_type": "execute_result"
    }
   ],
   "source": [
    "ENreg.coef_"
   ]
  },
  {
   "cell_type": "markdown",
   "metadata": {},
   "source": [
    "마찬가지로 다음 파이썬 스크립트의 도움으로 intercept의 값을 얻을 수 있습니다."
   ]
  },
  {
   "cell_type": "code",
   "execution_count": 166,
   "metadata": {},
   "outputs": [
    {
     "data": {
      "text/plain": [
       "0.47367720941913904"
      ]
     },
     "execution_count": 166,
     "metadata": {},
     "output_type": "execute_result"
    }
   ],
   "source": [
    "ENreg.intercept_"
   ]
  },
  {
   "cell_type": "markdown",
   "metadata": {},
   "source": [
    "다음 파이썬 스크립트를 사용하여 지정된 허용 오차를 얻기 위해 총 반복 횟수를 얻을 수 있습니다."
   ]
  },
  {
   "cell_type": "code",
   "execution_count": 168,
   "metadata": {},
   "outputs": [
    {
     "data": {
      "text/plain": [
       "15"
      ]
     },
     "execution_count": 168,
     "metadata": {},
     "output_type": "execute_result"
    }
   ],
   "source": [
    "ENreg.n_iter_"
   ]
  },
  {
   "cell_type": "markdown",
   "metadata": {},
   "source": [
    "모델에서 더 나은 결과를 얻기 위해 알파 값 (1으로)을 변경할 수 있습니다. alpha = 1 인 동일한 예를 보겠습니다."
   ]
  },
  {
   "cell_type": "code",
   "execution_count": 169,
   "metadata": {},
   "outputs": [
    {
     "data": {
      "text/plain": [
       "ElasticNet(alpha=1, random_state=0)"
      ]
     },
     "execution_count": 169,
     "metadata": {},
     "output_type": "execute_result"
    }
   ],
   "source": [
    "from sklearn import linear_model\n",
    "ENreg = linear_model.ElasticNet(alpha=1,random_state=0)\n",
    "ENreg.fit([[0,0], [1, 1], [2, 2]], [0, 1, 2])"
   ]
  },
  {
   "cell_type": "code",
   "execution_count": 170,
   "metadata": {},
   "outputs": [
    {
     "data": {
      "text/plain": [
       "array([0.90909216])"
      ]
     },
     "execution_count": 170,
     "metadata": {},
     "output_type": "execute_result"
    }
   ],
   "source": [
    "ENreg.predict([[1,0]])"
   ]
  },
  {
   "cell_type": "code",
   "execution_count": 172,
   "metadata": {},
   "outputs": [
    {
     "data": {
      "text/plain": [
       "array([0.09091128, 0.09090784])"
      ]
     },
     "execution_count": 172,
     "metadata": {},
     "output_type": "execute_result"
    }
   ],
   "source": [
    "ENreg.coef_"
   ]
  },
  {
   "cell_type": "code",
   "execution_count": 174,
   "metadata": {},
   "outputs": [
    {
     "data": {
      "text/plain": [
       "0.818180878658411"
      ]
     },
     "execution_count": 174,
     "metadata": {},
     "output_type": "execute_result"
    }
   ],
   "source": [
    "ENreg.intercept_"
   ]
  },
  {
   "cell_type": "code",
   "execution_count": 176,
   "metadata": {},
   "outputs": [
    {
     "data": {
      "text/plain": [
       "10"
      ]
     },
     "execution_count": 176,
     "metadata": {},
     "output_type": "execute_result"
    }
   ],
   "source": [
    "ENreg.n_iter_"
   ]
  },
  {
   "cell_type": "markdown",
   "metadata": {},
   "source": [
    "# MultiTaskElasticNet"
   ]
  },
  {
   "cell_type": "markdown",
   "metadata": {},
   "source": [
    "작업이라고도하는 모든 회귀 문제에 대해 선택한 기능을 동일하게 적용하는 여러 회귀 문제에 맞출 수있는 Elastic-Net 모델입니다. Sklearn\n",
    "ultiTaskElasticNet이라는 선형 모델을 제공하며 정규화를 위해 혼합 된 L1, L2-norm 및 L2로 훈련되어 여러 회귀 문제에 대한 희소 계수를 공동으로 추정합니다. 여기서 응답 y는 모양의 2D 배열 (n_samples, n_tasks)입니다."
   ]
  },
  {
   "cell_type": "markdown",
   "metadata": {},
   "source": [
    "다음은 최소화 할 목적 함수입니다."
   ]
  },
  {
   "cell_type": "code",
   "execution_count": 178,
   "metadata": {},
   "outputs": [
    {
     "data": {
      "image/jpeg": "[encoded data removed]",
      "text/plain": [
       "<IPython.core.display.Image object>"
      ]
     },
     "execution_count": 178,
     "metadata": {},
     "output_type": "execute_result"
    }
   ],
   "source": [
    "Image(\"0005.jpg\")"
   ]
  },
  {
   "cell_type": "markdown",
   "metadata": {},
   "source": [
    "MultiTaskLasso에서와 마찬가지로 Fro는 Frobenius 표준을 나타냅니다."
   ]
  },
  {
   "cell_type": "code",
   "execution_count": 179,
   "metadata": {},
   "outputs": [
    {
     "data": {
      "image/jpeg": "[encoded data removed]",
      "text/plain": [
       "<IPython.core.display.Image object>"
      ]
     },
     "execution_count": 179,
     "metadata": {},
     "output_type": "execute_result"
    }
   ],
   "source": [
    "Image(\"0006.jpg\")"
   ]
  },
  {
   "cell_type": "markdown",
   "metadata": {},
   "source": [
    "그리고 L1L2는 다음으로 이어집니다."
   ]
  },
  {
   "cell_type": "code",
   "execution_count": 180,
   "metadata": {},
   "outputs": [
    {
     "data": {
      "image/jpeg": "[encoded data removed]",
      "text/plain": [
       "<IPython.core.display.Image object>"
      ]
     },
     "execution_count": 180,
     "metadata": {},
     "output_type": "execute_result"
    }
   ],
   "source": [
    "Image(\"0007.jpg\")"
   ]
  },
  {
   "cell_type": "markdown",
   "metadata": {},
   "source": [
    "MultiTaskElasticNet의 매개 변수 및 속성은 ElasticNet의 것과 유사합니다. 유일한 차이점은 li_ratio, 즉 ElasticNet 혼합 매개 변수입니다. MultiTaskElasticNet에서 범위는 0 <l1_ratio <= 1입니다. l1_ratio = 1이면 패널티는 L1 / L2 패널티가됩니다. l1_ratio = 0이면 패널티는 L2 패널티가됩니다. l1 비율의 값이 0과 1 사이이면 패널티는 L1 / L2와 L2의 조합이됩니다.\n",
    "그리고 ElasticNet과 반대로 MultiTaskElasticNet에는 사전 계산 속성이 없습니다."
   ]
  },
  {
   "cell_type": "code",
   "execution_count": 181,
   "metadata": {},
   "outputs": [
    {
     "data": {
      "text/plain": [
       "MultiTaskElasticNet(alpha=0.5)"
      ]
     },
     "execution_count": 181,
     "metadata": {},
     "output_type": "execute_result"
    }
   ],
   "source": [
    "from sklearn import linear_model\n",
    "MTENReg = linear_model.MultiTaskElasticNet(alpha=0.5)\n",
    "MTENReg.fit([[0,0], [1, 1], [2, 2]], [[0, 0],[1,1],[2,2]])"
   ]
  },
  {
   "cell_type": "code",
   "execution_count": 182,
   "metadata": {},
   "outputs": [
    {
     "data": {
      "text/plain": [
       "array([[0.69061776, 0.69061776]])"
      ]
     },
     "execution_count": 182,
     "metadata": {},
     "output_type": "execute_result"
    }
   ],
   "source": [
    "MTENReg.predict([[1,0]])"
   ]
  },
  {
   "cell_type": "code",
   "execution_count": 183,
   "metadata": {},
   "outputs": [
    {
     "data": {
      "text/plain": [
       "array([[0.30943437, 0.30938224],\n",
       "       [0.30943437, 0.30938224]])"
      ]
     },
     "execution_count": 183,
     "metadata": {},
     "output_type": "execute_result"
    }
   ],
   "source": [
    "MTENReg.coef_"
   ]
  },
  {
   "cell_type": "code",
   "execution_count": 184,
   "metadata": {},
   "outputs": [
    {
     "data": {
      "text/plain": [
       "array([0.38118338, 0.38118338])"
      ]
     },
     "execution_count": 184,
     "metadata": {},
     "output_type": "execute_result"
    }
   ],
   "source": [
    "MTENReg.intercept_"
   ]
  },
  {
   "cell_type": "code",
   "execution_count": 186,
   "metadata": {},
   "outputs": [
    {
     "data": {
      "text/plain": [
       "15"
      ]
     },
     "execution_count": 186,
     "metadata": {},
     "output_type": "execute_result"
    }
   ],
   "source": [
    "MTENReg.n_iter_"
   ]
  },
  {
   "cell_type": "markdown",
   "metadata": {},
   "source": [
    "# Extended Linear Modeling"
   ]
  },
  {
   "cell_type": "markdown",
   "metadata": {},
   "source": [
    "# Polynomial Features"
   ]
  },
  {
   "cell_type": "markdown",
   "metadata": {},
   "source": [
    "데이터의 비선형 함수에 대해 훈련 된 선형 모델은 일반적으로 선형 방법의 빠른 성능을 유지합니다. 또한 훨씬 더 광범위한 데이터에 맞출 수 있습니다.\n",
    "이것이 기계 학습에서 비선형 함수에 대해 학습 된 선형 모델이 사용되는 이유입니다.\n",
    "이러한 예 중 하나는 계수에서 다항식 특징을 구성하여 단순 선형 회귀를 확장 할 수 있다는 것입니다.\n",
    "수학적으로 표준 선형 회귀 모델이 있다고 가정하면 2D 데이터의 경우 다음과 같습니다."
   ]
  },
  {
   "cell_type": "code",
   "execution_count": 187,
   "metadata": {},
   "outputs": [
    {
     "data": {
      "image/jpeg": "[encoded data removed]",
      "text/plain": [
       "<IPython.core.display.Image object>"
      ]
     },
     "execution_count": 187,
     "metadata": {},
     "output_type": "execute_result"
    }
   ],
   "source": [
    "Image(\"0008.jpg\")"
   ]
  },
  {
   "cell_type": "markdown",
   "metadata": {},
   "source": [
    "이제 2 차 다항식의 특징을 결합 할 수 있으며 모델은 다음과 같습니다."
   ]
  },
  {
   "cell_type": "code",
   "execution_count": 189,
   "metadata": {},
   "outputs": [
    {
     "data": {
      "image/jpeg": "[encoded data removed]",
      "text/plain": [
       "<IPython.core.display.Image object>"
      ]
     },
     "execution_count": 189,
     "metadata": {},
     "output_type": "execute_result"
    }
   ],
   "source": [
    "Image(\"0009.jpg\")"
   ]
  },
  {
   "cell_type": "markdown",
   "metadata": {},
   "source": [
    "위는 여전히 선형 모델입니다. 여기서 우리는 결과 다항 회귀가 동일한 선형 모델 클래스에 있으며 유사하게 풀 수 있음을 확인했습니다.\n",
    "이를 위해 scikit-learn은 PolynomialFeatures라는 모듈을 제공합니다. 이 모듈은 입력 데이터 매트릭스를 주어진 정도의 새로운 데이터 매트릭스로 변환합니다."
   ]
  },
  {
   "cell_type": "code",
   "execution_count": 190,
   "metadata": {},
   "outputs": [
    {
     "data": {
      "text/plain": [
       "array([[ 1.,  0.,  1.,  0.,  0.,  1.],\n",
       "       [ 1.,  2.,  3.,  4.,  6.,  9.],\n",
       "       [ 1.,  4.,  5., 16., 20., 25.],\n",
       "       [ 1.,  6.,  7., 36., 42., 49.]])"
      ]
     },
     "execution_count": 190,
     "metadata": {},
     "output_type": "execute_result"
    }
   ],
   "source": [
    "from sklearn.preprocessing import PolynomialFeatures\n",
    "import numpy as np\n",
    "Y = np.arange(8).reshape(4, 2)\n",
    "poly = PolynomialFeatures(degree=2)\n",
    "poly.fit_transform(Y)"
   ]
  },
  {
   "cell_type": "markdown",
   "metadata": {},
   "source": [
    "# 확률 적 경사 하강 법"
   ]
  },
  {
   "cell_type": "markdown",
   "metadata": {},
   "source": [
    "여기서는 SGD (Stochastic Gradient Descent)라고하는 Sklearn의 최적화 알고리즘에 대해 알아 봅니다.\n",
    "\n",
    "확률 적 경사 하강 법 (SGD)은 비용 함수를 최소화하는 함수의 매개 변수 / 계수 값을 찾는 데 사용되는 간단하면서도 효율적인 최적화 알고리즘입니다. 즉, SVM 및 로지스틱 회귀와 같은 볼록 손실 함수에서 선형 분류기의 차별적 학습에 사용됩니다. 계수 업데이트는 인스턴스 끝이 아닌 각 학습 인스턴스에 대해 수행되기 때문에 대규모 데이터 세트에 성공적으로 적용되었습니다."
   ]
  },
  {
   "cell_type": "markdown",
   "metadata": {},
   "source": [
    "# SGD Classifier\n",
    "SGD (Stochastic Gradient Descent) 분류기는 기본적으로 다양한 손실 함수 및 분류 페널티를 지원하는 일반 SGD 학습 루틴을 구현합니다. Scikit-learn은 SGD 분류를 구현하기 위해 SGDClassifier 모듈을 제공합니다 ."
   ]
  },
  {
   "cell_type": "markdown",
   "metadata": {},
   "source": [
    "다른 분류기와 마찬가지로 SGD (Stochastic Gradient Descent)는 다음 두 배열에 적합해야합니다.\n",
    "\n",
    "훈련 샘플이 들어있는 배열 X입니다. 크기는 [n_samples, n_features]입니다.\n",
    "\n",
    "목표 값, 즉 훈련 샘플에 대한 클래스 레이블을 보유하는 배열 Y. 크기는 [n_samples]입니다"
   ]
  },
  {
   "cell_type": "code",
   "execution_count": 215,
   "metadata": {},
   "outputs": [
    {
     "data": {
      "text/plain": [
       "SGDClassifier(penalty='elasticnet')"
      ]
     },
     "execution_count": 215,
     "metadata": {},
     "output_type": "execute_result"
    }
   ],
   "source": [
    "import numpy as np\n",
    "from sklearn import linear_model\n",
    "X = np.array([[-1, -1], [-2, -1], [1, 1], [2, 1]])\n",
    "Y = np.array([1, 1, 2, 2])\n",
    "SGDClf = linear_model.SGDClassifier(max_iter = 1000, tol=1e-3,penalty = \"elasticnet\")\n",
    "SGDClf.fit(X, Y)"
   ]
  },
  {
   "cell_type": "markdown",
   "metadata": {},
   "source": [
    "다음과 같이 새로운 값을 예측할 수 있습니다."
   ]
  },
  {
   "cell_type": "code",
   "execution_count": 217,
   "metadata": {},
   "outputs": [
    {
     "data": {
      "text/plain": [
       "array([2])"
      ]
     },
     "execution_count": 217,
     "metadata": {},
     "output_type": "execute_result"
    }
   ],
   "source": [
    "SGDClf.predict([[2.,2.]])"
   ]
  },
  {
   "cell_type": "markdown",
   "metadata": {},
   "source": [
    "가중치 벡터를 얻을 수 있습니다."
   ]
  },
  {
   "cell_type": "code",
   "execution_count": 218,
   "metadata": {},
   "outputs": [
    {
     "data": {
      "text/plain": [
       "array([[19.54811198,  9.77200712]])"
      ]
     },
     "execution_count": 218,
     "metadata": {},
     "output_type": "execute_result"
    }
   ],
   "source": [
    "SGDClf.coef_"
   ]
  },
  {
   "cell_type": "code",
   "execution_count": 219,
   "metadata": {},
   "outputs": [
    {
     "data": {
      "text/plain": [
       "array([-10.])"
      ]
     },
     "execution_count": 219,
     "metadata": {},
     "output_type": "execute_result"
    }
   ],
   "source": [
    "SGDClf.intercept_"
   ]
  },
  {
   "cell_type": "markdown",
   "metadata": {},
   "source": [
    "SGDClassifier.decision_function 을 사용 하여 초평면까지의 부호있는 거리를 얻을 수 있습니다."
   ]
  },
  {
   "cell_type": "code",
   "execution_count": 220,
   "metadata": {},
   "outputs": [
    {
     "data": {
      "text/plain": [
       "array([48.6402382])"
      ]
     },
     "execution_count": 220,
     "metadata": {},
     "output_type": "execute_result"
    }
   ],
   "source": [
    "SGDClf.decision_function([[2., 2.]])"
   ]
  },
  {
   "cell_type": "markdown",
   "metadata": {},
   "source": [
    "# SGD (Stochastic Gradient Descent) \n",
    "SGD (Stochastic Gradient Descent) 회귀 분석기는 기본적으로 선형 회귀 모델에 맞게 다양한 손실 함수와 패널티를 지원하는 일반 SGD 학습 루틴을 구현합니다. Scikit-learn은 SGD 회귀를 구현하기 위해 SGDRegressor 모듈을 제공합니다 .\n",
    "SGDRegressor에서 사용하는 매개 변수 는 SGDClassifier 모듈에서 사용 된 매개 변수 와 거의 동일합니다. 차이점은 '손실'매개 변수에 있습니다. 들어 SGDRegressor의 모듈의 손실 긍정적 매개 변수 값은 다음입니다 -\n",
    "\n",
    "squared_loss- 일반적인 최소 제곱 적합을 나타냅니다.\n",
    "\n",
    "huber : SGDRegressor- 엡실론 거리를 지나서 제곱에서 선형 손실로 전환하여 이상 값을 수정합니다. 'huber'의 작업은 알고리즘이 이상 값 수정에 덜 집중하도록 'squared_loss'를 수정하는 것입니다.\n",
    "\n",
    "epsilon_insensitive- 사실, 엡실론보다 적은 오류를 무시합니다.\n",
    "\n",
    "squared_epsilon_insensitive -epsilon_insensitive와 동일합니다. 유일한 차이점은 엡실론의 허용 오차를 넘어서 손실의 제곱이된다는 것입니다.\n",
    "\n",
    "또 다른 차이점은 'power_t'라는 매개 변수의 기본값은 SGDClassifier 에서와 같이 0.5가 아니라 0.25라는 것 입니다. 또한 'class_weight'및 'n_jobs'매개 변수가 없습니다"
   ]
  },
  {
   "cell_type": "code",
   "execution_count": 221,
   "metadata": {},
   "outputs": [
    {
     "data": {
      "text/plain": [
       "SGDRegressor(average=True, loss='huber', penalty='elasticnet')"
      ]
     },
     "execution_count": 221,
     "metadata": {},
     "output_type": "execute_result"
    }
   ],
   "source": [
    "import numpy as np\n",
    "from sklearn import linear_model\n",
    "n_samples, n_features = 10, 5\n",
    "rng = np.random.RandomState(0)\n",
    "y = rng.randn(n_samples)\n",
    "X = rng.randn(n_samples, n_features)\n",
    "SGDReg =linear_model.SGDRegressor(\n",
    "   max_iter = 1000,penalty = \"elasticnet\",loss = 'huber',tol = 1e-3, average = True\n",
    ")\n",
    "SGDReg.fit(X, y)"
   ]
  },
  {
   "cell_type": "markdown",
   "metadata": {},
   "source": [
    "가중치 벡터를 얻을 수 있습니다."
   ]
  },
  {
   "cell_type": "code",
   "execution_count": 223,
   "metadata": {},
   "outputs": [
    {
     "data": {
      "text/plain": [
       "array([-0.00356495,  0.00369834, -0.00348292,  0.00625457,  0.00413749])"
      ]
     },
     "execution_count": 223,
     "metadata": {},
     "output_type": "execute_result"
    }
   ],
   "source": [
    "SGDReg.coef_"
   ]
  },
  {
   "cell_type": "code",
   "execution_count": 225,
   "metadata": {},
   "outputs": [
    {
     "data": {
      "text/plain": [
       "array([0.00561168])"
      ]
     },
     "execution_count": 225,
     "metadata": {},
     "output_type": "execute_result"
    }
   ],
   "source": [
    "SGDReg.intercept_"
   ]
  },
  {
   "cell_type": "code",
   "execution_count": 226,
   "metadata": {},
   "outputs": [
    {
     "data": {
      "text/plain": [
       "61.0"
      ]
     },
     "execution_count": 226,
     "metadata": {},
     "output_type": "execute_result"
    }
   ],
   "source": [
    "SGDReg.t_"
   ]
  },
  {
   "cell_type": "markdown",
   "metadata": {},
   "source": [
    "# SGD의 장단점\n",
    "SGD의 장점\n",
    "\n",
    "확률 적 경사 하강 법 (SGD)은 매우 효율적입니다.\n",
    "\n",
    "코드 튜닝에 대한 많은 기회가 있기 때문에 구현하기가 매우 쉽습니다.\n",
    "\n",
    "SGD의 단점\n",
    "\n",
    "SGD (Stochastic Gradient Descent)에는 정규화 매개 변수와 같은 여러 하이퍼 파라미터가 필요합니다.\n",
    "\n",
    "기능 확장에 민감합니다."
   ]
  },
  {
   "cell_type": "markdown",
   "metadata": {},
   "source": [
    "# SVM (Support Vector Machine)"
   ]
  },
  {
   "cell_type": "markdown",
   "metadata": {},
   "source": [
    "SVM (Support Vector Machine)은 분류, 회귀 및 이상 값 감지에 사용되는 강력하면서도 유연한 감독 형 기계 학습 방법입니다. SVM은 고차원 공간에서 매우 효율적이며 일반적으로 분류 문제에 사용됩니다. SVM은 의사 결정 기능에서 훈련 포인트의 하위 집합을 사용하기 때문에 널리 사용되며 메모리 효율적입니다.\n",
    "\n",
    "SVM의 주요 목표 는 다음 두 단계로 수행 할 수있는 최대 한계 하이퍼 플레인 (MMH) 을 찾기 위해 데이터 세트를 여러 클래스로 나누는 것입니다.\n",
    "\n",
    "Support Vector Machines는 먼저 클래스를 최상의 방법으로 분리하는 초평면을 반복적으로 생성합니다.\n",
    "\n",
    "그 후 클래스를 올바르게 분리하는 초평면을 선택합니다.\n",
    "\n",
    "SVM의 몇 가지 중요한 개념은 다음과 같습니다.\n",
    "\n",
    "지원 벡터 -그들은 초평면에 가장 가까운 데이터 포인트로 정의 할 수 있습니다. 지원 벡터는 구분선을 결정하는 데 도움이됩니다.\n",
    "\n",
    "Hyperplane- 다른 클래스를 가진 개체 집합을 나누는 결정 평면 또는 공간.\n",
    "\n",
    "Margin- 서로 다른 클래스의 옷장 데이터 포인트에있는 두 줄 사이의 간격을 여백 이라고합니다."
   ]
  },
  {
   "cell_type": "code",
   "execution_count": 227,
   "metadata": {},
   "outputs": [
    {
     "data": {
      "image/jpeg": "[encoded data removed]",
      "text/plain": [
       "<IPython.core.display.Image object>"
      ]
     },
     "execution_count": 227,
     "metadata": {},
     "output_type": "execute_result"
    }
   ],
   "source": [
    "Image(\"0010.jpg\")"
   ]
  },
  {
   "cell_type": "markdown",
   "metadata": {},
   "source": [
    "Scikit-learn의 SVM은 희소 및 조밀 샘플 벡터를 입력으로 모두 지원합니다.\n",
    "# SVM 분류\n",
    "Scikit-learn은 멀티 클래스 클래스 분류를 수행 할 수있는 SVC, NuSVC 및 LinearSVC의 세 가지 클래스를 제공합니다 .\n",
    "\n",
    "# SVC\n",
    "libsvm 기반으로 구현 된 C 지원 벡터 분류입니다 . scikit-learn에서 사용하는 모듈은 sklearn.svm.SVC 입니다. 이 클래스는 일대일 체계에 따라 다중 클래스 지원을 처리합니다."
   ]
  },
  {
   "cell_type": "markdown",
   "metadata": {},
   "source": [
    "다른 분류기와 마찬가지로 SVC도 다음 두 배열에 적합해야합니다.\n",
    "\n",
    "훈련 샘플이 들어 있는 배열 X 입니다. 크기는 [n_samples, n_features]입니다.\n",
    "\n",
    "목표 값, 즉 훈련 샘플에 대한 클래스 레이블을 보유 하는 배열 Y. 크기는 [n_samples]입니다."
   ]
  },
  {
   "cell_type": "code",
   "execution_count": 228,
   "metadata": {},
   "outputs": [
    {
     "data": {
      "text/plain": [
       "SVC(kernel='linear', shrinking=False)"
      ]
     },
     "execution_count": 228,
     "metadata": {},
     "output_type": "execute_result"
    }
   ],
   "source": [
    "import numpy as np\n",
    "X = np.array([[-1, -1], [-2, -1], [1, 1], [2, 1]])\n",
    "y = np.array([1, 1, 2, 2])\n",
    "from sklearn.svm import SVC\n",
    "SVCClf = SVC(kernel = 'linear',gamma = 'scale', shrinking = False,)\n",
    "SVCClf.fit(X, y)"
   ]
  },
  {
   "cell_type": "code",
   "execution_count": 229,
   "metadata": {},
   "outputs": [
    {
     "data": {
      "text/plain": [
       "array([[0.5, 0.5]])"
      ]
     },
     "execution_count": 229,
     "metadata": {},
     "output_type": "execute_result"
    }
   ],
   "source": [
    "SVCClf.coef_"
   ]
  },
  {
   "cell_type": "code",
   "execution_count": 230,
   "metadata": {},
   "outputs": [
    {
     "data": {
      "text/plain": [
       "array([1])"
      ]
     },
     "execution_count": 230,
     "metadata": {},
     "output_type": "execute_result"
    }
   ],
   "source": [
    "SVCClf.predict([[-0.5,-0.8]])"
   ]
  },
  {
   "cell_type": "code",
   "execution_count": 231,
   "metadata": {},
   "outputs": [
    {
     "data": {
      "text/plain": [
       "array([1, 1])"
      ]
     },
     "execution_count": 231,
     "metadata": {},
     "output_type": "execute_result"
    }
   ],
   "source": [
    "SVCClf.n_support_"
   ]
  },
  {
   "cell_type": "code",
   "execution_count": 232,
   "metadata": {},
   "outputs": [
    {
     "data": {
      "text/plain": [
       "array([[-1., -1.],\n",
       "       [ 1.,  1.]])"
      ]
     },
     "execution_count": 232,
     "metadata": {},
     "output_type": "execute_result"
    }
   ],
   "source": [
    "SVCClf.support_vectors_"
   ]
  },
  {
   "cell_type": "code",
   "execution_count": 233,
   "metadata": {},
   "outputs": [
    {
     "data": {
      "text/plain": [
       "array([0, 2])"
      ]
     },
     "execution_count": 233,
     "metadata": {},
     "output_type": "execute_result"
    }
   ],
   "source": [
    "SVCClf.support_"
   ]
  },
  {
   "cell_type": "code",
   "execution_count": 234,
   "metadata": {},
   "outputs": [
    {
     "data": {
      "text/plain": [
       "array([-0.])"
      ]
     },
     "execution_count": 234,
     "metadata": {},
     "output_type": "execute_result"
    }
   ],
   "source": [
    "SVCClf.intercept_"
   ]
  },
  {
   "cell_type": "code",
   "execution_count": 235,
   "metadata": {},
   "outputs": [
    {
     "data": {
      "text/plain": [
       "0"
      ]
     },
     "execution_count": 235,
     "metadata": {},
     "output_type": "execute_result"
    }
   ],
   "source": [
    "SVCClf.fit_status_"
   ]
  },
  {
   "cell_type": "code",
   "execution_count": null,
   "metadata": {},
   "outputs": [],
   "source": []
  }
 ],
 "metadata": {
  "kernelspec": {
   "display_name": "Python 3",
   "language": "python",
   "name": "python3"
  },
  "language_info": {
   "codemirror_mode": {
    "name": "ipython",
    "version": 3
   },
   "file_extension": ".py",
   "mimetype": "text/x-python",
   "name": "python",
   "nbconvert_exporter": "python",
   "pygments_lexer": "ipython3",
   "version": "3.8.5"
  }
 },
 "nbformat": 4,
 "nbformat_minor": 4
}
