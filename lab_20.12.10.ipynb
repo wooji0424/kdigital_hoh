{
 "cells": [
  {
   "cell_type": "code",
   "execution_count": 1,
   "metadata": {},
   "outputs": [
    {
     "name": "stdout",
     "output_type": "stream",
     "text": [
      "30\n",
      "60\n",
      "90\n",
      "200\n",
      "-70\n",
      "50\n"
     ]
    }
   ],
   "source": [
    "x = [3,6,9,20,-7,5]\n",
    "for i in range(len(x)):\n",
    "    x[i] *= 10\n",
    "    print(x[i])"
   ]
  },
  {
   "cell_type": "code",
   "execution_count": 2,
   "metadata": {},
   "outputs": [],
   "source": [
    "score_dict = {\"math\":70, \"siecnce\":80, \"english\":20}"
   ]
  },
  {
   "cell_type": "code",
   "execution_count": 3,
   "metadata": {},
   "outputs": [
    {
     "name": "stdout",
     "output_type": "stream",
     "text": [
      "{'math': 80, 'siecnce': 90, 'english': 30}\n"
     ]
    }
   ],
   "source": [
    "for k in score_dict:\n",
    "    score_dict[k] = score_dict[k] +10\n",
    "print(score_dict)"
   ]
  },
  {
   "cell_type": "code",
   "execution_count": 1,
   "metadata": {},
   "outputs": [],
   "source": [
    "words = [\"school\", \"game\", \"piano\", \"science\", \"hote\", \"mountain\"]"
   ]
  },
  {
   "cell_type": "code",
   "execution_count": 2,
   "metadata": {},
   "outputs": [
    {
     "name": "stdout",
     "output_type": "stream",
     "text": [
      "['school', 'science', 'mountain']\n"
     ]
    }
   ],
   "source": [
    "new_list = []\n",
    "for word in words:\n",
    "    if (len(word)) > 5:\n",
    "        new_list.append(word)\n",
    "\n",
    "print(new_list)"
   ]
  },
  {
   "cell_type": "code",
   "execution_count": 6,
   "metadata": {},
   "outputs": [
    {
     "name": "stdout",
     "output_type": "stream",
     "text": [
      "1 * 1 = 1\n",
      "1 * 2 = 2\n",
      "1 * 3 = 3\n",
      "1 * 4 = 4\n",
      "1 * 5 = 5\n",
      "1 * 6 = 6\n",
      "1 * 7 = 7\n",
      "1 * 8 = 8\n",
      "1 * 9 = 9\n",
      "2 * 1 = 2\n",
      "2 * 2 = 4\n",
      "2 * 3 = 6\n",
      "2 * 4 = 8\n",
      "2 * 5 = 10\n",
      "2 * 6 = 12\n",
      "2 * 7 = 14\n",
      "2 * 8 = 16\n",
      "2 * 9 = 18\n",
      "3 * 1 = 3\n",
      "3 * 2 = 6\n",
      "3 * 3 = 9\n",
      "3 * 4 = 12\n",
      "3 * 5 = 15\n",
      "3 * 6 = 18\n",
      "3 * 7 = 21\n",
      "3 * 8 = 24\n",
      "3 * 9 = 27\n",
      "4 * 1 = 4\n",
      "4 * 2 = 8\n",
      "4 * 3 = 12\n",
      "4 * 4 = 16\n",
      "4 * 5 = 20\n",
      "4 * 6 = 24\n",
      "4 * 7 = 28\n",
      "4 * 8 = 32\n",
      "4 * 9 = 36\n",
      "5 * 1 = 5\n",
      "5 * 2 = 10\n",
      "5 * 3 = 15\n",
      "5 * 4 = 20\n",
      "5 * 5 = 25\n",
      "5 * 6 = 30\n",
      "5 * 7 = 35\n",
      "5 * 8 = 40\n",
      "5 * 9 = 45\n",
      "6 * 1 = 6\n",
      "6 * 2 = 12\n",
      "6 * 3 = 18\n",
      "6 * 4 = 24\n",
      "6 * 5 = 30\n",
      "6 * 6 = 36\n",
      "6 * 7 = 42\n",
      "6 * 8 = 48\n",
      "6 * 9 = 54\n",
      "7 * 1 = 7\n",
      "7 * 2 = 14\n",
      "7 * 3 = 21\n",
      "7 * 4 = 28\n",
      "7 * 5 = 35\n",
      "7 * 6 = 42\n",
      "7 * 7 = 49\n",
      "7 * 8 = 56\n",
      "7 * 9 = 63\n",
      "8 * 1 = 8\n",
      "8 * 2 = 16\n",
      "8 * 3 = 24\n",
      "8 * 4 = 32\n",
      "8 * 5 = 40\n",
      "8 * 6 = 48\n",
      "8 * 7 = 56\n",
      "8 * 8 = 64\n",
      "8 * 9 = 72\n",
      "9 * 1 = 9\n",
      "9 * 2 = 18\n",
      "9 * 3 = 27\n",
      "9 * 4 = 36\n",
      "9 * 5 = 45\n",
      "9 * 6 = 54\n",
      "9 * 7 = 63\n",
      "9 * 8 = 72\n",
      "9 * 9 = 81\n"
     ]
    }
   ],
   "source": [
    "for i in range(1,10):\n",
    "    for j in range(1,10):\n",
    "        print(\"{} * {} = {}\".format(i,j, i*j))"
   ]
  },
  {
   "cell_type": "code",
   "execution_count": 7,
   "metadata": {
    "scrolled": false
   },
   "outputs": [
    {
     "name": "stdout",
     "output_type": "stream",
     "text": [
      "1\n",
      "2\n",
      "3의 배수\n",
      "4\n",
      "5의 배수\n",
      "3의 배수\n",
      "7\n",
      "8\n",
      "3의 배수\n",
      "5의 배수\n",
      "11\n",
      "3의 배수\n",
      "13\n",
      "14\n",
      "3과 5의 배수\n",
      "16\n",
      "17\n",
      "3의 배수\n",
      "19\n",
      "5의 배수\n",
      "3의 배수\n",
      "22\n",
      "23\n",
      "3의 배수\n",
      "5의 배수\n",
      "26\n",
      "3의 배수\n",
      "28\n",
      "29\n",
      "3과 5의 배수\n",
      "31\n",
      "32\n",
      "3의 배수\n",
      "34\n",
      "5의 배수\n",
      "3의 배수\n",
      "37\n",
      "38\n",
      "3의 배수\n",
      "5의 배수\n",
      "41\n",
      "3의 배수\n",
      "43\n",
      "44\n",
      "3과 5의 배수\n",
      "46\n",
      "47\n",
      "3의 배수\n",
      "49\n",
      "5의 배수\n",
      "3의 배수\n",
      "52\n",
      "53\n",
      "3의 배수\n",
      "5의 배수\n",
      "56\n",
      "3의 배수\n",
      "58\n",
      "59\n",
      "3과 5의 배수\n",
      "61\n",
      "62\n",
      "3의 배수\n",
      "64\n",
      "5의 배수\n",
      "3의 배수\n",
      "67\n",
      "68\n",
      "3의 배수\n",
      "5의 배수\n",
      "71\n",
      "3의 배수\n",
      "73\n",
      "74\n",
      "3과 5의 배수\n",
      "76\n",
      "77\n",
      "3의 배수\n",
      "79\n",
      "5의 배수\n",
      "3의 배수\n",
      "82\n",
      "83\n",
      "3의 배수\n",
      "5의 배수\n",
      "86\n",
      "3의 배수\n",
      "88\n",
      "89\n",
      "3과 5의 배수\n",
      "91\n",
      "92\n",
      "3의 배수\n",
      "94\n",
      "5의 배수\n",
      "3의 배수\n",
      "97\n",
      "98\n",
      "3의 배수\n",
      "5의 배수\n"
     ]
    }
   ],
   "source": [
    "for i in range(1,101):\n",
    "    if i % 3 == 0 and i % 5 == 0:\n",
    "        print(\"3과 5의 배수\")\n",
    "    elif i % 3 == 0:\n",
    "        print(\"3의 배수\")\n",
    "    elif  i % 5 == 0:\n",
    "        print(\"5의 배수\")\n",
    "    else:\n",
    "        print(i)"
   ]
  },
  {
   "cell_type": "code",
   "execution_count": 8,
   "metadata": {},
   "outputs": [],
   "source": [
    "x = [3,6,9,20,-7,5]"
   ]
  },
  {
   "cell_type": "code",
   "execution_count": 9,
   "metadata": {},
   "outputs": [
    {
     "name": "stdout",
     "output_type": "stream",
     "text": [
      "[-7, 3, 5, 6, 9, 20]\n"
     ]
    }
   ],
   "source": [
    "for i in range(len(x) - 1):\n",
    "    for j in range(len(x) - i - 1):\n",
    "        if x[j] > x[j +1 ]:\n",
    "            temp = x[j + 1]\n",
    "            x[j + 1] = x[j]\n",
    "            x[j] = temp\n",
    "            \n",
    "print(x)"
   ]
  },
  {
   "cell_type": "code",
   "execution_count": 10,
   "metadata": {},
   "outputs": [
    {
     "name": "stdout",
     "output_type": "stream",
     "text": [
      "값을 입력해주세요: 1\n",
      "값을 입력해주세요: 2\n",
      "값을 입력해주세요: 3\n",
      "값을 입력해주세요: 0\n",
      "합계는 ?6\n"
     ]
    }
   ],
   "source": [
    "score = 1\n",
    "score_sum = 0\n",
    "while score !=0:\n",
    "    score = int(input(\"값을 입력해주세요: \"))\n",
    "    score_sum += score\n",
    "print(f\"합계는 ?{score_sum}\")"
   ]
  },
  {
   "cell_type": "markdown",
   "metadata": {},
   "source": [
    "### 실습02(가위바위보 게임 만들기"
   ]
  },
  {
   "cell_type": "code",
   "execution_count": 11,
   "metadata": {},
   "outputs": [],
   "source": [
    "import random"
   ]
  },
  {
   "cell_type": "code",
   "execution_count": 12,
   "metadata": {},
   "outputs": [
    {
     "data": {
      "text/plain": [
       "3"
      ]
     },
     "execution_count": 12,
     "metadata": {},
     "output_type": "execute_result"
    }
   ],
   "source": [
    "random.randint(1,3)"
   ]
  },
  {
   "cell_type": "code",
   "execution_count": 13,
   "metadata": {},
   "outputs": [],
   "source": [
    "game_dict = {1:'가위',2:\"바위\",3:\"보\"}\n",
    "total = 0\n",
    "win = 0\n",
    "user = 1\n",
    "computer = -1"
   ]
  },
  {
   "cell_type": "code",
   "execution_count": 14,
   "metadata": {},
   "outputs": [
    {
     "name": "stdout",
     "output_type": "stream",
     "text": [
      "가위(1), 바위(2), 보(3) 을 입력해주세요:1\n",
      "유저 : 가위, 컴퓨터 : 보\n",
      "가위(1), 바위(2), 보(3) 을 입력해주세요:2\n",
      "유저 : 바위, 컴퓨터 : 바위\n",
      "가위(1), 바위(2), 보(3) 을 입력해주세요:3\n",
      "유저 : 보, 컴퓨터 : 가위\n",
      "가위(1), 바위(2), 보(3) 을 입력해주세요:4\n",
      "게임종료 (전체:3,승리:1)\n"
     ]
    }
   ],
   "source": [
    "while user == 1 or user == 2 or user == 3:\n",
    "    user = int(input(\"가위(1), 바위(2), 보(3) 을 입력해주세요:\"))\n",
    "    computer = random.randint(1,3)\n",
    "    if user not in [1, 2, 3]:\n",
    "       break\n",
    "    total += 1\n",
    "    print(f\"유저 : {game_dict[user]}, 컴퓨터 : {game_dict[computer]}\")\n",
    "   \n",
    "    if (user == 1 and computer == 3) or (user == 2 and computer == 1) or (user == 3 and computer == 2):\n",
    "        win += 1\n",
    "        \n",
    "    \n",
    "        \n",
    "print(f\"게임종료 (전체:{total},승리:{win})\")"
   ]
  },
  {
   "cell_type": "code",
   "execution_count": 3,
   "metadata": {},
   "outputs": [
    {
     "name": "stdout",
     "output_type": "stream",
     "text": [
      "숫자를 입력해주세요:20\n",
      "0\n",
      "1\n",
      "2\n",
      "3\n",
      "4\n",
      "5\n",
      "6\n",
      "7\n",
      "8\n",
      "9\n",
      "10\n",
      "11\n",
      "12\n",
      "13\n",
      "14\n",
      "15\n",
      "16\n",
      "17\n",
      "18\n",
      "19\n",
      "20\n"
     ]
    }
   ],
   "source": [
    "user = int(input(\"숫자를 입력해주세요:\"))\n",
    "cnt = 0\n",
    "while True:\n",
    "    if cnt > user:\n",
    "     break\n",
    "    \n",
    "    print(cnt)\n",
    "    cnt += 1"
   ]
  },
  {
   "cell_type": "code",
   "execution_count": 16,
   "metadata": {},
   "outputs": [
    {
     "name": "stdout",
     "output_type": "stream",
     "text": [
      "0\n"
     ]
    }
   ],
   "source": [
    "i = 0\n",
    "for i in range(user+1):\n",
    "    if i % 2 == 1:\n",
    "        continue\n",
    "    print(i)"
   ]
  },
  {
   "cell_type": "code",
   "execution_count": 17,
   "metadata": {},
   "outputs": [],
   "source": [
    "word = [\"school\", \"game\", \"piano\", \"science\", \"hotel\", \"mountain\"]"
   ]
  },
  {
   "cell_type": "code",
   "execution_count": 18,
   "metadata": {},
   "outputs": [
    {
     "data": {
      "text/plain": [
       "['school', 'science', 'mountain']"
      ]
     },
     "execution_count": 18,
     "metadata": {},
     "output_type": "execute_result"
    }
   ],
   "source": [
    "new_word = [i for i in word if len(i) > 5]\n",
    "new_word"
   ]
  },
  {
   "cell_type": "code",
   "execution_count": 19,
   "metadata": {},
   "outputs": [],
   "source": [
    "word = [\"school\", \"game\", \"piano\", \"science\", \"hotel\", \"mountain\"]"
   ]
  },
  {
   "cell_type": "code",
   "execution_count": 20,
   "metadata": {},
   "outputs": [
    {
     "data": {
      "text/plain": [
       "[6, 4, 5, 7, 5, 8]"
      ]
     },
     "execution_count": 20,
     "metadata": {},
     "output_type": "execute_result"
    }
   ],
   "source": [
    "new_word = [len(i) for i in word]\n",
    "new_word"
   ]
  },
  {
   "cell_type": "code",
   "execution_count": 21,
   "metadata": {},
   "outputs": [],
   "source": [
    "a = [[10,20],[30,40],[50,60]]\n",
    "b = [[2,3],[4,5],[6,7]]"
   ]
  },
  {
   "cell_type": "code",
   "execution_count": 22,
   "metadata": {},
   "outputs": [
    {
     "name": "stdout",
     "output_type": "stream",
     "text": [
      "[[20, 60], [120, 200], [300, 420]]\n"
     ]
    }
   ],
   "source": [
    "c = []\n",
    "for i in range(3):\n",
    "    temp = []\n",
    "    for j in range(2):\n",
    "        temp.append(a[i][j]*b[i][j])\n",
    "    c.append(temp)\n",
    "print(c)"
   ]
  },
  {
   "cell_type": "code",
   "execution_count": 23,
   "metadata": {},
   "outputs": [
    {
     "name": "stdout",
     "output_type": "stream",
     "text": [
      "[[1, 1], [2, 2], [3, 3]]\n"
     ]
    }
   ],
   "source": [
    "a = []\n",
    "for i in range(3):\n",
    "    temp = []\n",
    "    for j in range(2):\n",
    "        temp.append(i+1)\n",
    "    a.append(temp)\n",
    "print(a)"
   ]
  },
  {
   "cell_type": "code",
   "execution_count": 24,
   "metadata": {},
   "outputs": [
    {
     "name": "stdout",
     "output_type": "stream",
     "text": [
      "[[1, 2], [1, 2], [1, 2]]\n"
     ]
    }
   ],
   "source": [
    "a = []\n",
    "for i in range(3):\n",
    "    temp = []\n",
    "    for j in range(2):\n",
    "        temp.append(j+1)\n",
    "    a.append(temp)\n",
    "print(a)"
   ]
  },
  {
   "cell_type": "code",
   "execution_count": 25,
   "metadata": {},
   "outputs": [
    {
     "name": "stdout",
     "output_type": "stream",
     "text": [
      "[[1, 2], [3, 4], [5, 6]]\n"
     ]
    }
   ],
   "source": [
    "a = []\n",
    "for i in range(3):\n",
    "    temp = []\n",
    "    for j in range(2):\n",
    "        temp.append(j+1+2*i)\n",
    "    a.append(temp)\n",
    "print(a)"
   ]
  },
  {
   "cell_type": "markdown",
   "metadata": {},
   "source": [
    "### 파일 입출력"
   ]
  },
  {
   "cell_type": "code",
   "execution_count": 26,
   "metadata": {},
   "outputs": [
    {
     "ename": "FileNotFoundError",
     "evalue": "[Errno 2] No such file or directory: 'file.txt'",
     "output_type": "error",
     "traceback": [
      "\u001b[1;31m---------------------------------------------------------------------------\u001b[0m",
      "\u001b[1;31mFileNotFoundError\u001b[0m                         Traceback (most recent call last)",
      "\u001b[1;32m<ipython-input-26-1681770ddce8>\u001b[0m in \u001b[0;36m<module>\u001b[1;34m\u001b[0m\n\u001b[1;32m----> 1\u001b[1;33m \u001b[0mfile\u001b[0m \u001b[1;33m=\u001b[0m \u001b[0mopen\u001b[0m\u001b[1;33m(\u001b[0m\u001b[1;34m\"file.txt\"\u001b[0m\u001b[1;33m)\u001b[0m\u001b[1;33m\u001b[0m\u001b[1;33m\u001b[0m\u001b[0m\n\u001b[0m\u001b[0;32m      2\u001b[0m \u001b[0mfile\u001b[0m\u001b[1;33m.\u001b[0m\u001b[0mwrite\u001b[0m\u001b[1;33m(\u001b[0m\u001b[1;34m\"First File\\n좋아요\"\u001b[0m\u001b[1;33m)\u001b[0m\u001b[1;33m\u001b[0m\u001b[1;33m\u001b[0m\u001b[0m\n\u001b[0;32m      3\u001b[0m \u001b[0mfile\u001b[0m\u001b[1;33m.\u001b[0m\u001b[0mclose\u001b[0m\u001b[1;33m(\u001b[0m\u001b[1;33m)\u001b[0m\u001b[1;33m\u001b[0m\u001b[1;33m\u001b[0m\u001b[0m\n",
      "\u001b[1;31mFileNotFoundError\u001b[0m: [Errno 2] No such file or directory: 'file.txt'"
     ]
    }
   ],
   "source": [
    "file = open(\"file.txt\")\n",
    "file.write(\"First File\\n좋아요\")\n",
    "file.close()"
   ]
  },
  {
   "cell_type": "code",
   "execution_count": 8,
   "metadata": {},
   "outputs": [],
   "source": [
    "import pickle"
   ]
  },
  {
   "cell_type": "code",
   "execution_count": 9,
   "metadata": {},
   "outputs": [],
   "source": [
    "name = \"tom\"\n",
    "age = 24\n",
    "address = \"서울시 마포구\"\n",
    "scores = {\"python\":90, \"deepleanrning\":95, \"database\":85}"
   ]
  },
  {
   "cell_type": "code",
   "execution_count": 10,
   "metadata": {},
   "outputs": [],
   "source": [
    "with open(\"data2.pkl\", \"wb\") as file:\n",
    "    pickle.dump(name, file)\n",
    "    pickle.dump(age, file)\n",
    "    pickle.dump(address, file)\n",
    "    pickle.dump(scores, file)"
   ]
  },
  {
   "cell_type": "code",
   "execution_count": 11,
   "metadata": {},
   "outputs": [
    {
     "name": "stdout",
     "output_type": "stream",
     "text": [
      "tom\n",
      "<class 'int'>\n",
      "24\n",
      "서울시 마포구\n",
      "{'python': 90, 'deepleanrning': 95, 'database': 85}\n"
     ]
    }
   ],
   "source": [
    "with open(\"data2.pkl\", \"rb\") as file:\n",
    "    name2 = pickle.load(file)\n",
    "    age2 = pickle.load(file)\n",
    "    address = pickle.load(file)\n",
    "    score2 = pickle.load(file)\n",
    "    \n",
    "    print(name2)\n",
    "    print(type(age2))\n",
    "    print(age2)\n",
    "    print(address)\n",
    "    print(score2)\n"
   ]
  },
  {
   "cell_type": "markdown",
   "metadata": {},
   "source": [
    "### 파일 입출력"
   ]
  },
  {
   "cell_type": "code",
   "execution_count": 2,
   "metadata": {},
   "outputs": [],
   "source": [
    "import random"
   ]
  },
  {
   "cell_type": "code",
   "execution_count": 3,
   "metadata": {},
   "outputs": [
    {
     "data": {
      "text/plain": [
       "2"
      ]
     },
     "execution_count": 3,
     "metadata": {},
     "output_type": "execute_result"
    }
   ],
   "source": [
    "random.randint(1,3)"
   ]
  },
  {
   "cell_type": "code",
   "execution_count": 5,
   "metadata": {},
   "outputs": [
    {
     "name": "stdout",
     "output_type": "stream",
     "text": [
      "가위(1), 바위(2), 보(3) 을 입력해주세요:1\n",
      "유저 : 가위, 컴퓨터 : 보\n",
      "가위(1), 바위(2), 보(3) 을 입력해주세요:2\n",
      "유저 : 바위, 컴퓨터 : 가위\n",
      "가위(1), 바위(2), 보(3) 을 입력해주세요:3\n",
      "유저 : 보, 컴퓨터 : 바위\n",
      "가위(1), 바위(2), 보(3) 을 입력해주세요:4\n",
      "게임종료 (전체:3,승리:3)\n"
     ]
    }
   ],
   "source": [
    "import random\n",
    "game_dict = {1:'가위',2:\"바위\",3:\"보\"}\n",
    "total = 0\n",
    "win = 0\n",
    "user = 1\n",
    "computer = -1\n",
    "while user == 1 or user == 2 or user == 3:\n",
    "    user = int(input(\"가위(1), 바위(2), 보(3) 을 입력해주세요:\"))\n",
    "    computer = random.randint(1,3)\n",
    "    if user not in [1, 2, 3]:\n",
    "       break\n",
    "    total += 1\n",
    "    print(f\"유저 : {game_dict[user]}, 컴퓨터 : {game_dict[computer]}\")\n",
    "   \n",
    "    if (user == 1 and computer == 3) or (user == 2 and computer == 1) or (user == 3 and computer == 2):\n",
    "        win += 1\n",
    "        \n",
    "    \n",
    "        \n",
    "print(f\"게임종료 (전체:{total},승리:{win})\")"
   ]
  },
  {
   "cell_type": "code",
   "execution_count": 6,
   "metadata": {},
   "outputs": [],
   "source": [
    "import pickle\n",
    "with open(\"game_save.pkl\",\"wb\") as file:\n",
    "    pickle.dump(total,file)\n",
    "    pickle.dump(win,file)"
   ]
  },
  {
   "cell_type": "code",
   "execution_count": 7,
   "metadata": {},
   "outputs": [
    {
     "name": "stdout",
     "output_type": "stream",
     "text": [
      "3 3\n"
     ]
    }
   ],
   "source": [
    "import random\n",
    "total = 0\n",
    "win = 0\n",
    "with open(\"game_save.pkl\",\"rb\") as file:\n",
    "    total = pickle.load(file)\n",
    "    win = pickle.load(file)\n",
    "print(total, win)"
   ]
  },
  {
   "cell_type": "code",
   "execution_count": 15,
   "metadata": {},
   "outputs": [],
   "source": [
    "lis = [1,2,3,1,4,2,1]"
   ]
  },
  {
   "cell_type": "code",
   "execution_count": 20,
   "metadata": {},
   "outputs": [
    {
     "ename": "SyntaxError",
     "evalue": "invalid syntax (<ipython-input-20-5726637efe2f>, line 3)",
     "output_type": "error",
     "traceback": [
      "\u001b[1;36m  File \u001b[1;32m\"<ipython-input-20-5726637efe2f>\"\u001b[1;36m, line \u001b[1;32m3\u001b[0m\n\u001b[1;33m    for in e in enumerate (my_list):\u001b[0m\n\u001b[1;37m        ^\u001b[0m\n\u001b[1;31mSyntaxError\u001b[0m\u001b[1;31m:\u001b[0m invalid syntax\n"
     ]
    }
   ],
   "source": [
    "def allindex(my_list, elem):\n",
    "    temp_list = []\n",
    "    for in e in enumerate (my_list):\n",
    "        if e == elem:\n",
    "            temp_list.append(i)\n",
    "    return temp_list"
   ]
  },
  {
   "cell_type": "code",
   "execution_count": 19,
   "metadata": {},
   "outputs": [
    {
     "name": "stdout",
     "output_type": "stream",
     "text": [
      "1\n",
      "2\n",
      "3\n",
      "1\n",
      "4\n",
      "2\n",
      "1\n"
     ]
    }
   ],
   "source": [
    "allindex(lis, 1)"
   ]
  },
  {
   "cell_type": "code",
   "execution_count": 3,
   "metadata": {},
   "outputs": [
    {
     "name": "stdout",
     "output_type": "stream",
     "text": [
      "3 3\n"
     ]
    }
   ],
   "source": [
    "import pickle\n",
    "import random\n",
    "total = 0\n",
    "win = 0\n",
    "with open(\"game_save.pkl\",\"rb\") as file:\n",
    "    total = pickle.load(file)\n",
    "    win = pickle.load(file)\n",
    "print(total, win)"
   ]
  },
  {
   "cell_type": "code",
   "execution_count": 4,
   "metadata": {},
   "outputs": [
    {
     "name": "stdout",
     "output_type": "stream",
     "text": [
      "가위(1), 바위(2), 보(3) 을 입력해주세요:3\n",
      "유저 : 보, 컴퓨터 : 가위\n",
      "가위(1), 바위(2), 보(3) 을 입력해주세요:2\n",
      "유저 : 바위, 컴퓨터 : 보\n",
      "가위(1), 바위(2), 보(3) 을 입력해주세요:1\n",
      "유저 : 가위, 컴퓨터 : 바위\n",
      "가위(1), 바위(2), 보(3) 을 입력해주세요:4\n",
      "게임종료 (전체:6,승리:3)\n"
     ]
    }
   ],
   "source": [
    "import random\n",
    "game_dict = {1:'가위',2:\"바위\",3:\"보\"}\n",
    "user = 1\n",
    "computer = -1\n",
    "while user == 1 or user == 2 or user == 3:\n",
    "    user = int(input(\"가위(1), 바위(2), 보(3) 을 입력해주세요:\"))\n",
    "    computer = random.randint(1,3)\n",
    "    if user not in [1, 2, 3]:\n",
    "       break\n",
    "    total += 1\n",
    "    print(f\"유저 : {game_dict[user]}, 컴퓨터 : {game_dict[computer]}\")\n",
    "   \n",
    "    if (user == 1 and computer == 3) or (user == 2 and computer == 1) or (user == 3 and computer == 2):\n",
    "        win += 1\n",
    "        \n",
    "    \n",
    "        \n",
    "print(f\"게임종료 (전체:{total},승리:{win})\")"
   ]
  },
  {
   "cell_type": "code",
   "execution_count": 22,
   "metadata": {},
   "outputs": [],
   "source": [
    "import random"
   ]
  },
  {
   "cell_type": "code",
   "execution_count": 23,
   "metadata": {},
   "outputs": [
    {
     "data": {
      "text/plain": [
       "1"
      ]
     },
     "execution_count": 23,
     "metadata": {},
     "output_type": "execute_result"
    }
   ],
   "source": [
    "random.randint(1,3)"
   ]
  },
  {
   "cell_type": "code",
   "execution_count": 24,
   "metadata": {},
   "outputs": [],
   "source": [
    "game_dict = {1:'가위',2:\"바위\",3:\"보\"}\n",
    "total = 0\n",
    "win = 0\n",
    "user = 1\n",
    "computer = -1"
   ]
  },
  {
   "cell_type": "code",
   "execution_count": 11,
   "metadata": {},
   "outputs": [
    {
     "name": "stdout",
     "output_type": "stream",
     "text": [
      "가위(1), 바위(2), 보(3) 을 입력해주세요:0\n",
      "게임종료 (전체:0,승리:0)\n"
     ]
    }
   ],
   "source": [
    "while user == 1 or user == 2 or user == 3:\n",
    "    user = int(input(\"가위(1), 바위(2), 보(3) 을 입력해주세요:\"))\n",
    "    computer = random.randint(1,3)\n",
    "    if user not in [1, 2, 3]:\n",
    "       break\n",
    "    total += 1\n",
    "    print(f\"유저 : {game_dict[user]}, 컴퓨터 : {game_dict[computer]}\")\n",
    "   \n",
    "    if (user == 1 and computer == 3) or (user == 2 and computer == 1) or (user == 3 and computer == 2):\n",
    "        win += 1\n",
    "        \n",
    "    \n",
    "        \n",
    "print(f\"게임종료 (전체:{total},승리:{win})\")"
   ]
  },
  {
   "cell_type": "code",
   "execution_count": 29,
   "metadata": {},
   "outputs": [
    {
     "name": "stdout",
     "output_type": "stream",
     "text": [
      "가위(1),바위(2),보(3)를 입력해주세요:1\n",
      "유저:가위, 컴퓨터:보\n",
      "가위(1),바위(2),보(3)를 입력해주세요:2\n",
      "유저:바위, 컴퓨터:바위\n",
      "가위(1),바위(2),보(3)를 입력해주세요:3\n",
      "유저:보, 컴퓨터:가위\n",
      "가위(1),바위(2),보(3)를 입력해주세요:0\n",
      "게임종료 (전체:3,승리:1)\n"
     ]
    }
   ],
   "source": [
    "game_dict = {1:\"가위\",2:\"바위\",3:\"보\"}\n",
    "user = 1\n",
    "computer = -1\n",
    "total = 0\n",
    "win = 0\n",
    "while user == 1 or user == 2 or user == 3:\n",
    "    user =int(input(\"가위(1),바위(2),보(3)를 입력해주세요:\"))\n",
    "    computer = random.randint(1,3)\n",
    "    if user not in [1,2,3]:\n",
    "        break\n",
    "    total += 1\n",
    "    print(\"유저:{}, 컴퓨터:{}\".format(game_dict[user],game_dict[computer]))\n",
    "    \n",
    "    if (user == 1 and computer == 3) or (user == 2 and computer == 1) or (user == 3 and computer == 2):\n",
    "        win += 1\n",
    "        \n",
    "print(f\"게임종료 (전체:{total},승리:{win})\")"
   ]
  },
  {
   "cell_type": "code",
   "execution_count": 42,
   "metadata": {},
   "outputs": [
    {
     "name": "stdout",
     "output_type": "stream",
     "text": [
      "[[1, 2], [3, 4], [5, 6]]\n"
     ]
    }
   ],
   "source": [
    "a = []\n",
    "for i in range(3):\n",
    "    temp = []\n",
    "    for j in range(2):\n",
    "        temp.append(j+1+2*i)\n",
    "    a.append(temp)\n",
    "print(a)"
   ]
  },
  {
   "cell_type": "code",
   "execution_count": 56,
   "metadata": {},
   "outputs": [],
   "source": [
    "x = [[10,20],[30,40],[50,60]]\n",
    "y = [[2,3],[4,5],[6,7]]"
   ]
  },
  {
   "cell_type": "code",
   "execution_count": 58,
   "metadata": {},
   "outputs": [
    {
     "name": "stdout",
     "output_type": "stream",
     "text": [
      "[[20, 60], [120, 200], [300, 420]]\n"
     ]
    }
   ],
   "source": [
    "c=[]\n",
    "for i in range(3):\n",
    "    temp = []\n",
    "    for j in range(2):\n",
    "        temp.append(a[i][j]*b[i][j])\n",
    "    c.append(temp)\n",
    "print(c)"
   ]
  },
  {
   "cell_type": "code",
   "execution_count": 1,
   "metadata": {},
   "outputs": [
    {
     "name": "stdout",
     "output_type": "stream",
     "text": [
      "[11, 2, 3, 4]\n",
      "[11, 12, 3, 4]\n",
      "[11, 12, 13, 4]\n",
      "[11, 12, 13, 14]\n"
     ]
    }
   ],
   "source": []
  },
  {
   "cell_type": "code",
   "execution_count": null,
   "metadata": {},
   "outputs": [],
   "source": []
  }
 ],
 "metadata": {
  "kernelspec": {
   "display_name": "Python 3",
   "language": "python",
   "name": "python3"
  },
  "language_info": {
   "codemirror_mode": {
    "name": "ipython",
    "version": 3
   },
   "file_extension": ".py",
   "mimetype": "text/x-python",
   "name": "python",
   "nbconvert_exporter": "python",
   "pygments_lexer": "ipython3",
   "version": "3.8.5"
  }
 },
 "nbformat": 4,
 "nbformat_minor": 4
}
